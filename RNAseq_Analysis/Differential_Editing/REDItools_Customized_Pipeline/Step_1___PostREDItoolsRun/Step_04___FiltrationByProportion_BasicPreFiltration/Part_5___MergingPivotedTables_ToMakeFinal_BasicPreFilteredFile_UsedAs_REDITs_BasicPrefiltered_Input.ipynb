{
 "cells": [
  {
   "cell_type": "markdown",
   "id": "931d546c-2e63-4cc3-b4ba-02bb60050b65",
   "metadata": {},
   "source": [
    "# Merging Pivoted Tables"
   ]
  },
  {
   "cell_type": "markdown",
   "id": "5d90dde9-ff83-4b99-acf0-bc8b59826fe4",
   "metadata": {},
   "source": [
    "Since we have tables per sample in the following format from Part 4:\n",
    "\n",
    "```\n",
    "  Region_Position___Count_Type SampleName-#Edited_And_NonEdited__Counts_Counts\n",
    "  <chr>                                                            <int>\n",
    "1 1_2468___Edited                                                      5\n",
    "2 1_2468___Non_Edited                                                 50\n",
    "```\n",
    "\n",
    "We need to merge By `Region_Position___Count_Type` per sample to get a `tsv` which will be used as as in input for REDITs as the basic pre-filtered dataframe."
   ]
  },
  {
   "cell_type": "markdown",
   "id": "816752dd-d8e9-468a-a281-e406e748fd22",
   "metadata": {},
   "source": [
    "## Load Libraries"
   ]
  },
  {
   "cell_type": "code",
   "execution_count": null,
   "id": "8b7fe290-fe4a-492b-892a-a66ef6e8ad03",
   "metadata": {
    "vscode": {
     "languageId": "r"
    }
   },
   "outputs": [],
   "source": [
    "library(dplyr)\n",
    "library(purrr)"
   ]
  },
  {
   "cell_type": "markdown",
   "id": "32d0928d-3f53-4765-8ae7-99303837159a",
   "metadata": {},
   "source": [
    "## Define Directory Path:"
   ]
  },
  {
   "cell_type": "markdown",
   "id": "c52016e8-1dde-452c-a067-44b4a9734757",
   "metadata": {},
   "source": [
    "Give the full path to the `Part_4___PivotedTablesPerSampleTSV` below:"
   ]
  },
  {
   "cell_type": "code",
   "execution_count": null,
   "id": "6aeda0c7-4dfa-418a-8b4e-61e0631d8dd2",
   "metadata": {
    "vscode": {
     "languageId": "r"
    }
   },
   "outputs": [],
   "source": [
    "\n",
    "# Specify the input directory containing TSV files that were pivoted\n",
    "input_directory <- \"/path/to/Step_04___FilterationViaProportion___BasicPreFiltration/Part_4___PivotedTablesPerSampleTSV\"\n"
   ]
  },
  {
   "cell_type": "markdown",
   "id": "1c4a1f8b-c59e-41c7-8a4f-a1bd78825e25",
   "metadata": {},
   "source": [
    "## Create Output Directory:"
   ]
  },
  {
   "cell_type": "code",
   "execution_count": null,
   "id": "6638a942",
   "metadata": {
    "vscode": {
     "languageId": "r"
    }
   },
   "outputs": [],
   "source": [
    "\n",
    "# Get the parent directory of the input directory\n",
    "parent_directory_input <- dirname(input_directory)\n",
    "\n",
    "# Create the target folder path for Part_4___Pivoted\n",
    "output_directory <- file.path(parent_directory_input, 'Part_5___MergingPivotedTables_BasicPreFiltered_REDITsInput')\n",
    "\n",
    "# Print the parent directory of the input directory\n",
    "cat(\"\\n*Parent Directory of Input Directory:*\", parent_directory_input, \"\\n\\n\")\n",
    "\n",
    "# Print the output directory path for Part_4___Pivoted\n",
    "cat(\"*Output Directory:*\", output_directory, \"\\n\\n\")\n",
    "\n",
    "# Check if the folder already exists, if not, create it\n",
    "if (!dir.exists(output_directory)) {\n",
    "  dir.create(output_directory)\n",
    "  cat(\"Folder '\", output_directory, \"' has been created.\\n\")\n",
    "}\n"
   ]
  },
  {
   "cell_type": "code",
   "execution_count": null,
   "id": "b34448d0-b4e2-44c6-a9e1-4f362b2cc749",
   "metadata": {
    "vscode": {
     "languageId": "r"
    }
   },
   "outputs": [],
   "source": [
    "setwd(input_directory)"
   ]
  },
  {
   "cell_type": "markdown",
   "id": "cc7ad85a-5302-48cd-bc08-b3c221d6ac38",
   "metadata": {},
   "source": [
    "### List tsv Files In Input Directory:"
   ]
  },
  {
   "cell_type": "markdown",
   "id": "2b0c4e10-699e-4e60-b006-93e31b38773a",
   "metadata": {},
   "source": [
    "Check the tsv file names in the input directory:"
   ]
  },
  {
   "cell_type": "code",
   "execution_count": null,
   "id": "7a81ce69-2db1-4e3e-818a-47707a433e69",
   "metadata": {
    "vscode": {
     "languageId": "r"
    }
   },
   "outputs": [],
   "source": [
    "\n",
    "file_list <- list.files(pattern = \"\\\\.tsv$\")\n",
    "print(file_list)\n"
   ]
  },
  {
   "cell_type": "markdown",
   "id": "aec24a99-159a-4a19-bdfe-748afdad523a",
   "metadata": {},
   "source": [
    "## Main"
   ]
  },
  {
   "cell_type": "code",
   "execution_count": null,
   "id": "1941b132-0c14-4241-b7f1-d17112d56707",
   "metadata": {
    "vscode": {
     "languageId": "r"
    }
   },
   "outputs": [],
   "source": [
    "data_list <- lapply(file_list, function(file) read.delim(file, sep = \"\\t\"))"
   ]
  },
  {
   "cell_type": "code",
   "execution_count": null,
   "id": "32448ad0-10c4-4787-8800-66da1466b4e7",
   "metadata": {
    "vscode": {
     "languageId": "r"
    }
   },
   "outputs": [],
   "source": [
    "\n",
    "# Merge by intersect only\n",
    "merged_data <- Reduce(function(x, y) merge(x, y, by = \"Region_Position___Count_Type\", all = FALSE), data_list)\n",
    "\n",
    "# View the header\n",
    "head(merged_data)\n"
   ]
  },
  {
   "cell_type": "markdown",
   "id": "c9de2f3b-22ce-4d95-9aec-cee6e6b4b607",
   "metadata": {},
   "source": [
    "## Number Of Rows In Merged Data:"
   ]
  },
  {
   "cell_type": "code",
   "execution_count": null,
   "id": "f3a01f32-4437-4996-be4c-3131e01457b6",
   "metadata": {
    "vscode": {
     "languageId": "r"
    }
   },
   "outputs": [],
   "source": [
    "\n",
    "num_rows <- nrow(merged_data)\n",
    "cat(\"Number of rows in merged data:\", num_rows, \"\\n\")\n"
   ]
  },
  {
   "cell_type": "markdown",
   "id": "4707925f-42c6-4362-abc6-3e78c17c8b40",
   "metadata": {},
   "source": [
    "## Create Output Files"
   ]
  },
  {
   "cell_type": "markdown",
   "id": "9fb7cd3f-7745-4c74-a0df-0daac7c4c5ff",
   "metadata": {},
   "source": [
    "Output the merged data as a `csv` and a `tsv`."
   ]
  },
  {
   "cell_type": "code",
   "execution_count": null,
   "id": "ec712a40-95eb-4fbe-9154-db31966e52b5",
   "metadata": {
    "vscode": {
     "languageId": "r"
    }
   },
   "outputs": [],
   "source": [
    "\n",
    "# Write merged_data to a TSV file\n",
    "write.table(merged_data, file = file.path(output_directory, \"DescriptionOfYourChoice_REDItools_BasicPrefiltered_MergedPivotedSamples.tsv\"), sep = \"\\t\", row.names = FALSE)\n",
    "\n",
    "# Write merged_data to a CSV file\n",
    "write.table(merged_data, file = file.path(output_directory, \"DescriptionOfYourChoice_REDItools_BasicPrefiltered_MergedPivotedSamples.csv\"), sep = \",\", row.names = FALSE)\n"
   ]
  },
  {
   "cell_type": "markdown",
   "id": "aa47846a-d4cc-4423-a243-6d83ed4511ca",
   "metadata": {},
   "source": [
    "## Session Information:"
   ]
  },
  {
   "cell_type": "code",
   "execution_count": null,
   "id": "f9d9e7fe-2b64-42fd-99b4-f326336cf582",
   "metadata": {
    "vscode": {
     "languageId": "r"
    }
   },
   "outputs": [],
   "source": [
    "\n",
    "# Print Session Information\n",
    "cat(\"\\n\\nSession Information:\\n\\n\")\n",
    "\n",
    "print(sessionInfo())\n"
   ]
  }
 ],
 "metadata": {
  "kernelspec": {
   "display_name": "R",
   "language": "R",
   "name": "ir"
  },
  "language_info": {
   "codemirror_mode": "r",
   "file_extension": ".r",
   "mimetype": "text/x-r-source",
   "name": "R",
   "pygments_lexer": "r",
   "version": "4.2.2"
  }
 },
 "nbformat": 4,
 "nbformat_minor": 5
}
