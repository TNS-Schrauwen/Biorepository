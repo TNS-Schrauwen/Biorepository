{
 "cells": [
  {
   "cell_type": "markdown",
   "id": "6a8a10bc-81f3-4b6b-bf2c-8f684409fe2a",
   "metadata": {},
   "source": [
    "# Mergining In The Edited Frequency Proportions, Non Edited Counts And Edited Counts"
   ]
  },
  {
   "cell_type": "markdown",
   "id": "0d9748be-9c74-4b66-9440-c8ef45d57ab7",
   "metadata": {},
   "source": [
    "\n",
    "## Input Files:\n",
    "\n",
    "Manually input the paths for the Step 3 Part 2 directory and the Step 7 output `tsv` as well as the path to the output directory with a subfolder name of your choice.\n",
    "\n",
    "**The relative path to the Step 3 output file:**\n",
    "\n",
    "```bash\n",
    "path/to/Step_03___RenamingRelevantColumns_And_MergingIntoOneTable/Part_2___MergedAllSampleTSVsIntoOneTable/Part_2___MergedSamples.tsv\n",
    "```\n",
    "\n",
    "* For the associated variable `Step_3___Part_2_Directory` only the path to the directory is required.\n",
    "\n",
    "**The relative path to the Step 6 REDITs output `tsv` in full is:**\n",
    "\n",
    "```bash\n",
    "/path/to/Step_06___REDITs_Main__Using_REDIT_LLR.R/Part_/REDITs_Results_OnTypePreFilteredData.tsv\n",
    "```\n",
    "\n",
    "**The path to the output directory I chose (Step 7/Filtration_Type):**\n",
    "\n",
    "```bash\n",
    "cd /path/to/Step_07___MergeIn/Type_PreFiltration\n",
    "```\n",
    "\n",
    "* I chose the name `Part_0___Editing_Frequency_And_Non_Edited_Count_And_Edited_Count_PerSample_MergedToSixREDITOutputs` for the subfolder.\n",
    "\n",
    "These files have to be merged.\n"
   ]
  },
  {
   "cell_type": "code",
   "execution_count": null,
   "id": "87f5f476-91b1-4ab7-863f-45a81b1e16f7",
   "metadata": {
    "vscode": {
     "languageId": "r"
    }
   },
   "outputs": [],
   "source": [
    "\n",
    "# Give the path to the step 3 part 2 directory only\n",
    "Step_3___Part_2_Directory <- \"/path/to/Step_03___RenamingRelevantColumns_And_MergingIntoOneTable/Part_2___MergedAllSampleTSVsIntoOneTable\"\n"
   ]
  },
  {
   "cell_type": "code",
   "execution_count": null,
   "id": "7cbc9943-7530-47db-a8bb-b63be79b55ed",
   "metadata": {
    "vscode": {
     "languageId": "r"
    }
   },
   "outputs": [],
   "source": [
    "\n",
    "# Specify the file path to the Step 6 output `tsv`\n",
    "Step_6___Output_TSV <- \"/path/to/Step_06___REDITs_Main__Using_REDIT_LLR.R/Part_1___REDITs_Main_Using_Type_PreFiltered_File/REDITs_Results_OnBasicPreFilteredData.tsv\"\n"
   ]
  },
  {
   "cell_type": "code",
   "execution_count": null,
   "id": "076311fa-23ff-4328-b1d5-7eda878f1eaf",
   "metadata": {
    "vscode": {
     "languageId": "r"
    }
   },
   "outputs": [],
   "source": [
    "\n",
    "#Specify the path to an output directory of your choice\n",
    "output_directory <- \"/path/to/Step_07___MergeIn/Basic_PreFiltration\"\n",
    "\n",
    "# Specify the name of the subfolder of the output directory that your outputs will be stored in\n",
    "subfolder_name <- \"Part_0___Editing_Frequency_And_Non_Edited_Count_And_Edited_Count_PerSample_MergedToSixREDITOutputs\"\n"
   ]
  },
  {
   "cell_type": "markdown",
   "id": "a3ed4f82-02bb-410b-8811-4ad2c7b2d764",
   "metadata": {},
   "source": [
    "## Read In The Step 6 `TSV` File:"
   ]
  },
  {
   "cell_type": "code",
   "execution_count": null,
   "id": "57610c1c-8ae4-4fca-9939-ff5cc4b649f0",
   "metadata": {
    "vscode": {
     "languageId": "r"
    }
   },
   "outputs": [],
   "source": [
    "\n",
    "# Use read.table to read the TSV file\n",
    "Step_7_data <- read.table(Step_6___Output_TSV, header = TRUE, sep = \"\\t\")\n",
    "\n",
    "# Print the first few rows of the data\n",
    "head(Step_7_data)\n"
   ]
  },
  {
   "cell_type": "markdown",
   "id": "d9e7b56c-d369-4b42-955e-39e306236775",
   "metadata": {},
   "source": [
    "## Remove `___Edited` From The Rows In The Region Column For Step 7 Data And View The Header:"
   ]
  },
  {
   "cell_type": "code",
   "execution_count": null,
   "id": "1abc7553-4d00-4293-8ca4-90fee1272f8f",
   "metadata": {
    "vscode": {
     "languageId": "r"
    }
   },
   "outputs": [],
   "source": [
    "\n",
    "# Assuming your data frame is named Step_7_data\n",
    "Step_7_data$Region <- sub(\"___Edited\", \"\", Step_7_data$Region)\n",
    "\n",
    "# Print the first few rows to check the result\n",
    "head(Step_7_data)\n"
   ]
  },
  {
   "cell_type": "markdown",
   "id": "6f8ac83e-a4f9-4d69-aa24-293901cc7bb3",
   "metadata": {},
   "source": [
    "## Read In Step 3 Part 2 Data And View The Header:"
   ]
  },
  {
   "cell_type": "code",
   "execution_count": null,
   "id": "55a8ad6c-dc97-41ce-a71b-580d7b2440be",
   "metadata": {
    "vscode": {
     "languageId": "r"
    }
   },
   "outputs": [],
   "source": [
    "\n",
    "# Construct the full file path\n",
    "file_path <- file.path(Step_3___Part_2_Directory, \"Merged_Part_2___MergedSamples.tsv\")\n",
    "\n",
    "# Read the TSV file\n",
    "data <- read.table(file_path, header = TRUE, sep = \"\\t\")\n",
    "\n",
    "# Display the first few rows of the data\n",
    "head(data)\n"
   ]
  },
  {
   "cell_type": "markdown",
   "id": "12c3173b-b5b3-470b-96e8-63562bd79b14",
   "metadata": {},
   "source": [
    "## Merge The Data And View The Header:"
   ]
  },
  {
   "cell_type": "code",
   "execution_count": null,
   "id": "ff2d2b26-0ce9-4065-ba51-d334bc22f512",
   "metadata": {
    "vscode": {
     "languageId": "r"
    }
   },
   "outputs": [],
   "source": [
    "# Merge using left join on the \"Region\" column\n",
    "merged_data <- merge(Step_7_data, data, by.x = \"Region\", by.y = \"Region_Position\", all.x = TRUE)\n",
    "\n",
    "# Display the merged data\n",
    "head(merged_data)"
   ]
  },
  {
   "cell_type": "markdown",
   "id": "5b52d360-00f1-4c61-90de-27d885ca525b",
   "metadata": {},
   "source": [
    "## Write To A `TSV` and a `CSV`:"
   ]
  },
  {
   "cell_type": "code",
   "execution_count": null,
   "id": "999960e7-8c84-4052-a2fb-a8c64c675421",
   "metadata": {
    "vscode": {
     "languageId": "r"
    }
   },
   "outputs": [],
   "source": [
    "\n",
    "# Create the subfolder if it doesn't exist\n",
    "subfolder_path <- file.path(output_directory, subfolder_name)\n",
    "if (!file.exists(subfolder_path)) {\n",
    "  dir.create(subfolder_path)\n",
    "}\n",
    "\n",
    "# Save merged_data as TSV\n",
    "tsv_file_path <- file.path(subfolder_path, \"Part_0___MergedStepSixDataWithProcessedColumns_TypeOfPrefiltration.tsv\")\n",
    "write.table(merged_data, file = tsv_file_path, sep = \"\\t\", row.names = FALSE)\n",
    "\n",
    "# Save merged_data as CSV\n",
    "csv_file_path <- file.path(subfolder_path, \"Part_0___MergedStepSixDataWithProcessedColumns_TypeOfPrefiltration.csv\")\n",
    "write.csv(merged_data, file = csv_file_path, row.names = FALSE)\n",
    "\n",
    "# Display the paths to the saved files\n",
    "cat(\"TSV file saved at:\", tsv_file_path, \"\\n\")\n",
    "cat(\"CSV file saved at:\", csv_file_path, \"\\n\")\n"
   ]
  },
  {
   "cell_type": "markdown",
   "id": "67a0f9e5-fad3-4216-aa8a-953fd61bf16e",
   "metadata": {},
   "source": [
    "## Session Information"
   ]
  },
  {
   "cell_type": "code",
   "execution_count": null,
   "id": "4dfdbd2b-e4a2-463d-8c1c-6f1caace3d34",
   "metadata": {
    "vscode": {
     "languageId": "r"
    }
   },
   "outputs": [],
   "source": [
    "sessionInfo()"
   ]
  }
 ],
 "metadata": {
  "kernelspec": {
   "display_name": "R",
   "language": "R",
   "name": "ir"
  },
  "language_info": {
   "codemirror_mode": "r",
   "file_extension": ".r",
   "mimetype": "text/x-r-source",
   "name": "R",
   "pygments_lexer": "r",
   "version": "4.2.2"
  }
 },
 "nbformat": 4,
 "nbformat_minor": 5
}
