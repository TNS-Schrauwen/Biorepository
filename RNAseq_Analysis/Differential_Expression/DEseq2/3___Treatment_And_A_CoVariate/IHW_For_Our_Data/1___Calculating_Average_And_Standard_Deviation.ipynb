{
 "cells": [
  {
   "cell_type": "markdown",
   "id": "86e698dc-8f9e-4c45-a64b-7bc25d25d34f",
   "metadata": {},
   "source": [
    "# Calculating Average And Standard Deviation For Wald Test\n",
    "\n",
    "Mean and standard deviation per row need to be calculated for all the samples as well as just for controls."
   ]
  },
  {
   "cell_type": "markdown",
   "id": "f30623a2-935b-4dd6-a921-d7a4558dcf3f",
   "metadata": {},
   "source": [
    "## Set Output Directory For Average And Standard Deviation Files:"
   ]
  },
  {
   "cell_type": "markdown",
   "id": "61e2687b-0504-42db-ae05-834015573ff6",
   "metadata": {},
   "source": [
    "\n",
    "Make sure the normalized counts you use are generated after removing the summary statistics."
   ]
  },
  {
   "cell_type": "code",
   "execution_count": 1,
   "id": "a04ec4f4-fb84-4046-be9d-4d28c21b05dc",
   "metadata": {
    "vscode": {
     "languageId": "r"
    }
   },
   "outputs": [],
   "source": [
    "# Set the output directory in a variable\n",
    "output_directory <- \"path/to/Average_And_Standard_Deviation_Added\""
   ]
  },
  {
   "cell_type": "markdown",
   "id": "6c47ba8d-81ed-4bf7-a62a-6fe59d7386ae",
   "metadata": {},
   "source": [
    "## Loading in the Normalized Counts:\n",
    "\n",
    "First, the normalized counts must be loaded."
   ]
  },
  {
   "cell_type": "markdown",
   "id": "e6d41f89-df7c-409c-b4c0-df8e9b787242",
   "metadata": {
    "tags": []
   },
   "source": [
    "For DEseq the normalized counts must be loaded as a `.tsv`/`txt` with tab separated values:"
   ]
  },
  {
   "cell_type": "code",
   "execution_count": 2,
   "id": "bf8d29b1-ee65-4ad7-b15b-6efa6d983242",
   "metadata": {
    "tags": [],
    "vscode": {
     "languageId": "r"
    }
   },
   "outputs": [
    {
     "data": {
      "text/html": [
       "<table class=\"dataframe\">\n",
       "<caption>A data.frame: 6 × 13</caption>\n",
       "<thead>\n",
       "\t<tr><th></th><th scope=col>Ensembl_ID</th><th scope=col>Ctrl.01__Control</th><th scope=col>Ctrl.02__Control</th><th scope=col>Ctrl.03__Control</th><th scope=col>Ctrl.04__Control</th><th scope=col>Ctrl.05__Control</th><th scope=col>Ctrl.06__Control</th><th scope=col>NO.01__Experimental</th><th scope=col>NO.02__Experimental</th><th scope=col>NO.03__Experimental</th><th scope=col>NO.04__Experimental</th><th scope=col>NO.05__Experimental</th><th scope=col>NO.06__Experimental</th></tr>\n",
       "\t<tr><th></th><th scope=col>&lt;chr&gt;</th><th scope=col>&lt;dbl&gt;</th><th scope=col>&lt;dbl&gt;</th><th scope=col>&lt;dbl&gt;</th><th scope=col>&lt;dbl&gt;</th><th scope=col>&lt;dbl&gt;</th><th scope=col>&lt;dbl&gt;</th><th scope=col>&lt;dbl&gt;</th><th scope=col>&lt;dbl&gt;</th><th scope=col>&lt;dbl&gt;</th><th scope=col>&lt;dbl&gt;</th><th scope=col>&lt;dbl&gt;</th><th scope=col>&lt;dbl&gt;</th></tr>\n",
       "</thead>\n",
       "<tbody>\n",
       "\t<tr><th scope=row>1</th><td>ENSDARG00000000002</td><td> 320.9390</td><td> 291.2259</td><td> 271.5823</td><td> 360.3755</td><td> 406.0819</td><td> 425.8428</td><td> 275.4685</td><td> 312.9917</td><td> 378.3274</td><td> 340.817</td><td> 369.1428</td><td> 325.4757</td></tr>\n",
       "\t<tr><th scope=row>2</th><td>ENSDARG00000000018</td><td>2350.4365</td><td>2637.9880</td><td>2317.9232</td><td>1287.4868</td><td>1119.2563</td><td>1275.6401</td><td>2355.9802</td><td>2396.2376</td><td>2258.8071</td><td>1271.768</td><td>1238.7503</td><td>1287.1477</td></tr>\n",
       "\t<tr><th scope=row>3</th><td>ENSDARG00000000019</td><td>4204.4044</td><td>4394.3196</td><td>3963.2066</td><td>4834.8702</td><td>4800.9907</td><td>4482.2083</td><td>3596.7964</td><td>3219.6638</td><td>3783.2737</td><td>4902.392</td><td>4674.7409</td><td>4706.8120</td></tr>\n",
       "\t<tr><th scope=row>4</th><td>ENSDARG00000000068</td><td> 442.4595</td><td> 471.7461</td><td> 405.2681</td><td>1358.9579</td><td>1362.2305</td><td>1372.8946</td><td> 413.2027</td><td> 416.2004</td><td> 458.4557</td><td>1536.195</td><td>1501.3942</td><td>1616.0951</td></tr>\n",
       "\t<tr><th scope=row>5</th><td>ENSDARG00000000069</td><td>2500.0003</td><td>2521.2982</td><td>2326.3444</td><td>2220.6379</td><td>2430.8671</td><td>2415.3126</td><td>2291.9459</td><td>2499.4464</td><td>2591.4918</td><td>2949.830</td><td>2632.8448</td><td>2706.2216</td></tr>\n",
       "\t<tr><th scope=row>6</th><td>ENSDARG00000000086</td><td>6870.5867</td><td>7999.7361</td><td>7090.6134</td><td>6553.1970</td><td>7299.3507</td><td>6990.0543</td><td>7755.4035</td><td>8111.9823</td><td>7291.6769</td><td>7471.111</td><td>6695.0170</td><td>7242.9183</td></tr>\n",
       "</tbody>\n",
       "</table>\n"
      ],
      "text/latex": [
       "A data.frame: 6 × 13\n",
       "\\begin{tabular}{r|lllllllllllll}\n",
       "  & Ensembl\\_ID & Ctrl.01\\_\\_Control & Ctrl.02\\_\\_Control & Ctrl.03\\_\\_Control & Ctrl.04\\_\\_Control & Ctrl.05\\_\\_Control & Ctrl.06\\_\\_Control & NO.01\\_\\_Experimental & NO.02\\_\\_Experimental & NO.03\\_\\_Experimental & NO.04\\_\\_Experimental & NO.05\\_\\_Experimental & NO.06\\_\\_Experimental\\\\\n",
       "  & <chr> & <dbl> & <dbl> & <dbl> & <dbl> & <dbl> & <dbl> & <dbl> & <dbl> & <dbl> & <dbl> & <dbl> & <dbl>\\\\\n",
       "\\hline\n",
       "\t1 & ENSDARG00000000002 &  320.9390 &  291.2259 &  271.5823 &  360.3755 &  406.0819 &  425.8428 &  275.4685 &  312.9917 &  378.3274 &  340.817 &  369.1428 &  325.4757\\\\\n",
       "\t2 & ENSDARG00000000018 & 2350.4365 & 2637.9880 & 2317.9232 & 1287.4868 & 1119.2563 & 1275.6401 & 2355.9802 & 2396.2376 & 2258.8071 & 1271.768 & 1238.7503 & 1287.1477\\\\\n",
       "\t3 & ENSDARG00000000019 & 4204.4044 & 4394.3196 & 3963.2066 & 4834.8702 & 4800.9907 & 4482.2083 & 3596.7964 & 3219.6638 & 3783.2737 & 4902.392 & 4674.7409 & 4706.8120\\\\\n",
       "\t4 & ENSDARG00000000068 &  442.4595 &  471.7461 &  405.2681 & 1358.9579 & 1362.2305 & 1372.8946 &  413.2027 &  416.2004 &  458.4557 & 1536.195 & 1501.3942 & 1616.0951\\\\\n",
       "\t5 & ENSDARG00000000069 & 2500.0003 & 2521.2982 & 2326.3444 & 2220.6379 & 2430.8671 & 2415.3126 & 2291.9459 & 2499.4464 & 2591.4918 & 2949.830 & 2632.8448 & 2706.2216\\\\\n",
       "\t6 & ENSDARG00000000086 & 6870.5867 & 7999.7361 & 7090.6134 & 6553.1970 & 7299.3507 & 6990.0543 & 7755.4035 & 8111.9823 & 7291.6769 & 7471.111 & 6695.0170 & 7242.9183\\\\\n",
       "\\end{tabular}\n"
      ],
      "text/markdown": [
       "\n",
       "A data.frame: 6 × 13\n",
       "\n",
       "| <!--/--> | Ensembl_ID &lt;chr&gt; | Ctrl.01__Control &lt;dbl&gt; | Ctrl.02__Control &lt;dbl&gt; | Ctrl.03__Control &lt;dbl&gt; | Ctrl.04__Control &lt;dbl&gt; | Ctrl.05__Control &lt;dbl&gt; | Ctrl.06__Control &lt;dbl&gt; | NO.01__Experimental &lt;dbl&gt; | NO.02__Experimental &lt;dbl&gt; | NO.03__Experimental &lt;dbl&gt; | NO.04__Experimental &lt;dbl&gt; | NO.05__Experimental &lt;dbl&gt; | NO.06__Experimental &lt;dbl&gt; |\n",
       "|---|---|---|---|---|---|---|---|---|---|---|---|---|---|\n",
       "| 1 | ENSDARG00000000002 |  320.9390 |  291.2259 |  271.5823 |  360.3755 |  406.0819 |  425.8428 |  275.4685 |  312.9917 |  378.3274 |  340.817 |  369.1428 |  325.4757 |\n",
       "| 2 | ENSDARG00000000018 | 2350.4365 | 2637.9880 | 2317.9232 | 1287.4868 | 1119.2563 | 1275.6401 | 2355.9802 | 2396.2376 | 2258.8071 | 1271.768 | 1238.7503 | 1287.1477 |\n",
       "| 3 | ENSDARG00000000019 | 4204.4044 | 4394.3196 | 3963.2066 | 4834.8702 | 4800.9907 | 4482.2083 | 3596.7964 | 3219.6638 | 3783.2737 | 4902.392 | 4674.7409 | 4706.8120 |\n",
       "| 4 | ENSDARG00000000068 |  442.4595 |  471.7461 |  405.2681 | 1358.9579 | 1362.2305 | 1372.8946 |  413.2027 |  416.2004 |  458.4557 | 1536.195 | 1501.3942 | 1616.0951 |\n",
       "| 5 | ENSDARG00000000069 | 2500.0003 | 2521.2982 | 2326.3444 | 2220.6379 | 2430.8671 | 2415.3126 | 2291.9459 | 2499.4464 | 2591.4918 | 2949.830 | 2632.8448 | 2706.2216 |\n",
       "| 6 | ENSDARG00000000086 | 6870.5867 | 7999.7361 | 7090.6134 | 6553.1970 | 7299.3507 | 6990.0543 | 7755.4035 | 8111.9823 | 7291.6769 | 7471.111 | 6695.0170 | 7242.9183 |\n",
       "\n"
      ],
      "text/plain": [
       "  Ensembl_ID         Ctrl.01__Control Ctrl.02__Control Ctrl.03__Control\n",
       "1 ENSDARG00000000002  320.9390         291.2259         271.5823       \n",
       "2 ENSDARG00000000018 2350.4365        2637.9880        2317.9232       \n",
       "3 ENSDARG00000000019 4204.4044        4394.3196        3963.2066       \n",
       "4 ENSDARG00000000068  442.4595         471.7461         405.2681       \n",
       "5 ENSDARG00000000069 2500.0003        2521.2982        2326.3444       \n",
       "6 ENSDARG00000000086 6870.5867        7999.7361        7090.6134       \n",
       "  Ctrl.04__Control Ctrl.05__Control Ctrl.06__Control NO.01__Experimental\n",
       "1  360.3755         406.0819         425.8428         275.4685          \n",
       "2 1287.4868        1119.2563        1275.6401        2355.9802          \n",
       "3 4834.8702        4800.9907        4482.2083        3596.7964          \n",
       "4 1358.9579        1362.2305        1372.8946         413.2027          \n",
       "5 2220.6379        2430.8671        2415.3126        2291.9459          \n",
       "6 6553.1970        7299.3507        6990.0543        7755.4035          \n",
       "  NO.02__Experimental NO.03__Experimental NO.04__Experimental\n",
       "1  312.9917            378.3274            340.817           \n",
       "2 2396.2376           2258.8071           1271.768           \n",
       "3 3219.6638           3783.2737           4902.392           \n",
       "4  416.2004            458.4557           1536.195           \n",
       "5 2499.4464           2591.4918           2949.830           \n",
       "6 8111.9823           7291.6769           7471.111           \n",
       "  NO.05__Experimental NO.06__Experimental\n",
       "1  369.1428            325.4757          \n",
       "2 1238.7503           1287.1477          \n",
       "3 4674.7409           4706.8120          \n",
       "4 1501.3942           1616.0951          \n",
       "5 2632.8448           2706.2216          \n",
       "6 6695.0170           7242.9183          "
      ]
     },
     "metadata": {},
     "output_type": "display_data"
    }
   ],
   "source": [
    "# Read a TSV file\n",
    "data <- read.table(\n",
    "    \"/path/to/Normalized_Counts.tsv\",\n",
    "                   header = TRUE,\n",
    "                   sep = \"\\t\")\n",
    "\n",
    "# Print the first few rows of the data\n",
    "head(data)"
   ]
  },
  {
   "cell_type": "markdown",
   "id": "e0b01e0b-2802-4bce-9223-7e70531cac29",
   "metadata": {},
   "source": [
    "The colnames are below for reference. "
   ]
  },
  {
   "cell_type": "code",
   "execution_count": 3,
   "id": "7773910c-a3e2-4a95-bfe5-c57d33f2c860",
   "metadata": {
    "tags": [],
    "vscode": {
     "languageId": "r"
    }
   },
   "outputs": [
    {
     "data": {
      "text/html": [
       "<style>\n",
       ".list-inline {list-style: none; margin:0; padding: 0}\n",
       ".list-inline>li {display: inline-block}\n",
       ".list-inline>li:not(:last-child)::after {content: \"\\00b7\"; padding: 0 .5ex}\n",
       "</style>\n",
       "<ol class=list-inline><li>'Ensembl_ID'</li><li>'Ctrl.01__Control'</li><li>'Ctrl.02__Control'</li><li>'Ctrl.03__Control'</li><li>'Ctrl.04__Control'</li><li>'Ctrl.05__Control'</li><li>'Ctrl.06__Control'</li><li>'NO.01__Experimental'</li><li>'NO.02__Experimental'</li><li>'NO.03__Experimental'</li><li>'NO.04__Experimental'</li><li>'NO.05__Experimental'</li><li>'NO.06__Experimental'</li></ol>\n"
      ],
      "text/latex": [
       "\\begin{enumerate*}\n",
       "\\item 'Ensembl\\_ID'\n",
       "\\item 'Ctrl.01\\_\\_Control'\n",
       "\\item 'Ctrl.02\\_\\_Control'\n",
       "\\item 'Ctrl.03\\_\\_Control'\n",
       "\\item 'Ctrl.04\\_\\_Control'\n",
       "\\item 'Ctrl.05\\_\\_Control'\n",
       "\\item 'Ctrl.06\\_\\_Control'\n",
       "\\item 'NO.01\\_\\_Experimental'\n",
       "\\item 'NO.02\\_\\_Experimental'\n",
       "\\item 'NO.03\\_\\_Experimental'\n",
       "\\item 'NO.04\\_\\_Experimental'\n",
       "\\item 'NO.05\\_\\_Experimental'\n",
       "\\item 'NO.06\\_\\_Experimental'\n",
       "\\end{enumerate*}\n"
      ],
      "text/markdown": [
       "1. 'Ensembl_ID'\n",
       "2. 'Ctrl.01__Control'\n",
       "3. 'Ctrl.02__Control'\n",
       "4. 'Ctrl.03__Control'\n",
       "5. 'Ctrl.04__Control'\n",
       "6. 'Ctrl.05__Control'\n",
       "7. 'Ctrl.06__Control'\n",
       "8. 'NO.01__Experimental'\n",
       "9. 'NO.02__Experimental'\n",
       "10. 'NO.03__Experimental'\n",
       "11. 'NO.04__Experimental'\n",
       "12. 'NO.05__Experimental'\n",
       "13. 'NO.06__Experimental'\n",
       "\n",
       "\n"
      ],
      "text/plain": [
       " [1] \"Ensembl_ID\"          \"Ctrl.01__Control\"    \"Ctrl.02__Control\"   \n",
       " [4] \"Ctrl.03__Control\"    \"Ctrl.04__Control\"    \"Ctrl.05__Control\"   \n",
       " [7] \"Ctrl.06__Control\"    \"NO.01__Experimental\" \"NO.02__Experimental\"\n",
       "[10] \"NO.03__Experimental\" \"NO.04__Experimental\" \"NO.05__Experimental\"\n",
       "[13] \"NO.06__Experimental\""
      ]
     },
     "metadata": {},
     "output_type": "display_data"
    }
   ],
   "source": [
    "colnames(data)"
   ]
  },
  {
   "cell_type": "markdown",
   "id": "1198f519-f4df-4d3f-9fd0-7237a777ad7f",
   "metadata": {},
   "source": [
    "## Calculating The Average And Standard Deviation For All Samples:"
   ]
  },
  {
   "cell_type": "markdown",
   "id": "93f84e9f-2407-4979-ada6-cd0d11c29dbe",
   "metadata": {
    "tags": []
   },
   "source": [
    "### Selecting For All The Numeric Data Columns:"
   ]
  },
  {
   "cell_type": "markdown",
   "id": "5677dc35-03b0-45cc-8462-29c3837924fa",
   "metadata": {},
   "source": [
    "Select for all the numeric columns (all columns except the Ensembl_ID column)"
   ]
  },
  {
   "cell_type": "code",
   "execution_count": 4,
   "id": "8c621d92-5637-40a9-99d6-3548a1964ec3",
   "metadata": {
    "tags": [],
    "vscode": {
     "languageId": "r"
    }
   },
   "outputs": [
    {
     "data": {
      "text/html": [
       "<table class=\"dataframe\">\n",
       "<caption>A data.frame: 6 × 12</caption>\n",
       "<thead>\n",
       "\t<tr><th></th><th scope=col>Ctrl.01__Control</th><th scope=col>Ctrl.02__Control</th><th scope=col>Ctrl.03__Control</th><th scope=col>Ctrl.04__Control</th><th scope=col>Ctrl.05__Control</th><th scope=col>Ctrl.06__Control</th><th scope=col>NO.01__Experimental</th><th scope=col>NO.02__Experimental</th><th scope=col>NO.03__Experimental</th><th scope=col>NO.04__Experimental</th><th scope=col>NO.05__Experimental</th><th scope=col>NO.06__Experimental</th></tr>\n",
       "\t<tr><th></th><th scope=col>&lt;dbl&gt;</th><th scope=col>&lt;dbl&gt;</th><th scope=col>&lt;dbl&gt;</th><th scope=col>&lt;dbl&gt;</th><th scope=col>&lt;dbl&gt;</th><th scope=col>&lt;dbl&gt;</th><th scope=col>&lt;dbl&gt;</th><th scope=col>&lt;dbl&gt;</th><th scope=col>&lt;dbl&gt;</th><th scope=col>&lt;dbl&gt;</th><th scope=col>&lt;dbl&gt;</th><th scope=col>&lt;dbl&gt;</th></tr>\n",
       "</thead>\n",
       "<tbody>\n",
       "\t<tr><th scope=row>1</th><td> 320.9390</td><td> 291.2259</td><td> 271.5823</td><td> 360.3755</td><td> 406.0819</td><td> 425.8428</td><td> 275.4685</td><td> 312.9917</td><td> 378.3274</td><td> 340.817</td><td> 369.1428</td><td> 325.4757</td></tr>\n",
       "\t<tr><th scope=row>2</th><td>2350.4365</td><td>2637.9880</td><td>2317.9232</td><td>1287.4868</td><td>1119.2563</td><td>1275.6401</td><td>2355.9802</td><td>2396.2376</td><td>2258.8071</td><td>1271.768</td><td>1238.7503</td><td>1287.1477</td></tr>\n",
       "\t<tr><th scope=row>3</th><td>4204.4044</td><td>4394.3196</td><td>3963.2066</td><td>4834.8702</td><td>4800.9907</td><td>4482.2083</td><td>3596.7964</td><td>3219.6638</td><td>3783.2737</td><td>4902.392</td><td>4674.7409</td><td>4706.8120</td></tr>\n",
       "\t<tr><th scope=row>4</th><td> 442.4595</td><td> 471.7461</td><td> 405.2681</td><td>1358.9579</td><td>1362.2305</td><td>1372.8946</td><td> 413.2027</td><td> 416.2004</td><td> 458.4557</td><td>1536.195</td><td>1501.3942</td><td>1616.0951</td></tr>\n",
       "\t<tr><th scope=row>5</th><td>2500.0003</td><td>2521.2982</td><td>2326.3444</td><td>2220.6379</td><td>2430.8671</td><td>2415.3126</td><td>2291.9459</td><td>2499.4464</td><td>2591.4918</td><td>2949.830</td><td>2632.8448</td><td>2706.2216</td></tr>\n",
       "\t<tr><th scope=row>6</th><td>6870.5867</td><td>7999.7361</td><td>7090.6134</td><td>6553.1970</td><td>7299.3507</td><td>6990.0543</td><td>7755.4035</td><td>8111.9823</td><td>7291.6769</td><td>7471.111</td><td>6695.0170</td><td>7242.9183</td></tr>\n",
       "</tbody>\n",
       "</table>\n"
      ],
      "text/latex": [
       "A data.frame: 6 × 12\n",
       "\\begin{tabular}{r|llllllllllll}\n",
       "  & Ctrl.01\\_\\_Control & Ctrl.02\\_\\_Control & Ctrl.03\\_\\_Control & Ctrl.04\\_\\_Control & Ctrl.05\\_\\_Control & Ctrl.06\\_\\_Control & NO.01\\_\\_Experimental & NO.02\\_\\_Experimental & NO.03\\_\\_Experimental & NO.04\\_\\_Experimental & NO.05\\_\\_Experimental & NO.06\\_\\_Experimental\\\\\n",
       "  & <dbl> & <dbl> & <dbl> & <dbl> & <dbl> & <dbl> & <dbl> & <dbl> & <dbl> & <dbl> & <dbl> & <dbl>\\\\\n",
       "\\hline\n",
       "\t1 &  320.9390 &  291.2259 &  271.5823 &  360.3755 &  406.0819 &  425.8428 &  275.4685 &  312.9917 &  378.3274 &  340.817 &  369.1428 &  325.4757\\\\\n",
       "\t2 & 2350.4365 & 2637.9880 & 2317.9232 & 1287.4868 & 1119.2563 & 1275.6401 & 2355.9802 & 2396.2376 & 2258.8071 & 1271.768 & 1238.7503 & 1287.1477\\\\\n",
       "\t3 & 4204.4044 & 4394.3196 & 3963.2066 & 4834.8702 & 4800.9907 & 4482.2083 & 3596.7964 & 3219.6638 & 3783.2737 & 4902.392 & 4674.7409 & 4706.8120\\\\\n",
       "\t4 &  442.4595 &  471.7461 &  405.2681 & 1358.9579 & 1362.2305 & 1372.8946 &  413.2027 &  416.2004 &  458.4557 & 1536.195 & 1501.3942 & 1616.0951\\\\\n",
       "\t5 & 2500.0003 & 2521.2982 & 2326.3444 & 2220.6379 & 2430.8671 & 2415.3126 & 2291.9459 & 2499.4464 & 2591.4918 & 2949.830 & 2632.8448 & 2706.2216\\\\\n",
       "\t6 & 6870.5867 & 7999.7361 & 7090.6134 & 6553.1970 & 7299.3507 & 6990.0543 & 7755.4035 & 8111.9823 & 7291.6769 & 7471.111 & 6695.0170 & 7242.9183\\\\\n",
       "\\end{tabular}\n"
      ],
      "text/markdown": [
       "\n",
       "A data.frame: 6 × 12\n",
       "\n",
       "| <!--/--> | Ctrl.01__Control &lt;dbl&gt; | Ctrl.02__Control &lt;dbl&gt; | Ctrl.03__Control &lt;dbl&gt; | Ctrl.04__Control &lt;dbl&gt; | Ctrl.05__Control &lt;dbl&gt; | Ctrl.06__Control &lt;dbl&gt; | NO.01__Experimental &lt;dbl&gt; | NO.02__Experimental &lt;dbl&gt; | NO.03__Experimental &lt;dbl&gt; | NO.04__Experimental &lt;dbl&gt; | NO.05__Experimental &lt;dbl&gt; | NO.06__Experimental &lt;dbl&gt; |\n",
       "|---|---|---|---|---|---|---|---|---|---|---|---|---|\n",
       "| 1 |  320.9390 |  291.2259 |  271.5823 |  360.3755 |  406.0819 |  425.8428 |  275.4685 |  312.9917 |  378.3274 |  340.817 |  369.1428 |  325.4757 |\n",
       "| 2 | 2350.4365 | 2637.9880 | 2317.9232 | 1287.4868 | 1119.2563 | 1275.6401 | 2355.9802 | 2396.2376 | 2258.8071 | 1271.768 | 1238.7503 | 1287.1477 |\n",
       "| 3 | 4204.4044 | 4394.3196 | 3963.2066 | 4834.8702 | 4800.9907 | 4482.2083 | 3596.7964 | 3219.6638 | 3783.2737 | 4902.392 | 4674.7409 | 4706.8120 |\n",
       "| 4 |  442.4595 |  471.7461 |  405.2681 | 1358.9579 | 1362.2305 | 1372.8946 |  413.2027 |  416.2004 |  458.4557 | 1536.195 | 1501.3942 | 1616.0951 |\n",
       "| 5 | 2500.0003 | 2521.2982 | 2326.3444 | 2220.6379 | 2430.8671 | 2415.3126 | 2291.9459 | 2499.4464 | 2591.4918 | 2949.830 | 2632.8448 | 2706.2216 |\n",
       "| 6 | 6870.5867 | 7999.7361 | 7090.6134 | 6553.1970 | 7299.3507 | 6990.0543 | 7755.4035 | 8111.9823 | 7291.6769 | 7471.111 | 6695.0170 | 7242.9183 |\n",
       "\n"
      ],
      "text/plain": [
       "  Ctrl.01__Control Ctrl.02__Control Ctrl.03__Control Ctrl.04__Control\n",
       "1  320.9390         291.2259         271.5823         360.3755       \n",
       "2 2350.4365        2637.9880        2317.9232        1287.4868       \n",
       "3 4204.4044        4394.3196        3963.2066        4834.8702       \n",
       "4  442.4595         471.7461         405.2681        1358.9579       \n",
       "5 2500.0003        2521.2982        2326.3444        2220.6379       \n",
       "6 6870.5867        7999.7361        7090.6134        6553.1970       \n",
       "  Ctrl.05__Control Ctrl.06__Control NO.01__Experimental NO.02__Experimental\n",
       "1  406.0819         425.8428         275.4685            312.9917          \n",
       "2 1119.2563        1275.6401        2355.9802           2396.2376          \n",
       "3 4800.9907        4482.2083        3596.7964           3219.6638          \n",
       "4 1362.2305        1372.8946         413.2027            416.2004          \n",
       "5 2430.8671        2415.3126        2291.9459           2499.4464          \n",
       "6 7299.3507        6990.0543        7755.4035           8111.9823          \n",
       "  NO.03__Experimental NO.04__Experimental NO.05__Experimental\n",
       "1  378.3274            340.817             369.1428          \n",
       "2 2258.8071           1271.768            1238.7503          \n",
       "3 3783.2737           4902.392            4674.7409          \n",
       "4  458.4557           1536.195            1501.3942          \n",
       "5 2591.4918           2949.830            2632.8448          \n",
       "6 7291.6769           7471.111            6695.0170          \n",
       "  NO.06__Experimental\n",
       "1  325.4757          \n",
       "2 1287.1477          \n",
       "3 4706.8120          \n",
       "4 1616.0951          \n",
       "5 2706.2216          \n",
       "6 7242.9183          "
      ]
     },
     "metadata": {},
     "output_type": "display_data"
    }
   ],
   "source": [
    "\n",
    "# Select the numeric columns (columns 2 to 13)\n",
    "numeric_columns <- data[, 2:13]\n",
    "\n",
    "head(numeric_columns)"
   ]
  },
  {
   "cell_type": "markdown",
   "id": "1af082e2-0ab5-4a5d-83ee-a2b25eacbc80",
   "metadata": {},
   "source": [
    "Now, calculate the row standard deviation and the row average."
   ]
  },
  {
   "cell_type": "code",
   "execution_count": 5,
   "id": "8d8bd793-9485-457c-b258-c21b5ebfeade",
   "metadata": {
    "tags": [],
    "vscode": {
     "languageId": "r"
    }
   },
   "outputs": [
    {
     "data": {
      "text/html": [
       "<table class=\"dataframe\">\n",
       "<caption>A data.frame: 6 × 15</caption>\n",
       "<thead>\n",
       "\t<tr><th></th><th scope=col>Ensembl_ID</th><th scope=col>Ctrl.01__Control</th><th scope=col>Ctrl.02__Control</th><th scope=col>Ctrl.03__Control</th><th scope=col>Ctrl.04__Control</th><th scope=col>Ctrl.05__Control</th><th scope=col>Ctrl.06__Control</th><th scope=col>NO.01__Experimental</th><th scope=col>NO.02__Experimental</th><th scope=col>NO.03__Experimental</th><th scope=col>NO.04__Experimental</th><th scope=col>NO.05__Experimental</th><th scope=col>NO.06__Experimental</th><th scope=col>Row_Standard_Deviation</th><th scope=col>Row_Average</th></tr>\n",
       "\t<tr><th></th><th scope=col>&lt;chr&gt;</th><th scope=col>&lt;dbl&gt;</th><th scope=col>&lt;dbl&gt;</th><th scope=col>&lt;dbl&gt;</th><th scope=col>&lt;dbl&gt;</th><th scope=col>&lt;dbl&gt;</th><th scope=col>&lt;dbl&gt;</th><th scope=col>&lt;dbl&gt;</th><th scope=col>&lt;dbl&gt;</th><th scope=col>&lt;dbl&gt;</th><th scope=col>&lt;dbl&gt;</th><th scope=col>&lt;dbl&gt;</th><th scope=col>&lt;dbl&gt;</th><th scope=col>&lt;dbl&gt;</th><th scope=col>&lt;dbl&gt;</th></tr>\n",
       "</thead>\n",
       "<tbody>\n",
       "\t<tr><th scope=row>1</th><td>ENSDARG00000000002</td><td> 320.9390</td><td> 291.2259</td><td> 271.5823</td><td> 360.3755</td><td> 406.0819</td><td> 425.8428</td><td> 275.4685</td><td> 312.9917</td><td> 378.3274</td><td> 340.817</td><td> 369.1428</td><td> 325.4757</td><td> 49.54119</td><td> 339.8559</td></tr>\n",
       "\t<tr><th scope=row>2</th><td>ENSDARG00000000018</td><td>2350.4365</td><td>2637.9880</td><td>2317.9232</td><td>1287.4868</td><td>1119.2563</td><td>1275.6401</td><td>2355.9802</td><td>2396.2376</td><td>2258.8071</td><td>1271.768</td><td>1238.7503</td><td>1287.1477</td><td>603.27901</td><td>1816.4518</td></tr>\n",
       "\t<tr><th scope=row>3</th><td>ENSDARG00000000019</td><td>4204.4044</td><td>4394.3196</td><td>3963.2066</td><td>4834.8702</td><td>4800.9907</td><td>4482.2083</td><td>3596.7964</td><td>3219.6638</td><td>3783.2737</td><td>4902.392</td><td>4674.7409</td><td>4706.8120</td><td>547.64475</td><td>4296.9732</td></tr>\n",
       "\t<tr><th scope=row>4</th><td>ENSDARG00000000068</td><td> 442.4595</td><td> 471.7461</td><td> 405.2681</td><td>1358.9579</td><td>1362.2305</td><td>1372.8946</td><td> 413.2027</td><td> 416.2004</td><td> 458.4557</td><td>1536.195</td><td>1501.3942</td><td>1616.0951</td><td>539.77782</td><td> 946.2583</td></tr>\n",
       "\t<tr><th scope=row>5</th><td>ENSDARG00000000069</td><td>2500.0003</td><td>2521.2982</td><td>2326.3444</td><td>2220.6379</td><td>2430.8671</td><td>2415.3126</td><td>2291.9459</td><td>2499.4464</td><td>2591.4918</td><td>2949.830</td><td>2632.8448</td><td>2706.2216</td><td>198.66921</td><td>2507.1867</td></tr>\n",
       "\t<tr><th scope=row>6</th><td>ENSDARG00000000086</td><td>6870.5867</td><td>7999.7361</td><td>7090.6134</td><td>6553.1970</td><td>7299.3507</td><td>6990.0543</td><td>7755.4035</td><td>8111.9823</td><td>7291.6769</td><td>7471.111</td><td>6695.0170</td><td>7242.9183</td><td>489.21309</td><td>7280.9706</td></tr>\n",
       "</tbody>\n",
       "</table>\n"
      ],
      "text/latex": [
       "A data.frame: 6 × 15\n",
       "\\begin{tabular}{r|lllllllllllllll}\n",
       "  & Ensembl\\_ID & Ctrl.01\\_\\_Control & Ctrl.02\\_\\_Control & Ctrl.03\\_\\_Control & Ctrl.04\\_\\_Control & Ctrl.05\\_\\_Control & Ctrl.06\\_\\_Control & NO.01\\_\\_Experimental & NO.02\\_\\_Experimental & NO.03\\_\\_Experimental & NO.04\\_\\_Experimental & NO.05\\_\\_Experimental & NO.06\\_\\_Experimental & Row\\_Standard\\_Deviation & Row\\_Average\\\\\n",
       "  & <chr> & <dbl> & <dbl> & <dbl> & <dbl> & <dbl> & <dbl> & <dbl> & <dbl> & <dbl> & <dbl> & <dbl> & <dbl> & <dbl> & <dbl>\\\\\n",
       "\\hline\n",
       "\t1 & ENSDARG00000000002 &  320.9390 &  291.2259 &  271.5823 &  360.3755 &  406.0819 &  425.8428 &  275.4685 &  312.9917 &  378.3274 &  340.817 &  369.1428 &  325.4757 &  49.54119 &  339.8559\\\\\n",
       "\t2 & ENSDARG00000000018 & 2350.4365 & 2637.9880 & 2317.9232 & 1287.4868 & 1119.2563 & 1275.6401 & 2355.9802 & 2396.2376 & 2258.8071 & 1271.768 & 1238.7503 & 1287.1477 & 603.27901 & 1816.4518\\\\\n",
       "\t3 & ENSDARG00000000019 & 4204.4044 & 4394.3196 & 3963.2066 & 4834.8702 & 4800.9907 & 4482.2083 & 3596.7964 & 3219.6638 & 3783.2737 & 4902.392 & 4674.7409 & 4706.8120 & 547.64475 & 4296.9732\\\\\n",
       "\t4 & ENSDARG00000000068 &  442.4595 &  471.7461 &  405.2681 & 1358.9579 & 1362.2305 & 1372.8946 &  413.2027 &  416.2004 &  458.4557 & 1536.195 & 1501.3942 & 1616.0951 & 539.77782 &  946.2583\\\\\n",
       "\t5 & ENSDARG00000000069 & 2500.0003 & 2521.2982 & 2326.3444 & 2220.6379 & 2430.8671 & 2415.3126 & 2291.9459 & 2499.4464 & 2591.4918 & 2949.830 & 2632.8448 & 2706.2216 & 198.66921 & 2507.1867\\\\\n",
       "\t6 & ENSDARG00000000086 & 6870.5867 & 7999.7361 & 7090.6134 & 6553.1970 & 7299.3507 & 6990.0543 & 7755.4035 & 8111.9823 & 7291.6769 & 7471.111 & 6695.0170 & 7242.9183 & 489.21309 & 7280.9706\\\\\n",
       "\\end{tabular}\n"
      ],
      "text/markdown": [
       "\n",
       "A data.frame: 6 × 15\n",
       "\n",
       "| <!--/--> | Ensembl_ID &lt;chr&gt; | Ctrl.01__Control &lt;dbl&gt; | Ctrl.02__Control &lt;dbl&gt; | Ctrl.03__Control &lt;dbl&gt; | Ctrl.04__Control &lt;dbl&gt; | Ctrl.05__Control &lt;dbl&gt; | Ctrl.06__Control &lt;dbl&gt; | NO.01__Experimental &lt;dbl&gt; | NO.02__Experimental &lt;dbl&gt; | NO.03__Experimental &lt;dbl&gt; | NO.04__Experimental &lt;dbl&gt; | NO.05__Experimental &lt;dbl&gt; | NO.06__Experimental &lt;dbl&gt; | Row_Standard_Deviation &lt;dbl&gt; | Row_Average &lt;dbl&gt; |\n",
       "|---|---|---|---|---|---|---|---|---|---|---|---|---|---|---|---|\n",
       "| 1 | ENSDARG00000000002 |  320.9390 |  291.2259 |  271.5823 |  360.3755 |  406.0819 |  425.8428 |  275.4685 |  312.9917 |  378.3274 |  340.817 |  369.1428 |  325.4757 |  49.54119 |  339.8559 |\n",
       "| 2 | ENSDARG00000000018 | 2350.4365 | 2637.9880 | 2317.9232 | 1287.4868 | 1119.2563 | 1275.6401 | 2355.9802 | 2396.2376 | 2258.8071 | 1271.768 | 1238.7503 | 1287.1477 | 603.27901 | 1816.4518 |\n",
       "| 3 | ENSDARG00000000019 | 4204.4044 | 4394.3196 | 3963.2066 | 4834.8702 | 4800.9907 | 4482.2083 | 3596.7964 | 3219.6638 | 3783.2737 | 4902.392 | 4674.7409 | 4706.8120 | 547.64475 | 4296.9732 |\n",
       "| 4 | ENSDARG00000000068 |  442.4595 |  471.7461 |  405.2681 | 1358.9579 | 1362.2305 | 1372.8946 |  413.2027 |  416.2004 |  458.4557 | 1536.195 | 1501.3942 | 1616.0951 | 539.77782 |  946.2583 |\n",
       "| 5 | ENSDARG00000000069 | 2500.0003 | 2521.2982 | 2326.3444 | 2220.6379 | 2430.8671 | 2415.3126 | 2291.9459 | 2499.4464 | 2591.4918 | 2949.830 | 2632.8448 | 2706.2216 | 198.66921 | 2507.1867 |\n",
       "| 6 | ENSDARG00000000086 | 6870.5867 | 7999.7361 | 7090.6134 | 6553.1970 | 7299.3507 | 6990.0543 | 7755.4035 | 8111.9823 | 7291.6769 | 7471.111 | 6695.0170 | 7242.9183 | 489.21309 | 7280.9706 |\n",
       "\n"
      ],
      "text/plain": [
       "  Ensembl_ID         Ctrl.01__Control Ctrl.02__Control Ctrl.03__Control\n",
       "1 ENSDARG00000000002  320.9390         291.2259         271.5823       \n",
       "2 ENSDARG00000000018 2350.4365        2637.9880        2317.9232       \n",
       "3 ENSDARG00000000019 4204.4044        4394.3196        3963.2066       \n",
       "4 ENSDARG00000000068  442.4595         471.7461         405.2681       \n",
       "5 ENSDARG00000000069 2500.0003        2521.2982        2326.3444       \n",
       "6 ENSDARG00000000086 6870.5867        7999.7361        7090.6134       \n",
       "  Ctrl.04__Control Ctrl.05__Control Ctrl.06__Control NO.01__Experimental\n",
       "1  360.3755         406.0819         425.8428         275.4685          \n",
       "2 1287.4868        1119.2563        1275.6401        2355.9802          \n",
       "3 4834.8702        4800.9907        4482.2083        3596.7964          \n",
       "4 1358.9579        1362.2305        1372.8946         413.2027          \n",
       "5 2220.6379        2430.8671        2415.3126        2291.9459          \n",
       "6 6553.1970        7299.3507        6990.0543        7755.4035          \n",
       "  NO.02__Experimental NO.03__Experimental NO.04__Experimental\n",
       "1  312.9917            378.3274            340.817           \n",
       "2 2396.2376           2258.8071           1271.768           \n",
       "3 3219.6638           3783.2737           4902.392           \n",
       "4  416.2004            458.4557           1536.195           \n",
       "5 2499.4464           2591.4918           2949.830           \n",
       "6 8111.9823           7291.6769           7471.111           \n",
       "  NO.05__Experimental NO.06__Experimental Row_Standard_Deviation Row_Average\n",
       "1  369.1428            325.4757            49.54119               339.8559  \n",
       "2 1238.7503           1287.1477           603.27901              1816.4518  \n",
       "3 4674.7409           4706.8120           547.64475              4296.9732  \n",
       "4 1501.3942           1616.0951           539.77782               946.2583  \n",
       "5 2632.8448           2706.2216           198.66921              2507.1867  \n",
       "6 6695.0170           7242.9183           489.21309              7280.9706  "
      ]
     },
     "metadata": {},
     "output_type": "display_data"
    }
   ],
   "source": [
    "\n",
    "# Calculate standard deviation per row for the numeric columns\n",
    "data$Row_Standard_Deviation <- apply(numeric_columns, 1, sd)\n",
    "\n",
    "# Calculate row average for the numeric columns\n",
    "data$Row_Average <- apply(numeric_columns, 1, mean)\n",
    "\n",
    "# Print the updated data frame\n",
    "head(data)"
   ]
  },
  {
   "cell_type": "markdown",
   "id": "a811c4a9-d589-41cc-a304-9fa62cfc9ad8",
   "metadata": {},
   "source": [
    "## Calculating The Average And Standard Deviation For Control Samples Alone:"
   ]
  },
  {
   "cell_type": "markdown",
   "id": "ed551b09-443c-47bc-a7f3-7f3f68d5ed13",
   "metadata": {},
   "source": [
    "### Selecting For Control Data Alone:"
   ]
  },
  {
   "cell_type": "markdown",
   "id": "7d033c00-4cdf-494b-a037-1a252d1b79ed",
   "metadata": {},
   "source": [
    "First, I have to select for the numeric columns that are from control samples alone:"
   ]
  },
  {
   "cell_type": "code",
   "execution_count": 6,
   "id": "2333c126-2647-4c2e-96c4-e7c2b60dfbcb",
   "metadata": {
    "tags": [],
    "vscode": {
     "languageId": "r"
    }
   },
   "outputs": [
    {
     "data": {
      "text/html": [
       "<table class=\"dataframe\">\n",
       "<caption>A data.frame: 6 × 6</caption>\n",
       "<thead>\n",
       "\t<tr><th></th><th scope=col>Ctrl.01__Control</th><th scope=col>Ctrl.02__Control</th><th scope=col>Ctrl.03__Control</th><th scope=col>Ctrl.04__Control</th><th scope=col>Ctrl.05__Control</th><th scope=col>Ctrl.06__Control</th></tr>\n",
       "\t<tr><th></th><th scope=col>&lt;dbl&gt;</th><th scope=col>&lt;dbl&gt;</th><th scope=col>&lt;dbl&gt;</th><th scope=col>&lt;dbl&gt;</th><th scope=col>&lt;dbl&gt;</th><th scope=col>&lt;dbl&gt;</th></tr>\n",
       "</thead>\n",
       "<tbody>\n",
       "\t<tr><th scope=row>1</th><td> 320.9390</td><td> 291.2259</td><td> 271.5823</td><td> 360.3755</td><td> 406.0819</td><td> 425.8428</td></tr>\n",
       "\t<tr><th scope=row>2</th><td>2350.4365</td><td>2637.9880</td><td>2317.9232</td><td>1287.4868</td><td>1119.2563</td><td>1275.6401</td></tr>\n",
       "\t<tr><th scope=row>3</th><td>4204.4044</td><td>4394.3196</td><td>3963.2066</td><td>4834.8702</td><td>4800.9907</td><td>4482.2083</td></tr>\n",
       "\t<tr><th scope=row>4</th><td> 442.4595</td><td> 471.7461</td><td> 405.2681</td><td>1358.9579</td><td>1362.2305</td><td>1372.8946</td></tr>\n",
       "\t<tr><th scope=row>5</th><td>2500.0003</td><td>2521.2982</td><td>2326.3444</td><td>2220.6379</td><td>2430.8671</td><td>2415.3126</td></tr>\n",
       "\t<tr><th scope=row>6</th><td>6870.5867</td><td>7999.7361</td><td>7090.6134</td><td>6553.1970</td><td>7299.3507</td><td>6990.0543</td></tr>\n",
       "</tbody>\n",
       "</table>\n"
      ],
      "text/latex": [
       "A data.frame: 6 × 6\n",
       "\\begin{tabular}{r|llllll}\n",
       "  & Ctrl.01\\_\\_Control & Ctrl.02\\_\\_Control & Ctrl.03\\_\\_Control & Ctrl.04\\_\\_Control & Ctrl.05\\_\\_Control & Ctrl.06\\_\\_Control\\\\\n",
       "  & <dbl> & <dbl> & <dbl> & <dbl> & <dbl> & <dbl>\\\\\n",
       "\\hline\n",
       "\t1 &  320.9390 &  291.2259 &  271.5823 &  360.3755 &  406.0819 &  425.8428\\\\\n",
       "\t2 & 2350.4365 & 2637.9880 & 2317.9232 & 1287.4868 & 1119.2563 & 1275.6401\\\\\n",
       "\t3 & 4204.4044 & 4394.3196 & 3963.2066 & 4834.8702 & 4800.9907 & 4482.2083\\\\\n",
       "\t4 &  442.4595 &  471.7461 &  405.2681 & 1358.9579 & 1362.2305 & 1372.8946\\\\\n",
       "\t5 & 2500.0003 & 2521.2982 & 2326.3444 & 2220.6379 & 2430.8671 & 2415.3126\\\\\n",
       "\t6 & 6870.5867 & 7999.7361 & 7090.6134 & 6553.1970 & 7299.3507 & 6990.0543\\\\\n",
       "\\end{tabular}\n"
      ],
      "text/markdown": [
       "\n",
       "A data.frame: 6 × 6\n",
       "\n",
       "| <!--/--> | Ctrl.01__Control &lt;dbl&gt; | Ctrl.02__Control &lt;dbl&gt; | Ctrl.03__Control &lt;dbl&gt; | Ctrl.04__Control &lt;dbl&gt; | Ctrl.05__Control &lt;dbl&gt; | Ctrl.06__Control &lt;dbl&gt; |\n",
       "|---|---|---|---|---|---|---|\n",
       "| 1 |  320.9390 |  291.2259 |  271.5823 |  360.3755 |  406.0819 |  425.8428 |\n",
       "| 2 | 2350.4365 | 2637.9880 | 2317.9232 | 1287.4868 | 1119.2563 | 1275.6401 |\n",
       "| 3 | 4204.4044 | 4394.3196 | 3963.2066 | 4834.8702 | 4800.9907 | 4482.2083 |\n",
       "| 4 |  442.4595 |  471.7461 |  405.2681 | 1358.9579 | 1362.2305 | 1372.8946 |\n",
       "| 5 | 2500.0003 | 2521.2982 | 2326.3444 | 2220.6379 | 2430.8671 | 2415.3126 |\n",
       "| 6 | 6870.5867 | 7999.7361 | 7090.6134 | 6553.1970 | 7299.3507 | 6990.0543 |\n",
       "\n"
      ],
      "text/plain": [
       "  Ctrl.01__Control Ctrl.02__Control Ctrl.03__Control Ctrl.04__Control\n",
       "1  320.9390         291.2259         271.5823         360.3755       \n",
       "2 2350.4365        2637.9880        2317.9232        1287.4868       \n",
       "3 4204.4044        4394.3196        3963.2066        4834.8702       \n",
       "4  442.4595         471.7461         405.2681        1358.9579       \n",
       "5 2500.0003        2521.2982        2326.3444        2220.6379       \n",
       "6 6870.5867        7999.7361        7090.6134        6553.1970       \n",
       "  Ctrl.05__Control Ctrl.06__Control\n",
       "1  406.0819         425.8428       \n",
       "2 1119.2563        1275.6401       \n",
       "3 4800.9907        4482.2083       \n",
       "4 1362.2305        1372.8946       \n",
       "5 2430.8671        2415.3126       \n",
       "6 7299.3507        6990.0543       "
      ]
     },
     "metadata": {},
     "output_type": "display_data"
    }
   ],
   "source": [
    "\n",
    "# Select the numeric columns (columns 2 to 7)\n",
    "numeric_column_controls <- data[, 2:7]\n",
    "\n",
    "head(numeric_column_controls)\n"
   ]
  },
  {
   "cell_type": "markdown",
   "id": "4340dbb2-34a6-4302-8a58-57f26b600bfc",
   "metadata": {},
   "source": [
    "### Calculating Mean And Standard Deviation For Controls:"
   ]
  },
  {
   "cell_type": "code",
   "execution_count": 7,
   "id": "72f52fd8-4fd2-486d-ab34-2e4033536c4c",
   "metadata": {
    "tags": [],
    "vscode": {
     "languageId": "r"
    }
   },
   "outputs": [
    {
     "data": {
      "text/html": [
       "<table class=\"dataframe\">\n",
       "<caption>A data.frame: 6 × 17</caption>\n",
       "<thead>\n",
       "\t<tr><th></th><th scope=col>Ensembl_ID</th><th scope=col>Ctrl.01__Control</th><th scope=col>Ctrl.02__Control</th><th scope=col>Ctrl.03__Control</th><th scope=col>Ctrl.04__Control</th><th scope=col>Ctrl.05__Control</th><th scope=col>Ctrl.06__Control</th><th scope=col>NO.01__Experimental</th><th scope=col>NO.02__Experimental</th><th scope=col>NO.03__Experimental</th><th scope=col>NO.04__Experimental</th><th scope=col>NO.05__Experimental</th><th scope=col>NO.06__Experimental</th><th scope=col>Row_Standard_Deviation</th><th scope=col>Row_Average</th><th scope=col>Controls_Row_Standard_Deviation</th><th scope=col>Controls_Row_Mean</th></tr>\n",
       "\t<tr><th></th><th scope=col>&lt;chr&gt;</th><th scope=col>&lt;dbl&gt;</th><th scope=col>&lt;dbl&gt;</th><th scope=col>&lt;dbl&gt;</th><th scope=col>&lt;dbl&gt;</th><th scope=col>&lt;dbl&gt;</th><th scope=col>&lt;dbl&gt;</th><th scope=col>&lt;dbl&gt;</th><th scope=col>&lt;dbl&gt;</th><th scope=col>&lt;dbl&gt;</th><th scope=col>&lt;dbl&gt;</th><th scope=col>&lt;dbl&gt;</th><th scope=col>&lt;dbl&gt;</th><th scope=col>&lt;dbl&gt;</th><th scope=col>&lt;dbl&gt;</th><th scope=col>&lt;dbl&gt;</th><th scope=col>&lt;dbl&gt;</th></tr>\n",
       "</thead>\n",
       "<tbody>\n",
       "\t<tr><th scope=row>1</th><td>ENSDARG00000000002</td><td> 320.9390</td><td> 291.2259</td><td> 271.5823</td><td> 360.3755</td><td> 406.0819</td><td> 425.8428</td><td> 275.4685</td><td> 312.9917</td><td> 378.3274</td><td> 340.817</td><td> 369.1428</td><td> 325.4757</td><td> 49.54119</td><td> 339.8559</td><td> 62.22158</td><td> 346.0079</td></tr>\n",
       "\t<tr><th scope=row>2</th><td>ENSDARG00000000018</td><td>2350.4365</td><td>2637.9880</td><td>2317.9232</td><td>1287.4868</td><td>1119.2563</td><td>1275.6401</td><td>2355.9802</td><td>2396.2376</td><td>2258.8071</td><td>1271.768</td><td>1238.7503</td><td>1287.1477</td><td>603.27901</td><td>1816.4518</td><td>673.57960</td><td>1831.4551</td></tr>\n",
       "\t<tr><th scope=row>3</th><td>ENSDARG00000000019</td><td>4204.4044</td><td>4394.3196</td><td>3963.2066</td><td>4834.8702</td><td>4800.9907</td><td>4482.2083</td><td>3596.7964</td><td>3219.6638</td><td>3783.2737</td><td>4902.392</td><td>4674.7409</td><td>4706.8120</td><td>547.64475</td><td>4296.9732</td><td>338.43039</td><td>4446.6666</td></tr>\n",
       "\t<tr><th scope=row>4</th><td>ENSDARG00000000068</td><td> 442.4595</td><td> 471.7461</td><td> 405.2681</td><td>1358.9579</td><td>1362.2305</td><td>1372.8946</td><td> 413.2027</td><td> 416.2004</td><td> 458.4557</td><td>1536.195</td><td>1501.3942</td><td>1616.0951</td><td>539.77782</td><td> 946.2583</td><td>507.03104</td><td> 902.2595</td></tr>\n",
       "\t<tr><th scope=row>5</th><td>ENSDARG00000000069</td><td>2500.0003</td><td>2521.2982</td><td>2326.3444</td><td>2220.6379</td><td>2430.8671</td><td>2415.3126</td><td>2291.9459</td><td>2499.4464</td><td>2591.4918</td><td>2949.830</td><td>2632.8448</td><td>2706.2216</td><td>198.66921</td><td>2507.1867</td><td>112.66024</td><td>2402.4101</td></tr>\n",
       "\t<tr><th scope=row>6</th><td>ENSDARG00000000086</td><td>6870.5867</td><td>7999.7361</td><td>7090.6134</td><td>6553.1970</td><td>7299.3507</td><td>6990.0543</td><td>7755.4035</td><td>8111.9823</td><td>7291.6769</td><td>7471.111</td><td>6695.0170</td><td>7242.9183</td><td>489.21309</td><td>7280.9706</td><td>491.15401</td><td>7133.9230</td></tr>\n",
       "</tbody>\n",
       "</table>\n"
      ],
      "text/latex": [
       "A data.frame: 6 × 17\n",
       "\\begin{tabular}{r|lllllllllllllllll}\n",
       "  & Ensembl\\_ID & Ctrl.01\\_\\_Control & Ctrl.02\\_\\_Control & Ctrl.03\\_\\_Control & Ctrl.04\\_\\_Control & Ctrl.05\\_\\_Control & Ctrl.06\\_\\_Control & NO.01\\_\\_Experimental & NO.02\\_\\_Experimental & NO.03\\_\\_Experimental & NO.04\\_\\_Experimental & NO.05\\_\\_Experimental & NO.06\\_\\_Experimental & Row\\_Standard\\_Deviation & Row\\_Average & Controls\\_Row\\_Standard\\_Deviation & Controls\\_Row\\_Mean\\\\\n",
       "  & <chr> & <dbl> & <dbl> & <dbl> & <dbl> & <dbl> & <dbl> & <dbl> & <dbl> & <dbl> & <dbl> & <dbl> & <dbl> & <dbl> & <dbl> & <dbl> & <dbl>\\\\\n",
       "\\hline\n",
       "\t1 & ENSDARG00000000002 &  320.9390 &  291.2259 &  271.5823 &  360.3755 &  406.0819 &  425.8428 &  275.4685 &  312.9917 &  378.3274 &  340.817 &  369.1428 &  325.4757 &  49.54119 &  339.8559 &  62.22158 &  346.0079\\\\\n",
       "\t2 & ENSDARG00000000018 & 2350.4365 & 2637.9880 & 2317.9232 & 1287.4868 & 1119.2563 & 1275.6401 & 2355.9802 & 2396.2376 & 2258.8071 & 1271.768 & 1238.7503 & 1287.1477 & 603.27901 & 1816.4518 & 673.57960 & 1831.4551\\\\\n",
       "\t3 & ENSDARG00000000019 & 4204.4044 & 4394.3196 & 3963.2066 & 4834.8702 & 4800.9907 & 4482.2083 & 3596.7964 & 3219.6638 & 3783.2737 & 4902.392 & 4674.7409 & 4706.8120 & 547.64475 & 4296.9732 & 338.43039 & 4446.6666\\\\\n",
       "\t4 & ENSDARG00000000068 &  442.4595 &  471.7461 &  405.2681 & 1358.9579 & 1362.2305 & 1372.8946 &  413.2027 &  416.2004 &  458.4557 & 1536.195 & 1501.3942 & 1616.0951 & 539.77782 &  946.2583 & 507.03104 &  902.2595\\\\\n",
       "\t5 & ENSDARG00000000069 & 2500.0003 & 2521.2982 & 2326.3444 & 2220.6379 & 2430.8671 & 2415.3126 & 2291.9459 & 2499.4464 & 2591.4918 & 2949.830 & 2632.8448 & 2706.2216 & 198.66921 & 2507.1867 & 112.66024 & 2402.4101\\\\\n",
       "\t6 & ENSDARG00000000086 & 6870.5867 & 7999.7361 & 7090.6134 & 6553.1970 & 7299.3507 & 6990.0543 & 7755.4035 & 8111.9823 & 7291.6769 & 7471.111 & 6695.0170 & 7242.9183 & 489.21309 & 7280.9706 & 491.15401 & 7133.9230\\\\\n",
       "\\end{tabular}\n"
      ],
      "text/markdown": [
       "\n",
       "A data.frame: 6 × 17\n",
       "\n",
       "| <!--/--> | Ensembl_ID &lt;chr&gt; | Ctrl.01__Control &lt;dbl&gt; | Ctrl.02__Control &lt;dbl&gt; | Ctrl.03__Control &lt;dbl&gt; | Ctrl.04__Control &lt;dbl&gt; | Ctrl.05__Control &lt;dbl&gt; | Ctrl.06__Control &lt;dbl&gt; | NO.01__Experimental &lt;dbl&gt; | NO.02__Experimental &lt;dbl&gt; | NO.03__Experimental &lt;dbl&gt; | NO.04__Experimental &lt;dbl&gt; | NO.05__Experimental &lt;dbl&gt; | NO.06__Experimental &lt;dbl&gt; | Row_Standard_Deviation &lt;dbl&gt; | Row_Average &lt;dbl&gt; | Controls_Row_Standard_Deviation &lt;dbl&gt; | Controls_Row_Mean &lt;dbl&gt; |\n",
       "|---|---|---|---|---|---|---|---|---|---|---|---|---|---|---|---|---|---|\n",
       "| 1 | ENSDARG00000000002 |  320.9390 |  291.2259 |  271.5823 |  360.3755 |  406.0819 |  425.8428 |  275.4685 |  312.9917 |  378.3274 |  340.817 |  369.1428 |  325.4757 |  49.54119 |  339.8559 |  62.22158 |  346.0079 |\n",
       "| 2 | ENSDARG00000000018 | 2350.4365 | 2637.9880 | 2317.9232 | 1287.4868 | 1119.2563 | 1275.6401 | 2355.9802 | 2396.2376 | 2258.8071 | 1271.768 | 1238.7503 | 1287.1477 | 603.27901 | 1816.4518 | 673.57960 | 1831.4551 |\n",
       "| 3 | ENSDARG00000000019 | 4204.4044 | 4394.3196 | 3963.2066 | 4834.8702 | 4800.9907 | 4482.2083 | 3596.7964 | 3219.6638 | 3783.2737 | 4902.392 | 4674.7409 | 4706.8120 | 547.64475 | 4296.9732 | 338.43039 | 4446.6666 |\n",
       "| 4 | ENSDARG00000000068 |  442.4595 |  471.7461 |  405.2681 | 1358.9579 | 1362.2305 | 1372.8946 |  413.2027 |  416.2004 |  458.4557 | 1536.195 | 1501.3942 | 1616.0951 | 539.77782 |  946.2583 | 507.03104 |  902.2595 |\n",
       "| 5 | ENSDARG00000000069 | 2500.0003 | 2521.2982 | 2326.3444 | 2220.6379 | 2430.8671 | 2415.3126 | 2291.9459 | 2499.4464 | 2591.4918 | 2949.830 | 2632.8448 | 2706.2216 | 198.66921 | 2507.1867 | 112.66024 | 2402.4101 |\n",
       "| 6 | ENSDARG00000000086 | 6870.5867 | 7999.7361 | 7090.6134 | 6553.1970 | 7299.3507 | 6990.0543 | 7755.4035 | 8111.9823 | 7291.6769 | 7471.111 | 6695.0170 | 7242.9183 | 489.21309 | 7280.9706 | 491.15401 | 7133.9230 |\n",
       "\n"
      ],
      "text/plain": [
       "  Ensembl_ID         Ctrl.01__Control Ctrl.02__Control Ctrl.03__Control\n",
       "1 ENSDARG00000000002  320.9390         291.2259         271.5823       \n",
       "2 ENSDARG00000000018 2350.4365        2637.9880        2317.9232       \n",
       "3 ENSDARG00000000019 4204.4044        4394.3196        3963.2066       \n",
       "4 ENSDARG00000000068  442.4595         471.7461         405.2681       \n",
       "5 ENSDARG00000000069 2500.0003        2521.2982        2326.3444       \n",
       "6 ENSDARG00000000086 6870.5867        7999.7361        7090.6134       \n",
       "  Ctrl.04__Control Ctrl.05__Control Ctrl.06__Control NO.01__Experimental\n",
       "1  360.3755         406.0819         425.8428         275.4685          \n",
       "2 1287.4868        1119.2563        1275.6401        2355.9802          \n",
       "3 4834.8702        4800.9907        4482.2083        3596.7964          \n",
       "4 1358.9579        1362.2305        1372.8946         413.2027          \n",
       "5 2220.6379        2430.8671        2415.3126        2291.9459          \n",
       "6 6553.1970        7299.3507        6990.0543        7755.4035          \n",
       "  NO.02__Experimental NO.03__Experimental NO.04__Experimental\n",
       "1  312.9917            378.3274            340.817           \n",
       "2 2396.2376           2258.8071           1271.768           \n",
       "3 3219.6638           3783.2737           4902.392           \n",
       "4  416.2004            458.4557           1536.195           \n",
       "5 2499.4464           2591.4918           2949.830           \n",
       "6 8111.9823           7291.6769           7471.111           \n",
       "  NO.05__Experimental NO.06__Experimental Row_Standard_Deviation Row_Average\n",
       "1  369.1428            325.4757            49.54119               339.8559  \n",
       "2 1238.7503           1287.1477           603.27901              1816.4518  \n",
       "3 4674.7409           4706.8120           547.64475              4296.9732  \n",
       "4 1501.3942           1616.0951           539.77782               946.2583  \n",
       "5 2632.8448           2706.2216           198.66921              2507.1867  \n",
       "6 6695.0170           7242.9183           489.21309              7280.9706  \n",
       "  Controls_Row_Standard_Deviation Controls_Row_Mean\n",
       "1  62.22158                        346.0079        \n",
       "2 673.57960                       1831.4551        \n",
       "3 338.43039                       4446.6666        \n",
       "4 507.03104                        902.2595        \n",
       "5 112.66024                       2402.4101        \n",
       "6 491.15401                       7133.9230        "
      ]
     },
     "metadata": {},
     "output_type": "display_data"
    }
   ],
   "source": [
    "\n",
    "# Calculate row standard deviation for columns 2 to 7\n",
    "data$Controls_Row_Standard_Deviation <- apply(numeric_column_controls, 1, sd)\n",
    "\n",
    "# Calculate row mean for columns 2 to 7\n",
    "data$Controls_Row_Mean <- apply(numeric_column_controls, 1, mean)\n",
    "\n",
    "# Print the updated data frame\n",
    "head(data)\n"
   ]
  },
  {
   "cell_type": "markdown",
   "id": "f757a4b4-3188-4327-83dc-a8b87b848fc2",
   "metadata": {},
   "source": [
    "## Write To File:"
   ]
  },
  {
   "cell_type": "markdown",
   "id": "8673551e-70c7-49bc-b791-b185a5992695",
   "metadata": {
    "tags": []
   },
   "source": [
    "In this case, I am writing to a `.tsv` and a `.csv`:"
   ]
  },
  {
   "cell_type": "code",
   "execution_count": 8,
   "id": "d2a77e83-ff53-4a37-9b25-6242d07ce044",
   "metadata": {
    "vscode": {
     "languageId": "r"
    }
   },
   "outputs": [],
   "source": [
    "# Assuming you have a normalized counts data frame named normalized_counts_df\n",
    "\n",
    "# Write to a CSV file in the specified directory\n",
    "write.csv(data, file.path(output_directory, \"Average_And_Standard_Deviation_Using_Normalized_Counts_DEseq2.csv\"), row.names = FALSE)\n",
    "\n",
    "# Write to a TSV file in the specified directory\n",
    "write.table(data, file.path(output_directory, \"Average_And_Standard_Deviation_Using_Normalized_Counts_DEseq2.tsv\"), sep = \"\\t\", row.names = FALSE)\n"
   ]
  },
  {
   "cell_type": "markdown",
   "id": "4dfac295-b352-47d8-bcdd-39fc438f7380",
   "metadata": {},
   "source": [
    "## Session Information:"
   ]
  },
  {
   "cell_type": "code",
   "execution_count": 9,
   "id": "0102f78d-83b7-458b-ace4-d07d6e987e62",
   "metadata": {
    "tags": [],
    "vscode": {
     "languageId": "r"
    }
   },
   "outputs": [
    {
     "data": {
      "text/plain": [
       "R version 4.2.2 (2022-10-31)\n",
       "Platform: x86_64-pc-linux-gnu (64-bit)\n",
       "Running under: Debian GNU/Linux 10 (buster)\n",
       "\n",
       "Matrix products: default\n",
       "BLAS:   /mnt/mfs/cluster/bin/R-4.2.2.10/lib/libRblas.so\n",
       "LAPACK: /mnt/mfs/cluster/bin/R-4.2.2.10/lib/libRlapack.so\n",
       "\n",
       "locale:\n",
       " [1] LC_CTYPE=en_US.UTF-8       LC_NUMERIC=C              \n",
       " [3] LC_TIME=en_US.UTF-8        LC_COLLATE=en_US.UTF-8    \n",
       " [5] LC_MONETARY=en_US.UTF-8    LC_MESSAGES=en_US.UTF-8   \n",
       " [7] LC_PAPER=en_US.UTF-8       LC_NAME=C                 \n",
       " [9] LC_ADDRESS=C               LC_TELEPHONE=C            \n",
       "[11] LC_MEASUREMENT=en_US.UTF-8 LC_IDENTIFICATION=C       \n",
       "\n",
       "attached base packages:\n",
       "[1] stats     graphics  grDevices utils     datasets  methods   base     \n",
       "\n",
       "loaded via a namespace (and not attached):\n",
       " [1] fansi_1.0.4     crayon_1.5.2    digest_0.6.33   utf8_1.2.3     \n",
       " [5] IRdisplay_1.1   repr_1.1.6      lifecycle_1.0.3 jsonlite_1.8.7 \n",
       " [9] evaluate_0.21   pillar_1.9.0    rlang_1.1.1     cli_3.6.1      \n",
       "[13] uuid_1.1-1      vctrs_0.6.3     IRkernel_1.3.2  tools_4.2.2    \n",
       "[17] glue_1.6.2      fastmap_1.1.1   compiler_4.2.2  base64enc_0.1-3\n",
       "[21] pbdZMQ_0.3-10   htmltools_0.5.6"
      ]
     },
     "metadata": {},
     "output_type": "display_data"
    }
   ],
   "source": [
    "sessionInfo()"
   ]
  }
 ],
 "metadata": {
  "kernelspec": {
   "display_name": "R",
   "language": "R",
   "name": "ir"
  },
  "language_info": {
   "codemirror_mode": "r",
   "file_extension": ".r",
   "mimetype": "text/x-r-source",
   "name": "R",
   "pygments_lexer": "r",
   "version": "4.2.2"
  }
 },
 "nbformat": 4,
 "nbformat_minor": 5
}
