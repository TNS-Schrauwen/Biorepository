{
 "cells": [
  {
   "cell_type": "markdown",
   "id": "0d17070f-09cf-48ea-a4b9-577d99a1eedd",
   "metadata": {},
   "source": [
    "# Filtering By Proportion"
   ]
  },
  {
   "cell_type": "markdown",
   "id": "1a405da3-0799-4e6c-a7ff-920f6aad3154",
   "metadata": {},
   "source": [
    "This `ipynb` does 3 filtration substeps all a part of basic pre-filtration used to create the basic pre-filtered files used as an input for REDITs.\n",
    "\n",
    "**Basic Filterations Defined (The Filteration Is Done Primarily In The Part 1 and Part 2 ipynb):**\n",
    "\n",
    "The original dataframe is the MergedSamplesIntoOneTable/Merged_Part_2___MergedSamples.tsv file created in the previous step.\n",
    "* The 0th Filteration is where all rows (Region & Position) where there is no editing for any sample are removed where the sum of proportions is 0.\n",
    "* The 1st Filteration is where we keep rows where at least one value in the selected columns is greater than 0.1 (remove rows where all values are less than or equal to 0.1).\n",
    "* The 2nd Filteration is where at least 1 value In The proportion columns is less than 0.9 (removed rows where all values are greater than or equal to 0.9)."
   ]
  },
  {
   "cell_type": "markdown",
   "id": "a081106f-b120-4934-95e4-45b28b05c765",
   "metadata": {},
   "source": [
    "## Define Input Path And Load File:"
   ]
  },
  {
   "cell_type": "markdown",
   "id": "1a95050b-a4a3-44ed-8d5f-28b1c8583623",
   "metadata": {},
   "source": [
    "\n",
    "Give the full path to `/Step_3___RenamingRelevantColumns_And_MergingIntoOneTable/Part_2___MergedAllSampleTSVsIntoOneTable/ Part_2*.tsv` where the * is a wild card.\n"
   ]
  },
  {
   "cell_type": "code",
   "execution_count": null,
   "id": "cc5b68a3-fe29-40d6-ad8b-83c5ba427711",
   "metadata": {
    "vscode": {
     "languageId": "r"
    }
   },
   "outputs": [],
   "source": [
    "\n",
    "file_path <- \"/path/to/Step_03___RenamingRelevantColumns_And_MergingIntoOneDataSet/Part_2___MergedAllSampleTSVsIntoOneTable/Merged_Part_2___MergedSamples.tsv\"\n"
   ]
  },
  {
   "cell_type": "markdown",
   "id": "3a1c49ee-3f31-42cb-a282-d359f1e7c833",
   "metadata": {},
   "source": [
    "### Check the file path exists:"
   ]
  },
  {
   "cell_type": "code",
   "execution_count": null,
   "id": "dc68fca6-f742-47c9-ac74-914a1bf012ae",
   "metadata": {
    "vscode": {
     "languageId": "r"
    }
   },
   "outputs": [],
   "source": [
    "if (file.exists(file_path)) {\n",
    "  cat(\"*TSV Path:*\", file_path, \"\\n\")\n",
    "} else {\n",
    "  cat(\"The file does not exist. Quiting . . .\\n\")\n",
    "  q(\"no\", status = 0, runLast = FALSE)\n",
    "}"
   ]
  },
  {
   "cell_type": "markdown",
   "id": "96376327-7989-4827-9649-ba8f3ff2b578",
   "metadata": {},
   "source": [
    "### Read in the tsv file"
   ]
  },
  {
   "cell_type": "code",
   "execution_count": null,
   "id": "57091474-96f2-4b42-a9f9-ed3cf3b0db6e",
   "metadata": {
    "vscode": {
     "languageId": "r"
    }
   },
   "outputs": [],
   "source": [
    "# Read the TSV file into a data frame\n",
    "df <- read.table(file_path,\n",
    "                 header = TRUE,\n",
    "                 sep = \"\\t\",\n",
    "                 stringsAsFactors = FALSE)"
   ]
  },
  {
   "cell_type": "markdown",
   "id": "b1bd3362-3263-46d8-ab7e-59feb93500a4",
   "metadata": {},
   "source": [
    "### Get The Number Of Rows In Df:"
   ]
  },
  {
   "cell_type": "markdown",
   "id": "4a0e2998-20fe-4eec-b9cc-338bc9fdb398",
   "metadata": {},
   "source": [
    "Knowing the number of rows in the original file will help when looking at summary statistics."
   ]
  },
  {
   "cell_type": "code",
   "execution_count": null,
   "id": "7ccb922f-fda5-42ac-8e2b-3f7f0d9f25b6",
   "metadata": {
    "vscode": {
     "languageId": "r"
    }
   },
   "outputs": [],
   "source": [
    "\n",
    "number_of_rows_in_df <- nrow(df)\n"
   ]
  },
  {
   "cell_type": "markdown",
   "id": "d9411178-0a8e-4537-b97f-71305b6effd6",
   "metadata": {},
   "source": [
    "### View The Header Of The File:"
   ]
  },
  {
   "cell_type": "code",
   "execution_count": null,
   "id": "45a1fa3d",
   "metadata": {
    "vscode": {
     "languageId": "r"
    }
   },
   "outputs": [],
   "source": [
    "\n",
    "head(df)\n"
   ]
  },
  {
   "cell_type": "markdown",
   "id": "57d1fbf3",
   "metadata": {},
   "source": [
    "## Create The Main Output Folder Relative To The Input Path:"
   ]
  },
  {
   "cell_type": "code",
   "execution_count": null,
   "id": "5e0bd842",
   "metadata": {
    "vscode": {
     "languageId": "r"
    }
   },
   "outputs": [],
   "source": [
    "\n",
    "# Define the output subfolder name\n",
    "output_subfolder <- \"Step_04___FiltrationViaProportion___BasicPreFiltration\"\n",
    "\n",
    "# Create the output folder path (going three levels up)\n",
    "output_folder <- file.path(dirname(dirname(dirname(file_path))), output_subfolder)\n",
    "\n",
    "# Create the output folder if it doesn't exist\n",
    "if (!file.exists(output_folder)) {\n",
    "  dir.create(output_folder, recursive = TRUE)\n",
    "}\n",
    "\n",
    "# Print the path to the output folder\n",
    "cat(\"*Main Output Directory:*\", output_folder, \"\\n\")\n"
   ]
  },
  {
   "cell_type": "markdown",
   "id": "34c5af5f-9783-4535-b641-d4f09af70192",
   "metadata": {},
   "source": [
    "## Select For Proportion Columns Ending With `_Edited_Count_Proportion`"
   ]
  },
  {
   "cell_type": "code",
   "execution_count": null,
   "id": "eae50ed4-9dd3-4316-8b21-fed527a63e3b",
   "metadata": {
    "vscode": {
     "languageId": "r"
    }
   },
   "outputs": [],
   "source": [
    "\n",
    "selected_columns <- grep(\"_Edited_Count_Proportion$\", names(df), value = TRUE)\n",
    "\n",
    "# Print the selected columns\n",
    "print(selected_columns)"
   ]
  },
  {
   "cell_type": "markdown",
   "id": "cbd2c729-c876-4283-a57c-bd0d86236afd",
   "metadata": {},
   "source": [
    "### Library"
   ]
  },
  {
   "cell_type": "code",
   "execution_count": null,
   "id": "6c757a3a-0eb3-4f06-ac20-6860a2dc8b70",
   "metadata": {
    "vscode": {
     "languageId": "r"
    }
   },
   "outputs": [],
   "source": [
    "library(dplyr)"
   ]
  },
  {
   "cell_type": "markdown",
   "id": "6625281f-d946-4582-9d57-d95bcb94b627",
   "metadata": {},
   "source": [
    "It seems to have issues with filteration and this may be due to not seeing numbers as numeric so I will force it to see it as numeric in the hopes that this will help with filteration."
   ]
  },
  {
   "cell_type": "code",
   "execution_count": null,
   "id": "137a1cc8-66d1-468b-9a93-452c45e14eae",
   "metadata": {
    "vscode": {
     "languageId": "r"
    }
   },
   "outputs": [],
   "source": [
    "\n",
    "df <- df %>%\n",
    "  mutate(across(-Region_Position, as.numeric))\n",
    "\n",
    "# Print the updated data frame\n",
    "head(df)\n"
   ]
  },
  {
   "cell_type": "markdown",
   "id": "e599ed29-7914-4529-9a16-72914b39b95f",
   "metadata": {},
   "source": [
    "## Sum Of Proportions:"
   ]
  },
  {
   "cell_type": "markdown",
   "id": "acb2d129-6bec-4adc-8b99-d4f5ddd125e0",
   "metadata": {},
   "source": [
    "This is a sum of the proportions of the edited proportions. It is stored in a column."
   ]
  },
  {
   "cell_type": "code",
   "execution_count": null,
   "id": "fb249c89-5c23-4390-9238-b07cab531f85",
   "metadata": {
    "vscode": {
     "languageId": "r"
    }
   },
   "outputs": [],
   "source": [
    "\n",
    "df <- df %>%\n",
    "  mutate(Sum_Of_Proportions = rowSums(select(df, all_of(selected_columns))))\n",
    "\n",
    "# Print the updated data frame with the new column\n",
    "head(df)\n"
   ]
  },
  {
   "cell_type": "markdown",
   "id": "28c192c4-ad54-4060-854d-d84606b55cfc",
   "metadata": {},
   "source": [
    "## Remove Zeros Where The Sum Of Proportions Equals 0:"
   ]
  },
  {
   "cell_type": "markdown",
   "id": "552eb0d6-1beb-498b-b9ec-4422b62cd902",
   "metadata": {},
   "source": [
    "Filter rows where Sum_Of_Proportions is equal to 0. This is to remove all the rows where there is no editing at all."
   ]
  },
  {
   "cell_type": "code",
   "execution_count": null,
   "id": "40c37f9e-10ec-4795-8cb0-aae5233dde95",
   "metadata": {
    "vscode": {
     "languageId": "r"
    }
   },
   "outputs": [],
   "source": [
    "# Filter rows where Sum_Of_Proportions is equal to 0\n",
    "df_zeros_removed <- df %>%\n",
    "  filter(Sum_Of_Proportions != 0)\n",
    "\n",
    "# Print the filtered data frame\n",
    "head(df_zeros_removed)\n"
   ]
  },
  {
   "cell_type": "markdown",
   "id": "3406bd80-034c-4082-a2b7-3774d38149cd",
   "metadata": {},
   "source": [
    "### Get The Number Of Rows In Dataframe Where Sum Of Proportions == 0 Is Removed"
   ]
  },
  {
   "cell_type": "code",
   "execution_count": null,
   "id": "f923efb5-f3c8-43e8-a374-a29b0f6b8c18",
   "metadata": {
    "vscode": {
     "languageId": "r"
    }
   },
   "outputs": [],
   "source": [
    "number_of_rows_in_df_zeros_removed <- nrow(df_zeros_removed)"
   ]
  },
  {
   "cell_type": "markdown",
   "id": "a2c3a02c-3982-4353-9d06-0867b7c2a7f1",
   "metadata": {},
   "source": [
    "## Filter To Remove Rows With Proportion Less Or Equal To 0.1"
   ]
  },
  {
   "cell_type": "markdown",
   "id": "2224e58a-e070-460a-a00b-4bc7b0ed6729",
   "metadata": {},
   "source": [
    "\n",
    "Keep rows where at least one value in the selected columns is greater than 0.1 (remove rows where all values are less than or equal to 0.1)\n"
   ]
  },
  {
   "cell_type": "code",
   "execution_count": null,
   "id": "98697f9d-13a2-48c9-b12e-5405b2dc67e4",
   "metadata": {
    "vscode": {
     "languageId": "r"
    }
   },
   "outputs": [],
   "source": [
    "# Keep rows where at least one value in the selected columns is greater than 0.1\n",
    "## Remove rows where all values are less than or equal to 0.1\n",
    "\n",
    "filtered_df <- df_zeros_removed %>%\n",
    "  filter(!if_all(all_of(selected_columns), ~ . <= 0.1))\n",
    "\n",
    "# Print the filtered data frame\n",
    "head(filtered_df)"
   ]
  },
  {
   "cell_type": "markdown",
   "id": "8fde1b8f-a6f2-4da7-856a-86eaad641195",
   "metadata": {},
   "source": [
    "### Get The Number Of Rows In The Dataframe Where At Least 1 Value In The Proportion Columns Is Greater Than 0.1 (Removed Rows Where All Values Are Less Than Or Equal To 0.1)"
   ]
  },
  {
   "cell_type": "markdown",
   "id": "2697b3cc-21fa-4989-96c9-a0289bc76f46",
   "metadata": {},
   "source": [
    "The number of rows in this filteration will be useful for summary statistics."
   ]
  },
  {
   "cell_type": "code",
   "execution_count": null,
   "id": "242df1ab-9dfc-48f9-bd70-68390fca5cf7",
   "metadata": {
    "vscode": {
     "languageId": "r"
    }
   },
   "outputs": [],
   "source": [
    "number_of_rows_first_filtration <- nrow(filtered_df)"
   ]
  },
  {
   "cell_type": "markdown",
   "id": "81f42739-88e0-4199-9564-a85ab4e3b589",
   "metadata": {},
   "source": [
    "## Filter To Remove Rows With Proportion Greater Than Or Equal To 0.9 In All Proportions Columns:"
   ]
  },
  {
   "cell_type": "code",
   "execution_count": null,
   "id": "a6914baf-c45b-401f-b772-e56f14d38890",
   "metadata": {
    "vscode": {
     "languageId": "r"
    }
   },
   "outputs": [],
   "source": [
    "\n",
    "# Keep rows where at least one value in the selected columns is less than or equal to 0.9\n",
    "## Remove rows where all values are greater than 0.9 for the proportions column\n",
    "\n",
    "second_filtered_df <- filtered_df %>%\n",
    "  filter(!if_all(all_of(selected_columns), ~ . >= 0.9))\n",
    "\n",
    "# Print the second filtered data frame\n",
    "head(second_filtered_df)\n"
   ]
  },
  {
   "cell_type": "markdown",
   "id": "c736dc5a-b74c-4df9-970d-698d2e5752e3",
   "metadata": {},
   "source": [
    "### Get The Number Of Rows In The Dataframe Where At Least 1 Value In The Proportion Columns Is Less Than 0.9 (Removed Rows Where All Values Are Greater Than Or Equal To 0.9)"
   ]
  },
  {
   "cell_type": "markdown",
   "id": "88644397-3d68-49c1-8097-73eb0968e4a1",
   "metadata": {},
   "source": [
    "The number of rows in this filteration will be useful for summary statistics."
   ]
  },
  {
   "cell_type": "code",
   "execution_count": null,
   "id": "cb6aafcb-2b92-42a1-af55-8cbe0760b1c3",
   "metadata": {
    "vscode": {
     "languageId": "r"
    }
   },
   "outputs": [],
   "source": [
    "\n",
    "number_of_rows_second_filtration <- nrow(second_filtered_df)\n"
   ]
  },
  {
   "cell_type": "markdown",
   "id": "e1dac5b0-1eb9-4b0b-8a3b-56a546dd77bb",
   "metadata": {},
   "source": [
    "## Summary Statistics:"
   ]
  },
  {
   "cell_type": "markdown",
   "id": "63589934-28f5-4715-a9b5-4e2f4318f983",
   "metadata": {},
   "source": [
    "The number of rows per filteration dataframe were collected to have some summary statistics."
   ]
  },
  {
   "cell_type": "code",
   "execution_count": null,
   "id": "282d0473-91bd-46c7-be73-463bf46d19bd",
   "metadata": {
    "vscode": {
     "languageId": "r"
    }
   },
   "outputs": [],
   "source": [
    "\n",
    "# Get the number rows in the original dataframe\n",
    "cat(\"**Number Of Rows In Original Dataframe:**\", number_of_rows_in_df, \"\\n\")\n",
    "\n",
    "# Calculate the difference between the original dataframe and the zeros removed filteration (the 0th filteration)\n",
    "cat(\"**Number Of Rows In Dataframe With Zeros Removed:**\", number_of_rows_in_df_zeros_removed, \"\\n\")\n",
    "diff_1 <- number_of_rows_in_df - number_of_rows_in_df_zeros_removed\n",
    "percent_diff_1 <- (diff_1 / number_of_rows_in_df) * 100\n",
    "cat(\"*Difference From Original:*\", diff_1, \"\\n*Percentage Difference:*\", percent_diff_1, \"%\\n\\n\")\n",
    "\n",
    "# Calculate the difference between the zeros removed filteration (0th filteration) and the first filteration\n",
    "cat(\"**Number Of Rows In The Dataframe Where At Least 1 Value In The Proportion Columns Is Greater Than 0.1 (Removed Rows Where All Proportions Are Less Than Or Equal To 0.1):**\", number_of_rows_first_filtration, \"\\n\")\n",
    "diff_2 <- number_of_rows_in_df_zeros_removed - number_of_rows_first_filtration\n",
    "percent_diff_2 <- (diff_2 / number_of_rows_in_df_zeros_removed) * 100\n",
    "cat(\"*Difference Between Filteration 0 And The First Filteration:*\", diff_2, \"\\n*Percentage Difference:*\", percent_diff_2, \"%\\n\\n\")\n",
    "\n",
    "# Calculate the difference between the first and second filteration\n",
    "cat(\"**Number Of Rows In The Dataframe Where At Least 1 Value In The Proportion Columns Is Less Than 0.9 (Removed Rows Where All Values Are Greater Than Or Equal To 0.9):**\", number_of_rows_second_filtration, \"\\n\")\n",
    "diff_3 <- number_of_rows_first_filtration - number_of_rows_second_filtration\n",
    "percent_diff_3 <- (diff_3 / number_of_rows_second_filtration) * 100\n",
    "cat(\"*Difference Between Second Filteration And First Filteration:*\", diff_3, \"\\n*Percentage Difference:*\", percent_diff_3, \"%\\n\\n\")\n",
    "\n",
    "# Calculate the difference after all the filteration from the original dataframe\n",
    "diff_4 <- number_of_rows_in_df - number_of_rows_second_filtration\n",
    "percent_diff_4 <- (diff_4 / number_of_rows_in_df) * 100\n",
    "cat(\"**Difference Between Number Of Rows In Original Dataframe and Second/Last Filteration:**\", diff_4, \"\\n\")\n",
    "cat(\"*Percentage Difference:*\", percent_diff_4, \"%\\n\")\n",
    "\n"
   ]
  },
  {
   "cell_type": "markdown",
   "id": "5ff0be02-a279-4a05-9904-d352c8d6387b",
   "metadata": {},
   "source": [
    "## Write The Dataframe With Proportions (The Second Filteration Dataframe)"
   ]
  },
  {
   "cell_type": "markdown",
   "id": "9ebce756-704e-4d0e-9413-d02ce8c3b495",
   "metadata": {},
   "source": [
    "Write the dataframe with proportions to a part 1 folder as a `csv` and a `tsv`."
   ]
  },
  {
   "cell_type": "code",
   "execution_count": null,
   "id": "abc7a68f-1530-45e7-92ca-f1d0f64ee6db",
   "metadata": {
    "vscode": {
     "languageId": "r"
    }
   },
   "outputs": [],
   "source": [
    "# Create the output subfolder within output_folder\n",
    "subfolder_name <- \"Part_1___Filtered_Proportions\"\n",
    "subfolder_path <- file.path(output_folder, subfolder_name)\n",
    "\n",
    "# Create the subfolder if it doesn't exist\n",
    "if (!file.exists(subfolder_path)) {\n",
    "  dir.create(subfolder_path, recursive = TRUE)\n",
    "}\n",
    "\n",
    "# Print the path to the output subfolder\n",
    "cat(\"*Part 1 Filtered Tables With Proportions Folder:*\", subfolder_path, \"\\n\")\n",
    "\n",
    "# Write main_df to a TSV file in the subfolder\n",
    "tsv_file_path <- file.path(subfolder_path, \"Part_1___Proportions_Filtered.tsv\")\n",
    "write.table(second_filtered_df, file = tsv_file_path, sep = \"\\t\", quote = FALSE, row.names = FALSE)\n",
    "\n",
    "# Write main_df to a CSV file in the subfolder\n",
    "csv_file_path <- file.path(subfolder_path, \"Part_1___Proportions_Filtered.csv\")\n",
    "write.csv(second_filtered_df, file = csv_file_path, quote = FALSE, row.names = FALSE)\n"
   ]
  },
  {
   "cell_type": "markdown",
   "id": "fd985348-c476-483b-8c85-a3ecccc136a9",
   "metadata": {},
   "source": [
    "## Remove Sum Of Proportions Column"
   ]
  },
  {
   "cell_type": "code",
   "execution_count": null,
   "id": "8508a895-5937-4b5e-a8a9-9f333ca4ba5a",
   "metadata": {
    "vscode": {
     "languageId": "r"
    }
   },
   "outputs": [],
   "source": [
    "\n",
    "main_df <- select(second_filtered_df, -Sum_Of_Proportions)\n",
    "\n",
    "# Print the main data frame\n",
    "head(main_df)\n"
   ]
  },
  {
   "cell_type": "markdown",
   "id": "7d4774ab-dce2-4f01-bb61-7c0822041744",
   "metadata": {},
   "source": [
    "## Remove Per Sample Proportions Columns And Write To Files:"
   ]
  },
  {
   "cell_type": "code",
   "execution_count": null,
   "id": "75050697-d1d3-4f3d-ae6b-45dd224ed3c6",
   "metadata": {
    "vscode": {
     "languageId": "r"
    }
   },
   "outputs": [],
   "source": [
    "\n",
    "main_df_without_proportions <- select(main_df, -all_of(selected_columns))\n",
    "\n",
    "# Print the updated data frame\n",
    "head(main_df_without_proportions)\n"
   ]
  },
  {
   "cell_type": "markdown",
   "id": "9d7adc37-0251-411e-b400-5d4e670003bb",
   "metadata": {},
   "source": [
    "Write the dataframe without proportions to a part 2 folder as a `csv` and a `tsv`."
   ]
  },
  {
   "cell_type": "code",
   "execution_count": null,
   "id": "27637a5a-7a77-4f55-8f04-7acf7ae24c60",
   "metadata": {
    "vscode": {
     "languageId": "r"
    }
   },
   "outputs": [],
   "source": [
    "# Create the subfolder within output_folder\n",
    "subfolder_name <- \"Part_2___FilteredTablesWithoutProportion\"\n",
    "subfolder_path <- file.path(output_folder, subfolder_name)\n",
    "\n",
    "# Create the subfolder if it doesn't exist\n",
    "if (!file.exists(subfolder_path)) {\n",
    "  dir.create(subfolder_path, recursive = TRUE)\n",
    "}\n",
    "\n",
    "# Print the path to the output subfolder\n",
    "cat(\"*Part 2 Filtered Tables Without Proportions Folder:*\", subfolder_path, \"\\n\")\n",
    "\n",
    "# Write main_df to a TSV file in the subfolder\n",
    "tsv_file_path <- file.path(subfolder_path, \"Part_2___Filtered_Without_Proportions.tsv\")\n",
    "write.table(main_df_without_proportions, file = tsv_file_path, sep = \"\\t\", quote = FALSE, row.names = FALSE)\n",
    "\n",
    "# Write main_df to a CSV file in the subfolder\n",
    "csv_file_path <- file.path(subfolder_path, \"Part_2___Filtered_Without_Proportions.csv\")\n",
    "write.csv(main_df_without_proportions, file = csv_file_path, quote = FALSE, row.names = FALSE)\n"
   ]
  },
  {
   "cell_type": "markdown",
   "id": "34106c50-264b-44a7-a050-70190eff0ea5",
   "metadata": {},
   "source": [
    "## Session Information"
   ]
  },
  {
   "cell_type": "code",
   "execution_count": null,
   "id": "1eb4560e-5a5f-467d-8ce0-cd0e894e399e",
   "metadata": {
    "vscode": {
     "languageId": "r"
    }
   },
   "outputs": [],
   "source": [
    "\n",
    "cat(\"\\n\\n**Session Information:**\\n\\n\")\n",
    "\n",
    "sessionInfo()\n"
   ]
  }
 ],
 "metadata": {
  "kernelspec": {
   "display_name": "R",
   "language": "R",
   "name": "ir"
  },
  "language_info": {
   "codemirror_mode": "r",
   "file_extension": ".r",
   "mimetype": "text/x-r-source",
   "name": "R",
   "pygments_lexer": "r",
   "version": "4.2.2"
  }
 },
 "nbformat": 4,
 "nbformat_minor": 5
}
