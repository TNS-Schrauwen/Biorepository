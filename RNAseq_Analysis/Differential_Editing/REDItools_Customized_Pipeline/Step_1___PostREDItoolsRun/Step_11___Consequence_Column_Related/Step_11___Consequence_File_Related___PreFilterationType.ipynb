{
 "cells": [
  {
   "cell_type": "markdown",
   "id": "8e68758f-5d96-4e6d-906e-f5d83caa0676",
   "metadata": {},
   "source": [
    "# Step 11: Consequence File Related (PreFiltration_Type)"
   ]
  },
  {
   "cell_type": "markdown",
   "id": "b84f1f1f-b422-4c44-924a-1d84165b0b64",
   "metadata": {},
   "source": [
    "## Inputs:"
   ]
  },
  {
   "cell_type": "code",
   "execution_count": null,
   "id": "fb13ef51-04d3-4a2f-83a0-575fe755ba94",
   "metadata": {
    "vscode": {
     "languageId": "r"
    }
   },
   "outputs": [],
   "source": [
    "\n",
    "# Actual visual file path (Step 10 Removal Of DBsnpSites Tsv File)\n",
    "file_path <- \"/path/to/Step_10___RemovalOfAllDBsnpSitesFromBisualFile/PreFiltration_Type/Step_10___Removed_TabSeparatedFileRows_AKA_DBsnpSitesFileRows.tsv\"\n",
    "\n",
    "# Actual path to your consequence file generated with most severe flag\n",
    "consequence_file_path <- \"/path/to/Step_09___RemovingLinesBeforeColumnNames/PreFiltration_Type/A___Most_Severe_Flag_Added/RemovedLinesBeforeColumnNames_S82a___MostSevereFlagAdded___.txt\"\n",
    "\n",
    "# Define output variables\n",
    "output_directory <- \"/path/to/Step_11___Consequence_Column_Related/PreFiltration_Type\"\n",
    "\n",
    "# Choose a descriptor of your choice:\n",
    "File_BaseName <- \"DescriptorOfYourChoice___PreFiltration_Type\"\n"
   ]
  },
  {
   "cell_type": "markdown",
   "id": "a7664900-d308-4bee-9c45-0e2250d49b4f",
   "metadata": {},
   "source": [
    "## Check Provided Paths/Etc. Exist And Create Prefixes Per Part:"
   ]
  },
  {
   "cell_type": "code",
   "execution_count": null,
   "id": "6a816897-7862-4cab-ac51-09dd75470c7a",
   "metadata": {
    "vscode": {
     "languageId": "r"
    }
   },
   "outputs": [],
   "source": [
    "# Check if the visual file exists on path\n",
    "if (file.exists(file_path)) {\n",
    "  cat(\"\\n*TSV File Path:*\", file_path, \"\\n\")\n",
    "} else {\n",
    "  cat(\"File does not exist. Please provide a valid file path.\\n\")\n",
    "}\n",
    "\n",
    "# Check if the consequence file exists\n",
    "if (file.exists(consequence_file_path)) {\n",
    "  cat(\"\\n*Consequence File Path:*\", consequence_file_path, \"\\n\")\n",
    "} else {\n",
    "  cat(\"Consequence file does not exist. Please provide a valid file path.\\n\")\n",
    "}\n",
    "\n",
    "# Check if the output directory exists\n",
    "if (dir.exists(output_directory)) {\n",
    "  cat(\"\\n*Output Directory:*\", output_directory, \"\\n\")\n",
    "} else {\n",
    "  cat(\"Output directory does not exist. Please provide a valid directory path.\\n\")\n",
    "}\n",
    "\n",
    "# Check if File_BaseName is a non-empty string\n",
    "if (nchar(File_BaseName) == 0) {\n",
    "  cat(\"\\n\\n\\n\\n****Error: File_BaseName is an empty string. Please provide a non-empty base name.****\\n\\n\")\n",
    "  # Add any necessary steps to handle the error or exit the script\n",
    "} else {\n",
    "  cat(\"\\n*File_BaseName:*\", File_BaseName, \"\\n\\n\")\n",
    "}"
   ]
  },
  {
   "cell_type": "markdown",
   "id": "310b445e-2e6c-43ea-81e5-cbcfcbc8705e",
   "metadata": {},
   "source": [
    "### Print Prefix And Stem Name For Each Part"
   ]
  },
  {
   "cell_type": "code",
   "execution_count": null,
   "id": "0ddf197b-62c2-40fb-8a3c-136352c4d46a",
   "metadata": {
    "vscode": {
     "languageId": "r"
    }
   },
   "outputs": [],
   "source": [
    "# Create the modified prefixes for each part separately\n",
    "Part_0___Prefix <- paste0(\"\\\"Part_0___\", File_BaseName, \"___\\\"\")\n",
    "Part_1___Prefix <- paste0(\"\\\"Part_1___\", File_BaseName, \"___\\\"\")\n",
    "Part_2___Prefix <- paste0(\"\\\"Part_2___\", File_BaseName, \"___\\\"\")\n",
    "Part_3___Prefix <- paste0(\"\\\"Part_3___\", File_BaseName, \"___\\\"\")\n",
    "Part_4___Prefix <- paste0(\"\\\"Part_4___\", File_BaseName, \"___\\\"\")\n",
    "\n",
    "# Print statements indicating the purpose\n",
    "cat(\"*Prefix for Part 0:* \", Part_0___Prefix, \"\\n\")\n",
    "cat(\"*Prefix for Part 1:* \", Part_1___Prefix, \"\\n\")\n",
    "cat(\"*Prefix for Part 2:* \", Part_2___Prefix, \"\\n\")\n",
    "cat(\"*Prefix for Part 3:* \", Part_3___Prefix, \"\\n\")\n",
    "cat(\"*Prefix for Part 4:* \", Part_4___Prefix, \"\\n\")\n"
   ]
  },
  {
   "cell_type": "markdown",
   "id": "acfd04da-feed-4722-a844-cc35fdc2b101",
   "metadata": {},
   "source": [
    "## Read In File:"
   ]
  },
  {
   "cell_type": "code",
   "execution_count": null,
   "id": "2646b887-a2d5-4553-aec9-49383e3453a9",
   "metadata": {
    "vscode": {
     "languageId": "r"
    }
   },
   "outputs": [],
   "source": [
    "\n",
    "# Read the TSV file\n",
    "data <- read.table(file_path, sep = '\\t', header = TRUE)\n",
    "\n",
    "# View the first six rows of the data\n",
    "head(data)\n"
   ]
  },
  {
   "cell_type": "markdown",
   "id": "82bffea1-2790-4bba-8ce3-eae2a4873e9a",
   "metadata": {},
   "source": [
    "## Read In Consequence File:"
   ]
  },
  {
   "cell_type": "code",
   "execution_count": null,
   "id": "12b7ea85-a01c-4aa4-b039-ee1ddad004bb",
   "metadata": {
    "vscode": {
     "languageId": "r"
    }
   },
   "outputs": [],
   "source": [
    "# Read the header separately\n",
    "header <- readLines(consequence_file_path, n = 1)\n",
    "header <- gsub(\"^#\", \"\", header)\n",
    "column_names <- strsplit(header, '\\t')[[1]]\n",
    "\n",
    "# Read the rest of the data skipping lines starting with '#'\n",
    "consequence_data <- read.table(consequence_file_path, header = FALSE, sep = '\\t', comment.char = '#', skip = 1, col.names = column_names)\n",
    "\n",
    "# View the first six rows of the data\n",
    "head(consequence_data)"
   ]
  },
  {
   "cell_type": "markdown",
   "id": "814a685e-61df-456f-9de3-288b543fda4a",
   "metadata": {},
   "source": [
    "### Remove Allele, Impact, Symbol, Gene, Feature_type, Feature, Biotype, cDNA_position, CDS_position, Protein_position, Amino_acids, Codons, Existing_variation & Extra Columns"
   ]
  },
  {
   "cell_type": "code",
   "execution_count": null,
   "id": "2c9e3376-9e6d-4401-b2c9-e175bd89b57f",
   "metadata": {
    "vscode": {
     "languageId": "r"
    }
   },
   "outputs": [],
   "source": [
    "# Subset the data frame to keep only specified columns\n",
    "consequence_data_subset <- consequence_data[c(\"Uploaded_variation\", \"Location\", \"Consequence\")]\n",
    "\n",
    "# View the first six rows of the subsetted data\n",
    "head(consequence_data_subset)\n"
   ]
  },
  {
   "cell_type": "markdown",
   "id": "9b2e6b1e-6f6a-4793-b1be-31dea190833d",
   "metadata": {},
   "source": [
    "## Libraries:"
   ]
  },
  {
   "cell_type": "code",
   "execution_count": null,
   "id": "1d6302db-27a4-44b1-ada8-71afe188ecd6",
   "metadata": {
    "vscode": {
     "languageId": "r"
    }
   },
   "outputs": [],
   "source": [
    "\n",
    "library(dplyr)\n",
    "library(stringr)\n",
    "library(tidyr)\n"
   ]
  },
  {
   "cell_type": "markdown",
   "id": "2087040d-ef25-4049-93b2-6e6b443ae1b1",
   "metadata": {},
   "source": [
    "### Split Uploaded_variation Column By Underscore"
   ]
  },
  {
   "cell_type": "code",
   "execution_count": null,
   "id": "90aff69f-c4c6-4b04-bd41-0e1d65d6834d",
   "metadata": {
    "vscode": {
     "languageId": "r"
    }
   },
   "outputs": [],
   "source": [
    "# Replace 'consequence_data_subset' with your actual data frame\n",
    "consequence_data_subset$Uploaded_variation <- as.character(consequence_data_subset$Uploaded_variation)\n",
    "\n",
    "# Split the \"Uploaded_variation\" column\n",
    "split_variation <- str_split(consequence_data_subset$Uploaded_variation, \"_\", simplify = TRUE)\n",
    "\n",
    "# Add new columns for chromosome, position, and RefAlt to the existing data frame\n",
    "consequence_data_subset$Chromosome <- split_variation[, 1]\n",
    "consequence_data_subset$Position <- split_variation[, 2]\n",
    "consequence_data_subset$RefAlt <- split_variation[, 3]\n",
    "\n",
    "# View the updated data frame\n",
    "head(consequence_data_subset)"
   ]
  },
  {
   "cell_type": "code",
   "execution_count": null,
   "id": "ef08d669-08cc-452b-b102-b5e77937a64e",
   "metadata": {
    "vscode": {
     "languageId": "r"
    }
   },
   "outputs": [],
   "source": [
    "# Remove specific columns\n",
    "consequence_data_subset <- subset(consequence_data_subset, select = -c(Uploaded_variation, Location, RefAlt))\n",
    "\n",
    "# View the updated data frame\n",
    "head(consequence_data_subset)\n"
   ]
  },
  {
   "cell_type": "markdown",
   "id": "58dbf804-f655-4375-ae2a-d1171965f66f",
   "metadata": {},
   "source": [
    "### See The Unique Strings In The Consequence Columns:"
   ]
  },
  {
   "cell_type": "code",
   "execution_count": null,
   "id": "79f5dcef-cb75-4400-8e1d-3cf7d8bbc598",
   "metadata": {
    "vscode": {
     "languageId": "r"
    }
   },
   "outputs": [],
   "source": [
    "# Replace 'consequence_data_subset' with your actual data frame\n",
    "unique_consequences <- unique(consequence_data_subset$Consequence)\n",
    "\n",
    "# Print the unique strings\n",
    "cat(\"*Unique Consequences:*\\n\", unique_consequences, sep = \"\\n\")"
   ]
  },
  {
   "cell_type": "markdown",
   "id": "1f62cfcf-a71a-443f-9c04-eb722f52bbd8",
   "metadata": {},
   "source": [
    "### Make An Impact Column:"
   ]
  },
  {
   "cell_type": "code",
   "execution_count": null,
   "id": "5e734c36-ade3-43b4-a06c-df9b084ae402",
   "metadata": {
    "vscode": {
     "languageId": "r"
    }
   },
   "outputs": [],
   "source": [
    "# Create a vector to map Consequence to IMPACT\n",
    "impact_mapping <- c(\n",
    "  \"transcript_ablation\" = \"HIGH\",\n",
    "  \"splice_acceptor_variant\" = \"HIGH\",\n",
    "  \"splice_donor_variant\" = \"HIGH\",\n",
    "  \"stop_gained\" = \"HIGH\",\n",
    "  \"frameshift_variant\" = \"HIGH\",\n",
    "  \"stop_lost\" = \"HIGH\",\n",
    "  \"start_lost\" = \"HIGH\",\n",
    "  \"transcript_amplification\" = \"HIGH\",\n",
    "  \"feature_elongation\" = \"HIGH\",\n",
    "  \"feature_truncation\" = \"HIGH\",\n",
    "  \"inframe_insertion\" = \"MODERATE\",\n",
    "  \"inframe_deletion\" = \"MODERATE\",\n",
    "  \"missense_variant\" = \"MODERATE\",\n",
    "  \"protein_altering_variant\" = \"MODERATE\"\n",
    ")\n",
    "\n",
    "# Create the IMPACT column based on the Consequence column\n",
    "consequence_data_subset$IMPACT <- impact_mapping[consequence_data_subset$Consequence]\n",
    "\n",
    "# View the updated data frame\n",
    "head(consequence_data_subset)\n"
   ]
  },
  {
   "cell_type": "markdown",
   "id": "4d9837dd-7db4-4ba4-9be7-741dc34aa234",
   "metadata": {},
   "source": [
    "#### Remove All Rows Where Impact Is Not Moderate Or High In Conseqence Data Set"
   ]
  },
  {
   "cell_type": "code",
   "execution_count": null,
   "id": "6f4c0abd-3d13-4354-9e76-c9b6feed0362",
   "metadata": {
    "vscode": {
     "languageId": "r"
    }
   },
   "outputs": [],
   "source": [
    "# Filter rows based on the IMPACT column\n",
    "filtered_data <- consequence_data_subset[consequence_data_subset$IMPACT %in% c(\"HIGH\", \"MODERATE\"), ]\n",
    "\n",
    "# View the first six rows of the filtered data\n",
    "head(filtered_data)\n"
   ]
  },
  {
   "cell_type": "markdown",
   "id": "162c6b91-42e9-4f97-b55f-daba5549021e",
   "metadata": {},
   "source": [
    "## Merge DataSets:"
   ]
  },
  {
   "cell_type": "code",
   "execution_count": null,
   "id": "2bc3270e-7f9d-4855-99ab-0da80dc0403b",
   "metadata": {
    "vscode": {
     "languageId": "r"
    }
   },
   "outputs": [],
   "source": [
    "# Assuming 'data' and 'filtered_data' are your data frames\n",
    "merged_data <- merge(data, filtered_data, by.x = c(\"chromosome\", \"position\"), by.y = c(\"Chromosome\", \"Position\"), all.x = TRUE)\n",
    "\n",
    "# View the first few rows of the merged data\n",
    "head(merged_data)\n"
   ]
  },
  {
   "cell_type": "markdown",
   "id": "f0138b8f-56f6-413c-9f26-eea59262c806",
   "metadata": {},
   "source": [
    "### Write Merged Data To Part 0 Folder"
   ]
  },
  {
   "cell_type": "code",
   "execution_count": null,
   "id": "79b009f6-887e-4fea-823f-ad636c8fb116",
   "metadata": {
    "vscode": {
     "languageId": "r"
    }
   },
   "outputs": [],
   "source": [
    "\n",
    "# Create a subfolder named 'Merged_Data_With_NA_In_Impact_Column'\n",
    "subfolder <- file.path(output_directory, 'Part_0___Merged_Data_With_NA_In_Impact_Column')\n",
    "dir.create(subfolder, showWarnings = FALSE)\n",
    "\n",
    "# Remove quotes from Part_0___Prefix\n",
    "Part_0___Prefix <- gsub('\"', '', Part_0___Prefix)\n",
    "\n",
    "# Write merged_data to TSV and CSV files in the subfolder\n",
    "tsv_file <- file.path(subfolder, paste0(c(Part_0___Prefix, \"Merged_Data_With_NA_In_Impact_Column.tsv\"), collapse = \"\"))\n",
    "csv_file <- file.path(subfolder, paste0(c(Part_0___Prefix, \"Merged_Data_With_NA_In_Impact_Column.csv\"), collapse = \"\"))\n",
    "\n",
    "write.table(merged_data, file = tsv_file, sep = '\\t', quote = FALSE, row.names = FALSE)\n",
    "write.csv(merged_data, file = csv_file, row.names = FALSE)\n",
    "\n",
    "# Print success message\n",
    "cat(\"Files written to:\", tsv_file, \"and\", csv_file, \"\\n\")\n"
   ]
  },
  {
   "cell_type": "markdown",
   "id": "14676ba5-f081-457a-8ebe-c884a2606fef",
   "metadata": {},
   "source": [
    "## Create A Merged Reference Column With Only The Unique Values:"
   ]
  },
  {
   "cell_type": "code",
   "execution_count": null,
   "id": "3bdfca96-4509-41bb-92d0-3faa5c61d335",
   "metadata": {
    "vscode": {
     "languageId": "r"
    }
   },
   "outputs": [],
   "source": [
    "# Identify Reference_* columns\n",
    "ref_columns <- grep(\"^Reference_\", names(merged_data), value = TRUE)\n",
    "\n",
    "# Create Reference_AllSamples column\n",
    "merged_data$Reference_AllSamples <- apply(merged_data[, ref_columns, drop = FALSE], 1, function(row) {\n",
    "  # Concatenate all values from reference columns into one string\n",
    "  all_values <- paste(as.character(row), collapse = \"\")\n",
    "  \n",
    "  # Keep only unique values\n",
    "  unique_values <- unique(strsplit(all_values, \"\")[[1]])\n",
    "  \n",
    "  # Concatenate unique values into one string\n",
    "  unique_values_string <- paste(unique_values, collapse = \"\")\n",
    "  \n",
    "  return(unique_values_string)\n",
    "})\n",
    "\n",
    "# View the updated data frame\n",
    "head(merged_data)\n"
   ]
  },
  {
   "cell_type": "markdown",
   "id": "bf256de2-b866-4659-9c6e-9bb1ea892c4b",
   "metadata": {},
   "source": [
    "## View The First 50 Lines:"
   ]
  },
  {
   "cell_type": "code",
   "execution_count": null,
   "id": "bbfdd903-978d-49bd-8119-fc4aad6cab0e",
   "metadata": {
    "vscode": {
     "languageId": "r"
    }
   },
   "outputs": [],
   "source": [
    "head(merged_data, 50)"
   ]
  },
  {
   "cell_type": "code",
   "execution_count": null,
   "id": "c5308fa3-85da-49cb-85c7-2eedf52cdf34",
   "metadata": {
    "vscode": {
     "languageId": "r"
    }
   },
   "outputs": [],
   "source": [
    "# Set the subfolder name\n",
    "Part_1___Subfolder <- \"Part_1___AddedInAllSampleReferenceColumn\"\n",
    "\n",
    "# Create the full path for the subfolder\n",
    "subfolder_path <- file.path(output_directory, Part_1___Subfolder)\n",
    "\n",
    "# Create the subfolder if it doesn't exist\n",
    "if (!file.exists(subfolder_path)) {\n",
    "  dir.create(subfolder_path)\n",
    "}\n",
    "\n",
    "# Remove quotes from Part_1___Prefix\n",
    "Part_1___Prefix <- gsub('\"', '', Part_1___Prefix)\n",
    "\n",
    "# Set the output file names with the specified prefix\n",
    "tsv_file <- file.path(subfolder_path, paste0(c(Part_1___Prefix, \"AddedInAllSampleReferenceColumn.tsv\"), collapse = \"\"))\n",
    "csv_file <- file.path(subfolder_path, paste0(c(Part_1___Prefix, \"AddedInAllSampleReferenceColumn.csv\"), collapse = \"\"))\n",
    "\n",
    "# Write merged_data to TSV\n",
    "write.table(merged_data, tsv_file, sep = '\\t', quote = FALSE, row.names = FALSE)\n",
    "\n",
    "# Write merged_data to CSV\n",
    "write.csv(merged_data, csv_file, row.names = FALSE)\n",
    "\n",
    "# Print confirmation\n",
    "cat(\"*Data has been successfully written to the subfolder:* \", subfolder_path, \"\\n\")\n"
   ]
  },
  {
   "cell_type": "markdown",
   "id": "557ff912-4cdf-4e79-b2a2-ada35e47a95e",
   "metadata": {},
   "source": [
    "If it says \"No rows with empty string in Reference_AllSamples.\" then it means that all the Reference_(SingleSample) columns interesected correctly."
   ]
  },
  {
   "cell_type": "markdown",
   "id": "d3a4c292-86ff-4cd7-b757-780889f725f4",
   "metadata": {},
   "source": [
    "## Remove All Impact Rows Where Impact Is Not Equal To Moderate Or High"
   ]
  },
  {
   "cell_type": "code",
   "execution_count": null,
   "id": "2b3c99fc-cb4a-4027-8967-1074ffe9d5d0",
   "metadata": {
    "vscode": {
     "languageId": "r"
    }
   },
   "outputs": [],
   "source": [
    "# Filter rows based on the Impact column\n",
    "merged_data_filtered <- merged_data[merged_data$IMPACT %in% c(\"MODERATE\", \"HIGH\"), ]\n",
    "\n",
    "# View the updated data frame\n",
    "head(merged_data_filtered)\n"
   ]
  },
  {
   "cell_type": "code",
   "execution_count": null,
   "id": "df1a2cd9-74d1-46b0-bef5-2a231eefc589",
   "metadata": {
    "vscode": {
     "languageId": "r"
    }
   },
   "outputs": [],
   "source": [
    "# Set the subfolder name for Part 2\n",
    "Part_2___Subfolder <- \"Part_2___RemovedNonModerateNonHighFromImpactColumn\"\n",
    "\n",
    "# Create the full path for the subfolder\n",
    "Part_2___Subfolder_path <- file.path(output_directory, Part_2___Subfolder)\n",
    "\n",
    "# Create the subfolder if it doesn't exist\n",
    "if (!file.exists(Part_2___Subfolder_path)) {\n",
    "  dir.create(Part_2___Subfolder_path)\n",
    "}\n",
    "\n",
    "# Remove quotes from Part_2___Prefix\n",
    "Part_2___Prefix <- gsub('\"', '', Part_2___Prefix)\n",
    "\n",
    "# Set the output file names with the specified prefix\n",
    "tsv_file_part_2 <- file.path(Part_2___Subfolder_path, paste0(c(Part_2___Prefix, \"RemovedNonModerateNonHighFromImpactColumn.tsv\"), collapse = \"\"))\n",
    "csv_file_part_2 <- file.path(Part_2___Subfolder_path, paste0(c(Part_2___Prefix, \"RemovedNonModerateNonHighFromImpactColumn.csv\"), collapse = \"\"))\n",
    "\n",
    "# Write merged_data_filtered to TSV for Part 2\n",
    "write.table(merged_data_filtered, tsv_file_part_2, sep = '\\t', quote = FALSE, row.names = FALSE)\n",
    "\n",
    "# Write merged_data_filtered to CSV for Part 2\n",
    "write.csv(merged_data_filtered, csv_file_part_2, row.names = FALSE)\n",
    "\n",
    "# Print confirmation for Part 2\n",
    "cat(\"*Data (Part 2) has been successfully written to the subfolder:* \", Part_2___Subfolder_path, \"\\n\")\n"
   ]
  },
  {
   "cell_type": "markdown",
   "id": "383f8ced-f2ca-4948-8a3c-199c8f3bef2e",
   "metadata": {},
   "source": [
    "## Remove All Single Sample Reference_* Columns (Do Not Remove Reference_AllSamples)"
   ]
  },
  {
   "cell_type": "code",
   "execution_count": null,
   "id": "5b564ced-692d-486b-aa85-41afabcf72c9",
   "metadata": {
    "vscode": {
     "languageId": "r"
    }
   },
   "outputs": [],
   "source": [
    "# Identify Reference_* columns\n",
    "ref_columns <- grep(\"^Reference_\", names(merged_data_filtered), value = TRUE)\n",
    "\n",
    "# Remove Reference_* columns except Reference_AllSamples\n",
    "merged_data_filtered <- merged_data_filtered[, c(setdiff(names(merged_data_filtered), ref_columns), \"Reference_AllSamples\"), drop = FALSE]\n",
    "\n",
    "# View the updated data frame\n",
    "head(merged_data_filtered)\n"
   ]
  },
  {
   "cell_type": "code",
   "execution_count": null,
   "id": "08f52a80-666b-4271-82a5-7d882ee17add",
   "metadata": {
    "vscode": {
     "languageId": "r"
    }
   },
   "outputs": [],
   "source": [
    "# Set the subfolder name for Part 3\n",
    "Part_3___Subfolder <- \"Part_3___RemovedAllSingleSampleReference_Columns\"\n",
    "\n",
    "# Create the full path for the subfolder\n",
    "Part_3___Subfolder_path <- file.path(output_directory, Part_3___Subfolder)\n",
    "\n",
    "# Create the subfolder if it doesn't exist\n",
    "if (!file.exists(Part_3___Subfolder_path)) {\n",
    "  dir.create(Part_3___Subfolder_path)\n",
    "}\n",
    "\n",
    "# Identify Reference_* columns in merged_data_filtered\n",
    "ref_columns_part_3 <- grep(\"^Reference_\", names(merged_data_filtered), value = TRUE)\n",
    "\n",
    "# Remove Reference_* columns except Reference_AllSamples\n",
    "merged_data_filtered_part_3 <- merged_data_filtered[, c(setdiff(names(merged_data_filtered), ref_columns_part_3), \"Reference_AllSamples\"), drop = FALSE]\n"
   ]
  },
  {
   "cell_type": "code",
   "execution_count": null,
   "id": "9125f423-e714-49bf-9df2-beaa3b829d15",
   "metadata": {
    "vscode": {
     "languageId": "r"
    }
   },
   "outputs": [],
   "source": [
    "# Remove quotes from Part_3___Prefix\n",
    "Part_3___Prefix <- gsub('\"', '', Part_3___Prefix)\n",
    "\n",
    "# Set the output file names with the specified prefix for Part 3\n",
    "tsv_file_part_3 <- file.path(Part_3___Subfolder_path, paste0(c(Part_3___Prefix, \"RemovedAllSingleSampleReference_Columns.tsv\"), collapse = \"\"))\n",
    "csv_file_part_3 <- file.path(Part_3___Subfolder_path, paste0(c(Part_3___Prefix, \"RemovedAllSingleSampleReference_Columns.csv\"), collapse = \"\"))\n",
    "\n",
    "# Write merged_data_filtered (Part 3) to TSV\n",
    "write.table(merged_data_filtered_part_3, tsv_file_part_3, sep = '\\t', quote = FALSE, row.names = FALSE)\n",
    "\n",
    "# Write merged_data_filtered (Part 3) to CSV\n",
    "write.csv(merged_data_filtered_part_3, csv_file_part_3, row.names = FALSE)\n",
    "\n",
    "# Print confirmation for Part 3\n",
    "cat(\"*Data (Part 3) has been successfully written to the subfolder:* \", Part_3___Subfolder_path, \"\\n\")\n"
   ]
  },
  {
   "cell_type": "markdown",
   "id": "d238c3d8-4a27-433f-a953-5b9b23d61d70",
   "metadata": {},
   "source": [
    "## Remove Consequences That Are `splice_donor_variant`s or `splice_acceptor_variant`s"
   ]
  },
  {
   "cell_type": "code",
   "execution_count": null,
   "id": "b16aff7a-0273-4941-9151-8e2a0350de86",
   "metadata": {
    "vscode": {
     "languageId": "r"
    }
   },
   "outputs": [],
   "source": [
    "# Assuming merged_data_filtered_part_3 is your original dataframe\n",
    "merged_data_filtered_part_4 <- merged_data_filtered_part_3[!(merged_data_filtered_part_3$Consequence %in% c(\"splice_donor_variant\", \"splice_acceptor_variant\")), ]\n",
    "\n",
    "# Now merged_data_filtered_part_4 has rows without splice_donor_variant or splice_acceptor_variant\n",
    "head(merged_data_filtered_part_4)"
   ]
  },
  {
   "cell_type": "code",
   "execution_count": null,
   "id": "22d91937-47cd-4514-ba62-233f8d4d51d5",
   "metadata": {
    "vscode": {
     "languageId": "r"
    }
   },
   "outputs": [],
   "source": [
    "cat(\"Removing Splice Donor And Acceptor Variants results in the dataframe having\", nrow(merged_data_filtered_part_4), \"rows.\\n\")"
   ]
  },
  {
   "cell_type": "code",
   "execution_count": null,
   "id": "a94555bd-fd56-4292-b94e-07c9d3c8e147",
   "metadata": {
    "vscode": {
     "languageId": "r"
    }
   },
   "outputs": [],
   "source": [
    "# Set the subfolder name for Part 4\n",
    "Part_4___Subfolder_name <- \"Part_4___Removing_SpliceDonorAndAcceptorSites\"\n",
    "\n",
    "# Create the full subfolder path\n",
    "Part_4___Subfolder_path <- file.path(output_directory, Part_4___Subfolder_name)\n",
    "\n",
    "# Create the subfolder if it doesn't exist\n",
    "if (!file.exists(Part_4___Subfolder_path)) {\n",
    "  dir.create(Part_4___Subfolder_path, recursive = TRUE)\n",
    "}\n"
   ]
  },
  {
   "cell_type": "code",
   "execution_count": null,
   "id": "92913cc4-dd4a-4b85-9bf0-6c97d20dff53",
   "metadata": {
    "vscode": {
     "languageId": "r"
    }
   },
   "outputs": [],
   "source": [
    "# Remove quotes from Part_4___Prefix\n",
    "Part_4___Prefix <- gsub('\"', '', Part_4___Prefix)\n",
    "\n",
    "# Set the output file names with the specified prefix for Part 4\n",
    "tsv_file_part_4 <- file.path(Part_4___Subfolder_path, paste0(c(Part_4___Prefix, \"RemovingSpliceDonorAndAcceptorSites.tsv\"), collapse = \"\"))\n",
    "csv_file_part_4 <- file.path(Part_4___Subfolder_path, paste0(c(Part_4___Prefix, \"RemovingSpliceDonorAndAcceptorSites.csv\"), collapse = \"\"))\n",
    "\n",
    "# Write merged_data_filtered (Part 4) to TSV\n",
    "write.table(merged_data_filtered_part_4, tsv_file_part_4, sep = '\\t', quote = FALSE, row.names = FALSE)\n",
    "\n",
    "# Write merged_data_filtered (Part 4) to CSV\n",
    "write.csv(merged_data_filtered_part_4, csv_file_part_4, row.names = FALSE)\n",
    "\n",
    "# Print confirmation for Part 4\n",
    "cat(\"*Data (Part 4) has been successfully written to the subfolder:* \", Part_4___Subfolder_path, \"\\n\")\n"
   ]
  },
  {
   "cell_type": "markdown",
   "id": "c80d32c9-3c39-43c1-8bdb-9ea2c53e8cca",
   "metadata": {},
   "source": [
    "## Session Information"
   ]
  },
  {
   "cell_type": "code",
   "execution_count": null,
   "id": "38c93a31-383a-4f5f-b743-709601bc5c72",
   "metadata": {
    "vscode": {
     "languageId": "r"
    }
   },
   "outputs": [],
   "source": [
    "sessionInfo()"
   ]
  }
 ],
 "metadata": {
  "kernelspec": {
   "display_name": "R",
   "language": "R",
   "name": "ir"
  },
  "language_info": {
   "codemirror_mode": "r",
   "file_extension": ".r",
   "mimetype": "text/x-r-source",
   "name": "R",
   "pygments_lexer": "r",
   "version": "4.2.2"
  }
 },
 "nbformat": 4,
 "nbformat_minor": 5
}
