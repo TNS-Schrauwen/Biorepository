{
 "cells": [
  {
   "cell_type": "markdown",
   "id": "9489b1f9-04be-4d9e-bc9a-eb205d9c2709",
   "metadata": {},
   "source": [
    "# Using PValue ~ lfcSE For DEseq2 (using IHW)\n",
    "\n",
    "I am using the file generated in the previous step. This script was originally used for DEXseq so some of the variable names will say DEXseq related information but this can be applied to DEseq2.\n"
   ]
  },
  {
   "cell_type": "markdown",
   "id": "20f7bcb8-f1c3-4786-9a0b-db934216f7ab",
   "metadata": {},
   "source": [
    "## Library"
   ]
  },
  {
   "cell_type": "code",
   "execution_count": null,
   "id": "14bddad4-80f1-4f95-be90-44c326659fc4",
   "metadata": {
    "vscode": {
     "languageId": "r"
    }
   },
   "outputs": [],
   "source": [
    "# Load the IHW library\n",
    "library(\"IHW\")"
   ]
  },
  {
   "cell_type": "markdown",
   "id": "ebae94b1-6b94-4ed7-b162-97ebc5641aa6",
   "metadata": {},
   "source": [
    "## Load In Important Files"
   ]
  },
  {
   "cell_type": "markdown",
   "id": "90707ed4-5c71-49bb-b401-6f35342f949d",
   "metadata": {},
   "source": [
    "### Load In Average and Standard Deviation"
   ]
  },
  {
   "cell_type": "markdown",
   "id": "6e7e5642-1758-43bb-98fa-ddd7d00ea685",
   "metadata": {
    "tags": []
   },
   "source": [
    "The path to the Average and Standard Deviation `.tsv` created using the normalized counts and is located in a subdirectory of the parent folder. The parent folder is manually defined. The subdirectory containing the averages tsv is called `4___Calculating_Average_And_Standard_Deviation`.\n",
    "\n",
    "The file is called `Average_And_Standard_Deviation_Using_Normalized_Counts_DEseq2.tsv`.\n",
    "\n",
    "Just give the parent directory to the folder containing the tsv."
   ]
  },
  {
   "cell_type": "code",
   "execution_count": null,
   "id": "26c70a61-cf9a-47c6-b604-6ab076d10f36",
   "metadata": {
    "vscode": {
     "languageId": "r"
    }
   },
   "outputs": [],
   "source": [
    "# Parent directory path\n",
    "parent_directory <- \"/path/to/your/parent/directory\"\n"
   ]
  },
  {
   "cell_type": "markdown",
   "id": "086c247f-710e-479d-8e71-62073b8ab28e",
   "metadata": {},
   "source": [
    "### Define Path To Averages TsV"
   ]
  },
  {
   "cell_type": "code",
   "execution_count": null,
   "id": "1be9804f-fefc-4f96-a0d6-2ffb8e6045cb",
   "metadata": {
    "vscode": {
     "languageId": "r"
    }
   },
   "outputs": [],
   "source": [
    "# Subdirectory and file name\n",
    "subdirectory <- \"4___Calculating_Average_And_Standard_Deviation\"\n",
    "file_name <- \"Average_And_Standard_Deviation_Using_Normalized_Counts_DEseq2.tsv\"\n",
    "\n",
    "# Create the full path to the file\n",
    "file_path <- file.path(parent_directory, subdirectory, file_name)\n",
    "\n",
    "file_path"
   ]
  },
  {
   "cell_type": "code",
   "execution_count": null,
   "id": "9ec8b186-8d17-4438-9492-2ec97b0d7e4f",
   "metadata": {
    "vscode": {
     "languageId": "r"
    }
   },
   "outputs": [],
   "source": [
    "# Read the data from the file\n",
    "Averages_And_Standard_Deviations <- read.table(file_path, header = TRUE, sep = \"\\t\", stringsAsFactors = FALSE)\n",
    "\n",
    "# Display the first few rows of the data frame\n",
    "head(Averages_And_Standard_Deviations)"
   ]
  },
  {
   "cell_type": "markdown",
   "id": "9c0b1e69-e9b6-49f5-be36-d4de45d8110c",
   "metadata": {},
   "source": [
    "### Load in Wald Test TSV"
   ]
  },
  {
   "cell_type": "markdown",
   "id": "abc1a63a-7ede-455a-86c7-c47559edceb3",
   "metadata": {},
   "source": [
    "The results are from the Wald test file from DEseq2 (not DEXseq)."
   ]
  },
  {
   "cell_type": "code",
   "execution_count": null,
   "id": "00751d9b-bc54-42d1-9a80-33cc14dd4fec",
   "metadata": {
    "vscode": {
     "languageId": "r"
    }
   },
   "outputs": [],
   "source": [
    "# Subdirectory containing the Wald test file\n",
    "wald_test_subdirectory <- \"1___Wald_Test\"\n",
    "\n",
    "# Pattern for the Wald test file\n",
    "wald_test_file_pattern <- \"^Wald_Test.*\\\\.tsv$\"\n",
    "\n",
    "# Create the full path to the Wald test file\n",
    "wald_test_files <- list.files(file.path(parent_directory, wald_test_subdirectory), pattern = wald_test_file_pattern, full.names = TRUE)\n",
    "\n",
    "# Check if any files were found\n",
    "if (length(wald_test_files) > 0) {\n",
    "  # Display the full path to the first matching Wald test file\n",
    "  cat(\"Full path to the Wald test file:\", wald_test_files[1], \"\\n\")\n",
    "\n",
    "  # Read the data from the file\n",
    "  wald_test_data <- read.table(wald_test_files[1], header = TRUE, sep = \"\\t\", stringsAsFactors = FALSE)\n",
    "\n",
    "  # Display the first few rows of the data frame\n",
    "  head(wald_test_data)\n",
    "} else {\n",
    "  cat(\"No Wald test files found in the specified directory.\\n\")\n",
    "}"
   ]
  },
  {
   "cell_type": "code",
   "execution_count": null,
   "id": "02852afb-dbd2-426a-927f-d27c54f99c3a",
   "metadata": {
    "tags": [],
    "vscode": {
     "languageId": "r"
    }
   },
   "outputs": [],
   "source": [
    "\n",
    "wald_test_data$Ensembl_ID <- row.names(wald_test_data)\n",
    "\n",
    "head (wald_test_data)\n"
   ]
  },
  {
   "cell_type": "markdown",
   "id": "b35c7a99-6628-4ed2-b371-4d0e5c74e192",
   "metadata": {},
   "source": [
    "## Merge the 2 Important Files Together"
   ]
  },
  {
   "cell_type": "code",
   "execution_count": null,
   "id": "2b77b5f9-b5bb-490d-9c9d-7a8e3ee5e876",
   "metadata": {
    "vscode": {
     "languageId": "r"
    }
   },
   "outputs": [],
   "source": [
    "joined_df <- merge(Averages_And_Standard_Deviations, wald_test_data, by.x = \"Ensembl_ID\", \n",
    "             by.y = \"Ensembl_ID\", all.x = TRUE, all.y = FALSE)\n",
    "\n",
    "head(joined_df)"
   ]
  },
  {
   "cell_type": "code",
   "execution_count": null,
   "id": "060c5e02-5038-4b76-99df-3d77a21f2e97",
   "metadata": {
    "tags": [],
    "vscode": {
     "languageId": "r"
    }
   },
   "outputs": [],
   "source": [
    "# Subset the data frame to include only specific columns\n",
    "subset_df___Row_Standard_Deviation <- joined_df[, c(\"pvalue\", \"baseMean\", \"Row_Standard_Deviation\")]\n",
    "\n",
    "# Print the first few rows of the subsetted data frame\n",
    "head(subset_df___Row_Standard_Deviation)"
   ]
  },
  {
   "cell_type": "markdown",
   "id": "922d7329-d4bd-4cfa-adf8-c880e93e67ea",
   "metadata": {},
   "source": [
    "## Pvalue_Vs_BaseMeanAndRowStandardDeviation & IHW"
   ]
  },
  {
   "cell_type": "code",
   "execution_count": null,
   "id": "fed4e1d3-f79c-4e44-9d02-344c0c68ccb8",
   "metadata": {
    "tags": [],
    "vscode": {
     "languageId": "r"
    }
   },
   "outputs": [],
   "source": [
    "ihwRes_Pvalue_Vs_BaseMeanAndRowStandardDeviation <- ihw(pvalue ~ baseMean + Row_Standard_Deviation,  data = joined_df, alpha = 0.05)"
   ]
  },
  {
   "cell_type": "markdown",
   "id": "88502608-92ae-43ae-8938-0471533bea17",
   "metadata": {},
   "source": [
    "Let us see the number of rejections:"
   ]
  },
  {
   "cell_type": "code",
   "execution_count": null,
   "id": "0db7a3ab-d895-4920-a082-58213969a4f9",
   "metadata": {
    "tags": [],
    "vscode": {
     "languageId": "r"
    }
   },
   "outputs": [],
   "source": [
    "rejections(ihwRes_Pvalue_Vs_BaseMeanAndRowStandardDeviation)"
   ]
  },
  {
   "cell_type": "code",
   "execution_count": null,
   "id": "13d4dcaa-94e5-47e8-92e7-a00e3e5e4130",
   "metadata": {
    "tags": [],
    "vscode": {
     "languageId": "r"
    }
   },
   "outputs": [],
   "source": [
    "joined_df$ihwRes_Pvalue_Vs_BaseMeanAndRowStandardDeviation <- adj_pvalues(ihwRes_Pvalue_Vs_BaseMeanAndRowStandardDeviation)\n",
    "\n",
    "head(joined_df)"
   ]
  },
  {
   "cell_type": "markdown",
   "id": "7349208f-59b0-47f5-b399-3fb94ad79986",
   "metadata": {},
   "source": [
    "# Create A Step 5 Folder:"
   ]
  },
  {
   "cell_type": "code",
   "execution_count": null,
   "id": "8dbb7314-64cd-42f7-960b-1fe5d6c9314c",
   "metadata": {
    "vscode": {
     "languageId": "r"
    }
   },
   "outputs": [],
   "source": [
    "# New folder name\n",
    "new_folder_name <- \"5___Pvalue_Vs_BaseMeanAndRowStandardDeviation_IHW__And_DEseq2\"\n",
    "\n",
    "# Full path to the new folder\n",
    "new_folder_path <- file.path(parent_directory, new_folder_name)\n",
    "\n",
    "# Create the new folder\n",
    "dir.create(new_folder_path, showWarnings = FALSE)\n",
    "\n",
    "# Check if the folder was created successfully\n",
    "if (file.exists(new_folder_path)) {\n",
    "  cat(\"Folder\", new_folder_name, \"created successfully in\", parent_directory, \"\\n\")\n",
    "} else {\n",
    "  cat(\"Error creating the folder\", new_folder_name, \"in\", parent_directory, \"\\n\")\n",
    "}"
   ]
  },
  {
   "cell_type": "markdown",
   "id": "686ac238-c633-4fb1-b793-435dd901dc1d",
   "metadata": {},
   "source": [
    "### Writing Joined DF to TSV and CSV File(s)"
   ]
  },
  {
   "cell_type": "code",
   "execution_count": null,
   "id": "2338b924-a14a-4802-bbbd-6538dfcfa4ad",
   "metadata": {
    "tags": [],
    "vscode": {
     "languageId": "r"
    }
   },
   "outputs": [],
   "source": [
    "# Assuming joined_df is your data frame\n",
    "\n",
    "# File paths for TSV and CSV files\n",
    "tsv_file <- file.path(new_folder_path, \"Pvalue_Vs_BaseMeanAndRowStandardDeviation.tsv\")\n",
    "csv_file <- file.path(new_folder_path, \"Pvalue_Vs_BaseMeanAndRowStandardDeviation.csv\")\n",
    "\n",
    "# Write to TSV file\n",
    "write.table(joined_df, file = tsv_file, sep = \"\\t\", quote = FALSE, row.names = FALSE)\n",
    "\n",
    "# Write to CSV file\n",
    "write.csv(joined_df, file = csv_file, quote = FALSE, row.names = FALSE)\n",
    "\n",
    "# Print messages\n",
    "cat(\"Data written to\", tsv_file, \"and\", csv_file, \"\\n\")\n"
   ]
  },
  {
   "cell_type": "markdown",
   "id": "afaf210d-a208-495f-9010-b9e6218d975c",
   "metadata": {},
   "source": [
    "## Data Visualization:"
   ]
  },
  {
   "cell_type": "markdown",
   "id": "5c347914-6b7f-4d9a-a02e-12d671d6bfb5",
   "metadata": {},
   "source": [
    "### 2.2 Diagnostic Plots"
   ]
  },
  {
   "cell_type": "markdown",
   "id": "4049c7d6-ad82-413a-953b-32d448e37ba6",
   "metadata": {
    "tags": []
   },
   "source": [
    "#### 2.2.1 Estimated Weight(s)"
   ]
  },
  {
   "cell_type": "code",
   "execution_count": null,
   "id": "4cf30a73-d7fc-4272-95f4-6f73079fae02",
   "metadata": {
    "tags": [],
    "vscode": {
     "languageId": "r"
    }
   },
   "outputs": [],
   "source": [
    "plot(ihwRes_Pvalue_Vs_BaseMeanAndRowStandardDeviation)"
   ]
  },
  {
   "cell_type": "markdown",
   "id": "8fd1eefc-f7d1-473e-91b3-6d8ef351726d",
   "metadata": {
    "tags": []
   },
   "source": [
    "### 2.2.2 Decision boundary"
   ]
  },
  {
   "cell_type": "code",
   "execution_count": null,
   "id": "cbba077f-295a-4e59-8453-e6e281b1da5a",
   "metadata": {
    "tags": [],
    "vscode": {
     "languageId": "r"
    }
   },
   "outputs": [],
   "source": [
    "plot(ihwRes_Pvalue_Vs_BaseMeanAndRowStandardDeviation, what = \"decisionboundary\") "
   ]
  },
  {
   "cell_type": "markdown",
   "id": "8c2d65b2-7a72-4968-8806-d607955cf25f",
   "metadata": {},
   "source": [
    "### 2.2.3 Raw versus adjusted p-values"
   ]
  },
  {
   "cell_type": "code",
   "execution_count": null,
   "id": "7e206fb7-2603-49e4-8a84-14f58e63661c",
   "metadata": {
    "tags": [],
    "vscode": {
     "languageId": "r"
    }
   },
   "outputs": [],
   "source": [
    "library(\"ggplot2\")\n",
    "gg <- ggplot(as.data.frame(ihwRes_Pvalue_Vs_BaseMeanAndRowStandardDeviation), aes(x = pvalue, y = adj_pvalue, col = group)) + \n",
    "  geom_point(size = 0.25) + scale_colour_hue(l = 70, c = 150, drop = FALSE)\n",
    "gg"
   ]
  },
  {
   "cell_type": "code",
   "execution_count": null,
   "id": "9e78beba-ca16-4a88-b75e-2b0a6c1b1348",
   "metadata": {
    "tags": [],
    "vscode": {
     "languageId": "r"
    }
   },
   "outputs": [],
   "source": [
    "gg %+% subset(as.data.frame(ihwRes_Pvalue_Vs_BaseMeanAndRowStandardDeviation), adj_pvalue <= 0.05)"
   ]
  },
  {
   "cell_type": "markdown",
   "id": "8bb0f42c-f914-4b86-8a07-aae052723de1",
   "metadata": {},
   "source": [
    "## 3.4 Diagnostic plots for the covariate\n",
    "\n",
    "This is based on the code provided by IHW [here](https://bioconductor.org/packages/devel/bioc/vignettes/IHW/inst/doc/introduction_to_ihw.html#diagnostic-plots-for-the-covariate)"
   ]
  },
  {
   "cell_type": "markdown",
   "id": "9e0b36cc-6eff-43b6-928b-802afdcaae93",
   "metadata": {},
   "source": [
    "### Making Summarized Experiment:"
   ]
  },
  {
   "cell_type": "code",
   "execution_count": null,
   "id": "9125a67a-c9f9-47fc-84ba-d88943735f99",
   "metadata": {
    "tags": [],
    "vscode": {
     "languageId": "r"
    }
   },
   "outputs": [],
   "source": [
    "library(SummarizedExperiment)"
   ]
  },
  {
   "cell_type": "markdown",
   "id": "a58249ef-ebcb-4950-a9eb-7b5104b38bae",
   "metadata": {},
   "source": [
    "The counts matrix used below has the normalized counts as those are prefered for the plots:\n"
   ]
  },
  {
   "cell_type": "code",
   "execution_count": null,
   "id": "4c1cb40b-3a86-4b37-865f-ef4a2de013ed",
   "metadata": {
    "tags": [],
    "vscode": {
     "languageId": "r"
    }
   },
   "outputs": [],
   "source": [
    "# Subfolder name\n",
    "subfolder_name <- \"2___Normalized_Counts_DEseq2\"\n",
    "\n",
    "# File name\n",
    "file_name <- \"Normalized_Counts.tsv\"\n",
    "\n",
    "# Construct the path\n",
    "normalized_matrix <- file.path(parent_directory, subfolder_name, file_name)\n",
    "\n",
    "# Print the path\n",
    "cat(\"Path to Normalized_Counts.tsv:\", normalized_matrix, \"\\n\")\n",
    "\n",
    "\n",
    "# Read in the file\n",
    "normalized_matrix <- read.table(normalized_matrix, header = TRUE, sep = '\\t')\n"
   ]
  },
  {
   "cell_type": "markdown",
   "id": "0477ed04-fbdc-49b5-9fab-0808a1b85fda",
   "metadata": {},
   "source": [
    "View the head of the normalized matrix:"
   ]
  },
  {
   "cell_type": "code",
   "execution_count": null,
   "id": "6a66b11d-f64c-4e7e-8345-d429b7fb3478",
   "metadata": {
    "vscode": {
     "languageId": "r"
    }
   },
   "outputs": [],
   "source": [
    "head(normalized_matrix)"
   ]
  },
  {
   "cell_type": "code",
   "execution_count": null,
   "id": "ab93367b-4318-46c0-83e9-2deeb8d2c17a",
   "metadata": {
    "tags": [],
    "vscode": {
     "languageId": "r"
    }
   },
   "outputs": [],
   "source": [
    "# Check for 0s in any row\n",
    "rows_with_zeros <- apply(normalized_matrix[, -1], 1, function(row) any(row == 0))\n",
    "\n",
    "# Remove rows with 0s\n",
    "normalized_matrix <- normalized_matrix[!rows_with_zeros, ]\n"
   ]
  },
  {
   "cell_type": "code",
   "execution_count": null,
   "id": "aaeedf27-443e-44ec-8ef7-c2f0fc8172ab",
   "metadata": {
    "tags": [],
    "vscode": {
     "languageId": "r"
    }
   },
   "outputs": [],
   "source": [
    "head(normalized_matrix)"
   ]
  },
  {
   "cell_type": "code",
   "execution_count": null,
   "id": "8856168f-0c16-452d-842a-23c0b184a858",
   "metadata": {
    "tags": [],
    "vscode": {
     "languageId": "r"
    }
   },
   "outputs": [],
   "source": [
    "colnames(normalized_matrix)"
   ]
  },
  {
   "cell_type": "markdown",
   "id": "6994e7ca-60d0-47ed-a46f-eafd04648411",
   "metadata": {},
   "source": [
    "Turn the Ensembl ID column into row names:"
   ]
  },
  {
   "cell_type": "code",
   "execution_count": null,
   "id": "bb020e5a-8d19-4974-94d8-01674064db92",
   "metadata": {
    "vscode": {
     "languageId": "r"
    }
   },
   "outputs": [],
   "source": [
    "# Assuming your data frame is named df\n",
    "rownames(normalized_matrix) <- normalized_matrix$Ensembl_ID\n",
    "normalized_matrix$Ensembl_ID <- NULL  # Optional: Remove the Ensembl_ID column if you don't need it as a separate column\n",
    "head(normalized_matrix)"
   ]
  },
  {
   "cell_type": "code",
   "execution_count": null,
   "id": "40210b7e-5cf1-441d-a60a-1fe79c66d342",
   "metadata": {
    "tags": [],
    "vscode": {
     "languageId": "r"
    }
   },
   "outputs": [],
   "source": [
    "sample_metadata <- data.frame(\n",
    "  Sample = c(\"C.01__Control\",\n",
    "             \"C.02__Control\",\n",
    "             \"C.03__Control\",\n",
    "             \"E.01__Experimental\",\n",
    "             \"E.02__Experimental\",\n",
    "             \"E.03__Experimental\"),\n",
    "    \n",
    "  Treatment = c(\"Untreated\", \"Untreated\", \"Untreated\",\n",
    "                \"Knockdown\", \"Knockdown\", \"Knockdown\")\n",
    ")\n",
    "\n",
    "# View the table\n",
    "\n",
    "sample_metadata\n"
   ]
  },
  {
   "cell_type": "markdown",
   "id": "1b534171-aef1-4386-b069-e07a2f636c47",
   "metadata": {},
   "source": [
    "## Creating A Summarized Experiment"
   ]
  },
  {
   "cell_type": "markdown",
   "id": "d8b22c50-ba89-40bd-aec2-bfc819fc7dea",
   "metadata": {},
   "source": [
    "First you need to check the dimensions of the count matrix:"
   ]
  },
  {
   "cell_type": "code",
   "execution_count": null,
   "id": "c9fafa3f-91a6-4424-94e6-9249b01a37d3",
   "metadata": {
    "tags": [],
    "vscode": {
     "languageId": "r"
    }
   },
   "outputs": [],
   "source": [
    "dim(normalized_matrix)\n"
   ]
  },
  {
   "cell_type": "markdown",
   "id": "60cb0c58-5367-4eca-acde-3bb8da0da590",
   "metadata": {},
   "source": [
    "The columns can only be the names of the samples in this case so you may need to isolate for the sample columns/rename when necessary:"
   ]
  },
  {
   "cell_type": "code",
   "execution_count": null,
   "id": "362aa776-4703-4b65-8bd6-f62e7c60efef",
   "metadata": {
    "tags": [],
    "vscode": {
     "languageId": "r"
    }
   },
   "outputs": [],
   "source": [
    "se <- SummarizedExperiment(assays = list(counts = normalized_matrix), colData = sample_metadata)"
   ]
  },
  {
   "cell_type": "code",
   "execution_count": null,
   "id": "c332d36c-dfde-4ec0-bfee-948a0bbcefd2",
   "metadata": {
    "tags": [],
    "vscode": {
     "languageId": "r"
    }
   },
   "outputs": [],
   "source": [
    "se"
   ]
  },
  {
   "cell_type": "markdown",
   "id": "df634976-893b-45e0-a686-b67f00201fcb",
   "metadata": {},
   "source": [
    "### 3.4.1 Scatter plots"
   ]
  },
  {
   "cell_type": "code",
   "execution_count": null,
   "id": "ecc614c6-640b-417b-a956-226a0e718d73",
   "metadata": {
    "vscode": {
     "languageId": "r"
    }
   },
   "outputs": [],
   "source": [
    "library(\"dplyr\")"
   ]
  },
  {
   "cell_type": "markdown",
   "id": "4558645b-0119-4f77-84a6-218b130a4fd0",
   "metadata": {},
   "source": [
    "Define the path to averages file:"
   ]
  },
  {
   "cell_type": "code",
   "execution_count": null,
   "id": "19ff30b3-0e67-4dd4-98c9-bcf31887ad39",
   "metadata": {
    "vscode": {
     "languageId": "r"
    }
   },
   "outputs": [],
   "source": [
    "# Subfolder name\n",
    "avg_subfolder_name <- \"4___Calculating_Average_And_Standard_Deviation\"\n",
    "\n",
    "# File name\n",
    "file_name <- \"Average_And_Standard_Deviation_Using_Normalized_Counts_DEseq2.tsv\"\n",
    "\n",
    "# Construct the path\n",
    "tsv_file <- file.path(parent_directory, avg_subfolder_name, file_name)\n",
    "\n",
    "tsv_file"
   ]
  },
  {
   "cell_type": "code",
   "execution_count": null,
   "id": "c1bdfa7d-bc33-47b0-8eff-01c221c02952",
   "metadata": {
    "tags": [],
    "vscode": {
     "languageId": "r"
    }
   },
   "outputs": [],
   "source": [
    "\n",
    "# Read in the TSV file\n",
    "average_standard_deviation <- read.table(tsv_file, header = TRUE, row.names = 1, sep = \"\\t\")\n",
    "\n",
    "# View the first few rows of the data frame\n",
    "head(average_standard_deviation)\n"
   ]
  },
  {
   "cell_type": "code",
   "execution_count": null,
   "id": "289a3ed0-96eb-46f2-a924-89ae8c233b47",
   "metadata": {
    "tags": [],
    "vscode": {
     "languageId": "r"
    }
   },
   "outputs": [],
   "source": [
    "library(dplyr)\n",
    "\n",
    "# Assuming 'df' is your data frame\n",
    "average_standard_deviation$Ensembl_ID <- rownames(average_standard_deviation)\n",
    "\n",
    "rownames(average_standard_deviation) <- NULL  # Remove the row names\n",
    "\n",
    "# Print the modified data frame\n",
    "head(average_standard_deviation)"
   ]
  },
  {
   "cell_type": "code",
   "execution_count": null,
   "id": "d52806b3-8dda-4556-a4af-1a980feaf15f",
   "metadata": {
    "tags": [],
    "vscode": {
     "languageId": "r"
    }
   },
   "outputs": [],
   "source": [
    "# Merge by the 'Ensembl_ID' column\n",
    "merged_df <- merge(average_standard_deviation, wald_test_data, by.x = \"Ensembl_ID\", by.y = \"Ensembl_ID\", all = TRUE)\n",
    "\n",
    "# 'all = TRUE' includes all rows from both data frames in the result\n",
    "# You can change it to 'all = FALSE' if you only want rows with matching Ensembl IDs\n",
    "\n",
    "# Print the merged data frame\n",
    "head(merged_df)"
   ]
  },
  {
   "cell_type": "markdown",
   "id": "d875b656-75d3-4711-b867-7cf3b6b1660b",
   "metadata": {},
   "source": [
    "View the column names:"
   ]
  },
  {
   "cell_type": "code",
   "execution_count": null,
   "id": "b39d805b-7e38-4baf-abb8-f9e124c6e3f0",
   "metadata": {
    "tags": [],
    "vscode": {
     "languageId": "r"
    }
   },
   "outputs": [],
   "source": [
    "colnames(merged_df)"
   ]
  },
  {
   "cell_type": "code",
   "execution_count": null,
   "id": "9eebb886-5150-4ac6-8af0-04ded49b1160",
   "metadata": {
    "tags": [],
    "vscode": {
     "languageId": "r"
    }
   },
   "outputs": [],
   "source": [
    "deRes <- na.omit(merged_df)\n",
    "deRes$gene_id <- as.numeric(gsub(\"ENSG[+]*\", \"\", rownames(deRes)))\n",
    "head(deRes)"
   ]
  },
  {
   "cell_type": "markdown",
   "id": "a51df038-e59c-45f7-ae42-a44a8a196b83",
   "metadata": {},
   "source": [
    "### Base Mean"
   ]
  },
  {
   "cell_type": "code",
   "execution_count": null,
   "id": "f8212a4a-3f84-450e-af9e-9b26d5cdbb8e",
   "metadata": {
    "vscode": {
     "languageId": "r"
    }
   },
   "outputs": [],
   "source": [
    "# set up data frame for ggplotting\n",
    "rbind(data.frame(pvalue = deRes$pvalue, covariate = rank(deRes$baseMean)/nrow(deRes), \n",
    "                 covariate_type=\"base mean\"),\n",
    "      data.frame(pvalue = deRes$pvalue, covariate = rank(deRes$Row_Standard_Deviation)/nrow(deRes), \n",
    "                 covariate_type=\"Row_Standard_Deviation\")) %>%\n",
    "ggplot(aes(x = covariate, y = -log10(pvalue))) + geom_hex(bins = 100) + \n",
    "   facet_grid( . ~ covariate_type) + ylab(expression(-log[10]~p))"
   ]
  },
  {
   "cell_type": "markdown",
   "id": "fa79e0fa-b900-4869-ae4a-b129be129c74",
   "metadata": {},
   "source": [
    "### 3.4.2 Stratified p-value histograms"
   ]
  },
  {
   "cell_type": "code",
   "execution_count": null,
   "id": "016150bc-adb7-42e4-af6e-68ef42fb3b12",
   "metadata": {
    "tags": [],
    "vscode": {
     "languageId": "r"
    }
   },
   "outputs": [],
   "source": [
    "ggplot(deRes, aes(x = pvalue)) + geom_histogram(binwidth = 0.025, boundary = 0)"
   ]
  },
  {
   "cell_type": "code",
   "execution_count": null,
   "id": "b552fd28-cc4e-4be3-baf1-893eb470f38c",
   "metadata": {
    "tags": [],
    "vscode": {
     "languageId": "r"
    }
   },
   "outputs": [],
   "source": [
    "deRes$baseMeanGroup <- groups_by_filter(deRes$baseMean, 8)\n",
    "\n",
    "ggplot(deRes, aes(x=pvalue)) + \n",
    "  geom_histogram(binwidth = 0.025, boundary = 0) +\n",
    "  facet_wrap( ~ baseMeanGroup, nrow = 2)"
   ]
  },
  {
   "cell_type": "code",
   "execution_count": null,
   "id": "96aa0d49-3afe-42cf-bd76-02dfab1d33cd",
   "metadata": {
    "tags": [],
    "vscode": {
     "languageId": "r"
    }
   },
   "outputs": [],
   "source": [
    "deRes$Row_Standard_DeviationGroup <- groups_by_filter(deRes$Row_Standard_Deviation, 8)\n",
    "\n",
    "ggplot(deRes, aes(x=pvalue)) + \n",
    "  geom_histogram(binwidth = 0.025, boundary = 0) +\n",
    "  facet_wrap( ~ Row_Standard_DeviationGroup, nrow = 2)"
   ]
  },
  {
   "cell_type": "code",
   "execution_count": null,
   "id": "0ad32601-d305-4a98-910a-dd2d424c323e",
   "metadata": {
    "tags": [],
    "vscode": {
     "languageId": "r"
    }
   },
   "outputs": [],
   "source": [
    "# Controls_Row_Standard_Deviation\n",
    "\n",
    "deRes$Controls_Row_Standard_DeviationGroup <- groups_by_filter(deRes$Controls_Row_Standard_Deviation, 8)\n",
    "\n",
    "ggplot(deRes, aes(x=pvalue)) + \n",
    "  geom_histogram(binwidth = 0.025, boundary = 0) +\n",
    "  facet_wrap( ~ Controls_Row_Standard_DeviationGroup, nrow = 2)"
   ]
  },
  {
   "cell_type": "code",
   "execution_count": null,
   "id": "a6d44fb5-a520-4d54-ae85-9bb42be0473e",
   "metadata": {
    "tags": [],
    "vscode": {
     "languageId": "r"
    }
   },
   "outputs": [],
   "source": [
    "ggplot(deRes, aes(x = pvalue, col = baseMeanGroup)) + stat_ecdf(geom = \"step\") "
   ]
  },
  {
   "cell_type": "code",
   "execution_count": null,
   "id": "52b532e6-6c3c-46a3-8016-0d87b02536fb",
   "metadata": {
    "vscode": {
     "languageId": "r"
    }
   },
   "outputs": [],
   "source": [
    "ggplot(deRes, aes(x = pvalue, col = Row_Standard_DeviationGroup)) + stat_ecdf(geom = \"step\") "
   ]
  },
  {
   "cell_type": "code",
   "execution_count": null,
   "id": "74f95a6c-39f4-42be-896d-e8c706bac8af",
   "metadata": {
    "vscode": {
     "languageId": "r"
    }
   },
   "outputs": [],
   "source": [
    "ggplot(deRes, aes(x = pvalue, col = Controls_Row_Standard_DeviationGroup)) + stat_ecdf(geom = \"step\") "
   ]
  },
  {
   "cell_type": "markdown",
   "id": "7d8ca266-6513-45f7-abd5-eb9cfc5246c3",
   "metadata": {},
   "source": [
    "## Doing Plots Reccomended By Isabelle:"
   ]
  },
  {
   "cell_type": "code",
   "execution_count": null,
   "id": "90941ce6-3751-4791-960b-0ef8672dc220",
   "metadata": {
    "tags": [],
    "vscode": {
     "languageId": "r"
    }
   },
   "outputs": [],
   "source": [
    "head(joined_df)"
   ]
  },
  {
   "cell_type": "markdown",
   "id": "883c6804-53e0-4f4c-9502-26bfaba81b8e",
   "metadata": {},
   "source": [
    "### Base Mean"
   ]
  },
  {
   "cell_type": "code",
   "execution_count": null,
   "id": "bae43bff-6b60-4066-940e-b98d711a11a4",
   "metadata": {
    "tags": [],
    "vscode": {
     "languageId": "r"
    }
   },
   "outputs": [],
   "source": [
    "#stratified histogram \n",
    "joined_df$baseMeanGroup <- groups_by_filter(joined_df$baseMean, 4)\n",
    "ggplot(joined_df, aes(x = joined_df$pvalue)) + \n",
    "  geom_histogram() + facet_wrap(~baseMeanGroup)"
   ]
  },
  {
   "cell_type": "code",
   "execution_count": null,
   "id": "62f3d43a-287a-46c7-9f61-84b1cf492ad7",
   "metadata": {
    "tags": [],
    "vscode": {
     "languageId": "r"
    }
   },
   "outputs": [],
   "source": [
    "#scatter\n",
    "ggplot(joined_df, aes(x=baseMean, y=-log10(joined_df$pvalue))) + geom_point()"
   ]
  },
  {
   "cell_type": "code",
   "execution_count": null,
   "id": "fd85ae66-96c3-4b52-99e1-a6e5e92a4367",
   "metadata": {
    "tags": [],
    "vscode": {
     "languageId": "r"
    }
   },
   "outputs": [],
   "source": [
    "#empirical cumulative distribution functions (ECDF) \n",
    "joined_df$baseMeanGroup <- groups_by_filter(joined_df$baseMean, 4)\n",
    "ggplot(joined_df, aes(x = pvalue, col = baseMeanGroup)) + stat_ecdf(geom = \"step\") "
   ]
  },
  {
   "cell_type": "markdown",
   "id": "52c27264-8835-4cd8-a323-151293a72f15",
   "metadata": {},
   "source": [
    "## Standard Deviation"
   ]
  },
  {
   "cell_type": "code",
   "execution_count": null,
   "id": "59061883-6689-4381-9b1b-70f6ad37f557",
   "metadata": {
    "vscode": {
     "languageId": "r"
    }
   },
   "outputs": [],
   "source": [
    "joined_df$Row_Standard_DeviationGroup <- groups_by_filter(joined_df$Row_Standard_Deviation, 4)\n",
    "ggplot(joined_df, aes(x = joined_df$pvalue)) + \n",
    "  geom_histogram() + facet_wrap(~Row_Standard_DeviationGroup)"
   ]
  },
  {
   "cell_type": "code",
   "execution_count": null,
   "id": "4bdb1371-a862-4c14-bdf8-441e15fd4f0f",
   "metadata": {
    "vscode": {
     "languageId": "r"
    }
   },
   "outputs": [],
   "source": [
    "#scatter\n",
    "ggplot(joined_df,\n",
    "       aes(x=Row_Standard_Deviation, y=-log10(joined_df$pvalue))) + geom_point()"
   ]
  },
  {
   "cell_type": "code",
   "execution_count": null,
   "id": "d52e7ba2-9790-4b83-a4ed-2cd65d34cd7c",
   "metadata": {
    "vscode": {
     "languageId": "r"
    }
   },
   "outputs": [],
   "source": [
    "#empirical cumulative distribution functions (ECDF) \n",
    "joined_df$Row_Standard_DeviationGroup <- groups_by_filter(joined_df$Row_Standard_Deviation, 4)\n",
    "ggplot(joined_df, aes(x = pvalue, col = Row_Standard_DeviationGroup)) + stat_ecdf(geom = \"step\") "
   ]
  },
  {
   "cell_type": "markdown",
   "id": "b0cb823d-7f27-4c03-9558-9cda6ffd2eac",
   "metadata": {},
   "source": [
    "### Log Fold Change Standard Error"
   ]
  },
  {
   "cell_type": "code",
   "execution_count": null,
   "id": "84bd2184-2fa2-414d-8fdf-3624f8569145",
   "metadata": {
    "vscode": {
     "languageId": "r"
    }
   },
   "outputs": [],
   "source": [
    "ggplot(joined_df, aes(x = joined_df$lfcSE)) + \n",
    "  geom_histogram() "
   ]
  },
  {
   "cell_type": "code",
   "execution_count": null,
   "id": "9b0244a2-81ad-4cea-b28b-8de80b516d9f",
   "metadata": {
    "vscode": {
     "languageId": "r"
    }
   },
   "outputs": [],
   "source": [
    "joined_df$lfcSEGroup <- groups_by_filter(joined_df$lfcSE, 4)\n",
    "ggplot(joined_df, aes(x = joined_df$pvalue)) + \n",
    "  geom_histogram() + facet_wrap(~lfcSEGroup)"
   ]
  },
  {
   "cell_type": "code",
   "execution_count": null,
   "id": "0d74b9f1-4dc4-43ba-8a9f-c61d5fa46165",
   "metadata": {
    "vscode": {
     "languageId": "r"
    }
   },
   "outputs": [],
   "source": [
    "#scatter\n",
    "ggplot(joined_df, aes(x=lfcSE, y=-log10(joined_df$pvalue))) + geom_point()"
   ]
  },
  {
   "cell_type": "code",
   "execution_count": null,
   "id": "7608bc8f-92f0-4337-a6fc-f9309b295f09",
   "metadata": {
    "vscode": {
     "languageId": "r"
    }
   },
   "outputs": [],
   "source": [
    "#empirical cumulative distribution functions (ECDF) \n",
    "joined_df$lfcSEGroup <- groups_by_filter(joined_df$lfcSE, 4)\n",
    "ggplot(joined_df, aes(x = pvalue, col = lfcSEGroup)) + stat_ecdf(geom = \"step\") "
   ]
  },
  {
   "cell_type": "markdown",
   "id": "f8ed0ba4-98ce-4189-bec6-86b02d7bfbd6",
   "metadata": {},
   "source": [
    "## Check for colinearity"
   ]
  },
  {
   "cell_type": "markdown",
   "id": "6cc1692c-b443-4c6b-960e-fe4720d8acbe",
   "metadata": {},
   "source": [
    "A general guideline is that a VIF larger than 5 or 10 is large, indicating that the model has problems estimating the coefficient. "
   ]
  },
  {
   "cell_type": "code",
   "execution_count": null,
   "id": "a2ccd00b-f3f7-4b6f-a3a8-ad98408966ad",
   "metadata": {
    "tags": [],
    "vscode": {
     "languageId": "r"
    }
   },
   "outputs": [],
   "source": [
    "library(regclass)\n",
    "#check multicollinearity between covariates\n",
    "M <- lm(pvalue ~ baseMean + Row_Standard_Deviation + lfcSE,data=joined_df)\n",
    "VIF(M)"
   ]
  },
  {
   "cell_type": "markdown",
   "id": "00910952-8b4a-4648-a211-6aa42a9f93f5",
   "metadata": {},
   "source": [
    "## Sesssion Information"
   ]
  },
  {
   "cell_type": "code",
   "execution_count": null,
   "id": "6ab7777e-f857-49e1-9609-8774436ebae7",
   "metadata": {
    "scrolled": true,
    "vscode": {
     "languageId": "r"
    }
   },
   "outputs": [],
   "source": [
    "sessionInfo()"
   ]
  },
  {
   "cell_type": "code",
   "execution_count": null,
   "id": "1a9b26ae-26f3-4e4f-af6a-a6178debf6b2",
   "metadata": {
    "tags": [],
    "vscode": {
     "languageId": "r"
    }
   },
   "outputs": [],
   "source": [
    "print(\"Done\")"
   ]
  }
 ],
 "metadata": {
  "kernelspec": {
   "display_name": "R",
   "language": "R",
   "name": "ir"
  },
  "language_info": {
   "codemirror_mode": "r",
   "file_extension": ".r",
   "mimetype": "text/x-r-source",
   "name": "R",
   "pygments_lexer": "r",
   "version": "4.2.2"
  }
 },
 "nbformat": 4,
 "nbformat_minor": 5
}
