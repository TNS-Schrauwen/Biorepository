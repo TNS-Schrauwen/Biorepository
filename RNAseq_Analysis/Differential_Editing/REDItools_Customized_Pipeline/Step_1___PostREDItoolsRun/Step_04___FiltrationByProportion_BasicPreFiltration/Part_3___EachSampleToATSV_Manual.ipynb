{
 "cells": [
  {
   "cell_type": "markdown",
   "id": "145d6b5d-7eed-4675-b84d-0c2f07632567",
   "metadata": {},
   "source": [
    "# Making Individual Sample Files With Edited And Non_Edited Counts\n"
   ]
  },
  {
   "cell_type": "markdown",
   "id": "2e6ff77b-fa66-49ba-adb5-e5ea7f49c2fa",
   "metadata": {},
   "source": [
    "Outputs will be written to `tsv` (tab separated value) and `csv` files."
   ]
  },
  {
   "cell_type": "markdown",
   "id": "ea668d95-c440-4866-8cc9-a873de9d902f",
   "metadata": {},
   "source": [
    "Give the full path to the part 2 tsv created when you filtered by proportion."
   ]
  },
  {
   "cell_type": "code",
   "execution_count": null,
   "id": "25cc9299-c2ea-4e0f-9167-69d95b5fe504",
   "metadata": {
    "vscode": {
     "languageId": "r"
    }
   },
   "outputs": [],
   "source": [
    "\n",
    "# Path to your TSV file (Part_2___FilteredTablesWithoutProportion/Part_2___Filtered_Without_Proportions.tsv)\n",
    "tsv_file_path <- \"/path/to/Step_04___FiltrationViaProportion___BasicPreFiltration/Part_2___FilteredTablesWithoutProportion/Part_2___Filtered_Without_Proportions.tsv\"\n",
    "\n",
    "# Read in the TSV file\n",
    "df <- read.table(tsv_file_path, header = TRUE, sep = \"\\t\", stringsAsFactors = FALSE)\n",
    "\n",
    "# Print the first few rows of the data frame\n",
    "head(df)\n"
   ]
  },
  {
   "cell_type": "markdown",
   "id": "6925e168-4145-4a2a-8151-8adfa43a7004",
   "metadata": {},
   "source": [
    "## Create The Output Directory:"
   ]
  },
  {
   "cell_type": "code",
   "execution_count": null,
   "id": "eed92b8f-b58f-44c7-931b-d82ece8c93b7",
   "metadata": {
    "vscode": {
     "languageId": "r"
    }
   },
   "outputs": [],
   "source": [
    "# Get the parent directory of the TSV file\n",
    "parent_directory_tsv <- dirname(dirname(tsv_file_path))\n",
    "\n",
    "# Create the target folder path for Step_3___Per_Sample_TSV\n",
    "output_directory <- file.path(parent_directory_tsv, 'Part_3___Per_Sample_TSV')\n",
    "\n",
    "# Print the parent directory of the TSV file\n",
    "cat(\"\\n*Parent Directory:*\", parent_directory_tsv, \"\\n\\n\")\n",
    "\n",
    "# Print the output directory path for Step_3___Per_Sample_TSV\n",
    "cat(\"*Output Directory:*\", output_directory, \"\\n\\n\")\n"
   ]
  },
  {
   "cell_type": "code",
   "execution_count": null,
   "id": "dd160a33-1f1f-4705-864a-a0ba09d30de2",
   "metadata": {
    "vscode": {
     "languageId": "r"
    }
   },
   "outputs": [],
   "source": [
    "# Check if the folder already exists, if not, create it\n",
    "if (!dir.exists(output_directory)) {\n",
    "  dir.create(output_directory)\n",
    "  cat(\"Folder '\", output_directory, \"' has been created.\\n\")\n",
    "}"
   ]
  },
  {
   "cell_type": "markdown",
   "id": "59517f0f-315f-4642-85b2-4680b37c7ee0",
   "metadata": {},
   "source": [
    "## Load Required Library"
   ]
  },
  {
   "cell_type": "code",
   "execution_count": null,
   "id": "2521c3e2-e053-4190-8f25-eaa1320e6fc1",
   "metadata": {
    "vscode": {
     "languageId": "r"
    }
   },
   "outputs": [],
   "source": [
    "library(dplyr)"
   ]
  },
  {
   "cell_type": "markdown",
   "id": "c8edf54e",
   "metadata": {},
   "source": [
    "## Modify according to the number of samples used"
   ]
  },
  {
   "cell_type": "markdown",
   "id": "31f64e39-77b9-4527-8937-092649d1c0d0",
   "metadata": {},
   "source": [
    "## Control 1"
   ]
  },
  {
   "cell_type": "markdown",
   "id": "5cf52f02-82d8-4639-b4fa-035180482c39",
   "metadata": {},
   "source": [
    "This will store the Control-01 sample Non-Edited and Edited Count Data along with the Region_Position in a variable."
   ]
  },
  {
   "cell_type": "markdown",
   "id": "7ade8386",
   "metadata": {},
   "source": []
  },
  {
   "cell_type": "code",
   "execution_count": null,
   "id": "ef57aa27-c701-40ff-8c2c-8e166844de17",
   "metadata": {
    "vscode": {
     "languageId": "r"
    }
   },
   "outputs": [],
   "source": [
    "# Assuming df is your main data frame\n",
    "Control_1_df <- select(df, 1:3)\n",
    "\n",
    "# Print the first few rows of Control_1_df\n",
    "head(Control_1_df)\n"
   ]
  },
  {
   "cell_type": "markdown",
   "id": "c490e9a8-f2a6-473c-9822-31a6143d0bec",
   "metadata": {},
   "source": [
    "## Control 2"
   ]
  },
  {
   "cell_type": "markdown",
   "id": "d852a8ee-cfb6-415b-a323-9815847df88e",
   "metadata": {},
   "source": [
    "This will store the Control-02 sample Non-Edited and Edited Count Data along with the Region_Position in a variable."
   ]
  },
  {
   "cell_type": "code",
   "execution_count": null,
   "id": "62129122-4f7c-4872-be37-12e5fa8e2fba",
   "metadata": {
    "vscode": {
     "languageId": "r"
    }
   },
   "outputs": [],
   "source": [
    "# Assuming df is your data frame\n",
    "Control_2_df <- df %>%\n",
    "  select(c(1, 4, 5))\n",
    "\n",
    "# Print the resulting data frame\n",
    "head(Control_2_df)\n"
   ]
  },
  {
   "cell_type": "markdown",
   "id": "db48b890-cafb-4050-b096-788124e4a176",
   "metadata": {},
   "source": [
    "## Control 3"
   ]
  },
  {
   "cell_type": "markdown",
   "id": "5910033d-77dd-4703-b20f-b1f1edd7f709",
   "metadata": {},
   "source": [
    "This will store the Control-03 sample Non-Edited and Edited Count Data along with the Region_Position in a variable."
   ]
  },
  {
   "cell_type": "code",
   "execution_count": null,
   "id": "d724602b-cbd5-41a6-8b75-3c197fe8a9d8",
   "metadata": {
    "vscode": {
     "languageId": "r"
    }
   },
   "outputs": [],
   "source": [
    "# Assuming df is your data frame\n",
    "Control_3_df <- df %>%\n",
    "  select(c(1, 6, 7))\n",
    "\n",
    "# Print the resulting data frame\n",
    "head(Control_3_df)\n"
   ]
  },
  {
   "cell_type": "markdown",
   "id": "ae7bfc4c-0fac-486f-82fc-bd999cf626b3",
   "metadata": {},
   "source": [
    "## Control 4"
   ]
  },
  {
   "cell_type": "markdown",
   "id": "882b5c2d-c1a7-4201-909d-b05e36ff3863",
   "metadata": {},
   "source": [
    "This will store the Control-04 sample Non-Edited and Edited Count Data along with the Region_Position in a variable."
   ]
  },
  {
   "cell_type": "code",
   "execution_count": null,
   "id": "8c1757e2-bca5-481c-8684-31215f9fe018",
   "metadata": {
    "vscode": {
     "languageId": "r"
    }
   },
   "outputs": [],
   "source": [
    "# Assuming df is your data frame\n",
    "Control_4_df <- df %>%\n",
    "  select(c(1, 8, 9))\n",
    "\n",
    "# Print the resulting data frame\n",
    "head(Control_4_df)\n"
   ]
  },
  {
   "cell_type": "markdown",
   "id": "5e3fe08e-8a85-4bf8-90fd-897ab56de90d",
   "metadata": {},
   "source": [
    "## Control 5"
   ]
  },
  {
   "cell_type": "markdown",
   "id": "41aad85e-b5f5-49c0-8a53-3af9c8329299",
   "metadata": {},
   "source": [
    "This will store the Control-05 sample Non-Edited and Edited Count Data along with the Region_Position in a variable."
   ]
  },
  {
   "cell_type": "code",
   "execution_count": null,
   "id": "ad6fe794-fa65-4871-beba-89751b9259ef",
   "metadata": {
    "vscode": {
     "languageId": "r"
    }
   },
   "outputs": [],
   "source": [
    "# Assuming df is your data frame\n",
    "Control_5_df <- df %>%\n",
    "  select(c(1, 10, 11))\n",
    "\n",
    "# Print the resulting data frame\n",
    "head(Control_5_df)\n"
   ]
  },
  {
   "cell_type": "markdown",
   "id": "43ce2a76-a5f5-4eef-a563-1d96a4cd8d98",
   "metadata": {},
   "source": [
    "## Control 6"
   ]
  },
  {
   "cell_type": "markdown",
   "id": "f73e4e45-afa1-400a-9277-687d4d7c5f23",
   "metadata": {},
   "source": [
    "This will store the Control-06 sample Non-Edited and Edited Count Data along with the Region_Position in a variable."
   ]
  },
  {
   "cell_type": "code",
   "execution_count": null,
   "id": "6e0546f0-1e9f-4d6f-bf14-d6a4975455ee",
   "metadata": {
    "vscode": {
     "languageId": "r"
    }
   },
   "outputs": [],
   "source": [
    "# Assuming df is your data frame\n",
    "Control_6_df <- df %>%\n",
    "  select(c(1, 12, 13))\n",
    "\n",
    "# Print the resulting data frame\n",
    "head(Control_6_df)\n"
   ]
  },
  {
   "cell_type": "markdown",
   "id": "1f278eb7-8570-4d7c-8ac3-db2d2fa0b234",
   "metadata": {},
   "source": [
    "## Experimental 1"
   ]
  },
  {
   "cell_type": "markdown",
   "id": "d2d5e634-42ab-46b1-8622-b1b20b929e58",
   "metadata": {},
   "source": [
    "This will store the ExperimentalSample-01 sample Non-Edited and Edited Count Data along with the Region_Position in a variable."
   ]
  },
  {
   "cell_type": "code",
   "execution_count": null,
   "id": "afec9c88-8402-4604-aded-6d3e85779125",
   "metadata": {
    "vscode": {
     "languageId": "r"
    }
   },
   "outputs": [],
   "source": [
    "# Assuming df is your data frame\n",
    "Experimental_1_df <- df %>%\n",
    "  select(c(1, 14, 15))\n",
    "\n",
    "# Print the resulting data frame\n",
    "head(Experimental_1_df)\n"
   ]
  },
  {
   "cell_type": "markdown",
   "id": "5f784e50-27e3-434d-9c90-8fef8605caac",
   "metadata": {},
   "source": [
    "## Experimental 2"
   ]
  },
  {
   "cell_type": "markdown",
   "id": "cebdd76c-1408-4cc9-b443-6be00ef08299",
   "metadata": {},
   "source": [
    "This will store the ExperimentalSample-02 sample Non-Edited and Edited Count Data along with the Region_Position in  a variable."
   ]
  },
  {
   "cell_type": "code",
   "execution_count": null,
   "id": "3094bbe3-d10d-44e5-ab36-f9309c1cb0f8",
   "metadata": {
    "vscode": {
     "languageId": "r"
    }
   },
   "outputs": [],
   "source": [
    "# Assuming df is your data frame\n",
    "Experimental_2_df <- df %>%\n",
    "  select(c(1, 16, 17))\n",
    "\n",
    "# Print the resulting data frame\n",
    "head(Experimental_2_df)\n"
   ]
  },
  {
   "cell_type": "markdown",
   "id": "190045c7-8dca-40fb-b12a-8964b5b02ea3",
   "metadata": {},
   "source": [
    "## Experimental 3"
   ]
  },
  {
   "cell_type": "markdown",
   "id": "2e8cdcb4-d715-4044-a3b5-780883542bd0",
   "metadata": {},
   "source": [
    "This will store the ExperimentalSample-03 sample Non-Edited and Edited Count Data along with the Region_Position in a variable."
   ]
  },
  {
   "cell_type": "code",
   "execution_count": null,
   "id": "6be58e4c-ef80-4779-8426-2421e65226db",
   "metadata": {
    "vscode": {
     "languageId": "r"
    }
   },
   "outputs": [],
   "source": [
    "# Assuming df is your data frame\n",
    "Experimental_3_df <- df %>%\n",
    "  select(c(1, 18, 19))\n",
    "\n",
    "# Print the resulting data frame\n",
    "head(Experimental_3_df)\n"
   ]
  },
  {
   "cell_type": "markdown",
   "id": "edfc2f28-6dfa-4560-9778-2d7752bcf69a",
   "metadata": {},
   "source": [
    "## Experimental 4"
   ]
  },
  {
   "cell_type": "markdown",
   "id": "2d074b99-5798-4bc5-b82b-a9c36534b348",
   "metadata": {},
   "source": [
    "This will store the ExperimentalSample-04 sample Non-Edited and Edited Count Data along with the Region_Position in a variable."
   ]
  },
  {
   "cell_type": "code",
   "execution_count": null,
   "id": "d1cd791a-b905-402a-a273-4200b75932a2",
   "metadata": {
    "vscode": {
     "languageId": "r"
    }
   },
   "outputs": [],
   "source": [
    "# Assuming df is your data frame\n",
    "Experimental_4_df <- df %>%\n",
    "  select(c(1, 20, 21))\n",
    "\n",
    "# Print the resulting data frame\n",
    "head(Experimental_4_df)\n"
   ]
  },
  {
   "cell_type": "markdown",
   "id": "e7c1b221-a904-4d9a-8769-c18a20e082c2",
   "metadata": {},
   "source": [
    "## Experimental 5"
   ]
  },
  {
   "cell_type": "markdown",
   "id": "628a304f-627c-440a-9b8b-ce87380aef0b",
   "metadata": {},
   "source": [
    "This will store the ExperimentalSample-05 sample Non-Edited and Edited Count Data along with the Region_Position in a variable."
   ]
  },
  {
   "cell_type": "code",
   "execution_count": null,
   "id": "0e32cec3-2ac8-4d3c-a5ec-d646b271ed0b",
   "metadata": {
    "vscode": {
     "languageId": "r"
    }
   },
   "outputs": [],
   "source": [
    "# Assuming df is your data frame\n",
    "Experimental_5_df <- df %>%\n",
    "  select(c(1, 22, 23))\n",
    "\n",
    "# Print the resulting data frame\n",
    "head(Experimental_5_df)\n"
   ]
  },
  {
   "cell_type": "markdown",
   "id": "62237da2-ee86-4cc1-a378-3639b42c7420",
   "metadata": {},
   "source": [
    "## Experimental 6"
   ]
  },
  {
   "cell_type": "markdown",
   "id": "a94fb29f-fd7e-495e-87ba-14630911201a",
   "metadata": {},
   "source": [
    "This will store the ExperimentalSample-06 sample Non-Edited and Edited Count Data along with the Region_Position in a variable."
   ]
  },
  {
   "cell_type": "code",
   "execution_count": null,
   "id": "d9c0e38c-39a4-42ae-a8c7-9577d1ed011a",
   "metadata": {
    "vscode": {
     "languageId": "r"
    }
   },
   "outputs": [],
   "source": [
    "# Assuming df is your data frame\n",
    "Experimental_6_df <- df %>%\n",
    "  select(c(1, 24, 25))\n",
    "\n",
    "# Print the resulting data frame\n",
    "head(Experimental_6_df)"
   ]
  },
  {
   "cell_type": "markdown",
   "id": "edb875a3-cee6-414a-ba5b-91bbf167f860",
   "metadata": {},
   "source": [
    "## Write Control Samples To TSV And CSV"
   ]
  },
  {
   "cell_type": "markdown",
   "id": "edb61b6a-78bd-4093-94e0-63eeb126fa50",
   "metadata": {},
   "source": [
    "The `variable_list` needs to be modified based on the number of control and experimental samples you have. "
   ]
  },
  {
   "cell_type": "code",
   "execution_count": null,
   "id": "063f33f1-b0f6-4f55-b7de-381a3d10342c",
   "metadata": {
    "vscode": {
     "languageId": "r"
    }
   },
   "outputs": [],
   "source": [
    "\n",
    "# List of variables\n",
    "variable_list <- list(Control_1_df, Control_2_df, Control_3_df, \n",
    "                      Control_4_df, Control_5_df, Control_6_df)\n",
    "\n",
    "# Loop through variables 4 to 6 and write to TSV and CSV\n",
    "for (i in seq_along(variable_list)) {\n",
    "  variable <- variable_list[[i]]  # Adjust index to match the list\n",
    "  \n",
    "  # Construct file names\n",
    "  tsv_file <- file.path(output_directory, paste0(\"Control-0\", i, \"_Edited_And_NonEdited__Counts.tsv\"))\n",
    "  csv_file <- file.path(output_directory, paste0(\"Control-0\", i, \"_Edited_And_NonEdited__Counts.csv\"))\n",
    "  \n",
    "  # Write to TSV\n",
    "  write.table(variable, file = tsv_file, sep = \"\\t\", quote = FALSE, row.names = FALSE)\n",
    "\n",
    "  # Write to CSV\n",
    "  write.csv(variable, file = csv_file, row.names = FALSE)\n",
    "\n",
    "  # Print messages indicating the files have been written\n",
    "  cat(\"Control Sample\", i + 3, \"has been written to\", tsv_file, \"and\", csv_file, \"\\n\")\n",
    "}\n",
    "\n"
   ]
  },
  {
   "cell_type": "markdown",
   "id": "93f607a1-64f3-49d5-94a6-73264e886e85",
   "metadata": {},
   "source": [
    "## Write Experimental Samples To TSV And CSV"
   ]
  },
  {
   "cell_type": "markdown",
   "id": "0e239031-1b24-4210-8f96-d32156654819",
   "metadata": {},
   "source": [
    "The `variable_list` needs to be modified based on the number of control and experimental samples you have. "
   ]
  },
  {
   "cell_type": "code",
   "execution_count": null,
   "id": "21876ef1-bf25-4dde-afcb-0a000ea025f1",
   "metadata": {
    "vscode": {
     "languageId": "r"
    }
   },
   "outputs": [],
   "source": [
    "# List of variables\n",
    "variable_list <- list(Experimental_1_df, Experimental_2_df, Experimental_3_df,\n",
    "                      Experimental_4_df, Experimental_5_df, Experimental_6_df)\n",
    "\n",
    "# Loop through variables 4 to 6 and write to TSV and CSV\n",
    "for (i in seq_along(variable_list)) {\n",
    "  variable <- variable_list[[i]]  # Adjust index to match the list\n",
    "  \n",
    "  # Construct file names\n",
    "  tsv_file <- file.path(output_directory, paste0(\"Experimental-0\", i, \"_Edited_And_NonEdited__Counts.tsv\"))\n",
    "  csv_file <- file.path(output_directory, paste0(\"Experimental-0\", i, \"_Edited_And_NonEdited__Counts.csv\"))\n",
    "  \n",
    "  # Write to TSV\n",
    "  write.table(variable, file = tsv_file, sep = \"\\t\", quote = FALSE, row.names = FALSE)\n",
    "\n",
    "  # Write to CSV\n",
    "  write.csv(variable, file = csv_file, row.names = FALSE)\n",
    "\n",
    "  # Print messages indicating the files have been written\n",
    "  cat(\"Experimental Sample\", i + 3, \"has been written to\", tsv_file, \"and\", csv_file, \"\\n\")\n",
    "}\n"
   ]
  },
  {
   "cell_type": "markdown",
   "id": "1b256fd0-240a-4a00-bd4b-4f5a550aa511",
   "metadata": {},
   "source": [
    "## Session Information:"
   ]
  },
  {
   "cell_type": "code",
   "execution_count": null,
   "id": "65b17d5b-e848-494f-bb8d-9fe50b1aac39",
   "metadata": {
    "vscode": {
     "languageId": "r"
    }
   },
   "outputs": [],
   "source": [
    "sessionInfo()"
   ]
  }
 ],
 "metadata": {
  "kernelspec": {
   "display_name": "R",
   "language": "R",
   "name": "ir"
  },
  "language_info": {
   "codemirror_mode": "r",
   "file_extension": ".r",
   "mimetype": "text/x-r-source",
   "name": "R",
   "pygments_lexer": "r",
   "version": "4.2.2"
  }
 },
 "nbformat": 4,
 "nbformat_minor": 5
}
