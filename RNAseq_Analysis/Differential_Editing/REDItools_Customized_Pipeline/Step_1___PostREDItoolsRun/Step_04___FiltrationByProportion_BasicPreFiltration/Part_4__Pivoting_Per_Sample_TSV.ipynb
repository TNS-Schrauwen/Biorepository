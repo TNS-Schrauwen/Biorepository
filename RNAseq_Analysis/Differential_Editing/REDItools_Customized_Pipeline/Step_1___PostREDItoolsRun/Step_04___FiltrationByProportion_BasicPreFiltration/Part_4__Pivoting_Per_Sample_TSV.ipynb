{
 "cells": [
  {
   "cell_type": "markdown",
   "id": "cdd7ead7-b1cf-4673-a91d-85039f0e9758",
   "metadata": {},
   "source": [
    "# Pivoting Tables Per Sample TSV"
   ]
  },
  {
   "cell_type": "markdown",
   "id": "bf88d072-c56f-44f0-8725-5703f1bc5996",
   "metadata": {},
   "source": [
    "This is a required step to flip the table so that it is in a format REDITs will accept. An example of the format we hope to achieve is placed below:\n",
    "\n",
    "```\n",
    "  Region_Position___Count_Type SampleName-#Edited_And_NonEdited__Counts_Counts\n",
    "  <chr>                                                            <int>\n",
    "1 1_2468___Edited                                                      5\n",
    "2 1_2468___Non_Edited                                                 50\n",
    "```\n",
    "\n",
    "It needs to be in the format above where `SampleName` (is the name of the sample) can vary and the `#` is a number or numbers that can vary depending on the id of the sample."
   ]
  },
  {
   "cell_type": "markdown",
   "id": "6d44ef83-ad26-4643-ab48-f6efea4d7add",
   "metadata": {},
   "source": [
    "## Input Directory Path (Manual Input):"
   ]
  },
  {
   "cell_type": "markdown",
   "id": "182e1a70-1b1d-488a-8d84-a8d9c27ee701",
   "metadata": {},
   "source": [
    "In directory path please place the full path to the `Part_3___Per_Sample_TSV`."
   ]
  },
  {
   "cell_type": "code",
   "execution_count": null,
   "id": "ff174874-1277-45c9-b4f6-88a8a1bc75ad",
   "metadata": {
    "vscode": {
     "languageId": "r"
    }
   },
   "outputs": [],
   "source": [
    "\n",
    "# Specify the path to the `Per_Sample_TSV` directory \n",
    "directory_path <- \"/path/to/Step_04___FilterationViaProportion___BasicPreFiltrationDirectory/Part_3___Per_Sample_TSV\"\n"
   ]
  },
  {
   "cell_type": "markdown",
   "id": "e1fb8cee-7b55-4732-a2f8-1884685ed879",
   "metadata": {},
   "source": [
    "## Required Libraries"
   ]
  },
  {
   "cell_type": "code",
   "execution_count": null,
   "id": "68e1ad5b-8fce-4a3c-a0c4-d25349d19acb",
   "metadata": {
    "vscode": {
     "languageId": "r"
    }
   },
   "outputs": [],
   "source": [
    "library(tidyr)\n",
    "library(dplyr)\n",
    "library(readr)\n",
    "library(stringr)"
   ]
  },
  {
   "cell_type": "markdown",
   "id": "8ba697b2-abaa-41c3-8886-54758f725e38",
   "metadata": {},
   "source": [
    "## Output Directory Path"
   ]
  },
  {
   "cell_type": "code",
   "execution_count": null,
   "id": "2e29ff0b",
   "metadata": {
    "vscode": {
     "languageId": "r"
    }
   },
   "outputs": [],
   "source": [
    "# Get the parent directory of the TSV file\n",
    "parent_directory_tsv <- dirname(directory_path)\n",
    "\n",
    "# Create the target folder path for Step_3___Per_Sample_TSV\n",
    "output_directory <- file.path(parent_directory_tsv, 'Part_4___PivotedTablesPerSampleTSV')\n",
    "\n",
    "# Print the parent directory of the TSV file\n",
    "cat(\"\\n*Parent Directory:*\", parent_directory_tsv, \"\\n\\n\")\n",
    "\n",
    "# Print the output directory path for Step_3___Per_Sample_TSV\n",
    "cat(\"*Output Directory:*\", output_directory, \"\\n\\n\")\n",
    "\n",
    "# Check if the folder already exists, if not, create it\n",
    "if (!dir.exists(output_directory)) {\n",
    "  dir.create(output_directory)\n",
    "  cat(\"*Folder:* '\", output_directory, \"' has been created.\\n\")\n",
    "}\n"
   ]
  },
  {
   "cell_type": "markdown",
   "id": "92d624f6-04d4-4c9c-b19e-1729ba71f63f",
   "metadata": {},
   "source": [
    "## Main:"
   ]
  },
  {
   "cell_type": "code",
   "execution_count": null,
   "id": "e789ad1f-9a8a-483f-8da8-a25d3ffeb4f4",
   "metadata": {
    "vscode": {
     "languageId": "r"
    }
   },
   "outputs": [],
   "source": [
    "process_file <- function(file_path, output_directory) {\n",
    "  # Extract prefix from the file name\n",
    "  prefix <- sub(\"^(.*?)_\", \"\\\\1\", tools::file_path_sans_ext(basename(file_path)))\n",
    "  \n",
    "  # Read the TSV file\n",
    "  df <- read.table(file_path, header = TRUE, sep = \"\\t\", stringsAsFactors = FALSE)\n",
    "  df <- df %>%\n",
    "    select(1, 3, 2, everything())\n",
    "\n",
    "  cat(\"Head of the input file\", prefix, \":\\n\")\n",
    "  print(head(df))\n",
    "\n",
    "  # Pivot and manipulate the data\n",
    "  stacked_df <- df %>%\n",
    "    pivot_longer(\n",
    "        cols = -Region_Position,  # Specify the columns to pivot\n",
    "        names_to = \"Count_Type\",\n",
    "        values_to = \"Counts\"\n",
    "    ) %>%\n",
    "    mutate(\n",
    "        Count_Type = rep(c(\"Edited\", \"Non_Edited\"), length.out = n()),\n",
    "        Region_Position = factor(Region_Position, levels = unique(Region_Position))\n",
    "    ) %>%\n",
    "    arrange(Region_Position, Count_Type)\n",
    "\n",
    "  ##cat(\"Head of the stacked data frame for prefix\", prefix, \":\\n\")\n",
    "  ##print(head(stacked_df))\n",
    "  \n",
    "  # Rename the \"Counts\" column to \"Prefix_Counts\"\n",
    "  colnames(stacked_df)[colnames(stacked_df) == \"Counts\"] <- paste(prefix, \"Counts\", sep = \"_\")\n",
    "  \n",
    "  # Create the final stacked data frame\n",
    "  stacked_df <- stacked_df %>%\n",
    "    mutate(Region_Position___Count_Type = paste(Region_Position, Count_Type, sep = \"___\")) %>%\n",
    "    select(Region_Position___Count_Type, everything()) %>%\n",
    "    select(-c(Region_Position, Count_Type))\n",
    "\n",
    "  cat(\"Head of the stacked data frame final\", prefix, \":\\n\")\n",
    "  print(head(stacked_df))\n",
    "  \n",
    "  # Write the result to a TSV file in the output directory\n",
    "  output_file_path <- file.path(output_directory, paste(prefix, \"stacked.tsv\", sep = \"_\"))\n",
    "  write.table(stacked_df, file = output_file_path, sep = \"\\t\", quote = FALSE, row.names = FALSE)\n",
    "  # Print a success message\n",
    "  cat(\"*Table written successfully to:*\", output_file_path, \"\\n\")\n",
    "  \n",
    "}"
   ]
  },
  {
   "cell_type": "code",
   "execution_count": null,
   "id": "a0e815b6-08fa-4e4b-92cc-3b17c6cc85d0",
   "metadata": {
    "vscode": {
     "languageId": "r"
    }
   },
   "outputs": [],
   "source": [
    "# List all TSV files in the directory\n",
    "file_list <- list.files(directory_path, pattern = \"\\\\.tsv$\", full.names = TRUE)\n",
    "\n",
    "print(file_list)"
   ]
  },
  {
   "cell_type": "code",
   "execution_count": null,
   "id": "670892df-4ade-47fa-892a-d58e7809ee38",
   "metadata": {
    "vscode": {
     "languageId": "r"
    }
   },
   "outputs": [],
   "source": [
    "# Process each file and store the results in the output directory\n",
    "lapply(file_list, function(file_path) {\n",
    "  process_file(file_path, output_directory)\n",
    "})\n"
   ]
  },
  {
   "cell_type": "markdown",
   "id": "630cb960-b30c-444b-9865-87846a57afc0",
   "metadata": {},
   "source": [
    "## Session Information:"
   ]
  },
  {
   "cell_type": "code",
   "execution_count": null,
   "id": "3b59dc73-3634-4dc5-883a-b63656739dc3",
   "metadata": {
    "vscode": {
     "languageId": "r"
    }
   },
   "outputs": [],
   "source": [
    "# Print Session Information\n",
    "cat(\"\\n\\nSession Information:\\n\\n\")\n",
    "print(sessionInfo())"
   ]
  }
 ],
 "metadata": {
  "kernelspec": {
   "display_name": "R",
   "language": "R",
   "name": "ir"
  },
  "language_info": {
   "codemirror_mode": "r",
   "file_extension": ".r",
   "mimetype": "text/x-r-source",
   "name": "R",
   "pygments_lexer": "r",
   "version": "4.2.2"
  }
 },
 "nbformat": 4,
 "nbformat_minor": 5
}
