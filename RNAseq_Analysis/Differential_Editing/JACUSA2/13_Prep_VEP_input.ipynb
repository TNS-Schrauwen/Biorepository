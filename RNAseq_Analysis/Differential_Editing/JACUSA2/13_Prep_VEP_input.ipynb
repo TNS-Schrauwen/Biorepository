{
 "cells": [
  {
   "cell_type": "markdown",
   "metadata": {},
   "source": [
    "Trying to create this format for VEP:\n",
    "\n",
    "VCF\n",
    "\n",
    "VEP also supports using VCF (Variant Call Format) version 4.0. This is a common format used by the 1000 genomes project, and can be produced as an output format by many variant calling tools:"
   ]
  },
  {
   "cell_type": "markdown",
   "metadata": {},
   "source": [
    "#CHROM  POS        ID      REF  ALT            QUAL  FILTER  INFO  FORMAT\n",
    "\n",
    "1       65568      .       A    C              .     .       .     ."
   ]
  },
  {
   "cell_type": "code",
   "execution_count": 1,
   "metadata": {
    "vscode": {
     "languageId": "r"
    }
   },
   "outputs": [
    {
     "name": "stderr",
     "output_type": "stream",
     "text": [
      "\n",
      "Attaching package: ‘dplyr’\n",
      "\n",
      "\n",
      "The following objects are masked from ‘package:stats’:\n",
      "\n",
      "    filter, lag\n",
      "\n",
      "\n",
      "The following objects are masked from ‘package:base’:\n",
      "\n",
      "    intersect, setdiff, setequal, union\n",
      "\n",
      "\n"
     ]
    }
   ],
   "source": [
    "library(dplyr)\n",
    "library(tidyr)"
   ]
  },
  {
   "cell_type": "code",
   "execution_count": 3,
   "metadata": {
    "vscode": {
     "languageId": "r"
    }
   },
   "outputs": [],
   "source": [
    "# Paths to AG and TC data files\n",
    "AG_file <- \"/mnt/vast/hpc/csg/hcs2152/ZFR_RNA_Editing/JACUSA2/all_dpf/all_dpf_AG_sites.tsv\"\n",
    "TC_file <- \"/mnt/vast/hpc/csg/hcs2152/ZFR_RNA_Editing/JACUSA2/all_dpf/all_dpf_TC_sites.tsv\""
   ]
  },
  {
   "cell_type": "code",
   "execution_count": 4,
   "metadata": {
    "vscode": {
     "languageId": "r"
    }
   },
   "outputs": [],
   "source": [
    "# Load in data\n",
    "AG_data <- read.table(AG_file, header = TRUE, sep = \"\\t\", stringsAsFactors = FALSE)\n",
    "TC_data <- read.table(TC_file, header = TRUE, sep = \"\\t\", stringsAsFactors = FALSE)"
   ]
  },
  {
   "cell_type": "markdown",
   "metadata": {},
   "source": [
    "Sites for T/C (-) were checked with GenomeBrowser and corresponded to A/G forward strand so all T/C sites were switched over to A/G since the VCF input for VEP assumes forward strand."
   ]
  },
  {
   "cell_type": "code",
   "execution_count": 5,
   "metadata": {
    "vscode": {
     "languageId": "r"
    }
   },
   "outputs": [],
   "source": [
    "# Replace ref column \"TRUE\" to T (somehow got changed to TRUE)\n",
    "TC_data$ref <- \"A\""
   ]
  },
  {
   "cell_type": "code",
   "execution_count": 6,
   "metadata": {
    "vscode": {
     "languageId": "r"
    }
   },
   "outputs": [],
   "source": [
    "# Add in ALT column for A/G and T/C\n",
    "AG_data$ALT <- \"G\"\n",
    "TC_data$ALT <- \"G\""
   ]
  },
  {
   "cell_type": "code",
   "execution_count": 7,
   "metadata": {
    "vscode": {
     "languageId": "r"
    }
   },
   "outputs": [],
   "source": [
    "# Remove counts data\n",
    "AG_data <- AG_data[, !grepl(\"count\", colnames(AG_data))]\n",
    "TC_data <- TC_data[, !grepl(\"count\", colnames(TC_data))]"
   ]
  },
  {
   "cell_type": "code",
   "execution_count": 8,
   "metadata": {
    "vscode": {
     "languageId": "r"
    }
   },
   "outputs": [],
   "source": [
    "# Remove strand and tag\n",
    "AG_data <- AG_data[, !grepl(\"strand\", colnames(AG_data))]\n",
    "TC_data <- TC_data[, !grepl(\"strand\", colnames(TC_data))]\n",
    "\n",
    "AG_data <- AG_data[, !grepl(\"tag\", colnames(AG_data))]\n",
    "TC_data <- TC_data[, !grepl(\"tag\", colnames(TC_data))]"
   ]
  },
  {
   "cell_type": "code",
   "execution_count": 9,
   "metadata": {
    "vscode": {
     "languageId": "r"
    }
   },
   "outputs": [
    {
     "data": {
      "text/html": [
       "<table class=\"dataframe\">\n",
       "<caption>A data.frame: 13144 × 3</caption>\n",
       "<thead>\n",
       "\t<tr><th scope=col>ID</th><th scope=col>ref</th><th scope=col>ALT</th></tr>\n",
       "\t<tr><th scope=col>&lt;chr&gt;</th><th scope=col>&lt;chr&gt;</th><th scope=col>&lt;chr&gt;</th></tr>\n",
       "</thead>\n",
       "<tbody>\n",
       "\t<tr><td>1_10023876</td><td>A</td><td>G</td></tr>\n",
       "\t<tr><td>1_10054490</td><td>A</td><td>G</td></tr>\n",
       "\t<tr><td>1_10057975</td><td>A</td><td>G</td></tr>\n",
       "\t<tr><td>1_10313231</td><td>A</td><td>G</td></tr>\n",
       "\t<tr><td>1_10314652</td><td>A</td><td>G</td></tr>\n",
       "\t<tr><td>1_10325782</td><td>A</td><td>G</td></tr>\n",
       "\t<tr><td>1_10325785</td><td>A</td><td>G</td></tr>\n",
       "\t<tr><td>1_10379135</td><td>A</td><td>G</td></tr>\n",
       "\t<tr><td>1_10432785</td><td>A</td><td>G</td></tr>\n",
       "\t<tr><td>1_10684036</td><td>A</td><td>G</td></tr>\n",
       "\t<tr><td>1_10697099</td><td>A</td><td>G</td></tr>\n",
       "\t<tr><td>1_10697988</td><td>A</td><td>G</td></tr>\n",
       "\t<tr><td>1_10698061</td><td>A</td><td>G</td></tr>\n",
       "\t<tr><td>1_10698204</td><td>A</td><td>G</td></tr>\n",
       "\t<tr><td>1_10698353</td><td>A</td><td>G</td></tr>\n",
       "\t<tr><td>1_10698394</td><td>A</td><td>G</td></tr>\n",
       "\t<tr><td>1_10698477</td><td>A</td><td>G</td></tr>\n",
       "\t<tr><td>1_10698975</td><td>A</td><td>G</td></tr>\n",
       "\t<tr><td>1_10738567</td><td>A</td><td>G</td></tr>\n",
       "\t<tr><td>1_11997844</td><td>A</td><td>G</td></tr>\n",
       "\t<tr><td>1_12079708</td><td>A</td><td>G</td></tr>\n",
       "\t<tr><td>1_12765514</td><td>A</td><td>G</td></tr>\n",
       "\t<tr><td>1_14021176</td><td>A</td><td>G</td></tr>\n",
       "\t<tr><td>1_14021181</td><td>A</td><td>G</td></tr>\n",
       "\t<tr><td>1_14026315</td><td>A</td><td>G</td></tr>\n",
       "\t<tr><td>1_14026586</td><td>A</td><td>G</td></tr>\n",
       "\t<tr><td>1_14108944</td><td>A</td><td>G</td></tr>\n",
       "\t<tr><td>1_14129152</td><td>A</td><td>G</td></tr>\n",
       "\t<tr><td>1_14133060</td><td>A</td><td>G</td></tr>\n",
       "\t<tr><td>1_14140207</td><td>A</td><td>G</td></tr>\n",
       "\t<tr><td>⋮</td><td>⋮</td><td>⋮</td></tr>\n",
       "\t<tr><td>25_7988488</td><td>A</td><td>G</td></tr>\n",
       "\t<tr><td>25_7988497</td><td>A</td><td>G</td></tr>\n",
       "\t<tr><td>25_7988505</td><td>A</td><td>G</td></tr>\n",
       "\t<tr><td>25_7988515</td><td>A</td><td>G</td></tr>\n",
       "\t<tr><td>25_7988516</td><td>A</td><td>G</td></tr>\n",
       "\t<tr><td>25_7988573</td><td>A</td><td>G</td></tr>\n",
       "\t<tr><td>25_7988583</td><td>A</td><td>G</td></tr>\n",
       "\t<tr><td>25_8372316</td><td>A</td><td>G</td></tr>\n",
       "\t<tr><td>25_8373255</td><td>A</td><td>G</td></tr>\n",
       "\t<tr><td>25_8374509</td><td>A</td><td>G</td></tr>\n",
       "\t<tr><td>25_8377972</td><td>A</td><td>G</td></tr>\n",
       "\t<tr><td>25_8381911</td><td>A</td><td>G</td></tr>\n",
       "\t<tr><td>25_8388435</td><td>A</td><td>G</td></tr>\n",
       "\t<tr><td>25_8388486</td><td>A</td><td>G</td></tr>\n",
       "\t<tr><td>25_8388488</td><td>A</td><td>G</td></tr>\n",
       "\t<tr><td>25_8393095</td><td>A</td><td>G</td></tr>\n",
       "\t<tr><td>25_8422593</td><td>A</td><td>G</td></tr>\n",
       "\t<tr><td>25_8666050</td><td>A</td><td>G</td></tr>\n",
       "\t<tr><td>25_8666210</td><td>A</td><td>G</td></tr>\n",
       "\t<tr><td>25_8713467</td><td>A</td><td>G</td></tr>\n",
       "\t<tr><td>25_8740052</td><td>A</td><td>G</td></tr>\n",
       "\t<tr><td>25_8740125</td><td>A</td><td>G</td></tr>\n",
       "\t<tr><td>25_8740380</td><td>A</td><td>G</td></tr>\n",
       "\t<tr><td>25_8740763</td><td>A</td><td>G</td></tr>\n",
       "\t<tr><td>25_8741007</td><td>A</td><td>G</td></tr>\n",
       "\t<tr><td>25_8741669</td><td>A</td><td>G</td></tr>\n",
       "\t<tr><td>25_8742280</td><td>A</td><td>G</td></tr>\n",
       "\t<tr><td>25_8922142</td><td>A</td><td>G</td></tr>\n",
       "\t<tr><td>25_8946650</td><td>A</td><td>G</td></tr>\n",
       "\t<tr><td>25_8949093</td><td>A</td><td>G</td></tr>\n",
       "</tbody>\n",
       "</table>\n"
      ],
      "text/latex": [
       "A data.frame: 13144 × 3\n",
       "\\begin{tabular}{lll}\n",
       " ID & ref & ALT\\\\\n",
       " <chr> & <chr> & <chr>\\\\\n",
       "\\hline\n",
       "\t 1\\_10023876 & A & G\\\\\n",
       "\t 1\\_10054490 & A & G\\\\\n",
       "\t 1\\_10057975 & A & G\\\\\n",
       "\t 1\\_10313231 & A & G\\\\\n",
       "\t 1\\_10314652 & A & G\\\\\n",
       "\t 1\\_10325782 & A & G\\\\\n",
       "\t 1\\_10325785 & A & G\\\\\n",
       "\t 1\\_10379135 & A & G\\\\\n",
       "\t 1\\_10432785 & A & G\\\\\n",
       "\t 1\\_10684036 & A & G\\\\\n",
       "\t 1\\_10697099 & A & G\\\\\n",
       "\t 1\\_10697988 & A & G\\\\\n",
       "\t 1\\_10698061 & A & G\\\\\n",
       "\t 1\\_10698204 & A & G\\\\\n",
       "\t 1\\_10698353 & A & G\\\\\n",
       "\t 1\\_10698394 & A & G\\\\\n",
       "\t 1\\_10698477 & A & G\\\\\n",
       "\t 1\\_10698975 & A & G\\\\\n",
       "\t 1\\_10738567 & A & G\\\\\n",
       "\t 1\\_11997844 & A & G\\\\\n",
       "\t 1\\_12079708 & A & G\\\\\n",
       "\t 1\\_12765514 & A & G\\\\\n",
       "\t 1\\_14021176 & A & G\\\\\n",
       "\t 1\\_14021181 & A & G\\\\\n",
       "\t 1\\_14026315 & A & G\\\\\n",
       "\t 1\\_14026586 & A & G\\\\\n",
       "\t 1\\_14108944 & A & G\\\\\n",
       "\t 1\\_14129152 & A & G\\\\\n",
       "\t 1\\_14133060 & A & G\\\\\n",
       "\t 1\\_14140207 & A & G\\\\\n",
       "\t ⋮ & ⋮ & ⋮\\\\\n",
       "\t 25\\_7988488 & A & G\\\\\n",
       "\t 25\\_7988497 & A & G\\\\\n",
       "\t 25\\_7988505 & A & G\\\\\n",
       "\t 25\\_7988515 & A & G\\\\\n",
       "\t 25\\_7988516 & A & G\\\\\n",
       "\t 25\\_7988573 & A & G\\\\\n",
       "\t 25\\_7988583 & A & G\\\\\n",
       "\t 25\\_8372316 & A & G\\\\\n",
       "\t 25\\_8373255 & A & G\\\\\n",
       "\t 25\\_8374509 & A & G\\\\\n",
       "\t 25\\_8377972 & A & G\\\\\n",
       "\t 25\\_8381911 & A & G\\\\\n",
       "\t 25\\_8388435 & A & G\\\\\n",
       "\t 25\\_8388486 & A & G\\\\\n",
       "\t 25\\_8388488 & A & G\\\\\n",
       "\t 25\\_8393095 & A & G\\\\\n",
       "\t 25\\_8422593 & A & G\\\\\n",
       "\t 25\\_8666050 & A & G\\\\\n",
       "\t 25\\_8666210 & A & G\\\\\n",
       "\t 25\\_8713467 & A & G\\\\\n",
       "\t 25\\_8740052 & A & G\\\\\n",
       "\t 25\\_8740125 & A & G\\\\\n",
       "\t 25\\_8740380 & A & G\\\\\n",
       "\t 25\\_8740763 & A & G\\\\\n",
       "\t 25\\_8741007 & A & G\\\\\n",
       "\t 25\\_8741669 & A & G\\\\\n",
       "\t 25\\_8742280 & A & G\\\\\n",
       "\t 25\\_8922142 & A & G\\\\\n",
       "\t 25\\_8946650 & A & G\\\\\n",
       "\t 25\\_8949093 & A & G\\\\\n",
       "\\end{tabular}\n"
      ],
      "text/markdown": [
       "\n",
       "A data.frame: 13144 × 3\n",
       "\n",
       "| ID &lt;chr&gt; | ref &lt;chr&gt; | ALT &lt;chr&gt; |\n",
       "|---|---|---|\n",
       "| 1_10023876 | A | G |\n",
       "| 1_10054490 | A | G |\n",
       "| 1_10057975 | A | G |\n",
       "| 1_10313231 | A | G |\n",
       "| 1_10314652 | A | G |\n",
       "| 1_10325782 | A | G |\n",
       "| 1_10325785 | A | G |\n",
       "| 1_10379135 | A | G |\n",
       "| 1_10432785 | A | G |\n",
       "| 1_10684036 | A | G |\n",
       "| 1_10697099 | A | G |\n",
       "| 1_10697988 | A | G |\n",
       "| 1_10698061 | A | G |\n",
       "| 1_10698204 | A | G |\n",
       "| 1_10698353 | A | G |\n",
       "| 1_10698394 | A | G |\n",
       "| 1_10698477 | A | G |\n",
       "| 1_10698975 | A | G |\n",
       "| 1_10738567 | A | G |\n",
       "| 1_11997844 | A | G |\n",
       "| 1_12079708 | A | G |\n",
       "| 1_12765514 | A | G |\n",
       "| 1_14021176 | A | G |\n",
       "| 1_14021181 | A | G |\n",
       "| 1_14026315 | A | G |\n",
       "| 1_14026586 | A | G |\n",
       "| 1_14108944 | A | G |\n",
       "| 1_14129152 | A | G |\n",
       "| 1_14133060 | A | G |\n",
       "| 1_14140207 | A | G |\n",
       "| ⋮ | ⋮ | ⋮ |\n",
       "| 25_7988488 | A | G |\n",
       "| 25_7988497 | A | G |\n",
       "| 25_7988505 | A | G |\n",
       "| 25_7988515 | A | G |\n",
       "| 25_7988516 | A | G |\n",
       "| 25_7988573 | A | G |\n",
       "| 25_7988583 | A | G |\n",
       "| 25_8372316 | A | G |\n",
       "| 25_8373255 | A | G |\n",
       "| 25_8374509 | A | G |\n",
       "| 25_8377972 | A | G |\n",
       "| 25_8381911 | A | G |\n",
       "| 25_8388435 | A | G |\n",
       "| 25_8388486 | A | G |\n",
       "| 25_8388488 | A | G |\n",
       "| 25_8393095 | A | G |\n",
       "| 25_8422593 | A | G |\n",
       "| 25_8666050 | A | G |\n",
       "| 25_8666210 | A | G |\n",
       "| 25_8713467 | A | G |\n",
       "| 25_8740052 | A | G |\n",
       "| 25_8740125 | A | G |\n",
       "| 25_8740380 | A | G |\n",
       "| 25_8740763 | A | G |\n",
       "| 25_8741007 | A | G |\n",
       "| 25_8741669 | A | G |\n",
       "| 25_8742280 | A | G |\n",
       "| 25_8922142 | A | G |\n",
       "| 25_8946650 | A | G |\n",
       "| 25_8949093 | A | G |\n",
       "\n"
      ],
      "text/plain": [
       "      ID         ref ALT\n",
       "1     1_10023876 A   G  \n",
       "2     1_10054490 A   G  \n",
       "3     1_10057975 A   G  \n",
       "4     1_10313231 A   G  \n",
       "5     1_10314652 A   G  \n",
       "6     1_10325782 A   G  \n",
       "7     1_10325785 A   G  \n",
       "8     1_10379135 A   G  \n",
       "9     1_10432785 A   G  \n",
       "10    1_10684036 A   G  \n",
       "11    1_10697099 A   G  \n",
       "12    1_10697988 A   G  \n",
       "13    1_10698061 A   G  \n",
       "14    1_10698204 A   G  \n",
       "15    1_10698353 A   G  \n",
       "16    1_10698394 A   G  \n",
       "17    1_10698477 A   G  \n",
       "18    1_10698975 A   G  \n",
       "19    1_10738567 A   G  \n",
       "20    1_11997844 A   G  \n",
       "21    1_12079708 A   G  \n",
       "22    1_12765514 A   G  \n",
       "23    1_14021176 A   G  \n",
       "24    1_14021181 A   G  \n",
       "25    1_14026315 A   G  \n",
       "26    1_14026586 A   G  \n",
       "27    1_14108944 A   G  \n",
       "28    1_14129152 A   G  \n",
       "29    1_14133060 A   G  \n",
       "30    1_14140207 A   G  \n",
       "⋮     ⋮          ⋮   ⋮  \n",
       "13115 25_7988488 A   G  \n",
       "13116 25_7988497 A   G  \n",
       "13117 25_7988505 A   G  \n",
       "13118 25_7988515 A   G  \n",
       "13119 25_7988516 A   G  \n",
       "13120 25_7988573 A   G  \n",
       "13121 25_7988583 A   G  \n",
       "13122 25_8372316 A   G  \n",
       "13123 25_8373255 A   G  \n",
       "13124 25_8374509 A   G  \n",
       "13125 25_8377972 A   G  \n",
       "13126 25_8381911 A   G  \n",
       "13127 25_8388435 A   G  \n",
       "13128 25_8388486 A   G  \n",
       "13129 25_8388488 A   G  \n",
       "13130 25_8393095 A   G  \n",
       "13131 25_8422593 A   G  \n",
       "13132 25_8666050 A   G  \n",
       "13133 25_8666210 A   G  \n",
       "13134 25_8713467 A   G  \n",
       "13135 25_8740052 A   G  \n",
       "13136 25_8740125 A   G  \n",
       "13137 25_8740380 A   G  \n",
       "13138 25_8740763 A   G  \n",
       "13139 25_8741007 A   G  \n",
       "13140 25_8741669 A   G  \n",
       "13141 25_8742280 A   G  \n",
       "13142 25_8922142 A   G  \n",
       "13143 25_8946650 A   G  \n",
       "13144 25_8949093 A   G  "
      ]
     },
     "metadata": {},
     "output_type": "display_data"
    }
   ],
   "source": [
    "AG_data"
   ]
  },
  {
   "cell_type": "code",
   "execution_count": 10,
   "metadata": {
    "vscode": {
     "languageId": "r"
    }
   },
   "outputs": [],
   "source": [
    "# Merge the two for futher manipulating \n",
    "all_data <- merge(AG_data, TC_data, by = c(\"ID\", \"ref\", \"ALT\"), all = TRUE)"
   ]
  },
  {
   "cell_type": "code",
   "execution_count": 11,
   "metadata": {
    "vscode": {
     "languageId": "r"
    }
   },
   "outputs": [
    {
     "data": {
      "text/html": [
       "<table class=\"dataframe\">\n",
       "<caption>A data.frame: 23983 × 3</caption>\n",
       "<thead>\n",
       "\t<tr><th scope=col>ID</th><th scope=col>ref</th><th scope=col>ALT</th></tr>\n",
       "\t<tr><th scope=col>&lt;chr&gt;</th><th scope=col>&lt;chr&gt;</th><th scope=col>&lt;chr&gt;</th></tr>\n",
       "</thead>\n",
       "<tbody>\n",
       "\t<tr><td>1_10023876</td><td>A</td><td>G</td></tr>\n",
       "\t<tr><td>1_10054490</td><td>A</td><td>G</td></tr>\n",
       "\t<tr><td>1_10057975</td><td>A</td><td>G</td></tr>\n",
       "\t<tr><td>1_10067239</td><td>A</td><td>G</td></tr>\n",
       "\t<tr><td>1_1006825 </td><td>A</td><td>G</td></tr>\n",
       "\t<tr><td>1_10068596</td><td>A</td><td>G</td></tr>\n",
       "\t<tr><td>1_1009780 </td><td>A</td><td>G</td></tr>\n",
       "\t<tr><td>1_10313231</td><td>A</td><td>G</td></tr>\n",
       "\t<tr><td>1_10314652</td><td>A</td><td>G</td></tr>\n",
       "\t<tr><td>1_10325782</td><td>A</td><td>G</td></tr>\n",
       "\t<tr><td>1_10325785</td><td>A</td><td>G</td></tr>\n",
       "\t<tr><td>1_10379135</td><td>A</td><td>G</td></tr>\n",
       "\t<tr><td>1_10432785</td><td>A</td><td>G</td></tr>\n",
       "\t<tr><td>1_10684036</td><td>A</td><td>G</td></tr>\n",
       "\t<tr><td>1_10697099</td><td>A</td><td>G</td></tr>\n",
       "\t<tr><td>1_10697988</td><td>A</td><td>G</td></tr>\n",
       "\t<tr><td>1_10698061</td><td>A</td><td>G</td></tr>\n",
       "\t<tr><td>1_10698204</td><td>A</td><td>G</td></tr>\n",
       "\t<tr><td>1_10698353</td><td>A</td><td>G</td></tr>\n",
       "\t<tr><td>1_10698394</td><td>A</td><td>G</td></tr>\n",
       "\t<tr><td>1_10698477</td><td>A</td><td>G</td></tr>\n",
       "\t<tr><td>1_10698975</td><td>A</td><td>G</td></tr>\n",
       "\t<tr><td>1_10738567</td><td>A</td><td>G</td></tr>\n",
       "\t<tr><td>1_10822937</td><td>A</td><td>G</td></tr>\n",
       "\t<tr><td>1_10822972</td><td>A</td><td>G</td></tr>\n",
       "\t<tr><td>1_10823089</td><td>A</td><td>G</td></tr>\n",
       "\t<tr><td>1_10838290</td><td>A</td><td>G</td></tr>\n",
       "\t<tr><td>1_10897372</td><td>A</td><td>G</td></tr>\n",
       "\t<tr><td>1_10901303</td><td>A</td><td>G</td></tr>\n",
       "\t<tr><td>1_10918137</td><td>A</td><td>G</td></tr>\n",
       "\t<tr><td>⋮</td><td>⋮</td><td>⋮</td></tr>\n",
       "\t<tr><td>25_8388435</td><td>A</td><td>G</td></tr>\n",
       "\t<tr><td>25_8388486</td><td>A</td><td>G</td></tr>\n",
       "\t<tr><td>25_8388488</td><td>A</td><td>G</td></tr>\n",
       "\t<tr><td>25_8393095</td><td>A</td><td>G</td></tr>\n",
       "\t<tr><td>25_8422593</td><td>A</td><td>G</td></tr>\n",
       "\t<tr><td>25_8497731</td><td>A</td><td>G</td></tr>\n",
       "\t<tr><td>25_8507031</td><td>A</td><td>G</td></tr>\n",
       "\t<tr><td>25_8666050</td><td>A</td><td>G</td></tr>\n",
       "\t<tr><td>25_8666210</td><td>A</td><td>G</td></tr>\n",
       "\t<tr><td>25_8713467</td><td>A</td><td>G</td></tr>\n",
       "\t<tr><td>25_8740052</td><td>A</td><td>G</td></tr>\n",
       "\t<tr><td>25_8740125</td><td>A</td><td>G</td></tr>\n",
       "\t<tr><td>25_8740380</td><td>A</td><td>G</td></tr>\n",
       "\t<tr><td>25_8740763</td><td>A</td><td>G</td></tr>\n",
       "\t<tr><td>25_8741007</td><td>A</td><td>G</td></tr>\n",
       "\t<tr><td>25_8741669</td><td>A</td><td>G</td></tr>\n",
       "\t<tr><td>25_8742280</td><td>A</td><td>G</td></tr>\n",
       "\t<tr><td>25_8773256</td><td>A</td><td>G</td></tr>\n",
       "\t<tr><td>25_8908416</td><td>A</td><td>G</td></tr>\n",
       "\t<tr><td>25_8922142</td><td>A</td><td>G</td></tr>\n",
       "\t<tr><td>25_8946650</td><td>A</td><td>G</td></tr>\n",
       "\t<tr><td>25_8949093</td><td>A</td><td>G</td></tr>\n",
       "\t<tr><td>25_907082 </td><td>A</td><td>G</td></tr>\n",
       "\t<tr><td>25_907126 </td><td>A</td><td>G</td></tr>\n",
       "\t<tr><td>25_914896 </td><td>A</td><td>G</td></tr>\n",
       "\t<tr><td>25_932471 </td><td>A</td><td>G</td></tr>\n",
       "\t<tr><td>25_940419 </td><td>A</td><td>G</td></tr>\n",
       "\t<tr><td>25_9676911</td><td>A</td><td>G</td></tr>\n",
       "\t<tr><td>25_9680483</td><td>A</td><td>G</td></tr>\n",
       "\t<tr><td>25_994902 </td><td>A</td><td>G</td></tr>\n",
       "</tbody>\n",
       "</table>\n"
      ],
      "text/latex": [
       "A data.frame: 23983 × 3\n",
       "\\begin{tabular}{lll}\n",
       " ID & ref & ALT\\\\\n",
       " <chr> & <chr> & <chr>\\\\\n",
       "\\hline\n",
       "\t 1\\_10023876 & A & G\\\\\n",
       "\t 1\\_10054490 & A & G\\\\\n",
       "\t 1\\_10057975 & A & G\\\\\n",
       "\t 1\\_10067239 & A & G\\\\\n",
       "\t 1\\_1006825  & A & G\\\\\n",
       "\t 1\\_10068596 & A & G\\\\\n",
       "\t 1\\_1009780  & A & G\\\\\n",
       "\t 1\\_10313231 & A & G\\\\\n",
       "\t 1\\_10314652 & A & G\\\\\n",
       "\t 1\\_10325782 & A & G\\\\\n",
       "\t 1\\_10325785 & A & G\\\\\n",
       "\t 1\\_10379135 & A & G\\\\\n",
       "\t 1\\_10432785 & A & G\\\\\n",
       "\t 1\\_10684036 & A & G\\\\\n",
       "\t 1\\_10697099 & A & G\\\\\n",
       "\t 1\\_10697988 & A & G\\\\\n",
       "\t 1\\_10698061 & A & G\\\\\n",
       "\t 1\\_10698204 & A & G\\\\\n",
       "\t 1\\_10698353 & A & G\\\\\n",
       "\t 1\\_10698394 & A & G\\\\\n",
       "\t 1\\_10698477 & A & G\\\\\n",
       "\t 1\\_10698975 & A & G\\\\\n",
       "\t 1\\_10738567 & A & G\\\\\n",
       "\t 1\\_10822937 & A & G\\\\\n",
       "\t 1\\_10822972 & A & G\\\\\n",
       "\t 1\\_10823089 & A & G\\\\\n",
       "\t 1\\_10838290 & A & G\\\\\n",
       "\t 1\\_10897372 & A & G\\\\\n",
       "\t 1\\_10901303 & A & G\\\\\n",
       "\t 1\\_10918137 & A & G\\\\\n",
       "\t ⋮ & ⋮ & ⋮\\\\\n",
       "\t 25\\_8388435 & A & G\\\\\n",
       "\t 25\\_8388486 & A & G\\\\\n",
       "\t 25\\_8388488 & A & G\\\\\n",
       "\t 25\\_8393095 & A & G\\\\\n",
       "\t 25\\_8422593 & A & G\\\\\n",
       "\t 25\\_8497731 & A & G\\\\\n",
       "\t 25\\_8507031 & A & G\\\\\n",
       "\t 25\\_8666050 & A & G\\\\\n",
       "\t 25\\_8666210 & A & G\\\\\n",
       "\t 25\\_8713467 & A & G\\\\\n",
       "\t 25\\_8740052 & A & G\\\\\n",
       "\t 25\\_8740125 & A & G\\\\\n",
       "\t 25\\_8740380 & A & G\\\\\n",
       "\t 25\\_8740763 & A & G\\\\\n",
       "\t 25\\_8741007 & A & G\\\\\n",
       "\t 25\\_8741669 & A & G\\\\\n",
       "\t 25\\_8742280 & A & G\\\\\n",
       "\t 25\\_8773256 & A & G\\\\\n",
       "\t 25\\_8908416 & A & G\\\\\n",
       "\t 25\\_8922142 & A & G\\\\\n",
       "\t 25\\_8946650 & A & G\\\\\n",
       "\t 25\\_8949093 & A & G\\\\\n",
       "\t 25\\_907082  & A & G\\\\\n",
       "\t 25\\_907126  & A & G\\\\\n",
       "\t 25\\_914896  & A & G\\\\\n",
       "\t 25\\_932471  & A & G\\\\\n",
       "\t 25\\_940419  & A & G\\\\\n",
       "\t 25\\_9676911 & A & G\\\\\n",
       "\t 25\\_9680483 & A & G\\\\\n",
       "\t 25\\_994902  & A & G\\\\\n",
       "\\end{tabular}\n"
      ],
      "text/markdown": [
       "\n",
       "A data.frame: 23983 × 3\n",
       "\n",
       "| ID &lt;chr&gt; | ref &lt;chr&gt; | ALT &lt;chr&gt; |\n",
       "|---|---|---|\n",
       "| 1_10023876 | A | G |\n",
       "| 1_10054490 | A | G |\n",
       "| 1_10057975 | A | G |\n",
       "| 1_10067239 | A | G |\n",
       "| 1_1006825  | A | G |\n",
       "| 1_10068596 | A | G |\n",
       "| 1_1009780  | A | G |\n",
       "| 1_10313231 | A | G |\n",
       "| 1_10314652 | A | G |\n",
       "| 1_10325782 | A | G |\n",
       "| 1_10325785 | A | G |\n",
       "| 1_10379135 | A | G |\n",
       "| 1_10432785 | A | G |\n",
       "| 1_10684036 | A | G |\n",
       "| 1_10697099 | A | G |\n",
       "| 1_10697988 | A | G |\n",
       "| 1_10698061 | A | G |\n",
       "| 1_10698204 | A | G |\n",
       "| 1_10698353 | A | G |\n",
       "| 1_10698394 | A | G |\n",
       "| 1_10698477 | A | G |\n",
       "| 1_10698975 | A | G |\n",
       "| 1_10738567 | A | G |\n",
       "| 1_10822937 | A | G |\n",
       "| 1_10822972 | A | G |\n",
       "| 1_10823089 | A | G |\n",
       "| 1_10838290 | A | G |\n",
       "| 1_10897372 | A | G |\n",
       "| 1_10901303 | A | G |\n",
       "| 1_10918137 | A | G |\n",
       "| ⋮ | ⋮ | ⋮ |\n",
       "| 25_8388435 | A | G |\n",
       "| 25_8388486 | A | G |\n",
       "| 25_8388488 | A | G |\n",
       "| 25_8393095 | A | G |\n",
       "| 25_8422593 | A | G |\n",
       "| 25_8497731 | A | G |\n",
       "| 25_8507031 | A | G |\n",
       "| 25_8666050 | A | G |\n",
       "| 25_8666210 | A | G |\n",
       "| 25_8713467 | A | G |\n",
       "| 25_8740052 | A | G |\n",
       "| 25_8740125 | A | G |\n",
       "| 25_8740380 | A | G |\n",
       "| 25_8740763 | A | G |\n",
       "| 25_8741007 | A | G |\n",
       "| 25_8741669 | A | G |\n",
       "| 25_8742280 | A | G |\n",
       "| 25_8773256 | A | G |\n",
       "| 25_8908416 | A | G |\n",
       "| 25_8922142 | A | G |\n",
       "| 25_8946650 | A | G |\n",
       "| 25_8949093 | A | G |\n",
       "| 25_907082  | A | G |\n",
       "| 25_907126  | A | G |\n",
       "| 25_914896  | A | G |\n",
       "| 25_932471  | A | G |\n",
       "| 25_940419  | A | G |\n",
       "| 25_9676911 | A | G |\n",
       "| 25_9680483 | A | G |\n",
       "| 25_994902  | A | G |\n",
       "\n"
      ],
      "text/plain": [
       "      ID         ref ALT\n",
       "1     1_10023876 A   G  \n",
       "2     1_10054490 A   G  \n",
       "3     1_10057975 A   G  \n",
       "4     1_10067239 A   G  \n",
       "5     1_1006825  A   G  \n",
       "6     1_10068596 A   G  \n",
       "7     1_1009780  A   G  \n",
       "8     1_10313231 A   G  \n",
       "9     1_10314652 A   G  \n",
       "10    1_10325782 A   G  \n",
       "11    1_10325785 A   G  \n",
       "12    1_10379135 A   G  \n",
       "13    1_10432785 A   G  \n",
       "14    1_10684036 A   G  \n",
       "15    1_10697099 A   G  \n",
       "16    1_10697988 A   G  \n",
       "17    1_10698061 A   G  \n",
       "18    1_10698204 A   G  \n",
       "19    1_10698353 A   G  \n",
       "20    1_10698394 A   G  \n",
       "21    1_10698477 A   G  \n",
       "22    1_10698975 A   G  \n",
       "23    1_10738567 A   G  \n",
       "24    1_10822937 A   G  \n",
       "25    1_10822972 A   G  \n",
       "26    1_10823089 A   G  \n",
       "27    1_10838290 A   G  \n",
       "28    1_10897372 A   G  \n",
       "29    1_10901303 A   G  \n",
       "30    1_10918137 A   G  \n",
       "⋮     ⋮          ⋮   ⋮  \n",
       "23954 25_8388435 A   G  \n",
       "23955 25_8388486 A   G  \n",
       "23956 25_8388488 A   G  \n",
       "23957 25_8393095 A   G  \n",
       "23958 25_8422593 A   G  \n",
       "23959 25_8497731 A   G  \n",
       "23960 25_8507031 A   G  \n",
       "23961 25_8666050 A   G  \n",
       "23962 25_8666210 A   G  \n",
       "23963 25_8713467 A   G  \n",
       "23964 25_8740052 A   G  \n",
       "23965 25_8740125 A   G  \n",
       "23966 25_8740380 A   G  \n",
       "23967 25_8740763 A   G  \n",
       "23968 25_8741007 A   G  \n",
       "23969 25_8741669 A   G  \n",
       "23970 25_8742280 A   G  \n",
       "23971 25_8773256 A   G  \n",
       "23972 25_8908416 A   G  \n",
       "23973 25_8922142 A   G  \n",
       "23974 25_8946650 A   G  \n",
       "23975 25_8949093 A   G  \n",
       "23976 25_907082  A   G  \n",
       "23977 25_907126  A   G  \n",
       "23978 25_914896  A   G  \n",
       "23979 25_932471  A   G  \n",
       "23980 25_940419  A   G  \n",
       "23981 25_9676911 A   G  \n",
       "23982 25_9680483 A   G  \n",
       "23983 25_994902  A   G  "
      ]
     },
     "metadata": {},
     "output_type": "display_data"
    }
   ],
   "source": [
    "all_data"
   ]
  },
  {
   "cell_type": "code",
   "execution_count": 12,
   "metadata": {
    "vscode": {
     "languageId": "r"
    }
   },
   "outputs": [],
   "source": [
    "#Split ID into CHROM POS\n",
    "all_data <- all_data %>%\n",
    "  separate(ID, into = c(\"#CHROM\", \"POS\"), sep = \"_\", remove = FALSE)"
   ]
  },
  {
   "cell_type": "code",
   "execution_count": 13,
   "metadata": {
    "vscode": {
     "languageId": "r"
    }
   },
   "outputs": [
    {
     "data": {
      "text/html": [
       "<table class=\"dataframe\">\n",
       "<caption>A data.frame: 6 × 5</caption>\n",
       "<thead>\n",
       "\t<tr><th></th><th scope=col>ID</th><th scope=col>#CHROM</th><th scope=col>POS</th><th scope=col>ref</th><th scope=col>ALT</th></tr>\n",
       "\t<tr><th></th><th scope=col>&lt;chr&gt;</th><th scope=col>&lt;chr&gt;</th><th scope=col>&lt;chr&gt;</th><th scope=col>&lt;chr&gt;</th><th scope=col>&lt;chr&gt;</th></tr>\n",
       "</thead>\n",
       "<tbody>\n",
       "\t<tr><th scope=row>1</th><td>1_10023876</td><td>1</td><td>10023876</td><td>A</td><td>G</td></tr>\n",
       "\t<tr><th scope=row>2</th><td>1_10054490</td><td>1</td><td>10054490</td><td>A</td><td>G</td></tr>\n",
       "\t<tr><th scope=row>3</th><td>1_10057975</td><td>1</td><td>10057975</td><td>A</td><td>G</td></tr>\n",
       "\t<tr><th scope=row>4</th><td>1_10067239</td><td>1</td><td>10067239</td><td>A</td><td>G</td></tr>\n",
       "\t<tr><th scope=row>5</th><td>1_1006825 </td><td>1</td><td>1006825 </td><td>A</td><td>G</td></tr>\n",
       "\t<tr><th scope=row>6</th><td>1_10068596</td><td>1</td><td>10068596</td><td>A</td><td>G</td></tr>\n",
       "</tbody>\n",
       "</table>\n"
      ],
      "text/latex": [
       "A data.frame: 6 × 5\n",
       "\\begin{tabular}{r|lllll}\n",
       "  & ID & \\#CHROM & POS & ref & ALT\\\\\n",
       "  & <chr> & <chr> & <chr> & <chr> & <chr>\\\\\n",
       "\\hline\n",
       "\t1 & 1\\_10023876 & 1 & 10023876 & A & G\\\\\n",
       "\t2 & 1\\_10054490 & 1 & 10054490 & A & G\\\\\n",
       "\t3 & 1\\_10057975 & 1 & 10057975 & A & G\\\\\n",
       "\t4 & 1\\_10067239 & 1 & 10067239 & A & G\\\\\n",
       "\t5 & 1\\_1006825  & 1 & 1006825  & A & G\\\\\n",
       "\t6 & 1\\_10068596 & 1 & 10068596 & A & G\\\\\n",
       "\\end{tabular}\n"
      ],
      "text/markdown": [
       "\n",
       "A data.frame: 6 × 5\n",
       "\n",
       "| <!--/--> | ID &lt;chr&gt; | #CHROM &lt;chr&gt; | POS &lt;chr&gt; | ref &lt;chr&gt; | ALT &lt;chr&gt; |\n",
       "|---|---|---|---|---|---|\n",
       "| 1 | 1_10023876 | 1 | 10023876 | A | G |\n",
       "| 2 | 1_10054490 | 1 | 10054490 | A | G |\n",
       "| 3 | 1_10057975 | 1 | 10057975 | A | G |\n",
       "| 4 | 1_10067239 | 1 | 10067239 | A | G |\n",
       "| 5 | 1_1006825  | 1 | 1006825  | A | G |\n",
       "| 6 | 1_10068596 | 1 | 10068596 | A | G |\n",
       "\n"
      ],
      "text/plain": [
       "  ID         #CHROM POS      ref ALT\n",
       "1 1_10023876 1      10023876 A   G  \n",
       "2 1_10054490 1      10054490 A   G  \n",
       "3 1_10057975 1      10057975 A   G  \n",
       "4 1_10067239 1      10067239 A   G  \n",
       "5 1_1006825  1      1006825  A   G  \n",
       "6 1_10068596 1      10068596 A   G  "
      ]
     },
     "metadata": {},
     "output_type": "display_data"
    }
   ],
   "source": [
    "head(all_data)"
   ]
  },
  {
   "cell_type": "code",
   "execution_count": 14,
   "metadata": {
    "vscode": {
     "languageId": "r"
    }
   },
   "outputs": [],
   "source": [
    "# Remove ID (region position) column \n",
    "all_data <- all_data %>% select(-ID)"
   ]
  },
  {
   "cell_type": "code",
   "execution_count": 15,
   "metadata": {
    "vscode": {
     "languageId": "r"
    }
   },
   "outputs": [],
   "source": [
    "# Add in VCF ID column after POS\n",
    "# Find the index of the \"POS\" column\n",
    "pos_index <- which(names(all_data) == \"POS\")\n",
    "\n",
    "# Insert a new column called \"ID\" with \".\" in every row after the \"POS\" column\n",
    "\n",
    "all_data <- cbind(all_data[, 1:pos_index], ID = \".\", all_data[, (pos_index + 1):ncol(all_data)])"
   ]
  },
  {
   "cell_type": "code",
   "execution_count": 16,
   "metadata": {
    "vscode": {
     "languageId": "r"
    }
   },
   "outputs": [],
   "source": [
    "# Rename the \"ref\" column to \"REF\"\n",
    "names(all_data)[names(all_data) == \"ref\"] <- \"REF\""
   ]
  },
  {
   "cell_type": "code",
   "execution_count": 17,
   "metadata": {
    "vscode": {
     "languageId": "r"
    }
   },
   "outputs": [],
   "source": [
    "# Add in QUAL column to the right of index \n",
    "\n",
    "# Find the index of the \"ALT\" column\n",
    "alt_index <- which(names(all_data) == \"ALT\")\n",
    "\n",
    "# Create a new variable with the modified data\n",
    "all_data <- all_data %>%\n",
    "  mutate(QUAL = ifelse(row_number() == alt_index + 1, \".\", \".\"))"
   ]
  },
  {
   "cell_type": "code",
   "execution_count": 18,
   "metadata": {
    "vscode": {
     "languageId": "r"
    }
   },
   "outputs": [
    {
     "data": {
      "text/html": [
       "<table class=\"dataframe\">\n",
       "<caption>A data.frame: 6 × 6</caption>\n",
       "<thead>\n",
       "\t<tr><th></th><th scope=col>#CHROM</th><th scope=col>POS</th><th scope=col>ID</th><th scope=col>REF</th><th scope=col>ALT</th><th scope=col>QUAL</th></tr>\n",
       "\t<tr><th></th><th scope=col>&lt;chr&gt;</th><th scope=col>&lt;chr&gt;</th><th scope=col>&lt;chr&gt;</th><th scope=col>&lt;chr&gt;</th><th scope=col>&lt;chr&gt;</th><th scope=col>&lt;chr&gt;</th></tr>\n",
       "</thead>\n",
       "<tbody>\n",
       "\t<tr><th scope=row>1</th><td>1</td><td>10023876</td><td>.</td><td>A</td><td>G</td><td>.</td></tr>\n",
       "\t<tr><th scope=row>2</th><td>1</td><td>10054490</td><td>.</td><td>A</td><td>G</td><td>.</td></tr>\n",
       "\t<tr><th scope=row>3</th><td>1</td><td>10057975</td><td>.</td><td>A</td><td>G</td><td>.</td></tr>\n",
       "\t<tr><th scope=row>4</th><td>1</td><td>10067239</td><td>.</td><td>A</td><td>G</td><td>.</td></tr>\n",
       "\t<tr><th scope=row>5</th><td>1</td><td>1006825 </td><td>.</td><td>A</td><td>G</td><td>.</td></tr>\n",
       "\t<tr><th scope=row>6</th><td>1</td><td>10068596</td><td>.</td><td>A</td><td>G</td><td>.</td></tr>\n",
       "</tbody>\n",
       "</table>\n"
      ],
      "text/latex": [
       "A data.frame: 6 × 6\n",
       "\\begin{tabular}{r|llllll}\n",
       "  & \\#CHROM & POS & ID & REF & ALT & QUAL\\\\\n",
       "  & <chr> & <chr> & <chr> & <chr> & <chr> & <chr>\\\\\n",
       "\\hline\n",
       "\t1 & 1 & 10023876 & . & A & G & .\\\\\n",
       "\t2 & 1 & 10054490 & . & A & G & .\\\\\n",
       "\t3 & 1 & 10057975 & . & A & G & .\\\\\n",
       "\t4 & 1 & 10067239 & . & A & G & .\\\\\n",
       "\t5 & 1 & 1006825  & . & A & G & .\\\\\n",
       "\t6 & 1 & 10068596 & . & A & G & .\\\\\n",
       "\\end{tabular}\n"
      ],
      "text/markdown": [
       "\n",
       "A data.frame: 6 × 6\n",
       "\n",
       "| <!--/--> | #CHROM &lt;chr&gt; | POS &lt;chr&gt; | ID &lt;chr&gt; | REF &lt;chr&gt; | ALT &lt;chr&gt; | QUAL &lt;chr&gt; |\n",
       "|---|---|---|---|---|---|---|\n",
       "| 1 | 1 | 10023876 | . | A | G | . |\n",
       "| 2 | 1 | 10054490 | . | A | G | . |\n",
       "| 3 | 1 | 10057975 | . | A | G | . |\n",
       "| 4 | 1 | 10067239 | . | A | G | . |\n",
       "| 5 | 1 | 1006825  | . | A | G | . |\n",
       "| 6 | 1 | 10068596 | . | A | G | . |\n",
       "\n"
      ],
      "text/plain": [
       "  #CHROM POS      ID REF ALT QUAL\n",
       "1 1      10023876 .  A   G   .   \n",
       "2 1      10054490 .  A   G   .   \n",
       "3 1      10057975 .  A   G   .   \n",
       "4 1      10067239 .  A   G   .   \n",
       "5 1      1006825  .  A   G   .   \n",
       "6 1      10068596 .  A   G   .   "
      ]
     },
     "metadata": {},
     "output_type": "display_data"
    }
   ],
   "source": [
    "head(all_data)"
   ]
  },
  {
   "cell_type": "code",
   "execution_count": 19,
   "metadata": {
    "vscode": {
     "languageId": "r"
    }
   },
   "outputs": [],
   "source": [
    "# Find the index of the \"QUAL\" column\n",
    "qual_index <- which(names(all_data) == \"QUAL\")\n",
    "\n",
    "# Create a new variable with the modified data, adding \"FILTER\" column\n",
    "all_data <- all_data %>%\n",
    "  mutate(FILTER = ifelse(row_number() == qual_index + 1, \".\", \".\"))"
   ]
  },
  {
   "cell_type": "code",
   "execution_count": 20,
   "metadata": {
    "vscode": {
     "languageId": "r"
    }
   },
   "outputs": [
    {
     "data": {
      "text/html": [
       "<table class=\"dataframe\">\n",
       "<caption>A data.frame: 6 × 7</caption>\n",
       "<thead>\n",
       "\t<tr><th></th><th scope=col>#CHROM</th><th scope=col>POS</th><th scope=col>ID</th><th scope=col>REF</th><th scope=col>ALT</th><th scope=col>QUAL</th><th scope=col>FILTER</th></tr>\n",
       "\t<tr><th></th><th scope=col>&lt;chr&gt;</th><th scope=col>&lt;chr&gt;</th><th scope=col>&lt;chr&gt;</th><th scope=col>&lt;chr&gt;</th><th scope=col>&lt;chr&gt;</th><th scope=col>&lt;chr&gt;</th><th scope=col>&lt;chr&gt;</th></tr>\n",
       "</thead>\n",
       "<tbody>\n",
       "\t<tr><th scope=row>1</th><td>1</td><td>10023876</td><td>.</td><td>A</td><td>G</td><td>.</td><td>.</td></tr>\n",
       "\t<tr><th scope=row>2</th><td>1</td><td>10054490</td><td>.</td><td>A</td><td>G</td><td>.</td><td>.</td></tr>\n",
       "\t<tr><th scope=row>3</th><td>1</td><td>10057975</td><td>.</td><td>A</td><td>G</td><td>.</td><td>.</td></tr>\n",
       "\t<tr><th scope=row>4</th><td>1</td><td>10067239</td><td>.</td><td>A</td><td>G</td><td>.</td><td>.</td></tr>\n",
       "\t<tr><th scope=row>5</th><td>1</td><td>1006825 </td><td>.</td><td>A</td><td>G</td><td>.</td><td>.</td></tr>\n",
       "\t<tr><th scope=row>6</th><td>1</td><td>10068596</td><td>.</td><td>A</td><td>G</td><td>.</td><td>.</td></tr>\n",
       "</tbody>\n",
       "</table>\n"
      ],
      "text/latex": [
       "A data.frame: 6 × 7\n",
       "\\begin{tabular}{r|lllllll}\n",
       "  & \\#CHROM & POS & ID & REF & ALT & QUAL & FILTER\\\\\n",
       "  & <chr> & <chr> & <chr> & <chr> & <chr> & <chr> & <chr>\\\\\n",
       "\\hline\n",
       "\t1 & 1 & 10023876 & . & A & G & . & .\\\\\n",
       "\t2 & 1 & 10054490 & . & A & G & . & .\\\\\n",
       "\t3 & 1 & 10057975 & . & A & G & . & .\\\\\n",
       "\t4 & 1 & 10067239 & . & A & G & . & .\\\\\n",
       "\t5 & 1 & 1006825  & . & A & G & . & .\\\\\n",
       "\t6 & 1 & 10068596 & . & A & G & . & .\\\\\n",
       "\\end{tabular}\n"
      ],
      "text/markdown": [
       "\n",
       "A data.frame: 6 × 7\n",
       "\n",
       "| <!--/--> | #CHROM &lt;chr&gt; | POS &lt;chr&gt; | ID &lt;chr&gt; | REF &lt;chr&gt; | ALT &lt;chr&gt; | QUAL &lt;chr&gt; | FILTER &lt;chr&gt; |\n",
       "|---|---|---|---|---|---|---|---|\n",
       "| 1 | 1 | 10023876 | . | A | G | . | . |\n",
       "| 2 | 1 | 10054490 | . | A | G | . | . |\n",
       "| 3 | 1 | 10057975 | . | A | G | . | . |\n",
       "| 4 | 1 | 10067239 | . | A | G | . | . |\n",
       "| 5 | 1 | 1006825  | . | A | G | . | . |\n",
       "| 6 | 1 | 10068596 | . | A | G | . | . |\n",
       "\n"
      ],
      "text/plain": [
       "  #CHROM POS      ID REF ALT QUAL FILTER\n",
       "1 1      10023876 .  A   G   .    .     \n",
       "2 1      10054490 .  A   G   .    .     \n",
       "3 1      10057975 .  A   G   .    .     \n",
       "4 1      10067239 .  A   G   .    .     \n",
       "5 1      1006825  .  A   G   .    .     \n",
       "6 1      10068596 .  A   G   .    .     "
      ]
     },
     "metadata": {},
     "output_type": "display_data"
    }
   ],
   "source": [
    "head(all_data)"
   ]
  },
  {
   "cell_type": "code",
   "execution_count": 21,
   "metadata": {
    "vscode": {
     "languageId": "r"
    }
   },
   "outputs": [],
   "source": [
    "# Find the index of the \"FILTER\" column\n",
    "filter_index <- which(names(all_data) == \"FILTER\")\n",
    "\n",
    "# Create a new variable with the modified data, adding \"INFO\" column\n",
    "all_data <- all_data %>%\n",
    "  mutate(INFO = ifelse(row_number() == filter_index + 1, \".\", \".\"))"
   ]
  },
  {
   "cell_type": "code",
   "execution_count": 22,
   "metadata": {
    "vscode": {
     "languageId": "r"
    }
   },
   "outputs": [
    {
     "data": {
      "text/html": [
       "<table class=\"dataframe\">\n",
       "<caption>A data.frame: 6 × 8</caption>\n",
       "<thead>\n",
       "\t<tr><th></th><th scope=col>#CHROM</th><th scope=col>POS</th><th scope=col>ID</th><th scope=col>REF</th><th scope=col>ALT</th><th scope=col>QUAL</th><th scope=col>FILTER</th><th scope=col>INFO</th></tr>\n",
       "\t<tr><th></th><th scope=col>&lt;chr&gt;</th><th scope=col>&lt;chr&gt;</th><th scope=col>&lt;chr&gt;</th><th scope=col>&lt;chr&gt;</th><th scope=col>&lt;chr&gt;</th><th scope=col>&lt;chr&gt;</th><th scope=col>&lt;chr&gt;</th><th scope=col>&lt;chr&gt;</th></tr>\n",
       "</thead>\n",
       "<tbody>\n",
       "\t<tr><th scope=row>1</th><td>1</td><td>10023876</td><td>.</td><td>A</td><td>G</td><td>.</td><td>.</td><td>.</td></tr>\n",
       "\t<tr><th scope=row>2</th><td>1</td><td>10054490</td><td>.</td><td>A</td><td>G</td><td>.</td><td>.</td><td>.</td></tr>\n",
       "\t<tr><th scope=row>3</th><td>1</td><td>10057975</td><td>.</td><td>A</td><td>G</td><td>.</td><td>.</td><td>.</td></tr>\n",
       "\t<tr><th scope=row>4</th><td>1</td><td>10067239</td><td>.</td><td>A</td><td>G</td><td>.</td><td>.</td><td>.</td></tr>\n",
       "\t<tr><th scope=row>5</th><td>1</td><td>1006825 </td><td>.</td><td>A</td><td>G</td><td>.</td><td>.</td><td>.</td></tr>\n",
       "\t<tr><th scope=row>6</th><td>1</td><td>10068596</td><td>.</td><td>A</td><td>G</td><td>.</td><td>.</td><td>.</td></tr>\n",
       "</tbody>\n",
       "</table>\n"
      ],
      "text/latex": [
       "A data.frame: 6 × 8\n",
       "\\begin{tabular}{r|llllllll}\n",
       "  & \\#CHROM & POS & ID & REF & ALT & QUAL & FILTER & INFO\\\\\n",
       "  & <chr> & <chr> & <chr> & <chr> & <chr> & <chr> & <chr> & <chr>\\\\\n",
       "\\hline\n",
       "\t1 & 1 & 10023876 & . & A & G & . & . & .\\\\\n",
       "\t2 & 1 & 10054490 & . & A & G & . & . & .\\\\\n",
       "\t3 & 1 & 10057975 & . & A & G & . & . & .\\\\\n",
       "\t4 & 1 & 10067239 & . & A & G & . & . & .\\\\\n",
       "\t5 & 1 & 1006825  & . & A & G & . & . & .\\\\\n",
       "\t6 & 1 & 10068596 & . & A & G & . & . & .\\\\\n",
       "\\end{tabular}\n"
      ],
      "text/markdown": [
       "\n",
       "A data.frame: 6 × 8\n",
       "\n",
       "| <!--/--> | #CHROM &lt;chr&gt; | POS &lt;chr&gt; | ID &lt;chr&gt; | REF &lt;chr&gt; | ALT &lt;chr&gt; | QUAL &lt;chr&gt; | FILTER &lt;chr&gt; | INFO &lt;chr&gt; |\n",
       "|---|---|---|---|---|---|---|---|---|\n",
       "| 1 | 1 | 10023876 | . | A | G | . | . | . |\n",
       "| 2 | 1 | 10054490 | . | A | G | . | . | . |\n",
       "| 3 | 1 | 10057975 | . | A | G | . | . | . |\n",
       "| 4 | 1 | 10067239 | . | A | G | . | . | . |\n",
       "| 5 | 1 | 1006825  | . | A | G | . | . | . |\n",
       "| 6 | 1 | 10068596 | . | A | G | . | . | . |\n",
       "\n"
      ],
      "text/plain": [
       "  #CHROM POS      ID REF ALT QUAL FILTER INFO\n",
       "1 1      10023876 .  A   G   .    .      .   \n",
       "2 1      10054490 .  A   G   .    .      .   \n",
       "3 1      10057975 .  A   G   .    .      .   \n",
       "4 1      10067239 .  A   G   .    .      .   \n",
       "5 1      1006825  .  A   G   .    .      .   \n",
       "6 1      10068596 .  A   G   .    .      .   "
      ]
     },
     "metadata": {},
     "output_type": "display_data"
    }
   ],
   "source": [
    "head(all_data)"
   ]
  },
  {
   "cell_type": "code",
   "execution_count": 23,
   "metadata": {
    "vscode": {
     "languageId": "r"
    }
   },
   "outputs": [],
   "source": [
    "# Add in format column\n",
    "\n",
    "# Find the index of the \"INFO\" column\n",
    "info_index <- which(names(all_data) == \"INFO\")\n",
    "\n",
    "# Create a new variable with the modified data, adding \"FORMAT\" column\n",
    "all_data <- all_data %>%\n",
    "  mutate(FORMAT = ifelse(row_number() == info_index + 1, \".\", \".\"))"
   ]
  },
  {
   "cell_type": "code",
   "execution_count": 24,
   "metadata": {
    "vscode": {
     "languageId": "r"
    }
   },
   "outputs": [
    {
     "data": {
      "text/html": [
       "<table class=\"dataframe\">\n",
       "<caption>A data.frame: 6 × 9</caption>\n",
       "<thead>\n",
       "\t<tr><th></th><th scope=col>#CHROM</th><th scope=col>POS</th><th scope=col>ID</th><th scope=col>REF</th><th scope=col>ALT</th><th scope=col>QUAL</th><th scope=col>FILTER</th><th scope=col>INFO</th><th scope=col>FORMAT</th></tr>\n",
       "\t<tr><th></th><th scope=col>&lt;chr&gt;</th><th scope=col>&lt;chr&gt;</th><th scope=col>&lt;chr&gt;</th><th scope=col>&lt;chr&gt;</th><th scope=col>&lt;chr&gt;</th><th scope=col>&lt;chr&gt;</th><th scope=col>&lt;chr&gt;</th><th scope=col>&lt;chr&gt;</th><th scope=col>&lt;chr&gt;</th></tr>\n",
       "</thead>\n",
       "<tbody>\n",
       "\t<tr><th scope=row>1</th><td>1</td><td>10023876</td><td>.</td><td>A</td><td>G</td><td>.</td><td>.</td><td>.</td><td>.</td></tr>\n",
       "\t<tr><th scope=row>2</th><td>1</td><td>10054490</td><td>.</td><td>A</td><td>G</td><td>.</td><td>.</td><td>.</td><td>.</td></tr>\n",
       "\t<tr><th scope=row>3</th><td>1</td><td>10057975</td><td>.</td><td>A</td><td>G</td><td>.</td><td>.</td><td>.</td><td>.</td></tr>\n",
       "\t<tr><th scope=row>4</th><td>1</td><td>10067239</td><td>.</td><td>A</td><td>G</td><td>.</td><td>.</td><td>.</td><td>.</td></tr>\n",
       "\t<tr><th scope=row>5</th><td>1</td><td>1006825 </td><td>.</td><td>A</td><td>G</td><td>.</td><td>.</td><td>.</td><td>.</td></tr>\n",
       "\t<tr><th scope=row>6</th><td>1</td><td>10068596</td><td>.</td><td>A</td><td>G</td><td>.</td><td>.</td><td>.</td><td>.</td></tr>\n",
       "</tbody>\n",
       "</table>\n"
      ],
      "text/latex": [
       "A data.frame: 6 × 9\n",
       "\\begin{tabular}{r|lllllllll}\n",
       "  & \\#CHROM & POS & ID & REF & ALT & QUAL & FILTER & INFO & FORMAT\\\\\n",
       "  & <chr> & <chr> & <chr> & <chr> & <chr> & <chr> & <chr> & <chr> & <chr>\\\\\n",
       "\\hline\n",
       "\t1 & 1 & 10023876 & . & A & G & . & . & . & .\\\\\n",
       "\t2 & 1 & 10054490 & . & A & G & . & . & . & .\\\\\n",
       "\t3 & 1 & 10057975 & . & A & G & . & . & . & .\\\\\n",
       "\t4 & 1 & 10067239 & . & A & G & . & . & . & .\\\\\n",
       "\t5 & 1 & 1006825  & . & A & G & . & . & . & .\\\\\n",
       "\t6 & 1 & 10068596 & . & A & G & . & . & . & .\\\\\n",
       "\\end{tabular}\n"
      ],
      "text/markdown": [
       "\n",
       "A data.frame: 6 × 9\n",
       "\n",
       "| <!--/--> | #CHROM &lt;chr&gt; | POS &lt;chr&gt; | ID &lt;chr&gt; | REF &lt;chr&gt; | ALT &lt;chr&gt; | QUAL &lt;chr&gt; | FILTER &lt;chr&gt; | INFO &lt;chr&gt; | FORMAT &lt;chr&gt; |\n",
       "|---|---|---|---|---|---|---|---|---|---|\n",
       "| 1 | 1 | 10023876 | . | A | G | . | . | . | . |\n",
       "| 2 | 1 | 10054490 | . | A | G | . | . | . | . |\n",
       "| 3 | 1 | 10057975 | . | A | G | . | . | . | . |\n",
       "| 4 | 1 | 10067239 | . | A | G | . | . | . | . |\n",
       "| 5 | 1 | 1006825  | . | A | G | . | . | . | . |\n",
       "| 6 | 1 | 10068596 | . | A | G | . | . | . | . |\n",
       "\n"
      ],
      "text/plain": [
       "  #CHROM POS      ID REF ALT QUAL FILTER INFO FORMAT\n",
       "1 1      10023876 .  A   G   .    .      .    .     \n",
       "2 1      10054490 .  A   G   .    .      .    .     \n",
       "3 1      10057975 .  A   G   .    .      .    .     \n",
       "4 1      10067239 .  A   G   .    .      .    .     \n",
       "5 1      1006825  .  A   G   .    .      .    .     \n",
       "6 1      10068596 .  A   G   .    .      .    .     "
      ]
     },
     "metadata": {},
     "output_type": "display_data"
    }
   ],
   "source": [
    "head(all_data)"
   ]
  },
  {
   "cell_type": "code",
   "execution_count": 26,
   "metadata": {
    "vscode": {
     "languageId": "r"
    }
   },
   "outputs": [],
   "source": [
    "# Define output file path\n",
    "output_file <- \"/mnt/vast/hpc/csg/hcs2152/ZFR_RNA_Editing/JACUSA2/VEP/all_dpf/JACUSA2_all_dpf_VEP_input.tsv\""
   ]
  },
  {
   "cell_type": "code",
   "execution_count": 75,
   "metadata": {
    "vscode": {
     "languageId": "r"
    }
   },
   "outputs": [],
   "source": [
    "# Write data to output file\n",
    "write.table(all_data, output_file, sep = \"\\t\", quote = FALSE, row.names = FALSE)"
   ]
  }
 ],
 "metadata": {
  "kernelspec": {
   "display_name": "R",
   "language": "R",
   "name": "ir"
  },
  "language_info": {
   "codemirror_mode": "r",
   "file_extension": ".r",
   "mimetype": "text/x-r-source",
   "name": "R",
   "pygments_lexer": "r",
   "version": "4.2.2"
  },
  "orig_nbformat": 4
 },
 "nbformat": 4,
 "nbformat_minor": 2
}
