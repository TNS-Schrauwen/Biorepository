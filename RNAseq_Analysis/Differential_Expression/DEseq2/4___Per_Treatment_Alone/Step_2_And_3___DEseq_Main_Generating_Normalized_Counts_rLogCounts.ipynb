{
 "cells": [
  {
   "cell_type": "markdown",
   "id": "eb97b8d9-2d56-4bcf-8508-e3dff175762e",
   "metadata": {},
   "source": [
    "# Generating Normalized Counts, The rLogCounts, and the Default IHW With DEseq2"
   ]
  },
  {
   "cell_type": "markdown",
   "id": "e80017f0-1e3a-47f2-952b-e36212db2885",
   "metadata": {
    "tags": []
   },
   "source": [
    "## Site(s) Used:\n",
    "\n",
    "* For the [demo version](http://bioconductor.org/packages/devel/bioc/vignettes/DESeq2/inst/doc/DESeq2.html)\n",
    "\n",
    "* The [installation of the DESeq2]( https://bioconductor.org/packages/release/bioc/html/DESeq2.html )\n",
    "\n",
    "This will be used for the entire script.\n",
    "\n",
    "The output is in subdirectories of the parent directory. The outputs are in 2 folders:\n",
    "\n",
    "1) 2___Normalized_Counts_DEseq2\n",
    "\n",
    "2) 3___IHW_Using_Default_Version_From_DEseq2"
   ]
  },
  {
   "cell_type": "markdown",
   "id": "ce5dc175-40cf-4cc3-bd31-b9c53d0a89ba",
   "metadata": {},
   "source": [
    "## Output Directory(s)"
   ]
  },
  {
   "cell_type": "code",
   "execution_count": null,
   "id": "162cc0fc-9ec9-456b-be34-d9c36ef378b5",
   "metadata": {
    "vscode": {
     "languageId": "r"
    }
   },
   "outputs": [],
   "source": [
    "# Define the parent directory\n",
    "\n",
    "parent_directory <- \"path/to/your/parent/directory\"\n"
   ]
  },
  {
   "cell_type": "markdown",
   "id": "4d833002-2f79-4d63-9aab-33fb45c36e94",
   "metadata": {},
   "source": [
    "## Make Output Directory(s)"
   ]
  },
  {
   "cell_type": "code",
   "execution_count": null,
   "id": "1ff91824-20a7-481a-b4bd-58a31a9a416c",
   "metadata": {
    "vscode": {
     "languageId": "r"
    }
   },
   "outputs": [],
   "source": [
    "# Define the subdirectory path\n",
    "output_directory <- file.path(parent_directory, \"2___Normalized_Counts_DEseq2\")\n",
    "\n",
    "# Create the folder if it doesn't exist\n",
    "dir.create(output_directory, showWarnings = FALSE)"
   ]
  },
  {
   "cell_type": "code",
   "execution_count": null,
   "id": "00b176ef-add1-4922-9de5-32fd12dd7fe6",
   "metadata": {
    "vscode": {
     "languageId": "r"
    }
   },
   "outputs": [],
   "source": [
    "# Define the folder name\n",
    "folder_name <- \"3___IHW_Using_Default_Version_From_DEseq2\"\n",
    "\n",
    "# Define the output directory path\n",
    "output_directory_DEseq_default_IHW <- file.path(parent_directory, folder_name)\n",
    "\n",
    "# Create the folder if it doesn't exist\n",
    "dir.create(output_directory_DEseq_default_IHW, showWarnings = FALSE)"
   ]
  },
  {
   "cell_type": "markdown",
   "id": "2f741c6d-c19b-4e17-b054-9677b72abdc8",
   "metadata": {},
   "source": [
    "## Loading Counts Matrix\n",
    "\n",
    "\n",
    "* First the counts matrix needs to be loaded. Make sure this is the counts matrix that has the summary statistics removed.\n"
   ]
  },
  {
   "cell_type": "code",
   "execution_count": null,
   "id": "88de2deb-67b6-4ac5-bfc8-fcf57289e1a8",
   "metadata": {
    "tags": [],
    "vscode": {
     "languageId": "r"
    }
   },
   "outputs": [],
   "source": [
    "# Define the path to your counts matrix file\n",
    "counts_matrix_file <- \"/path/to/your/counts/file.txt\"\n",
    "\n",
    "# Read the counts matrix from the TSV file\n",
    "counts_matrix <- read.table(counts_matrix_file, header = TRUE, row.names = 1, sep = \"\\t\")\n",
    "\n",
    "head(counts_matrix)"
   ]
  },
  {
   "cell_type": "code",
   "execution_count": null,
   "id": "6bbb2b12-d758-4ed6-a3a3-5b8485ea0f55",
   "metadata": {
    "tags": [],
    "vscode": {
     "languageId": "r"
    }
   },
   "outputs": [],
   "source": [
    "print(colnames(counts_matrix))"
   ]
  },
  {
   "cell_type": "markdown",
   "id": "fb4a798f-f86f-48f2-907d-85e40b86ab49",
   "metadata": {},
   "source": [
    "## Isolate 2 days post fertilization:\n"
   ]
  },
  {
   "cell_type": "code",
   "execution_count": null,
   "id": "e99280b6-a43d-43fb-bf4d-34b820bd5f60",
   "metadata": {
    "vscode": {
     "languageId": "r"
    }
   },
   "outputs": [],
   "source": [
    "# Specify the columns you want to isolate by name\n",
    "columns_to_isolate <- c(\"C.01__Control\",\n",
    "                        \"C.02__Control\",\n",
    "                        \"C.03__Control\",\n",
    "                        \"E.01__Experimental\",\n",
    "                        \"E.02__Experimental\",\n",
    "                        \"E.03__Experimental\")\n",
    "\n",
    "# Isolate the specified columns and keep the row names\n",
    "isolated_columns <- counts_matrix[, c(columns_to_isolate), drop = FALSE]\n",
    "\n",
    "head(isolated_columns)"
   ]
  },
  {
   "cell_type": "markdown",
   "id": "1f7a3f9f-03fb-42b0-b2b2-3c59df23387f",
   "metadata": {},
   "source": [
    "## Sample MetaData"
   ]
  },
  {
   "cell_type": "code",
   "execution_count": null,
   "id": "da59af91-c08b-4af8-a772-5e99fd540042",
   "metadata": {
    "tags": [],
    "vscode": {
     "languageId": "r"
    }
   },
   "outputs": [],
   "source": [
    "\n",
    "\n",
    "sample_metadata <- data.frame(\n",
    "  Sample = c(\"Ctrl.01__Control\",\n",
    "             \"Ctrl.02__Control\",\n",
    "             \"Ctrl.03__Control\",\n",
    "             \"NO.01__Experimental\",\n",
    "             \"NO.02__Experimental\",\n",
    "             \"NO.03__Experimental\"),\n",
    "    \n",
    "  Treatment = c(\"Untreated\", \"Untreated\", \"Untreated\",\n",
    "                \"Knockdown\", \"Knockdown\", \"Knockdown\")\n",
    ")\n",
    "\n",
    "# View the table\n",
    "\n",
    "sample_metadata\n"
   ]
  },
  {
   "cell_type": "markdown",
   "id": "45d6940e-6efa-4e39-8aa2-3db24e25a366",
   "metadata": {},
   "source": [
    "Below is the tentative design formula I am going to use."
   ]
  },
  {
   "cell_type": "code",
   "execution_count": null,
   "id": "fc6527dd-afd4-4118-8d16-1f720376203f",
   "metadata": {
    "tags": [],
    "vscode": {
     "languageId": "r"
    }
   },
   "outputs": [],
   "source": [
    "colnames(sample_metadata)"
   ]
  },
  {
   "cell_type": "markdown",
   "id": "50c92098-b3fb-450b-a655-a06955803c07",
   "metadata": {},
   "source": [
    "## DEseq2 Data Set"
   ]
  },
  {
   "cell_type": "markdown",
   "id": "1901629c-82b2-448a-9808-939306ecb083",
   "metadata": {},
   "source": [
    "When it comes to the design forumla for the `DESeqDataSetFromMatrix` object ensure that you put the formula directly into design. Do not put it into a variable that will be fed in design. It will most likely not work."
   ]
  },
  {
   "cell_type": "markdown",
   "id": "d55f36d7-0e48-4c36-84e6-df8fb40e879e",
   "metadata": {},
   "source": [
    "### Library:"
   ]
  },
  {
   "cell_type": "code",
   "execution_count": null,
   "id": "67632ec7-1163-4566-b0ea-d20688d32779",
   "metadata": {
    "vscode": {
     "languageId": "r"
    }
   },
   "outputs": [],
   "source": [
    "library(DESeq2)"
   ]
  },
  {
   "cell_type": "code",
   "execution_count": null,
   "id": "4f7b9700-d04b-4685-9e74-525a35fa5124",
   "metadata": {
    "tags": [],
    "vscode": {
     "languageId": "r"
    }
   },
   "outputs": [],
   "source": [
    "\n",
    "dds <- DESeqDataSetFromMatrix(countData = isolated_columns,\n",
    "                              colData = sample_metadata,\n",
    "                              design = ~ Treatment  )\n"
   ]
  },
  {
   "cell_type": "markdown",
   "id": "5d93cb91-2ea1-4abb-b1bc-7a7ddbc1d4b8",
   "metadata": {},
   "source": [
    "## Manually Identify: Factor Levels"
   ]
  },
  {
   "cell_type": "markdown",
   "id": "0c9f0f5d-0c38-4028-91e5-582f63023a11",
   "metadata": {},
   "source": [
    "You may have to idiftify the reference factor as according to DEseq2:\n",
    "\n",
    "> By default, R will choose a reference level for factors based on alphabetical order. Then, if you never tell the DESeq2 functions which level you want to compare against (e.g. which level represents the control group), the comparisons will be based on the alphabetical order of the levels. There are two solutions: you can either explicitly tell results which comparison to make using the contrast argument (this will be shown later), or you can explicitly set the factors levels. In order to see the change of reference levels reflected in the results names, you need to either run DESeq or nbinomWaldTest/nbinomLRT after the re-leveling operation. Setting the factor levels can be done in two ways, either using factor\n",
    "\n",
    "Therefore below I am setting Untreated as the reference.  This makes it seem the knockdown as the experimental group."
   ]
  },
  {
   "cell_type": "code",
   "execution_count": null,
   "id": "b9e8c1ef-9c44-4e6d-af3d-ede23cb0eeed",
   "metadata": {
    "tags": [],
    "vscode": {
     "languageId": "r"
    }
   },
   "outputs": [],
   "source": [
    "dds$Treatment <- factor(dds$Treatment, levels = c(\"Untreated\", \"Knockdown\"))"
   ]
  },
  {
   "cell_type": "code",
   "execution_count": null,
   "id": "2f73cba8-60bf-4496-b7ca-d3b2bcddffaa",
   "metadata": {
    "tags": [],
    "vscode": {
     "languageId": "r"
    }
   },
   "outputs": [],
   "source": [
    "dds$Treatment <- relevel(dds$Treatment, ref = \"Untreated\")"
   ]
  },
  {
   "cell_type": "markdown",
   "id": "2614ea48-5fd5-47d9-9cbc-8cd6b977d4f3",
   "metadata": {},
   "source": [
    "## Pre-filtering Low Counts"
   ]
  },
  {
   "cell_type": "code",
   "execution_count": null,
   "id": "6f012136-254a-4686-b48e-984f23f3dc6e",
   "metadata": {
    "vscode": {
     "languageId": "r"
    }
   },
   "outputs": [],
   "source": [
    "keep <- rowSums(counts(dds)) >= 10\n",
    "dds <- dds[keep,]"
   ]
  },
  {
   "cell_type": "markdown",
   "id": "e69cda5c-bc1b-40b3-b85a-493c19b680fa",
   "metadata": {},
   "source": [
    "## Differential Expression Analysis Main"
   ]
  },
  {
   "cell_type": "code",
   "execution_count": null,
   "id": "d88f5a09-1c63-492f-8f8e-1605773c47b2",
   "metadata": {
    "vscode": {
     "languageId": "r"
    }
   },
   "outputs": [],
   "source": [
    "dds <- DESeq(dds)\n",
    "dds"
   ]
  },
  {
   "cell_type": "markdown",
   "id": "fa77271a-7b2c-4245-a2af-a498ef490d7d",
   "metadata": {},
   "source": [
    "## Normalizing The Counts"
   ]
  },
  {
   "cell_type": "code",
   "execution_count": null,
   "id": "ab8fb722-8374-4ba8-b258-ad96fb5bcd1f",
   "metadata": {
    "tags": [],
    "vscode": {
     "languageId": "r"
    }
   },
   "outputs": [],
   "source": [
    "# Extract normalized counts\n",
    "normalized_counts <- counts(dds, normalized = TRUE)"
   ]
  },
  {
   "cell_type": "code",
   "execution_count": null,
   "id": "add8af09-ed51-4608-87ed-f7b77fd613a8",
   "metadata": {
    "tags": [],
    "vscode": {
     "languageId": "r"
    }
   },
   "outputs": [],
   "source": [
    "head(normalized_counts)"
   ]
  },
  {
   "cell_type": "markdown",
   "id": "0cd8b117-abe7-44c9-8e73-1afa6d6cb138",
   "metadata": {},
   "source": [
    "### Make Row Names Into A Separate Column:"
   ]
  },
  {
   "cell_type": "markdown",
   "id": "fb3e46ec-df1d-4a28-84c3-f746e061f1de",
   "metadata": {
    "tags": []
   },
   "source": [
    "First, I need the `tibble` library:"
   ]
  },
  {
   "cell_type": "code",
   "execution_count": null,
   "id": "9d1a0e32-484b-4520-b49a-dfdb0cc9cff9",
   "metadata": {
    "tags": [],
    "vscode": {
     "languageId": "r"
    }
   },
   "outputs": [],
   "source": [
    "library(tibble)"
   ]
  },
  {
   "cell_type": "markdown",
   "id": "d06b90eb-90da-405b-8219-121d3063b49b",
   "metadata": {},
   "source": [
    "Now I need to make `normalized_counts` into a data frame:"
   ]
  },
  {
   "cell_type": "code",
   "execution_count": null,
   "id": "11a81bb1-4078-4d43-bae7-33bb878e1cd0",
   "metadata": {
    "tags": [],
    "vscode": {
     "languageId": "r"
    }
   },
   "outputs": [],
   "source": [
    "# Make normalized counts into a data frame if it is not already a dataframe\n",
    "normalized_counts_df <- as.data.frame(normalized_counts)\n",
    "\n",
    "head(normalized_counts_df)"
   ]
  },
  {
   "cell_type": "markdown",
   "id": "bb1e7412-9322-4bd1-83ff-e46bf796e03d",
   "metadata": {},
   "source": [
    "Below I will make the normalized counts row names into an Ensembl_ID column:"
   ]
  },
  {
   "cell_type": "code",
   "execution_count": null,
   "id": "0cba54ea-e828-40df-b4ec-f0ad718f7485",
   "metadata": {
    "tags": [],
    "vscode": {
     "languageId": "r"
    }
   },
   "outputs": [],
   "source": [
    "# Use rownames_to_column to add row names as a new column\n",
    "normalized_counts_df <- rownames_to_column(normalized_counts_df, var = \"Ensembl_ID\")\n",
    "head(normalized_counts_df)"
   ]
  },
  {
   "cell_type": "markdown",
   "id": "8d488443-1f73-49ca-acfd-aa2f2f0b8750",
   "metadata": {},
   "source": [
    "### Make A CSV/TSV Of The Normalized Counts"
   ]
  },
  {
   "cell_type": "code",
   "execution_count": null,
   "id": "c8043149-6f42-4df9-bdc4-ad2fd1b1cf4a",
   "metadata": {
    "vscode": {
     "languageId": "r"
    }
   },
   "outputs": [],
   "source": [
    "# Write to a CSV file in the specified directory\n",
    "write.csv(normalized_counts_df, file.path(output_directory, \"Normalized_Counts.csv\"), row.names = FALSE)\n",
    "\n",
    "# Write to a TSV file in the specified directory\n",
    "write.table(normalized_counts_df, file.path(output_directory, \"Normalized_Counts.tsv\"), sep = \"\\t\", row.names = FALSE)\n"
   ]
  },
  {
   "cell_type": "markdown",
   "id": "e07255dc-b576-4712-a0ec-fb82c4a61251",
   "metadata": {},
   "source": [
    "### Make a CSV/TSV Of The rLOGcounts"
   ]
  },
  {
   "cell_type": "code",
   "execution_count": null,
   "id": "bf06d8a0-5c60-45a3-963a-c84e86da3fb6",
   "metadata": {
    "vscode": {
     "languageId": "r"
    }
   },
   "outputs": [],
   "source": [
    "rld<-rlog(dds) \n",
    "rlogcounts <- assay(rld)"
   ]
  },
  {
   "cell_type": "code",
   "execution_count": null,
   "id": "0d9386d0-51a7-4a1a-8f57-7eb673561e35",
   "metadata": {
    "vscode": {
     "languageId": "r"
    }
   },
   "outputs": [],
   "source": [
    "head(rlogcounts)"
   ]
  },
  {
   "cell_type": "code",
   "execution_count": null,
   "id": "b0adb6cf-d786-4af6-ae82-50f5b6141491",
   "metadata": {
    "vscode": {
     "languageId": "r"
    }
   },
   "outputs": [],
   "source": [
    "rlogcounts_df <- as.data.frame(rlogcounts)"
   ]
  },
  {
   "cell_type": "code",
   "execution_count": null,
   "id": "c63d96b4-bf85-491f-85b9-d22d0daab3a7",
   "metadata": {
    "vscode": {
     "languageId": "r"
    }
   },
   "outputs": [],
   "source": [
    "# Write to a CSV file in the specified directory\n",
    "write.csv(rlogcounts_df, file.path(output_directory, \"rLOGcounts.csv\"), row.names = TRUE)\n",
    "\n",
    "# Write to a TSV file in the specified directory\n",
    "write.table(rlogcounts_df, file.path(output_directory, \"rLOGcounts.tsv\"), sep = \"\\t\", row.names = TRUE)\n"
   ]
  },
  {
   "cell_type": "markdown",
   "id": "1a71b593-ae03-4307-b4dd-62119d38725c",
   "metadata": {},
   "source": [
    "## Session Information"
   ]
  },
  {
   "cell_type": "code",
   "execution_count": null,
   "id": "e1509973-7756-4f19-8767-702d3f2eee6f",
   "metadata": {
    "tags": [],
    "vscode": {
     "languageId": "r"
    }
   },
   "outputs": [],
   "source": [
    "sessionInfo()"
   ]
  },
  {
   "cell_type": "code",
   "execution_count": null,
   "id": "b7fb7daa-12c9-40f7-8996-31b1eb9e4d33",
   "metadata": {
    "tags": [],
    "vscode": {
     "languageId": "r"
    }
   },
   "outputs": [],
   "source": [
    "print(\"Done\")"
   ]
  }
 ],
 "metadata": {
  "kernelspec": {
   "display_name": "R",
   "language": "R",
   "name": "ir"
  },
  "language_info": {
   "codemirror_mode": "r",
   "file_extension": ".r",
   "mimetype": "text/x-r-source",
   "name": "R",
   "pygments_lexer": "r",
   "version": "4.2.2"
  }
 },
 "nbformat": 4,
 "nbformat_minor": 5
}
