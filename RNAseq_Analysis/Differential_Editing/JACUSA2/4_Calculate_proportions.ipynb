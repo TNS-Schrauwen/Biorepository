{
 "cells": [
  {
   "cell_type": "markdown",
   "metadata": {},
   "source": [
    "### Filtering JACUSA2 Output\n",
    "This script calculates editing proprtions of each site per sample such that further filtering can be done.\n"
   ]
  },
  {
   "cell_type": "code",
   "execution_count": 1,
   "metadata": {
    "vscode": {
     "languageId": "r"
    }
   },
   "outputs": [
    {
     "name": "stderr",
     "output_type": "stream",
     "text": [
      "\n",
      "Attaching package: ‘dplyr’\n",
      "\n",
      "\n",
      "The following objects are masked from ‘package:stats’:\n",
      "\n",
      "    filter, lag\n",
      "\n",
      "\n",
      "The following objects are masked from ‘package:base’:\n",
      "\n",
      "    intersect, setdiff, setequal, union\n",
      "\n",
      "\n"
     ]
    }
   ],
   "source": [
    "# Load required libraries\n",
    "library(dplyr)\n",
    "library(readr)"
   ]
  },
  {
   "cell_type": "code",
   "execution_count": 2,
   "metadata": {
    "vscode": {
     "languageId": "r"
    }
   },
   "outputs": [],
   "source": [
    "process_file <- function(file_path, output_directory) {\n",
    "  # Read the TSV file\n",
    "  df <- read.table(file_path, header = TRUE, sep = \"\\t\", stringsAsFactors = FALSE)\n",
    "\n",
    "  # Split the base counts column\n",
    "  counts <- strsplit(df$Base_counts, \",\")\n",
    "  \n",
    "  # Convert the list to a data frame\n",
    "  counts_df <- as.data.frame(do.call(rbind, counts))\n",
    "  \n",
    "  # Rename the columns\n",
    "  colnames(counts_df) <- c(\"A_count\", \"C_count\", \"G_count\", \"T_count\")\n",
    "  \n",
    "  # Combine the new columns with the original data frame\n",
    "  df <- cbind(df, counts_df)\n",
    "  \n",
    "  \n",
    "  # Remove unnecessary columns\n",
    "  df <- df[, !colnames(df) %in% c(\"Base_counts\")]\n",
    "  \n",
    "  # Convert counts columns to numeric\n",
    "  df[, c(\"A_count\", \"C_count\", \"G_count\", \"T_count\")] <- lapply(\n",
    "    df[, c(\"A_count\", \"C_count\", \"G_count\", \"T_count\")], as.numeric)\n",
    "  \n",
    "  \n",
    "  # Calculate Non_Edited_Count and Edited_Count\n",
    "  edited_df <- df %>%\n",
    "    mutate(\n",
    "      Non_Edited_Count = case_when(\n",
    "        ref == \"A\" ~ A_count,\n",
    "        ref == \"C\" ~ C_count,\n",
    "        ref == \"G\" ~ G_count,\n",
    "        ref == \"T\" ~ T_count\n",
    "      ),\n",
    "      Edited_Count = rowSums(select(., A_count, C_count, G_count, T_count), na.rm = TRUE) - as.numeric(Non_Edited_Count)\n",
    "    ) %>%\n",
    "    select(ID, Non_Edited_Count, Edited_Count)\n",
    "  \n",
    "  # Calculate Edited_Count_Proportion\n",
    "  edited_df$Edited_Count_Proportion <- edited_df$Edited_Count / (edited_df$Edited_Count + edited_df$Non_Edited_Count)\n",
    "  \n",
    "  print(\"Final DataFrame:\")\n",
    "  print(head(edited_df))\n",
    "  \n",
    "  # Get the base name of the original file\n",
    "  base_name <- tools::file_path_sans_ext(basename(file_path))\n",
    "  \n",
    "  # Create the output file path\n",
    "  output_file_path <- file.path(output_directory, paste0(base_name, \"___Edited_Column_Added.tsv\"))\n",
    "  \n",
    "  # Write the processed table to a TSV file\n",
    "  write.table(edited_df, file = output_file_path, sep = \"\\t\", quote = FALSE, row.names = FALSE)\n",
    "}"
   ]
  },
  {
   "cell_type": "code",
   "execution_count": 4,
   "metadata": {
    "vscode": {
     "languageId": "r"
    }
   },
   "outputs": [],
   "source": [
    "input_directory_path <- '/mnt/vast/hpc/csg/hcs2152/ZFR_RNA_Editing/JACUSA2/all_dpf/all_dpf_singles'\n",
    "output_directory_path <- '/mnt/vast/hpc/csg/hcs2152/ZFR_RNA_Editing/JACUSA2/all_dpf/all_dpf_singles/Edited'"
   ]
  },
  {
   "cell_type": "code",
   "execution_count": 5,
   "metadata": {
    "vscode": {
     "languageId": "r"
    }
   },
   "outputs": [
    {
     "name": "stdout",
     "output_type": "stream",
     "text": [
      " [1] \"/mnt/vast/hpc/csg/hcs2152/ZFR_RNA_Editing/JACUSA2/all_dpf/all_dpf_singles/Ctrl-01_bases.tsv\"\n",
      " [2] \"/mnt/vast/hpc/csg/hcs2152/ZFR_RNA_Editing/JACUSA2/all_dpf/all_dpf_singles/Ctrl-02_bases.tsv\"\n",
      " [3] \"/mnt/vast/hpc/csg/hcs2152/ZFR_RNA_Editing/JACUSA2/all_dpf/all_dpf_singles/Ctrl-03_bases.tsv\"\n",
      " [4] \"/mnt/vast/hpc/csg/hcs2152/ZFR_RNA_Editing/JACUSA2/all_dpf/all_dpf_singles/Ctrl-04_bases.tsv\"\n",
      " [5] \"/mnt/vast/hpc/csg/hcs2152/ZFR_RNA_Editing/JACUSA2/all_dpf/all_dpf_singles/Ctrl-05_bases.tsv\"\n",
      " [6] \"/mnt/vast/hpc/csg/hcs2152/ZFR_RNA_Editing/JACUSA2/all_dpf/all_dpf_singles/Ctrl-06_bases.tsv\"\n",
      " [7] \"/mnt/vast/hpc/csg/hcs2152/ZFR_RNA_Editing/JACUSA2/all_dpf/all_dpf_singles/NO-01_bases.tsv\"  \n",
      " [8] \"/mnt/vast/hpc/csg/hcs2152/ZFR_RNA_Editing/JACUSA2/all_dpf/all_dpf_singles/NO-02_bases.tsv\"  \n",
      " [9] \"/mnt/vast/hpc/csg/hcs2152/ZFR_RNA_Editing/JACUSA2/all_dpf/all_dpf_singles/NO-03_bases.tsv\"  \n",
      "[10] \"/mnt/vast/hpc/csg/hcs2152/ZFR_RNA_Editing/JACUSA2/all_dpf/all_dpf_singles/NO-04_bases.tsv\"  \n",
      "[11] \"/mnt/vast/hpc/csg/hcs2152/ZFR_RNA_Editing/JACUSA2/all_dpf/all_dpf_singles/NO-05_bases.tsv\"  \n",
      "[12] \"/mnt/vast/hpc/csg/hcs2152/ZFR_RNA_Editing/JACUSA2/all_dpf/all_dpf_singles/NO-06_bases.tsv\"  \n"
     ]
    }
   ],
   "source": [
    "# Get a list of files in the input directory\n",
    "file_list <- list.files(input_directory_path, pattern = \"\\\\.tsv$\", full.names = TRUE)\n",
    "print(file_list)"
   ]
  },
  {
   "cell_type": "code",
   "execution_count": 6,
   "metadata": {
    "vscode": {
     "languageId": "r"
    }
   },
   "outputs": [
    {
     "name": "stdout",
     "output_type": "stream",
     "text": [
      "[1] \"Final DataFrame:\"\n",
      "      ID Non_Edited_Count Edited_Count Edited_Count_Proportion\n",
      "1 1_5476               42            0               0.0000000\n",
      "2 1_5479               11           31               0.7380952\n",
      "3 1_5504               47            0               0.0000000\n",
      "4 1_5505               48            0               0.0000000\n",
      "5 1_5510               45            0               0.0000000\n",
      "6 1_5523               48            0               0.0000000\n",
      "[1] \"Final DataFrame:\"\n",
      "      ID Non_Edited_Count Edited_Count Edited_Count_Proportion\n",
      "1 1_5476               22            0               0.0000000\n",
      "2 1_5479                2           20               0.9090909\n",
      "3 1_5504               28            0               0.0000000\n",
      "4 1_5505               28            0               0.0000000\n",
      "5 1_5510               27            0               0.0000000\n",
      "6 1_5523               28            0               0.0000000\n",
      "[1] \"Final DataFrame:\"\n",
      "      ID Non_Edited_Count Edited_Count Edited_Count_Proportion\n",
      "1 1_5476               30            0              0.00000000\n",
      "2 1_5479                3           26              0.89655172\n",
      "3 1_5504               32            1              0.03030303\n",
      "4 1_5505               32            0              0.00000000\n",
      "5 1_5510               32            0              0.00000000\n",
      "6 1_5523               26            2              0.07142857\n",
      "[1] \"Final DataFrame:\"\n",
      "      ID Non_Edited_Count Edited_Count Edited_Count_Proportion\n",
      "1 1_5476               12            0               0.0000000\n",
      "2 1_5479                3           10               0.7692308\n",
      "3 1_5504               15            0               0.0000000\n",
      "4 1_5505               15            0               0.0000000\n",
      "5 1_5510               14            0               0.0000000\n",
      "6 1_5523               14            0               0.0000000\n",
      "[1] \"Final DataFrame:\"\n",
      "      ID Non_Edited_Count Edited_Count Edited_Count_Proportion\n",
      "1 1_5476               14            0                       0\n",
      "2 1_5479                0           14                       1\n",
      "3 1_5504               15            0                       0\n",
      "4 1_5505               15            0                       0\n",
      "5 1_5510               14            0                       0\n",
      "6 1_5523               15            0                       0\n",
      "[1] \"Final DataFrame:\"\n",
      "      ID Non_Edited_Count Edited_Count Edited_Count_Proportion\n",
      "1 1_5476               14            0               0.0000000\n",
      "2 1_5479                4           10               0.7142857\n",
      "3 1_5504               15            0               0.0000000\n",
      "4 1_5505               13            0               0.0000000\n",
      "5 1_5510               15            0               0.0000000\n",
      "6 1_5523               15            0               0.0000000\n",
      "[1] \"Final DataFrame:\"\n",
      "      ID Non_Edited_Count Edited_Count Edited_Count_Proportion\n",
      "1 1_5476               29            0              0.00000000\n",
      "2 1_5479                5           26              0.83870968\n",
      "3 1_5504               30            0              0.00000000\n",
      "4 1_5505               30            1              0.03225806\n",
      "5 1_5510               30            0              0.00000000\n",
      "6 1_5523               26            0              0.00000000\n",
      "[1] \"Final DataFrame:\"\n",
      "      ID Non_Edited_Count Edited_Count Edited_Count_Proportion\n",
      "1 1_5476               17            0               0.0000000\n",
      "2 1_5479                2           15               0.8823529\n",
      "3 1_5504               20            0               0.0000000\n",
      "4 1_5505               19            2               0.0952381\n",
      "5 1_5510               21            0               0.0000000\n",
      "6 1_5523               22            0               0.0000000\n",
      "[1] \"Final DataFrame:\"\n",
      "      ID Non_Edited_Count Edited_Count Edited_Count_Proportion\n",
      "1 1_5476               21            2              0.08695652\n",
      "2 1_5479                2           21              0.91304348\n",
      "3 1_5504               29            0              0.00000000\n",
      "4 1_5505               29            0              0.00000000\n",
      "5 1_5510               29            0              0.00000000\n",
      "6 1_5523               32            0              0.00000000\n",
      "[1] \"Final DataFrame:\"\n",
      "      ID Non_Edited_Count Edited_Count Edited_Count_Proportion\n",
      "1 1_5476               37            0               0.0000000\n",
      "2 1_5479                9           28               0.7567568\n",
      "3 1_5504               50            0               0.0000000\n",
      "4 1_5505               49            0               0.0000000\n",
      "5 1_5510               48            0               0.0000000\n",
      "6 1_5523               52            0               0.0000000\n",
      "[1] \"Final DataFrame:\"\n",
      "      ID Non_Edited_Count Edited_Count Edited_Count_Proportion\n",
      "1 1_5476               41            0              0.00000000\n",
      "2 1_5479                2           39              0.95121951\n",
      "3 1_5504               43            0              0.00000000\n",
      "4 1_5505               43            0              0.00000000\n",
      "5 1_5510               33            1              0.02941176\n",
      "6 1_5523               34            0              0.00000000\n",
      "[1] \"Final DataFrame:\"\n",
      "      ID Non_Edited_Count Edited_Count Edited_Count_Proportion\n",
      "1 1_5476               21            0               0.0000000\n",
      "2 1_5479                4           18               0.8181818\n",
      "3 1_5504               29            0               0.0000000\n",
      "4 1_5505               29            0               0.0000000\n",
      "5 1_5510               25            0               0.0000000\n",
      "6 1_5523               28            0               0.0000000\n"
     ]
    }
   ],
   "source": [
    "for (file in file_list) {\n",
    "  process_file(file, output_directory_path)\n",
    "}"
   ]
  }
 ],
 "metadata": {
  "kernelspec": {
   "display_name": "R",
   "language": "R",
   "name": "ir"
  },
  "language_info": {
   "codemirror_mode": "r",
   "file_extension": ".r",
   "mimetype": "text/x-r-source",
   "name": "R",
   "pygments_lexer": "r",
   "version": "4.2.2"
  },
  "orig_nbformat": 4
 },
 "nbformat": 4,
 "nbformat_minor": 2
}
