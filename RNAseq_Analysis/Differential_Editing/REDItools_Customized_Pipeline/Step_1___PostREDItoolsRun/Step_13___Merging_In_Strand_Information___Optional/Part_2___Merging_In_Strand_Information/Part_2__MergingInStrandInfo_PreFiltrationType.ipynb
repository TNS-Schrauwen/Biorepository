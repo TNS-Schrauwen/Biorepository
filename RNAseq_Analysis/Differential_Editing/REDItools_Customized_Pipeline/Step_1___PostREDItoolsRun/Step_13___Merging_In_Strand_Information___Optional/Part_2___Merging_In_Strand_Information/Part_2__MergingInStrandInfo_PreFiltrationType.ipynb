{
 "cells": [
  {
   "cell_type": "markdown",
   "id": "7bbce449-b34c-4190-a241-d03b79f5399f",
   "metadata": {
    "vscode": {
     "languageId": "r"
    }
   },
   "source": [
    "# Merging In Strand Information Pre-Filtration Type"
   ]
  },
  {
   "cell_type": "code",
   "execution_count": null,
   "id": "34dde539-48e3-4d8d-871d-3fbadcd912ca",
   "metadata": {
    "vscode": {
     "languageId": "r"
    }
   },
   "outputs": [],
   "source": [
    "# Path to your Step 13 P1 tsv file\n",
    "file_path_tsv <- \"/path/to/Step_13_Folder/File.tsv\"\n",
    "\n",
    "#  Step 12 files\n",
    "Step_12_TSV <- \"/path/to/Step_12___P_Adjusted_Values/PreFiltration_Type/Step_12___PreFiltrationType_DescriptionOfYourChoice__With__P_Adjusted_Value.tsv\"\n",
    "\n",
    "# Output Directory\n",
    "output_directory <- \"/path/to/Step_13___MergeInStrandInformation/Part_2___BreakDown_Via_Filtration_Type/PreFiltration_Type\"\n"
   ]
  },
  {
   "cell_type": "code",
   "execution_count": null,
   "id": "f243256a-ca9b-4205-98d0-bf293a0e8001",
   "metadata": {
    "vscode": {
     "languageId": "r"
    }
   },
   "outputs": [],
   "source": [
    "\n",
    "# Read the TSV file\n",
    "Strand_Information_Data <- read.table(file_path_tsv, header = TRUE, sep = \"\\t\", stringsAsFactors = FALSE)\n",
    "\n",
    "# Print the first few rows of the data frame\n",
    "head(Strand_Information_Data)\n"
   ]
  },
  {
   "cell_type": "code",
   "execution_count": null,
   "id": "0c900924-55aa-4c67-a590-7716f0ff9123",
   "metadata": {
    "vscode": {
     "languageId": "r"
    }
   },
   "outputs": [],
   "source": [
    "nrow(Strand_Information_Data)"
   ]
  },
  {
   "cell_type": "code",
   "execution_count": null,
   "id": "bbed5b85-ec53-49ef-b07f-7c88bf00b829",
   "metadata": {
    "vscode": {
     "languageId": "r"
    }
   },
   "outputs": [],
   "source": [
    "\n",
    "# Read the TSV file\n",
    "data <- read.table(Step_12_TSV, sep = \"\\t\", header = TRUE) "
   ]
  },
  {
   "cell_type": "code",
   "execution_count": null,
   "id": "474870a3-e5af-4dfa-96df-7dc9c99a70de",
   "metadata": {
    "vscode": {
     "languageId": "r"
    }
   },
   "outputs": [],
   "source": [
    "head(data)"
   ]
  },
  {
   "cell_type": "code",
   "execution_count": null,
   "id": "d5f35f79-5c01-44bd-a679-1173f0e36bc6",
   "metadata": {
    "vscode": {
     "languageId": "r"
    }
   },
   "outputs": [],
   "source": [
    "nrow(data)"
   ]
  },
  {
   "cell_type": "code",
   "execution_count": null,
   "id": "6637d030-c9f8-4b59-9b8e-c608c9081c0b",
   "metadata": {
    "vscode": {
     "languageId": "r"
    }
   },
   "outputs": [],
   "source": [
    "# Merge data frames based on common columns 'chromosome' and 'position'\n",
    "merged_data <- merge(data, Strand_Information_Data,\n",
    "                     by.x = c(\"chromosome\", \"position\"),\n",
    "                     by.y = c(\"Region\", \"Position\"),\n",
    "                     all.x = TRUE)\n",
    "\n",
    "# Display the first few rows of the merged data frame\n",
    "head(merged_data)\n"
   ]
  },
  {
   "cell_type": "code",
   "execution_count": null,
   "id": "4c7d1493-b1d7-4f81-9979-8d4ded9f64bb",
   "metadata": {
    "vscode": {
     "languageId": "r"
    }
   },
   "outputs": [],
   "source": [
    "nrow(merged_data)"
   ]
  },
  {
   "cell_type": "markdown",
   "id": "ef271aa1-bea5-4a15-a548-51e87197684b",
   "metadata": {},
   "source": [
    "REDItools uses numbers to defined the strand as positive, negative or unknown. \n",
    "\n",
    "Quoted the relevant information below and linked [here](https://github.com/BioinfoUNIBA/REDItools/blob/master/README_1.md):\n",
    "\n",
    "> Strand: is strand information with notation 1 for + strand, 0 for - strand and 2 for unknown or not defined strand\n",
    "\n",
    "In tabular form the relevant information is:\n",
    "\n",
    "| Numeric Value | Meaning                               |\n",
    "|---------------|---------------------------------------|\n",
    "| 0             | Negative (-) Strand                      |\n",
    "| 1             | Positive (+) Strand                       |\n",
    "| 2             | Unknown         |\n",
    "\n",
    "\n",
    "For ease of use I will translate the Strand column to have this:"
   ]
  },
  {
   "cell_type": "code",
   "execution_count": null,
   "id": "def9c3a7-f02d-42f7-9f54-a634132eb6f3",
   "metadata": {
    "vscode": {
     "languageId": "r"
    }
   },
   "outputs": [],
   "source": [
    "# Create a new column 'Strand_Meaning' based on the 'Strand' column\n",
    "merged_data$Strand_Meaning <- ifelse(merged_data$Strand == 1, \"+\",\n",
    "                                     ifelse(merged_data$Strand == 0, \"-\",\n",
    "                                            ifelse(merged_data$Strand == 2, \"Unknown\", \"?\")))\n",
    "\n",
    "# Display the updated dataframe\n",
    "head(merged_data)"
   ]
  },
  {
   "cell_type": "code",
   "execution_count": null,
   "id": "0a13a501-c3ef-4940-ba18-8dffb0f86e29",
   "metadata": {
    "vscode": {
     "languageId": "r"
    }
   },
   "outputs": [],
   "source": [
    "nrow(merged_data)"
   ]
  },
  {
   "cell_type": "markdown",
   "id": "3ef2193c-0346-4fe3-9e7f-fc7d004d26d0",
   "metadata": {},
   "source": [
    "## Write To File:"
   ]
  },
  {
   "cell_type": "code",
   "execution_count": null,
   "id": "71804496-3695-45da-8011-291924b64677",
   "metadata": {
    "vscode": {
     "languageId": "r"
    }
   },
   "outputs": [],
   "source": [
    "# Define file paths for CSV and TSV files\n",
    "csv_file <- file.path(output_directory, \"Step_13___Merged_In_Strand_Information_PreFiltrationType.csv\")\n",
    "tsv_file <- file.path(output_directory, \"Step_13___Merged_In_Strand_Information_PreFiltrationType.tsv\")\n",
    "\n",
    "# Write dataframe to CSV\n",
    "write.csv(merged_data, file = csv_file, row.names = FALSE)\n",
    "\n",
    "# Write dataframe to TSV\n",
    "write.table(merged_data, file = tsv_file, sep = \"\\t\", row.names = FALSE)\n",
    "\n",
    "# Confirmation messages\n",
    "cat(\"**Dataframe has been successfully written to:**\\n\", csv_file, \"\\n\", tsv_file, \"\\n\")"
   ]
  }
 ],
 "metadata": {
  "kernelspec": {
   "display_name": "R",
   "language": "R",
   "name": "ir"
  },
  "language_info": {
   "codemirror_mode": "r",
   "file_extension": ".r",
   "mimetype": "text/x-r-source",
   "name": "R",
   "pygments_lexer": "r",
   "version": "4.2.2"
  }
 },
 "nbformat": 4,
 "nbformat_minor": 5
}
