{
 "cells": [
  {
   "cell_type": "markdown",
   "id": "7deb0fa8-8f48-4bf7-bb8f-fc332fd74c06",
   "metadata": {},
   "source": [
    "# Step 12: P-Adjusted Values PreFiltration Type"
   ]
  },
  {
   "cell_type": "markdown",
   "id": "c200a5f8-8c7a-4c1e-8ddd-6a8ab3afe0d0",
   "metadata": {},
   "source": [
    "## Required Paths (Manual Input)"
   ]
  },
  {
   "cell_type": "code",
   "execution_count": null,
   "id": "ef81a8f4-2e06-4b16-b5b4-4879501e57f1",
   "metadata": {
    "vscode": {
     "languageId": "r"
    }
   },
   "outputs": [],
   "source": [
    "# Store the path to the TSV file in the variable - Step 11/Part 4 subfolder/tsv\n",
    "input_tsv <- \"path/to/Step_11___Consequence_Column_Related/PreFiltration_Type/Part_4___Removing_SpliceDonorAndAcceptorSites/Part_4___Descriptor.tsv\"\n",
    "\n",
    "# Manually define the output directory path Step 12/Filtration type sub folder\n",
    "output_directory <- \"/path/to/Step_12___P_Adjusted_Values/PreFiltration_Type\"\n",
    "\n",
    "# Output file BaseName\n",
    "Output_File_BaseName <- \"Step_12___DescriptorOfYourChoice\""
   ]
  },
  {
   "cell_type": "markdown",
   "id": "60d7c8b5-5d8e-4c3d-83d0-d2a2042b87fa",
   "metadata": {},
   "source": [
    "## Check Inputs Exists/Are Given:"
   ]
  },
  {
   "cell_type": "code",
   "execution_count": null,
   "id": "9f569059-a19d-41d7-b641-411753543c0c",
   "metadata": {
    "vscode": {
     "languageId": "r"
    }
   },
   "outputs": [],
   "source": [
    "# Check if the input file exists\n",
    "if (file.exists(input_tsv)) {\n",
    "  # Print the path to the existing file\n",
    "  cat(\"*Input File:* \", input_tsv, \"\\n\")\n",
    "} else {\n",
    "  # Print a message if the file does not exist and stop\n",
    "  stop(\"Input file does not exist. STOPPED.\")\n",
    "}\n",
    "\n",
    "# Check if the output directory exists\n",
    "if (dir.exists(output_directory)) {\n",
    "  # Print the path to the output directory\n",
    "  cat(\"*Output Directory:* \", output_directory, \"\\n\")\n",
    "} else {\n",
    "  # Print a message if the output directory does not exist and quit\n",
    "  stop(\"Invalid output directory path provided. STOPPED.\")\n",
    "}\n",
    "\n",
    "# Check if Output_File_BaseName contains more than 0 characters\n",
    "if (nchar(Output_File_BaseName) > 0) {\n",
    "  cat(\"*Output File BaseName:* \", Output_File_BaseName, \"\\n\")\n",
    "} else {\n",
    "  stop(\"Output_File_BaseName must contain at least one character. STOPPED.\")\n",
    "}"
   ]
  },
  {
   "cell_type": "markdown",
   "id": "75333336-0470-46c8-b5ce-7d3f08a69a9c",
   "metadata": {},
   "source": [
    "## Read In Data And View Header:"
   ]
  },
  {
   "cell_type": "code",
   "execution_count": null,
   "id": "011773d3-05ec-48e0-abe4-2ea570651bac",
   "metadata": {
    "vscode": {
     "languageId": "r"
    }
   },
   "outputs": [],
   "source": [
    "# Print the path with 2 lines skipped before it and one line after it\n",
    "cat(\"\\n\\n*Path to the TSV file:*\", input_tsv, \"\\n\\n\")\n",
    "\n",
    "# Read data from TSV file\n",
    "data <- read.table(input_tsv, header = TRUE, sep = \"\\t\")\n",
    "\n",
    "# View header\n",
    "head(data)"
   ]
  },
  {
   "cell_type": "code",
   "execution_count": null,
   "id": "de9c1bd6-0843-48fa-94c7-69b18d5009ad",
   "metadata": {
    "vscode": {
     "languageId": "r"
    }
   },
   "outputs": [],
   "source": [
    "colnames(data)"
   ]
  },
  {
   "cell_type": "code",
   "execution_count": null,
   "id": "77392121-1f6b-4f85-9936-a9bafbb7b100",
   "metadata": {
    "vscode": {
     "languageId": "r"
    }
   },
   "outputs": [],
   "source": [
    "# Remove specified columns\n",
    "data <- data[, !(names(data) %in% c(\"Adjusted_P_Value_BH\", \"Adjusted_P_Value_fdr\"))]\n",
    "\n",
    "# Print the updated data\n",
    "cat(\"Data after removing columns Adjusted_P_Value_BH and Adjusted_P_Value_fdr (old adjusted p-values before filteration after VEP:\\n\")\n",
    "print(head(data))"
   ]
  },
  {
   "cell_type": "code",
   "execution_count": null,
   "id": "98db9fa5-d646-4e63-9e2c-324121923b60",
   "metadata": {
    "vscode": {
     "languageId": "r"
    }
   },
   "outputs": [],
   "source": [
    "colnames(data)"
   ]
  },
  {
   "cell_type": "code",
   "execution_count": null,
   "id": "bae802e5-909f-439d-8f3c-29fe4cfa986a",
   "metadata": {
    "vscode": {
     "languageId": "r"
    }
   },
   "outputs": [],
   "source": [
    "# Extract p-values from the data\n",
    "p <- data$P_Value\n",
    "\n",
    "# Adjust p-values using Benjamini & Hochberg method\n",
    "adjusted_p_bh <- p.adjust(p, method = \"BH\", n = length(p))\n",
    "data$Adjusted_P_Value_BH <- adjusted_p_bh\n",
    "\n",
    "# Adjust p-values using False Discovery Rate method\n",
    "adjusted_p_fdr <- p.adjust(p, method = \"fdr\", n = length(p))\n",
    "data$Adjusted_P_Value_fdr <- adjusted_p_fdr\n",
    "\n",
    "# Print the header of the updated data frame\n",
    "cat(\"*Column Names of the updated data frame with new p-adjusted values columns:*\\n\", names(data), \"\\n\")\n",
    "\n",
    "# Print the head of the updated data frame\n",
    "cat(\"*Head of the updated data frame with new p-adjusted values columns:*\\n\")\n",
    "(head(data))\n"
   ]
  },
  {
   "cell_type": "code",
   "execution_count": null,
   "id": "51762b56-71cd-4a84-9552-efabec5e978f",
   "metadata": {
    "vscode": {
     "languageId": "r"
    }
   },
   "outputs": [],
   "source": [
    "# Define output file paths based on the manually defined output directory and Output_File_BaseName\n",
    "tsv_output_path <- file.path(output_directory, paste0(Output_File_BaseName, \".tsv\"))\n",
    "csv_output_path <- file.path(output_directory, paste0(Output_File_BaseName, \".csv\"))\n",
    "\n",
    "# Write the modified data frame to TSV and CSV files\n",
    "write.table(data, tsv_output_path, sep = \"\\t\", quote = FALSE, row.names = FALSE)\n",
    "write.csv(data, csv_output_path, row.names = FALSE)\n",
    "\n",
    "cat(\"*Modified data frame has been written to:*\\n\", tsv_output_path, \"\\n\", csv_output_path, \"\\n\")"
   ]
  },
  {
   "cell_type": "markdown",
   "id": "174cd60d-00b1-4b9b-b972-9acdc8e77f66",
   "metadata": {},
   "source": [
    "## Session Information:"
   ]
  },
  {
   "cell_type": "code",
   "execution_count": null,
   "id": "7fac0aa5-11d2-4b7f-8598-abb54b294930",
   "metadata": {
    "vscode": {
     "languageId": "r"
    }
   },
   "outputs": [],
   "source": [
    "sessionInfo()"
   ]
  }
 ],
 "metadata": {
  "kernelspec": {
   "display_name": "R",
   "language": "R",
   "name": "ir"
  },
  "language_info": {
   "codemirror_mode": "r",
   "file_extension": ".r",
   "mimetype": "text/x-r-source",
   "name": "R",
   "pygments_lexer": "r",
   "version": "4.2.2"
  }
 },
 "nbformat": 4,
 "nbformat_minor": 5
}
