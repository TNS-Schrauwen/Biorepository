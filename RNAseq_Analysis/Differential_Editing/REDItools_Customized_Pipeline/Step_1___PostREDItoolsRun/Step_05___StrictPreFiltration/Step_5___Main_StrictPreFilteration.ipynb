{
 "cells": [
  {
   "cell_type": "markdown",
   "id": "9552645f-4447-4cda-b79a-219e2dc3aed3",
   "metadata": {},
   "source": [
    "# Strict Pre-Filtering Data Before REDITs Step:"
   ]
  },
  {
   "cell_type": "markdown",
   "id": "4e8547f7-aba5-4b44-a41e-3d39d90d614b",
   "metadata": {},
   "source": [
    "To create a strict filtered file we used this `ipynb` where any rows in any sample that are `___Edited` are removed along with their non edited counterpart if even one sample has a 0 for that region and position (edited)."
   ]
  },
  {
   "cell_type": "markdown",
   "id": "3c1ccea1-d225-49e0-a15b-e86a26c1f22c",
   "metadata": {},
   "source": [
    "## Required Inputs:"
   ]
  },
  {
   "cell_type": "markdown",
   "id": "f6d92984-eed3-4f02-84aa-fa81ae22886e",
   "metadata": {},
   "source": [
    "### Specify Output File BaseName:"
   ]
  },
  {
   "cell_type": "markdown",
   "id": "9c5a56a9-e685-4144-9983-916bd1bcbc4c",
   "metadata": {},
   "source": [
    "Specify the basename of the output file. It is reccomended that you include `Strict_PreFiltered` in the output file name as it is created via this strict pre-filteration script."
   ]
  },
  {
   "cell_type": "code",
   "execution_count": null,
   "id": "d9f6f264-2e27-4eed-91b3-6522704c9380",
   "metadata": {
    "vscode": {
     "languageId": "r"
    }
   },
   "outputs": [],
   "source": [
    "# Output file Base Name (Manually Specified)\n",
    "output_file_name <- \"Strict_PreFiltered_Data_From_REDItools_For___DescriptionOfYourChoice\"\n"
   ]
  },
  {
   "cell_type": "markdown",
   "id": "565622cf-786d-41cd-884d-0962188b74b6",
   "metadata": {},
   "source": [
    "### Load TSV To Be Processed:"
   ]
  },
  {
   "cell_type": "markdown",
   "id": "b3e42337-00bc-4d77-a6c1-ee41f669be36",
   "metadata": {},
   "source": [
    "Specify the path to the tsv found in `Step_4___FilterationViaProportion___BasicPreFilteration` in the Part 5 subfolder."
   ]
  },
  {
   "cell_type": "code",
   "execution_count": null,
   "id": "8e1773d4-7b41-4341-a9bf-e741ba0b036f",
   "metadata": {
    "vscode": {
     "languageId": "r"
    }
   },
   "outputs": [],
   "source": [
    "\n",
    "# Path to Basic Pre-filtered tsv\n",
    "tsv_file_path <- \"/path/to/Step_04___BasicPreFiltrationDirectory/Part_5___MergingPivotedTables_BasicPreFiltered_REDITsInput/Output_File.tsv\"\n",
    "\n"
   ]
  },
  {
   "cell_type": "markdown",
   "id": "2af62b71-0d70-49a1-aca1-2236c0f1e292",
   "metadata": {},
   "source": [
    "## Find Output Directory Path Relative To Input TSV File:"
   ]
  },
  {
   "cell_type": "code",
   "execution_count": null,
   "id": "2ba8396d",
   "metadata": {
    "vscode": {
     "languageId": "r"
    }
   },
   "outputs": [],
   "source": [
    "# Extracting the directory of the tsv_file_path\n",
    "output_directory <- file.path(dirname(dirname(dirname(tsv_file_path))), \"Step_05___Strict_PreFilteration\")\n",
    "\n",
    "# Now, output_directory is the desired directory path\n",
    "cat(\"*Output directory:*\", output_directory)"
   ]
  },
  {
   "cell_type": "markdown",
   "id": "8b1d60e7-bbb9-45cf-b1bd-7ff049ff9fd2",
   "metadata": {},
   "source": [
    "### Check Paths Exist:"
   ]
  },
  {
   "cell_type": "markdown",
   "id": "e4455e4e-6e53-452e-94bf-7b4691c509f2",
   "metadata": {},
   "source": [
    "In order for the script to contine this check is put in place to make sure the paths to the output directory and the input `tsv` exist."
   ]
  },
  {
   "cell_type": "code",
   "execution_count": null,
   "id": "a62e443c-d572-4076-9a99-9c6b605f1d1f",
   "metadata": {
    "vscode": {
     "languageId": "r"
    }
   },
   "outputs": [],
   "source": [
    "# Check if the TSV file exists\n",
    "if (file.exists(tsv_file_path)) {\n",
    "  cat(\"*TSV File Path:*\", tsv_file_path, \"\\n\")\n",
    "} else {\n",
    "  cat(\"Error: TSV file does not exist. Please provide a valid file path.\\n\")\n",
    "  cat(\"Quitting...\\n\")\n",
    "  q(\"no\")\n",
    "}\n",
    "\n",
    "# Check if the output directory exists or create it\n",
    "if (dir.exists(output_directory)) {\n",
    "  cat(\"Output Directory:\", output_directory, \"\\n\")\n",
    "} else {\n",
    "  cat(\"Output directory does not exist. Creating...\\n\")\n",
    "  dir.create(output_directory, recursive = TRUE)\n",
    "  cat(\"*Output Directory:*\", output_directory, \"\\n\")\n",
    "}"
   ]
  },
  {
   "cell_type": "markdown",
   "id": "74c0da0a-5b24-4b88-a964-dd8a055afa4a",
   "metadata": {},
   "source": [
    "### Load And Briefly View The Input File Header:"
   ]
  },
  {
   "cell_type": "code",
   "execution_count": null,
   "id": "618a07fa-49f9-4eb3-b38f-c269866af0e5",
   "metadata": {
    "vscode": {
     "languageId": "r"
    }
   },
   "outputs": [],
   "source": [
    "# Use read.delim to load the TSV file\n",
    "df <- read.delim(tsv_file_path, header = TRUE, sep = \"\\t\")\n",
    "\n",
    "# Print \"Input file header\"\n",
    "cat(\"*Input file header:*\\n\")\n",
    "\n",
    "# Display the header of the dataframe\n",
    "head(df)"
   ]
  },
  {
   "cell_type": "markdown",
   "id": "7d825f6b-ea0c-4258-bae7-4f545c87d7ef",
   "metadata": {},
   "source": [
    "The number of rows found in the code block below will be used for small calculations (found near the end of this file)."
   ]
  },
  {
   "cell_type": "code",
   "execution_count": null,
   "id": "7a00b74b-74c1-46b8-a183-e27e52d49410",
   "metadata": {
    "vscode": {
     "languageId": "r"
    }
   },
   "outputs": [],
   "source": [
    "# Store the number of rows in df:\n",
    "num_rows___df_Before_Being_Processed <- nrow(df)"
   ]
  },
  {
   "cell_type": "markdown",
   "id": "c8bd870c-cdbd-4d38-b735-31eaa15b4714",
   "metadata": {},
   "source": [
    "## Processing:"
   ]
  },
  {
   "cell_type": "markdown",
   "id": "f0f73647-f44d-41fb-afcc-a47818a04b88",
   "metadata": {},
   "source": [
    "## Find The Sample Columns:"
   ]
  },
  {
   "cell_type": "markdown",
   "id": "160db508-1e9d-47b7-864c-d66a8048d00a",
   "metadata": {},
   "source": [
    "The column you want to check for suffixes `___Edited` and `___Non_Edited` is 'Region_Position___Count_Type'"
   ]
  },
  {
   "cell_type": "code",
   "execution_count": null,
   "id": "ac779844-9587-431a-817b-698e8da19799",
   "metadata": {
    "vscode": {
     "languageId": "r"
    }
   },
   "outputs": [],
   "source": [
    "\n",
    "# Store the specified column name\n",
    "Specified_Column <- \"Region_Position___Count_Type\"\n",
    "\n",
    "# Identify sample columns (columns that are not 'Region_Position___Count_Type')\n",
    "sample_columns <- names(df)[names(df) != Specified_Column]\n",
    "\n",
    "# Print the sample column names\n",
    "cat(\"*Sample Columns:*\", paste(sample_columns, collapse = \", \"), \"\\n\")"
   ]
  },
  {
   "cell_type": "markdown",
   "id": "c48c6f19-73ab-488f-8126-ee779fd70f56",
   "metadata": {},
   "source": [
    "### Load In Relevant Library"
   ]
  },
  {
   "cell_type": "code",
   "execution_count": null,
   "id": "0caf6dbc-2a51-47f1-a3b3-4f4a46a6654b",
   "metadata": {
    "vscode": {
     "languageId": "r"
    }
   },
   "outputs": [],
   "source": [
    "library(dplyr)"
   ]
  },
  {
   "cell_type": "markdown",
   "id": "f1496a9a-40d1-46b1-a49a-8a88598c610b",
   "metadata": {},
   "source": [
    "## Main:"
   ]
  },
  {
   "cell_type": "code",
   "execution_count": null,
   "id": "dd6644b8-d9cd-45fa-9ce4-898e8733c672",
   "metadata": {
    "vscode": {
     "languageId": "r"
    }
   },
   "outputs": [],
   "source": [
    "# Iterate through each sample column\n",
    "for (sample_column in sample_columns) {\n",
    "  # Find rows where the sample column has 0\n",
    "  rows_to_remove <- df[df[, sample_column] == 0, ]\n",
    "  \n",
    "  # Identify rows ending with '___Edited' in Specified_Column\n",
    "  edited_rows <- grep(\"___Edited$\", rows_to_remove[, Specified_Column])\n",
    "  \n",
    "  # Remove the rows and the row directly under them\n",
    "  df <- df[-c(as.numeric(rownames(rows_to_remove[edited_rows, ])), \n",
    "             as.numeric(rownames(rows_to_remove[edited_rows, ])) + 1), ]\n",
    "}\n",
    "\n",
    "# Print the updated dataframe\n",
    "head(df)"
   ]
  },
  {
   "cell_type": "markdown",
   "id": "b1732f74-fab8-4a5c-ae4f-297c4de8606e",
   "metadata": {},
   "source": [
    "### Rows In Strict Filtered Dataframe:"
   ]
  },
  {
   "cell_type": "markdown",
   "id": "6e23b93d-4b6f-4dbd-a546-9dd857dc8757",
   "metadata": {},
   "source": [
    "The number of rows found in the code block below will be used for small calculations (found near the end of this file)."
   ]
  },
  {
   "cell_type": "code",
   "execution_count": null,
   "id": "831088d1-133a-4d61-a794-56dda990a9ff",
   "metadata": {
    "vscode": {
     "languageId": "r"
    }
   },
   "outputs": [],
   "source": [
    "num_rows___df_processed <- nrow(df)\n",
    "cat(\"Number of rows in the processed data frame:\", num_rows___df_processed , \"\\n\")"
   ]
  },
  {
   "cell_type": "markdown",
   "id": "0d3cd674-029f-440a-8de3-6237c759ea1c",
   "metadata": {},
   "source": [
    "## Small Calculations To Check:"
   ]
  },
  {
   "cell_type": "markdown",
   "id": "23f77b8a-6997-447c-a932-13fe46c504b8",
   "metadata": {},
   "source": [
    "This is where the number of rows before and after processing are used for basic calculations:"
   ]
  },
  {
   "cell_type": "code",
   "execution_count": null,
   "id": "e1d90902-41b4-4787-a8f3-73aef77512ab",
   "metadata": {
    "vscode": {
     "languageId": "r"
    }
   },
   "outputs": [],
   "source": [
    "\n",
    "# Calculate the difference in the number of rows\n",
    "rows_difference <- num_rows___df_Before_Being_Processed - num_rows___df_processed\n",
    "\n",
    "# Calculate the percentage reduction\n",
    "percentage_reduction <- (rows_difference / num_rows___df_Before_Being_Processed) * 100\n",
    "\n",
    "# Print the results\n",
    "cat(\"\\n\\n**Summary Statistics:**\\n\\n\")\n",
    "cat(\"*Number of rows in the initial file before strict filtering:*\", num_rows___df_Before_Being_Processed, \"\\n\")\n",
    "cat(\"*Number of rows in the processed dataframe:*\", num_rows___df_processed, \"\\n\")\n",
    "cat(\"*Difference in rows:*\", rows_difference, \"\\n\")\n",
    "cat(\"*Percentage reduction:*\", percentage_reduction, \"%\\n\")\n"
   ]
  },
  {
   "cell_type": "markdown",
   "id": "8771a8d6-6098-448e-8ce5-f717d6d2177d",
   "metadata": {},
   "source": [
    "## Write To CSV and TSV:"
   ]
  },
  {
   "cell_type": "markdown",
   "id": "698298f3-127f-42c5-9256-573612e71b03",
   "metadata": {},
   "source": [
    "Write the dataframe to a `csv` and a `tsv`."
   ]
  },
  {
   "cell_type": "code",
   "execution_count": null,
   "id": "e0a0b5af-7057-43b1-a3b6-cc5cb57e2b96",
   "metadata": {
    "vscode": {
     "languageId": "r"
    }
   },
   "outputs": [],
   "source": [
    "# Write to TSV\n",
    "tsv_file <- file.path(output_directory, paste0(output_file_name, \".tsv\"))\n",
    "write.table(df, tsv_file, sep = \"\\t\", quote = FALSE, row.names = FALSE)\n",
    "cat(\"\\n\\n*Output TSV Path:*\", tsv_file, \"\\n\")\n",
    "\n",
    "# Write to CSV\n",
    "csv_file <- file.path(output_directory, paste0(output_file_name, \".csv\"))\n",
    "write.csv(df, csv_file, row.names = FALSE)\n",
    "cat(\"\\n\\n*Output CSV Path:*\", csv_file, \"\\n\")\n"
   ]
  },
  {
   "cell_type": "markdown",
   "id": "65056faf-fd48-4792-a124-4c9f09d6eb02",
   "metadata": {},
   "source": [
    "## Session Information:"
   ]
  },
  {
   "cell_type": "code",
   "execution_count": null,
   "id": "5a913b24-3967-4447-8013-1537dbe269d1",
   "metadata": {
    "vscode": {
     "languageId": "r"
    }
   },
   "outputs": [],
   "source": [
    "\n",
    "cat(\"\\n\\n**Session Information:**\\n\\n\")\n",
    "sessionInfo()\n"
   ]
  }
 ],
 "metadata": {
  "kernelspec": {
   "display_name": "R",
   "language": "R",
   "name": "ir"
  },
  "language_info": {
   "codemirror_mode": "r",
   "file_extension": ".r",
   "mimetype": "text/x-r-source",
   "name": "R",
   "pygments_lexer": "r",
   "version": "4.2.2"
  }
 },
 "nbformat": 4,
 "nbformat_minor": 5
}
