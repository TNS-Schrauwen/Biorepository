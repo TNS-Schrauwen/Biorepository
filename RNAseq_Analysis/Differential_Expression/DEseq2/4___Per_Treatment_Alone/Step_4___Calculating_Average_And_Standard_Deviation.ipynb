{
 "cells": [
  {
   "cell_type": "markdown",
   "id": "86e698dc-8f9e-4c45-a64b-7bc25d25d34f",
   "metadata": {},
   "source": [
    "# Calculating Average And Standard Deviation For Wald Test\n",
    "\n",
    "Mean and standard deviation per row need to be calculated for all the samples as well as just for controls."
   ]
  },
  {
   "cell_type": "markdown",
   "id": "f30623a2-935b-4dd6-a921-d7a4558dcf3f",
   "metadata": {},
   "source": [
    "## Set Output Directory For Average And Standard Deviation Files:"
   ]
  },
  {
   "cell_type": "markdown",
   "id": "61e2687b-0504-42db-ae05-834015573ff6",
   "metadata": {},
   "source": [
    "The output directory for the average and standard deviation files is located in a subfolder of the parent directory called `\"4___Calculating_Average_And_Standard_Deviation`:\n",
    "\n",
    "Make sure the normalized counts you use are generated after removing the summary statistics."
   ]
  },
  {
   "cell_type": "code",
   "execution_count": null,
   "id": "a04ec4f4-fb84-4046-be9d-4d28c21b05dc",
   "metadata": {
    "vscode": {
     "languageId": "r"
    }
   },
   "outputs": [],
   "source": [
    "# Specify the parent directory path\n",
    "\n",
    "parent_directory <- \"/path/to/Treatment/Only/Folder/Of/Your/Choice/that/contains/previous/steps/folders\"\n"
   ]
  },
  {
   "cell_type": "markdown",
   "id": "8a2bb54c-a65e-4d47-86b8-88732dd57749",
   "metadata": {},
   "source": [
    "## Create The Associated SubDirectory:"
   ]
  },
  {
   "cell_type": "code",
   "execution_count": null,
   "id": "3413d85e-7007-4917-aa84-7af923e7ec87",
   "metadata": {
    "vscode": {
     "languageId": "r"
    }
   },
   "outputs": [],
   "source": [
    "\n",
    "# Create the output directory path\n",
    "output_directory <- file.path(parent_directory, \"4___Calculating_Average_And_Standard_Deviation\")\n",
    "\n",
    "# Check if the output directory already exists, if not, create it\n",
    "if (!dir.exists(output_directory)) {\n",
    "  dir.create(output_directory)\n",
    "  cat(\"Output directory created:\", output_directory, \"\\n\")\n",
    "} else {\n",
    "  cat(\"Output directory already exists:\", output_directory, \"\\n\")\n",
    "}\n"
   ]
  },
  {
   "cell_type": "markdown",
   "id": "6c47ba8d-81ed-4bf7-a62a-6fe59d7386ae",
   "metadata": {},
   "source": [
    "## Loading in the Normalized Counts:\n",
    "\n",
    "First, the normalized counts must be loaded."
   ]
  },
  {
   "cell_type": "markdown",
   "id": "e6d41f89-df7c-409c-b4c0-df8e9b787242",
   "metadata": {
    "tags": []
   },
   "source": [
    "For DEseq the normalized counts must be loaded as a `.tsv`/`txt` with tab separated values.\n",
    "\n",
    "The normalized\n",
    "The file I used is called `Normalized_Counts.tsv` (it is a tab separated file)"
   ]
  },
  {
   "cell_type": "code",
   "execution_count": null,
   "id": "bf8d29b1-ee65-4ad7-b15b-6efa6d983242",
   "metadata": {
    "tags": [],
    "vscode": {
     "languageId": "r"
    }
   },
   "outputs": [],
   "source": [
    "# Construct the path to Normalized_Counts.tsv within the 2___Normalized_Counts_DEseq2 folder\n",
    "data <- file.path(parent_directory, \"2___Normalized_Counts_DEseq2\", \"Normalized_Counts.tsv\")\n",
    "\n",
    "# Read the data from the Normalized_Counts.tsv file\n",
    "normalized_counts <- read.table(data, header = TRUE, sep = \"\\t\", stringsAsFactors = FALSE)\n",
    "\n",
    "data <- normalized_counts\n",
    "\n",
    "# Print the first few rows of the data\n",
    "head(data)"
   ]
  },
  {
   "cell_type": "markdown",
   "id": "e0b01e0b-2802-4bce-9223-7e70531cac29",
   "metadata": {},
   "source": [
    "The colnames are below for reference. "
   ]
  },
  {
   "cell_type": "code",
   "execution_count": null,
   "id": "7773910c-a3e2-4a95-bfe5-c57d33f2c860",
   "metadata": {
    "tags": [],
    "vscode": {
     "languageId": "r"
    }
   },
   "outputs": [],
   "source": [
    "colnames(data)"
   ]
  },
  {
   "cell_type": "markdown",
   "id": "1198f519-f4df-4d3f-9fd0-7237a777ad7f",
   "metadata": {},
   "source": [
    "## Calculating The Average And Standard Deviation For All Samples:"
   ]
  },
  {
   "cell_type": "markdown",
   "id": "93f84e9f-2407-4979-ada6-cd0d11c29dbe",
   "metadata": {
    "tags": []
   },
   "source": [
    "### Selecting For All The Numeric Data Columns:"
   ]
  },
  {
   "cell_type": "markdown",
   "id": "5677dc35-03b0-45cc-8462-29c3837924fa",
   "metadata": {},
   "source": [
    "Select for all the numeric columns (all columns except the Ensembl_ID column)"
   ]
  },
  {
   "cell_type": "code",
   "execution_count": null,
   "id": "8c621d92-5637-40a9-99d6-3548a1964ec3",
   "metadata": {
    "tags": [],
    "vscode": {
     "languageId": "r"
    }
   },
   "outputs": [],
   "source": [
    "\n",
    "# Select the numeric columns (columns 2 to 13)\n",
    "numeric_columns <- data[, 2:7]\n",
    "\n",
    "head(numeric_columns)"
   ]
  },
  {
   "cell_type": "markdown",
   "id": "1af082e2-0ab5-4a5d-83ee-a2b25eacbc80",
   "metadata": {},
   "source": [
    "Now, calculate the row standard deviation and the row average."
   ]
  },
  {
   "cell_type": "code",
   "execution_count": null,
   "id": "8d8bd793-9485-457c-b258-c21b5ebfeade",
   "metadata": {
    "tags": [],
    "vscode": {
     "languageId": "r"
    }
   },
   "outputs": [],
   "source": [
    "\n",
    "# Calculate standard deviation per row for the numeric columns\n",
    "data$Row_Standard_Deviation <- apply(numeric_columns, 1, sd)\n",
    "\n",
    "# Calculate row average for the numeric columns\n",
    "data$Row_Average <- apply(numeric_columns, 1, mean)\n",
    "\n",
    "# Print the updated data frame\n",
    "head(data)"
   ]
  },
  {
   "cell_type": "markdown",
   "id": "a811c4a9-d589-41cc-a304-9fa62cfc9ad8",
   "metadata": {},
   "source": [
    "## Calculating The Average And Standard Deviation For Control Samples Alone:"
   ]
  },
  {
   "cell_type": "markdown",
   "id": "ed551b09-443c-47bc-a7f3-7f3f68d5ed13",
   "metadata": {},
   "source": [
    "### Selecting For Control Data Alone:"
   ]
  },
  {
   "cell_type": "markdown",
   "id": "7d033c00-4cdf-494b-a037-1a252d1b79ed",
   "metadata": {},
   "source": [
    "First, I have to select for the numeric columns that are from control samples alone:"
   ]
  },
  {
   "cell_type": "code",
   "execution_count": null,
   "id": "2333c126-2647-4c2e-96c4-e7c2b60dfbcb",
   "metadata": {
    "tags": [],
    "vscode": {
     "languageId": "r"
    }
   },
   "outputs": [],
   "source": [
    "\n",
    "# Select the numeric columns (columns 2 to 7)\n",
    "numeric_column_controls <- data[, 2:7]\n",
    "\n",
    "head(numeric_column_controls)\n"
   ]
  },
  {
   "cell_type": "markdown",
   "id": "4340dbb2-34a6-4302-8a58-57f26b600bfc",
   "metadata": {},
   "source": [
    "### Calculating Mean And Standard Deviation For Controls:"
   ]
  },
  {
   "cell_type": "code",
   "execution_count": null,
   "id": "72f52fd8-4fd2-486d-ab34-2e4033536c4c",
   "metadata": {
    "tags": [],
    "vscode": {
     "languageId": "r"
    }
   },
   "outputs": [],
   "source": [
    "\n",
    "# Calculate row standard deviation for columns 2 to 7\n",
    "data$Controls_Row_Standard_Deviation <- apply(numeric_column_controls, 1, sd)\n",
    "\n",
    "# Calculate row mean for columns 2 to 7\n",
    "data$Controls_Row_Mean <- apply(numeric_column_controls, 1, mean)\n",
    "\n",
    "# Print the updated data frame\n",
    "head(data)\n"
   ]
  },
  {
   "cell_type": "markdown",
   "id": "f757a4b4-3188-4327-83dc-a8b87b848fc2",
   "metadata": {},
   "source": [
    "## Write To File:"
   ]
  },
  {
   "cell_type": "markdown",
   "id": "8673551e-70c7-49bc-b791-b185a5992695",
   "metadata": {
    "tags": []
   },
   "source": [
    "In this case, I am writing to a `.tsv` and a `.csv`:"
   ]
  },
  {
   "cell_type": "code",
   "execution_count": null,
   "id": "d2a77e83-ff53-4a37-9b25-6242d07ce044",
   "metadata": {
    "vscode": {
     "languageId": "r"
    }
   },
   "outputs": [],
   "source": [
    "# Assuming you have a normalized counts data frame named normalized_counts_df\n",
    "\n",
    "# Write to a CSV file in the specified directory\n",
    "write.csv(data, file.path(output_directory, \"Average_And_Standard_Deviation_Using_Normalized_Counts_DEseq2.csv\"), row.names = FALSE)\n",
    "\n",
    "# Write to a TSV file in the specified directory\n",
    "write.table(data, file.path(output_directory, \"Average_And_Standard_Deviation_Using_Normalized_Counts_DEseq2.tsv\"), sep = \"\\t\", row.names = FALSE)\n"
   ]
  },
  {
   "cell_type": "markdown",
   "id": "4dfac295-b352-47d8-bcdd-39fc438f7380",
   "metadata": {},
   "source": [
    "## Session Information:"
   ]
  },
  {
   "cell_type": "code",
   "execution_count": null,
   "id": "0102f78d-83b7-458b-ace4-d07d6e987e62",
   "metadata": {
    "tags": [],
    "vscode": {
     "languageId": "r"
    }
   },
   "outputs": [],
   "source": [
    "sessionInfo()"
   ]
  }
 ],
 "metadata": {
  "kernelspec": {
   "display_name": "R",
   "language": "R",
   "name": "ir"
  },
  "language_info": {
   "codemirror_mode": "r",
   "file_extension": ".r",
   "mimetype": "text/x-r-source",
   "name": "R",
   "pygments_lexer": "r",
   "version": "4.2.2"
  }
 },
 "nbformat": 4,
 "nbformat_minor": 5
}
