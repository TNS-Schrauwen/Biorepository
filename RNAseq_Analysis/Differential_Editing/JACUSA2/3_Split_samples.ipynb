{
 "cells": [
  {
   "cell_type": "markdown",
   "metadata": {},
   "source": [
    "This notebook simply splits the JACUSA2 output by sample for ease of manipulation before further filtering occurs."
   ]
  },
  {
   "cell_type": "code",
   "execution_count": 2,
   "metadata": {
    "vscode": {
     "languageId": "r"
    }
   },
   "outputs": [],
   "source": [
    "data <- read.table('/mnt/vast/hpc/csg/hcs2152/ZFR_RNA_Editing/JACUSA2/all_dpf/JACUSA2_all_dpf_sites_no_SNPS.txt',header=TRUE,sep='\\t')"
   ]
  },
  {
   "cell_type": "code",
   "execution_count": 4,
   "metadata": {
    "vscode": {
     "languageId": "r"
    }
   },
   "outputs": [],
   "source": [
    "# Creating separate data frames for each 'bases' column and renaming them\n",
    "bases11_df <- data[, c(\"ID\", \"strand\", \"ref\", \"bases11\")]\n",
    "colnames(bases11_df) <- c(\"ID\", \"strand\", \"ref\", \"Base_counts\")\n",
    "\n",
    "bases12_df <- data[, c(\"ID\", \"strand\", \"ref\", \"bases12\")]\n",
    "colnames(bases12_df) <- c(\"ID\", \"strand\", \"ref\", \"Base_counts\")\n",
    "\n",
    "bases13_df <- data[, c(\"ID\", \"strand\", \"ref\", \"bases13\")]\n",
    "colnames(bases13_df) <- c(\"ID\", \"strand\", \"ref\", \"Base_counts\")\n",
    "\n",
    "bases14_df <- data[, c(\"ID\", \"strand\", \"ref\", \"bases14\")]\n",
    "colnames(bases14_df) <- c(\"ID\", \"strand\", \"ref\", \"Base_counts\")\n",
    "\n",
    "bases15_df <- data[, c(\"ID\", \"strand\", \"ref\", \"bases15\")]\n",
    "colnames(bases15_df) <- c(\"ID\", \"strand\", \"ref\", \"Base_counts\")\n",
    "\n",
    "bases16_df <- data[, c(\"ID\", \"strand\", \"ref\", \"bases16\")]\n",
    "colnames(bases16_df) <- c(\"ID\", \"strand\", \"ref\", \"Base_counts\")\n",
    "\n",
    "bases21_df <- data[, c(\"ID\", \"strand\", \"ref\", \"bases21\")]\n",
    "colnames(bases21_df) <- c(\"ID\",\"strand\", \"ref\", \"Base_counts\")\n",
    "\n",
    "bases22_df <- data[, c(\"ID\",\"strand\", \"ref\", \"bases22\")]\n",
    "colnames(bases22_df) <- c(\"ID\",\"strand\", \"ref\", \"Base_counts\")\n",
    "\n",
    "bases23_df <- data[, c(\"ID\",\"strand\", \"ref\", \"bases23\")]\n",
    "colnames(bases23_df) <- c(\"ID\",\"strand\", \"ref\", \"Base_counts\")\n",
    "\n",
    "bases24_df <- data[, c(\"ID\",\"strand\", \"ref\", \"bases24\")]\n",
    "colnames(bases24_df) <- c(\"ID\",\"strand\", \"ref\", \"Base_counts\")\n",
    "\n",
    "bases25_df <- data[, c(\"ID\",\"strand\", \"ref\", \"bases25\")]\n",
    "colnames(bases25_df) <- c(\"ID\",\"strand\", \"ref\", \"Base_counts\")\n",
    "\n",
    "bases26_df <- data[, c(\"ID\",\"strand\", \"ref\", \"bases26\")]\n",
    "colnames(bases26_df) <- c(\"ID\",\"strand\", \"ref\", \"Base_counts\")"
   ]
  },
  {
   "cell_type": "code",
   "execution_count": 4,
   "metadata": {
    "vscode": {
     "languageId": "r"
    }
   },
   "outputs": [],
   "source": [
    "output_directory <- '/mnt/vast/hpc/csg/hcs2152/ZFR_RNA_Editing/JACUSA2/all_dpf/all_dpf_singles'"
   ]
  },
  {
   "cell_type": "code",
   "execution_count": 5,
   "metadata": {
    "vscode": {
     "languageId": "r"
    }
   },
   "outputs": [],
   "source": [
    "write.table(bases11_df, file.path(output_directory, 'Ctrl-01_bases.tsv'), row.names = FALSE, sep = '\\t')\n",
    "write.table(bases12_df, file.path(output_directory, 'Ctrl-02_bases.tsv'), row.names = FALSE, sep = '\\t')\n",
    "write.table(bases13_df, file.path(output_directory, 'Ctrl-03_bases.tsv'), row.names = FALSE, sep = '\\t')\n",
    "write.table(bases14_df, file.path(output_directory, 'Ctrl-04_bases.tsv'), row.names = FALSE, sep = '\\t')\n",
    "write.table(bases15_df, file.path(output_directory, 'Ctrl-05_bases.tsv'), row.names = FALSE, sep = '\\t')\n",
    "write.table(bases16_df, file.path(output_directory, 'Ctrl-06_bases.tsv'), row.names = FALSE, sep = '\\t')\n",
    "write.table(bases21_df, file.path(output_directory, 'NO-01_bases.tsv'), row.names = FALSE, sep = '\\t')\n",
    "write.table(bases22_df, file.path(output_directory, 'NO-02_bases.tsv'), row.names = FALSE, sep = '\\t')\n",
    "write.table(bases23_df, file.path(output_directory, 'NO-03_bases.tsv'), row.names = FALSE, sep = '\\t')\n",
    "write.table(bases24_df, file.path(output_directory, 'NO-04_bases.tsv'), row.names = FALSE, sep = '\\t')\n",
    "write.table(bases25_df, file.path(output_directory, 'NO-05_bases.tsv'), row.names = FALSE, sep = '\\t')\n",
    "write.table(bases26_df, file.path(output_directory, 'NO-06_bases.tsv'), row.names = FALSE, sep = '\\t')"
   ]
  }
 ],
 "metadata": {
  "kernelspec": {
   "display_name": "R",
   "language": "R",
   "name": "ir"
  },
  "language_info": {
   "codemirror_mode": "r",
   "file_extension": ".r",
   "mimetype": "text/x-r-source",
   "name": "R",
   "pygments_lexer": "r",
   "version": "4.2.2"
  },
  "orig_nbformat": 4
 },
 "nbformat": 4,
 "nbformat_minor": 2
}
