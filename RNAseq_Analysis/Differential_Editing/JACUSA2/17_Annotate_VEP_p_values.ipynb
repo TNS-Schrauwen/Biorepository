{
 "cells": [
  {
   "cell_type": "markdown",
   "metadata": {},
   "source": [
    "This notebook merges the VEP \"Most Severe\" with the associated p-values from REDITs."
   ]
  },
  {
   "cell_type": "code",
   "execution_count": 12,
   "metadata": {
    "vscode": {
     "languageId": "r"
    }
   },
   "outputs": [],
   "source": [
    "library(dplyr)\n",
    "library(tidyr)"
   ]
  },
  {
   "cell_type": "code",
   "execution_count": 13,
   "metadata": {
    "vscode": {
     "languageId": "r"
    }
   },
   "outputs": [],
   "source": [
    "# Set paths to data\n",
    "vep_file <- \"/mnt/vast/hpc/csg/hcs2152/ZFR_RNA_Editing/JACUSA2/VEP/all_dpf/JACUSA2_all_dpf_VEP_most_severe_output.txt\"\n",
    "p_file <- \"/mnt/vast/hpc/csg/hcs2152/ZFR_RNA_Editing/JACUSA2/REDITs/all_dpf/JACUSA2_all_dpf_p_values.tsv\""
   ]
  },
  {
   "cell_type": "code",
   "execution_count": 14,
   "metadata": {
    "vscode": {
     "languageId": "r"
    }
   },
   "outputs": [],
   "source": [
    "# Load in data\n",
    "vep_data <- read.table(vep_file, header = FALSE, sep = \"\\t\", stringsAsFactors = FALSE)\n",
    "p_data <- read.table(p_file, header = TRUE, sep = \"\\t\", stringsAsFactors = FALSE)"
   ]
  },
  {
   "cell_type": "code",
   "execution_count": 15,
   "metadata": {
    "vscode": {
     "languageId": "r"
    }
   },
   "outputs": [],
   "source": [
    "#Extract ID and most severe consequence columns and name accordingly \n",
    "vep_new <- vep_data[, c(1, 4)]\n",
    "colnames(vep_new) <- c(\"ID\", \"most_severe_consequence\")"
   ]
  },
  {
   "cell_type": "code",
   "execution_count": 16,
   "metadata": {
    "vscode": {
     "languageId": "r"
    }
   },
   "outputs": [],
   "source": [
    "#Remove the _A/G from ID column\n",
    "vep_new$ID <- sub(\"_A/G\", \"\", vep_new$ID)"
   ]
  },
  {
   "cell_type": "code",
   "execution_count": 17,
   "metadata": {
    "vscode": {
     "languageId": "r"
    }
   },
   "outputs": [],
   "source": [
    "p_data$ID <- sub(\"___AG\", \"\", p_data$ID)\n",
    "p_data$ID <- sub(\"___TC\", \"\", p_data$ID)"
   ]
  },
  {
   "cell_type": "code",
   "execution_count": 18,
   "metadata": {
    "vscode": {
     "languageId": "r"
    }
   },
   "outputs": [],
   "source": [
    "annotated_data <- merge(p_data, vep_new, by = \"ID\")"
   ]
  },
  {
   "cell_type": "code",
   "execution_count": 19,
   "metadata": {
    "vscode": {
     "languageId": "r"
    }
   },
   "outputs": [],
   "source": [
    "# Remove p_adj values (redoing after filter)\n",
    "annotated_data <- annotated_data[, !colnames(annotated_data) %in% c(\"p_adj_BH\")]"
   ]
  },
  {
   "cell_type": "code",
   "execution_count": 20,
   "metadata": {
    "vscode": {
     "languageId": "r"
    }
   },
   "outputs": [
    {
     "data": {
      "text/html": [
       "<table class=\"dataframe\">\n",
       "<caption>A data.frame: 23983 × 3</caption>\n",
       "<thead>\n",
       "\t<tr><th scope=col>ID</th><th scope=col>p_value</th><th scope=col>most_severe_consequence</th></tr>\n",
       "\t<tr><th scope=col>&lt;chr&gt;</th><th scope=col>&lt;dbl&gt;</th><th scope=col>&lt;chr&gt;</th></tr>\n",
       "</thead>\n",
       "<tbody>\n",
       "\t<tr><td>1_10023876</td><td>0.0442094628</td><td>missense_variant                  </td></tr>\n",
       "\t<tr><td>1_10054490</td><td>0.0662903807</td><td>missense_variant                  </td></tr>\n",
       "\t<tr><td>1_10057975</td><td>0.0092256133</td><td>missense_variant                  </td></tr>\n",
       "\t<tr><td>1_10067239</td><td>0.0028576348</td><td>missense_variant                  </td></tr>\n",
       "\t<tr><td>1_1006825 </td><td>0.4785242670</td><td>non_coding_transcript_exon_variant</td></tr>\n",
       "\t<tr><td>1_10068596</td><td>0.0054651169</td><td>synonymous_variant                </td></tr>\n",
       "\t<tr><td>1_1009780 </td><td>0.8750256688</td><td>non_coding_transcript_exon_variant</td></tr>\n",
       "\t<tr><td>1_10313231</td><td>0.0005234153</td><td>missense_variant                  </td></tr>\n",
       "\t<tr><td>1_10314652</td><td>0.8984568719</td><td>3_prime_UTR_variant               </td></tr>\n",
       "\t<tr><td>1_10325782</td><td>0.3259710215</td><td>intron_variant                    </td></tr>\n",
       "\t<tr><td>1_10325785</td><td>0.2834954047</td><td>intron_variant                    </td></tr>\n",
       "\t<tr><td>1_10379135</td><td>0.6257129526</td><td>missense_variant                  </td></tr>\n",
       "\t<tr><td>1_10432785</td><td>0.5186447508</td><td>missense_variant                  </td></tr>\n",
       "\t<tr><td>1_10684036</td><td>0.0849740930</td><td>5_prime_UTR_variant               </td></tr>\n",
       "\t<tr><td>1_10697099</td><td>0.8097740216</td><td>downstream_gene_variant           </td></tr>\n",
       "\t<tr><td>1_10697988</td><td>0.0101292264</td><td>downstream_gene_variant           </td></tr>\n",
       "\t<tr><td>1_10698061</td><td>0.1008790102</td><td>downstream_gene_variant           </td></tr>\n",
       "\t<tr><td>1_10698204</td><td>0.9323721941</td><td>downstream_gene_variant           </td></tr>\n",
       "\t<tr><td>1_10698353</td><td>0.1585048209</td><td>downstream_gene_variant           </td></tr>\n",
       "\t<tr><td>1_10698394</td><td>0.0201806260</td><td>downstream_gene_variant           </td></tr>\n",
       "\t<tr><td>1_10698477</td><td>0.0377843561</td><td>downstream_gene_variant           </td></tr>\n",
       "\t<tr><td>1_10698975</td><td>0.1178943593</td><td>downstream_gene_variant           </td></tr>\n",
       "\t<tr><td>1_10738567</td><td>0.1222946381</td><td>3_prime_UTR_variant               </td></tr>\n",
       "\t<tr><td>1_10822937</td><td>0.7357414468</td><td>upstream_gene_variant             </td></tr>\n",
       "\t<tr><td>1_10822972</td><td>0.8992345792</td><td>upstream_gene_variant             </td></tr>\n",
       "\t<tr><td>1_10823089</td><td>0.6730297575</td><td>upstream_gene_variant             </td></tr>\n",
       "\t<tr><td>1_10838290</td><td>0.1936283330</td><td>intron_variant                    </td></tr>\n",
       "\t<tr><td>1_10897372</td><td>0.2453501989</td><td>missense_variant                  </td></tr>\n",
       "\t<tr><td>1_10901303</td><td>0.2171556195</td><td>missense_variant                  </td></tr>\n",
       "\t<tr><td>1_10918137</td><td>0.4873411206</td><td>missense_variant                  </td></tr>\n",
       "\t<tr><td>⋮</td><td>⋮</td><td>⋮</td></tr>\n",
       "\t<tr><td>25_8388435</td><td>2.748584e-01</td><td>stop_retained_variant             </td></tr>\n",
       "\t<tr><td>25_8388486</td><td>9.041898e-01</td><td>missense_variant                  </td></tr>\n",
       "\t<tr><td>25_8388488</td><td>9.279427e-01</td><td>missense_variant                  </td></tr>\n",
       "\t<tr><td>25_8393095</td><td>3.768107e-02</td><td>stop_lost                         </td></tr>\n",
       "\t<tr><td>25_8422593</td><td>1.736053e-01</td><td>synonymous_variant                </td></tr>\n",
       "\t<tr><td>25_8497731</td><td>9.757939e-01</td><td>missense_variant                  </td></tr>\n",
       "\t<tr><td>25_8507031</td><td>8.428621e-01</td><td>missense_variant                  </td></tr>\n",
       "\t<tr><td>25_8666050</td><td>6.329581e-01</td><td>5_prime_UTR_variant               </td></tr>\n",
       "\t<tr><td>25_8666210</td><td>6.184612e-01</td><td>5_prime_UTR_variant               </td></tr>\n",
       "\t<tr><td>25_8713467</td><td>1.163774e-01</td><td>missense_variant                  </td></tr>\n",
       "\t<tr><td>25_8740052</td><td>1.000000e+00</td><td>3_prime_UTR_variant               </td></tr>\n",
       "\t<tr><td>25_8740125</td><td>5.935532e-01</td><td>3_prime_UTR_variant               </td></tr>\n",
       "\t<tr><td>25_8740380</td><td>6.215248e-01</td><td>3_prime_UTR_variant               </td></tr>\n",
       "\t<tr><td>25_8740763</td><td>3.265724e-01</td><td>3_prime_UTR_variant               </td></tr>\n",
       "\t<tr><td>25_8741007</td><td>1.524159e-02</td><td>3_prime_UTR_variant               </td></tr>\n",
       "\t<tr><td>25_8741669</td><td>2.805581e-01</td><td>3_prime_UTR_variant               </td></tr>\n",
       "\t<tr><td>25_8742280</td><td>8.719877e-01</td><td>3_prime_UTR_variant               </td></tr>\n",
       "\t<tr><td>25_8773256</td><td>2.121308e-05</td><td>missense_variant                  </td></tr>\n",
       "\t<tr><td>25_8908416</td><td>6.742765e-01</td><td>5_prime_UTR_variant               </td></tr>\n",
       "\t<tr><td>25_8922142</td><td>1.000000e+00</td><td>synonymous_variant                </td></tr>\n",
       "\t<tr><td>25_8946650</td><td>1.045605e-02</td><td>missense_variant                  </td></tr>\n",
       "\t<tr><td>25_8949093</td><td>6.663893e-02</td><td>3_prime_UTR_variant               </td></tr>\n",
       "\t<tr><td>25_907082 </td><td>8.465116e-02</td><td>intron_variant                    </td></tr>\n",
       "\t<tr><td>25_907126 </td><td>2.032865e-01</td><td>intron_variant                    </td></tr>\n",
       "\t<tr><td>25_914896 </td><td>2.659251e-01</td><td>intron_variant                    </td></tr>\n",
       "\t<tr><td>25_932471 </td><td>1.077421e-01</td><td>intron_variant                    </td></tr>\n",
       "\t<tr><td>25_940419 </td><td>3.296852e-02</td><td>intron_variant                    </td></tr>\n",
       "\t<tr><td>25_9676911</td><td>2.291419e-03</td><td>non_coding_transcript_exon_variant</td></tr>\n",
       "\t<tr><td>25_9680483</td><td>1.215471e-03</td><td>synonymous_variant                </td></tr>\n",
       "\t<tr><td>25_994902 </td><td>4.934027e-01</td><td>intron_variant                    </td></tr>\n",
       "</tbody>\n",
       "</table>\n"
      ],
      "text/latex": [
       "A data.frame: 23983 × 3\n",
       "\\begin{tabular}{lll}\n",
       " ID & p\\_value & most\\_severe\\_consequence\\\\\n",
       " <chr> & <dbl> & <chr>\\\\\n",
       "\\hline\n",
       "\t 1\\_10023876 & 0.0442094628 & missense\\_variant                  \\\\\n",
       "\t 1\\_10054490 & 0.0662903807 & missense\\_variant                  \\\\\n",
       "\t 1\\_10057975 & 0.0092256133 & missense\\_variant                  \\\\\n",
       "\t 1\\_10067239 & 0.0028576348 & missense\\_variant                  \\\\\n",
       "\t 1\\_1006825  & 0.4785242670 & non\\_coding\\_transcript\\_exon\\_variant\\\\\n",
       "\t 1\\_10068596 & 0.0054651169 & synonymous\\_variant                \\\\\n",
       "\t 1\\_1009780  & 0.8750256688 & non\\_coding\\_transcript\\_exon\\_variant\\\\\n",
       "\t 1\\_10313231 & 0.0005234153 & missense\\_variant                  \\\\\n",
       "\t 1\\_10314652 & 0.8984568719 & 3\\_prime\\_UTR\\_variant               \\\\\n",
       "\t 1\\_10325782 & 0.3259710215 & intron\\_variant                    \\\\\n",
       "\t 1\\_10325785 & 0.2834954047 & intron\\_variant                    \\\\\n",
       "\t 1\\_10379135 & 0.6257129526 & missense\\_variant                  \\\\\n",
       "\t 1\\_10432785 & 0.5186447508 & missense\\_variant                  \\\\\n",
       "\t 1\\_10684036 & 0.0849740930 & 5\\_prime\\_UTR\\_variant               \\\\\n",
       "\t 1\\_10697099 & 0.8097740216 & downstream\\_gene\\_variant           \\\\\n",
       "\t 1\\_10697988 & 0.0101292264 & downstream\\_gene\\_variant           \\\\\n",
       "\t 1\\_10698061 & 0.1008790102 & downstream\\_gene\\_variant           \\\\\n",
       "\t 1\\_10698204 & 0.9323721941 & downstream\\_gene\\_variant           \\\\\n",
       "\t 1\\_10698353 & 0.1585048209 & downstream\\_gene\\_variant           \\\\\n",
       "\t 1\\_10698394 & 0.0201806260 & downstream\\_gene\\_variant           \\\\\n",
       "\t 1\\_10698477 & 0.0377843561 & downstream\\_gene\\_variant           \\\\\n",
       "\t 1\\_10698975 & 0.1178943593 & downstream\\_gene\\_variant           \\\\\n",
       "\t 1\\_10738567 & 0.1222946381 & 3\\_prime\\_UTR\\_variant               \\\\\n",
       "\t 1\\_10822937 & 0.7357414468 & upstream\\_gene\\_variant             \\\\\n",
       "\t 1\\_10822972 & 0.8992345792 & upstream\\_gene\\_variant             \\\\\n",
       "\t 1\\_10823089 & 0.6730297575 & upstream\\_gene\\_variant             \\\\\n",
       "\t 1\\_10838290 & 0.1936283330 & intron\\_variant                    \\\\\n",
       "\t 1\\_10897372 & 0.2453501989 & missense\\_variant                  \\\\\n",
       "\t 1\\_10901303 & 0.2171556195 & missense\\_variant                  \\\\\n",
       "\t 1\\_10918137 & 0.4873411206 & missense\\_variant                  \\\\\n",
       "\t ⋮ & ⋮ & ⋮\\\\\n",
       "\t 25\\_8388435 & 2.748584e-01 & stop\\_retained\\_variant             \\\\\n",
       "\t 25\\_8388486 & 9.041898e-01 & missense\\_variant                  \\\\\n",
       "\t 25\\_8388488 & 9.279427e-01 & missense\\_variant                  \\\\\n",
       "\t 25\\_8393095 & 3.768107e-02 & stop\\_lost                         \\\\\n",
       "\t 25\\_8422593 & 1.736053e-01 & synonymous\\_variant                \\\\\n",
       "\t 25\\_8497731 & 9.757939e-01 & missense\\_variant                  \\\\\n",
       "\t 25\\_8507031 & 8.428621e-01 & missense\\_variant                  \\\\\n",
       "\t 25\\_8666050 & 6.329581e-01 & 5\\_prime\\_UTR\\_variant               \\\\\n",
       "\t 25\\_8666210 & 6.184612e-01 & 5\\_prime\\_UTR\\_variant               \\\\\n",
       "\t 25\\_8713467 & 1.163774e-01 & missense\\_variant                  \\\\\n",
       "\t 25\\_8740052 & 1.000000e+00 & 3\\_prime\\_UTR\\_variant               \\\\\n",
       "\t 25\\_8740125 & 5.935532e-01 & 3\\_prime\\_UTR\\_variant               \\\\\n",
       "\t 25\\_8740380 & 6.215248e-01 & 3\\_prime\\_UTR\\_variant               \\\\\n",
       "\t 25\\_8740763 & 3.265724e-01 & 3\\_prime\\_UTR\\_variant               \\\\\n",
       "\t 25\\_8741007 & 1.524159e-02 & 3\\_prime\\_UTR\\_variant               \\\\\n",
       "\t 25\\_8741669 & 2.805581e-01 & 3\\_prime\\_UTR\\_variant               \\\\\n",
       "\t 25\\_8742280 & 8.719877e-01 & 3\\_prime\\_UTR\\_variant               \\\\\n",
       "\t 25\\_8773256 & 2.121308e-05 & missense\\_variant                  \\\\\n",
       "\t 25\\_8908416 & 6.742765e-01 & 5\\_prime\\_UTR\\_variant               \\\\\n",
       "\t 25\\_8922142 & 1.000000e+00 & synonymous\\_variant                \\\\\n",
       "\t 25\\_8946650 & 1.045605e-02 & missense\\_variant                  \\\\\n",
       "\t 25\\_8949093 & 6.663893e-02 & 3\\_prime\\_UTR\\_variant               \\\\\n",
       "\t 25\\_907082  & 8.465116e-02 & intron\\_variant                    \\\\\n",
       "\t 25\\_907126  & 2.032865e-01 & intron\\_variant                    \\\\\n",
       "\t 25\\_914896  & 2.659251e-01 & intron\\_variant                    \\\\\n",
       "\t 25\\_932471  & 1.077421e-01 & intron\\_variant                    \\\\\n",
       "\t 25\\_940419  & 3.296852e-02 & intron\\_variant                    \\\\\n",
       "\t 25\\_9676911 & 2.291419e-03 & non\\_coding\\_transcript\\_exon\\_variant\\\\\n",
       "\t 25\\_9680483 & 1.215471e-03 & synonymous\\_variant                \\\\\n",
       "\t 25\\_994902  & 4.934027e-01 & intron\\_variant                    \\\\\n",
       "\\end{tabular}\n"
      ],
      "text/markdown": [
       "\n",
       "A data.frame: 23983 × 3\n",
       "\n",
       "| ID &lt;chr&gt; | p_value &lt;dbl&gt; | most_severe_consequence &lt;chr&gt; |\n",
       "|---|---|---|\n",
       "| 1_10023876 | 0.0442094628 | missense_variant                   |\n",
       "| 1_10054490 | 0.0662903807 | missense_variant                   |\n",
       "| 1_10057975 | 0.0092256133 | missense_variant                   |\n",
       "| 1_10067239 | 0.0028576348 | missense_variant                   |\n",
       "| 1_1006825  | 0.4785242670 | non_coding_transcript_exon_variant |\n",
       "| 1_10068596 | 0.0054651169 | synonymous_variant                 |\n",
       "| 1_1009780  | 0.8750256688 | non_coding_transcript_exon_variant |\n",
       "| 1_10313231 | 0.0005234153 | missense_variant                   |\n",
       "| 1_10314652 | 0.8984568719 | 3_prime_UTR_variant                |\n",
       "| 1_10325782 | 0.3259710215 | intron_variant                     |\n",
       "| 1_10325785 | 0.2834954047 | intron_variant                     |\n",
       "| 1_10379135 | 0.6257129526 | missense_variant                   |\n",
       "| 1_10432785 | 0.5186447508 | missense_variant                   |\n",
       "| 1_10684036 | 0.0849740930 | 5_prime_UTR_variant                |\n",
       "| 1_10697099 | 0.8097740216 | downstream_gene_variant            |\n",
       "| 1_10697988 | 0.0101292264 | downstream_gene_variant            |\n",
       "| 1_10698061 | 0.1008790102 | downstream_gene_variant            |\n",
       "| 1_10698204 | 0.9323721941 | downstream_gene_variant            |\n",
       "| 1_10698353 | 0.1585048209 | downstream_gene_variant            |\n",
       "| 1_10698394 | 0.0201806260 | downstream_gene_variant            |\n",
       "| 1_10698477 | 0.0377843561 | downstream_gene_variant            |\n",
       "| 1_10698975 | 0.1178943593 | downstream_gene_variant            |\n",
       "| 1_10738567 | 0.1222946381 | 3_prime_UTR_variant                |\n",
       "| 1_10822937 | 0.7357414468 | upstream_gene_variant              |\n",
       "| 1_10822972 | 0.8992345792 | upstream_gene_variant              |\n",
       "| 1_10823089 | 0.6730297575 | upstream_gene_variant              |\n",
       "| 1_10838290 | 0.1936283330 | intron_variant                     |\n",
       "| 1_10897372 | 0.2453501989 | missense_variant                   |\n",
       "| 1_10901303 | 0.2171556195 | missense_variant                   |\n",
       "| 1_10918137 | 0.4873411206 | missense_variant                   |\n",
       "| ⋮ | ⋮ | ⋮ |\n",
       "| 25_8388435 | 2.748584e-01 | stop_retained_variant              |\n",
       "| 25_8388486 | 9.041898e-01 | missense_variant                   |\n",
       "| 25_8388488 | 9.279427e-01 | missense_variant                   |\n",
       "| 25_8393095 | 3.768107e-02 | stop_lost                          |\n",
       "| 25_8422593 | 1.736053e-01 | synonymous_variant                 |\n",
       "| 25_8497731 | 9.757939e-01 | missense_variant                   |\n",
       "| 25_8507031 | 8.428621e-01 | missense_variant                   |\n",
       "| 25_8666050 | 6.329581e-01 | 5_prime_UTR_variant                |\n",
       "| 25_8666210 | 6.184612e-01 | 5_prime_UTR_variant                |\n",
       "| 25_8713467 | 1.163774e-01 | missense_variant                   |\n",
       "| 25_8740052 | 1.000000e+00 | 3_prime_UTR_variant                |\n",
       "| 25_8740125 | 5.935532e-01 | 3_prime_UTR_variant                |\n",
       "| 25_8740380 | 6.215248e-01 | 3_prime_UTR_variant                |\n",
       "| 25_8740763 | 3.265724e-01 | 3_prime_UTR_variant                |\n",
       "| 25_8741007 | 1.524159e-02 | 3_prime_UTR_variant                |\n",
       "| 25_8741669 | 2.805581e-01 | 3_prime_UTR_variant                |\n",
       "| 25_8742280 | 8.719877e-01 | 3_prime_UTR_variant                |\n",
       "| 25_8773256 | 2.121308e-05 | missense_variant                   |\n",
       "| 25_8908416 | 6.742765e-01 | 5_prime_UTR_variant                |\n",
       "| 25_8922142 | 1.000000e+00 | synonymous_variant                 |\n",
       "| 25_8946650 | 1.045605e-02 | missense_variant                   |\n",
       "| 25_8949093 | 6.663893e-02 | 3_prime_UTR_variant                |\n",
       "| 25_907082  | 8.465116e-02 | intron_variant                     |\n",
       "| 25_907126  | 2.032865e-01 | intron_variant                     |\n",
       "| 25_914896  | 2.659251e-01 | intron_variant                     |\n",
       "| 25_932471  | 1.077421e-01 | intron_variant                     |\n",
       "| 25_940419  | 3.296852e-02 | intron_variant                     |\n",
       "| 25_9676911 | 2.291419e-03 | non_coding_transcript_exon_variant |\n",
       "| 25_9680483 | 1.215471e-03 | synonymous_variant                 |\n",
       "| 25_994902  | 4.934027e-01 | intron_variant                     |\n",
       "\n"
      ],
      "text/plain": [
       "      ID         p_value      most_severe_consequence           \n",
       "1     1_10023876 0.0442094628 missense_variant                  \n",
       "2     1_10054490 0.0662903807 missense_variant                  \n",
       "3     1_10057975 0.0092256133 missense_variant                  \n",
       "4     1_10067239 0.0028576348 missense_variant                  \n",
       "5     1_1006825  0.4785242670 non_coding_transcript_exon_variant\n",
       "6     1_10068596 0.0054651169 synonymous_variant                \n",
       "7     1_1009780  0.8750256688 non_coding_transcript_exon_variant\n",
       "8     1_10313231 0.0005234153 missense_variant                  \n",
       "9     1_10314652 0.8984568719 3_prime_UTR_variant               \n",
       "10    1_10325782 0.3259710215 intron_variant                    \n",
       "11    1_10325785 0.2834954047 intron_variant                    \n",
       "12    1_10379135 0.6257129526 missense_variant                  \n",
       "13    1_10432785 0.5186447508 missense_variant                  \n",
       "14    1_10684036 0.0849740930 5_prime_UTR_variant               \n",
       "15    1_10697099 0.8097740216 downstream_gene_variant           \n",
       "16    1_10697988 0.0101292264 downstream_gene_variant           \n",
       "17    1_10698061 0.1008790102 downstream_gene_variant           \n",
       "18    1_10698204 0.9323721941 downstream_gene_variant           \n",
       "19    1_10698353 0.1585048209 downstream_gene_variant           \n",
       "20    1_10698394 0.0201806260 downstream_gene_variant           \n",
       "21    1_10698477 0.0377843561 downstream_gene_variant           \n",
       "22    1_10698975 0.1178943593 downstream_gene_variant           \n",
       "23    1_10738567 0.1222946381 3_prime_UTR_variant               \n",
       "24    1_10822937 0.7357414468 upstream_gene_variant             \n",
       "25    1_10822972 0.8992345792 upstream_gene_variant             \n",
       "26    1_10823089 0.6730297575 upstream_gene_variant             \n",
       "27    1_10838290 0.1936283330 intron_variant                    \n",
       "28    1_10897372 0.2453501989 missense_variant                  \n",
       "29    1_10901303 0.2171556195 missense_variant                  \n",
       "30    1_10918137 0.4873411206 missense_variant                  \n",
       "⋮     ⋮          ⋮            ⋮                                 \n",
       "23954 25_8388435 2.748584e-01 stop_retained_variant             \n",
       "23955 25_8388486 9.041898e-01 missense_variant                  \n",
       "23956 25_8388488 9.279427e-01 missense_variant                  \n",
       "23957 25_8393095 3.768107e-02 stop_lost                         \n",
       "23958 25_8422593 1.736053e-01 synonymous_variant                \n",
       "23959 25_8497731 9.757939e-01 missense_variant                  \n",
       "23960 25_8507031 8.428621e-01 missense_variant                  \n",
       "23961 25_8666050 6.329581e-01 5_prime_UTR_variant               \n",
       "23962 25_8666210 6.184612e-01 5_prime_UTR_variant               \n",
       "23963 25_8713467 1.163774e-01 missense_variant                  \n",
       "23964 25_8740052 1.000000e+00 3_prime_UTR_variant               \n",
       "23965 25_8740125 5.935532e-01 3_prime_UTR_variant               \n",
       "23966 25_8740380 6.215248e-01 3_prime_UTR_variant               \n",
       "23967 25_8740763 3.265724e-01 3_prime_UTR_variant               \n",
       "23968 25_8741007 1.524159e-02 3_prime_UTR_variant               \n",
       "23969 25_8741669 2.805581e-01 3_prime_UTR_variant               \n",
       "23970 25_8742280 8.719877e-01 3_prime_UTR_variant               \n",
       "23971 25_8773256 2.121308e-05 missense_variant                  \n",
       "23972 25_8908416 6.742765e-01 5_prime_UTR_variant               \n",
       "23973 25_8922142 1.000000e+00 synonymous_variant                \n",
       "23974 25_8946650 1.045605e-02 missense_variant                  \n",
       "23975 25_8949093 6.663893e-02 3_prime_UTR_variant               \n",
       "23976 25_907082  8.465116e-02 intron_variant                    \n",
       "23977 25_907126  2.032865e-01 intron_variant                    \n",
       "23978 25_914896  2.659251e-01 intron_variant                    \n",
       "23979 25_932471  1.077421e-01 intron_variant                    \n",
       "23980 25_940419  3.296852e-02 intron_variant                    \n",
       "23981 25_9676911 2.291419e-03 non_coding_transcript_exon_variant\n",
       "23982 25_9680483 1.215471e-03 synonymous_variant                \n",
       "23983 25_994902  4.934027e-01 intron_variant                    "
      ]
     },
     "metadata": {},
     "output_type": "display_data"
    }
   ],
   "source": [
    "annotated_data"
   ]
  },
  {
   "cell_type": "code",
   "execution_count": 21,
   "metadata": {
    "vscode": {
     "languageId": "r"
    }
   },
   "outputs": [],
   "source": [
    "output_file <- \"/mnt/vast/hpc/csg/hcs2152/ZFR_RNA_Editing/JACUSA2/all_dpf/JACUSA2_all_dpf_VEP_p_val.tsv\""
   ]
  },
  {
   "cell_type": "code",
   "execution_count": 11,
   "metadata": {
    "vscode": {
     "languageId": "r"
    }
   },
   "outputs": [],
   "source": [
    "write.table(annotated_data, file = output_file, sep = \"\\t\", quote = FALSE, row.names = FALSE)"
   ]
  }
 ],
 "metadata": {
  "kernelspec": {
   "display_name": "R",
   "language": "R",
   "name": "ir"
  },
  "language_info": {
   "codemirror_mode": "r",
   "file_extension": ".r",
   "mimetype": "text/x-r-source",
   "name": "R",
   "pygments_lexer": "r",
   "version": "4.2.2"
  },
  "orig_nbformat": 4
 },
 "nbformat": 4,
 "nbformat_minor": 2
}
