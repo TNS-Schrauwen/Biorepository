{
 "cells": [
  {
   "cell_type": "markdown",
   "id": "eb97b8d9-2d56-4bcf-8508-e3dff175762e",
   "metadata": {},
   "source": [
    "# Steps 1 & 2 Generating Files From Wald Test And Likelyhood Ratio Test"
   ]
  },
  {
   "cell_type": "markdown",
   "id": "e80017f0-1e3a-47f2-952b-e36212db2885",
   "metadata": {
    "tags": []
   },
   "source": [
    "## Site(s) Used:\n",
    "\n",
    "* For the [demo version](http://bioconductor.org/packages/devel/bioc/vignettes/DESeq2/inst/doc/DESeq2.html)\n",
    "\n",
    "* The [installation of the DESeq2]( https://bioconductor.org/packages/release/bioc/html/DESeq2.html )\n"
   ]
  },
  {
   "cell_type": "markdown",
   "id": "0b28278b-b11e-4518-ab3d-feb25c3d7125",
   "metadata": {},
   "source": [
    "## Defining Output Paths"
   ]
  },
  {
   "cell_type": "markdown",
   "id": "669231c3-566b-41dd-947b-3c7b06b4b766",
   "metadata": {},
   "source": [
    "\n",
    "This is where the Wald Test and the Likelyhood Ratio Test Results will be outputted.\n",
    "\n",
    "*Suggestion:* \n",
    "\n",
    "* Make a parent directory called `1___Structured_Data_Files` and the path to that should be the path used in `parent_directory`."
   ]
  },
  {
   "cell_type": "code",
   "execution_count": null,
   "id": "e245d96a-2d15-457c-817d-e4fda0d6ee4d",
   "metadata": {
    "vscode": {
     "languageId": "r"
    }
   },
   "outputs": [],
   "source": [
    "# Define the parent directory to output the Wald and Likelyhood Ratio Test\n",
    "parent_directory <- \"/path/to/summary/statistics/removed/1___Structured_Data_Files\""
   ]
  },
  {
   "cell_type": "markdown",
   "id": "2f741c6d-c19b-4e17-b054-9677b72abdc8",
   "metadata": {},
   "source": [
    "## Loading Counts Matrix\n",
    "\n",
    "\n",
    "First the counts matrix needs to be loaded. Make sure it is the one without any summary statistics. In my case it is called `\n",
    "\n",
    "Make sure to use the full path below as an input for `counts_matrix_file`."
   ]
  },
  {
   "cell_type": "code",
   "execution_count": null,
   "id": "88de2deb-67b6-4ac5-bfc8-fcf57289e1a8",
   "metadata": {
    "tags": [],
    "vscode": {
     "languageId": "r"
    }
   },
   "outputs": [],
   "source": [
    "# Define the path to your counts matrix file\n",
    "counts_matrix_file <- \"/path/to/my/counts/matrix/txt/file/myCountsMatrixWithShorterColumnNamesAsInput.txt\"\n",
    "\n",
    "# Read the counts matrix from the TSV file\n",
    "counts_matrix <- read.table(counts_matrix_file, header = TRUE, row.names = 1, sep = \"\\t\")\n",
    "\n",
    "head(counts_matrix)"
   ]
  },
  {
   "cell_type": "code",
   "execution_count": null,
   "id": "6bbb2b12-d758-4ed6-a3a3-5b8485ea0f55",
   "metadata": {
    "tags": [],
    "vscode": {
     "languageId": "r"
    }
   },
   "outputs": [],
   "source": [
    "print(colnames(counts_matrix))"
   ]
  },
  {
   "cell_type": "markdown",
   "id": "abbd92f2-18b8-4897-8273-36976ce41472",
   "metadata": {},
   "source": [
    "DEseq2 requires sample metadata so I have set it up with the sample names being the same as the column names.\n"
   ]
  },
  {
   "cell_type": "code",
   "execution_count": null,
   "id": "da59af91-c08b-4af8-a772-5e99fd540042",
   "metadata": {
    "tags": [],
    "vscode": {
     "languageId": "r"
    }
   },
   "outputs": [],
   "source": [
    "\n",
    "\n",
    "sample_metadata <- data.frame(\n",
    "  Sample = c(\"Control.01__Control\",\n",
    "             \"Control.02__Control\",\n",
    "             \"Control.03__Control\",\n",
    "             \"Control.04__Control\",\n",
    "             \"Control.05__Control\",\n",
    "             \"Control.06__Control\",\n",
    "             \"Experiment.01__Experimental\",\n",
    "             \"Experiment.02__Experimental\",\n",
    "             \"Experiment.03__Experimental\",\n",
    "             \"Experiment.04__Experimental\",\n",
    "             \"Experiment.05__Experimental\",\n",
    "             \"Experiment.06__Experimental\"),\n",
    "    \n",
    "  Treatment = c(\"Untreated\", \"Untreated\", \"Untreated\",\n",
    "                \"Untreated\", \"Untreated\", \"Untreated\",\n",
    "                \"Knockdown\", \"Knockdown\", \"Knockdown\",\n",
    "                \"Knockdown\", \"Knockdown\", \"Knockdown\"),\n",
    "    \n",
    "  Timepoint = c(\"IndependentVariableType1\", \"IndependentVariableType1\", \"IndependentVariableType1\",\n",
    "            \"IndependentVariableType2\", \"IndependentVariableType2\", \"IndependentVariableType2\",\n",
    "            \"IndependentVariableType1\", \"IndependentVariableType1\", \"IndependentVariableType1\",\n",
    "            \"IndependentVariableType2\", \"IndependentVariableType2\", \"IndependentVariableType2\")\n",
    ")\n",
    "\n",
    "# View the table\n",
    "\n",
    "sample_metadata\n"
   ]
  },
  {
   "cell_type": "markdown",
   "id": "45d6940e-6efa-4e39-8aa2-3db24e25a366",
   "metadata": {},
   "source": [
    "Below is the tentative design formula I am going to use."
   ]
  },
  {
   "cell_type": "code",
   "execution_count": null,
   "id": "fc6527dd-afd4-4118-8d16-1f720376203f",
   "metadata": {
    "tags": [],
    "vscode": {
     "languageId": "r"
    }
   },
   "outputs": [],
   "source": [
    "colnames(sample_metadata)"
   ]
  },
  {
   "cell_type": "markdown",
   "id": "50c92098-b3fb-450b-a655-a06955803c07",
   "metadata": {},
   "source": [
    "## DEseq2 Data Set"
   ]
  },
  {
   "cell_type": "markdown",
   "id": "1901629c-82b2-448a-9808-939306ecb083",
   "metadata": {},
   "source": [
    "When it comes to the design forumla for the `DESeqDataSetFromMatrix` object ensure that you put the formula directly into design. Do not put it into a variable that will be fed in design. It will most likely not work."
   ]
  },
  {
   "cell_type": "code",
   "execution_count": null,
   "id": "4f7b9700-d04b-4685-9e74-525a35fa5124",
   "metadata": {
    "tags": [],
    "vscode": {
     "languageId": "r"
    }
   },
   "outputs": [],
   "source": [
    "library(DESeq2)\n",
    "\n",
    "dds <- DESeqDataSetFromMatrix(countData = counts_matrix,\n",
    "                              colData = sample_metadata,\n",
    "                              design = ~ Timepoint + Treatment  )\n"
   ]
  },
  {
   "cell_type": "markdown",
   "id": "5d93cb91-2ea1-4abb-b1bc-7a7ddbc1d4b8",
   "metadata": {},
   "source": [
    "## Manually Identify: Factor Levels"
   ]
  },
  {
   "cell_type": "markdown",
   "id": "0c9f0f5d-0c38-4028-91e5-582f63023a11",
   "metadata": {},
   "source": [
    "You may have to idiftify the reference factor as according to DEseq2:\n",
    "\n",
    "> By default, R will choose a reference level for factors based on alphabetical order. Then, if you never tell the DESeq2 functions which level you want to compare against (e.g. which level represents the control group), the comparisons will be based on the alphabetical order of the levels. There are two solutions: you can either explicitly tell results which comparison to make using the contrast argument (this will be shown later), or you can explicitly set the factors levels. In order to see the change of reference levels reflected in the results names, you need to either run DESeq or nbinomWaldTest/nbinomLRT after the re-leveling operation. Setting the factor levels can be done in two ways, either using factor\n",
    "\n",
    "Therefore below I am setting Untreated as the reference.  This makes it seem the knockdown as the experimental group."
   ]
  },
  {
   "cell_type": "code",
   "execution_count": null,
   "id": "b9e8c1ef-9c44-4e6d-af3d-ede23cb0eeed",
   "metadata": {
    "tags": [],
    "vscode": {
     "languageId": "r"
    }
   },
   "outputs": [],
   "source": [
    "dds$Treatment <- factor(dds$Treatment, levels = c(\"Untreated\", \"Knockdown\"))"
   ]
  },
  {
   "cell_type": "code",
   "execution_count": null,
   "id": "2f73cba8-60bf-4496-b7ca-d3b2bcddffaa",
   "metadata": {
    "tags": [],
    "vscode": {
     "languageId": "r"
    }
   },
   "outputs": [],
   "source": [
    "dds$Treatment <- relevel(dds$Treatment, ref = \"Untreated\")"
   ]
  },
  {
   "cell_type": "markdown",
   "id": "2614ea48-5fd5-47d9-9cbc-8cd6b977d4f3",
   "metadata": {},
   "source": [
    "## Pre-filtering Low Counts"
   ]
  },
  {
   "cell_type": "code",
   "execution_count": null,
   "id": "6f012136-254a-4686-b48e-984f23f3dc6e",
   "metadata": {
    "vscode": {
     "languageId": "r"
    }
   },
   "outputs": [],
   "source": [
    "keep <- rowSums(counts(dds)) >= 10\n",
    "dds <- dds[keep,]"
   ]
  },
  {
   "cell_type": "markdown",
   "id": "e69cda5c-bc1b-40b3-b85a-493c19b680fa",
   "metadata": {},
   "source": [
    "## Differential Expression Analysis Main"
   ]
  },
  {
   "cell_type": "code",
   "execution_count": null,
   "id": "d88f5a09-1c63-492f-8f8e-1605773c47b2",
   "metadata": {
    "vscode": {
     "languageId": "r"
    }
   },
   "outputs": [],
   "source": [
    "dds <- DESeq(dds)\n",
    "res <- results(dds)\n",
    "res"
   ]
  },
  {
   "cell_type": "markdown",
   "id": "c729817f-4007-44d7-8414-c372001ea893",
   "metadata": {},
   "source": [
    "## Manually Specify What You Want To Compare"
   ]
  },
  {
   "cell_type": "markdown",
   "id": "85669db9-eaaf-41e6-8069-8c581542a0e1",
   "metadata": {},
   "source": [
    "Here I would like to compare the treatments, the untreated vs the treated."
   ]
  },
  {
   "cell_type": "markdown",
   "id": "7e5424d3-420c-40f6-9081-99e5da96dcd3",
   "metadata": {},
   "source": [
    "### Wald Test (Default)"
   ]
  },
  {
   "cell_type": "code",
   "execution_count": null,
   "id": "1c58879a-2e9b-4e2d-9ec4-cf23f91829cd",
   "metadata": {
    "vscode": {
     "languageId": "r"
    }
   },
   "outputs": [],
   "source": [
    "res <- results(dds, contrast=c(\"Treatment\",\"Knockdown\", \"Untreated\"))"
   ]
  },
  {
   "cell_type": "markdown",
   "id": "227455b0-d3fe-4f0c-8f6f-f824f69d8a4f",
   "metadata": {},
   "source": [
    "The preference is that you order by the smallest p value."
   ]
  },
  {
   "cell_type": "code",
   "execution_count": null,
   "id": "c3b814c7-b77f-4445-9a78-483b4fb8b1d9",
   "metadata": {
    "vscode": {
     "languageId": "r"
    }
   },
   "outputs": [],
   "source": [
    "resOrdered <- res[order(res$pvalue),]"
   ]
  },
  {
   "cell_type": "code",
   "execution_count": null,
   "id": "0282f809-a48b-4ca5-83b9-f768467d3b27",
   "metadata": {
    "tags": [],
    "vscode": {
     "languageId": "r"
    }
   },
   "outputs": [],
   "source": [
    "df_resOrdered <- as.data.frame(resOrdered)\n",
    "head(as.data.frame(resOrdered))"
   ]
  },
  {
   "cell_type": "markdown",
   "id": "a55c16c7-22ff-464c-97a4-bed36b94dec1",
   "metadata": {},
   "source": [
    "Now it is time to output the results from the Wald test. The file name will have the time in Hours, Minutes, Seconds and whether it is AM or PM for version control purposes."
   ]
  },
  {
   "cell_type": "code",
   "execution_count": null,
   "id": "71cb65b4-28b2-4920-8044-6b9618c98904",
   "metadata": {
    "vscode": {
     "languageId": "r"
    }
   },
   "outputs": [],
   "source": [
    "# Create a timestamp with date and time\n",
    "timestamp <- format(Sys.time(), format = \"%Y_%m_%d_%I%M%S%p\")\n",
    "\n",
    "# Create the Wald test subdirectory under the parent directory\n",
    "wald_test_subdirectory <- file.path(parent_directory, \"1___Wald_Test\")\n",
    "dir.create(wald_test_subdirectory, showWarnings = FALSE)\n",
    "\n",
    "# Define the full path for the Wald test file with date and time\n",
    "Wald_test_file_path <- file.path(wald_test_subdirectory, paste0(\"Wald_Test_Contast_Treatment_Knockdown_Control_\", timestamp, \".tsv\"))\n",
    "\n",
    "# Write the data frame to a TSV file\n",
    "write.table(df_resOrdered, file = Wald_test_file_path, sep = \"\\t\", row.names = TRUE)"
   ]
  },
  {
   "cell_type": "markdown",
   "id": "3a04bf8c-8240-41cd-a02b-64beb3a90467",
   "metadata": {},
   "source": [
    "### Examining Data:"
   ]
  },
  {
   "cell_type": "code",
   "execution_count": null,
   "id": "814cd038-78d9-4bb9-9162-5a1eccd79533",
   "metadata": {
    "tags": [],
    "vscode": {
     "languageId": "r"
    }
   },
   "outputs": [],
   "source": [
    "summary(res)"
   ]
  },
  {
   "cell_type": "markdown",
   "id": "503ef7a2-6964-4f1b-b57f-f38970cdaf63",
   "metadata": {},
   "source": [
    "To look at how many p values were less than 0.05 do the following command:"
   ]
  },
  {
   "cell_type": "code",
   "execution_count": null,
   "id": "5df1bc9b-68c0-40d9-9ddd-adce826c056e",
   "metadata": {
    "tags": [],
    "vscode": {
     "languageId": "r"
    }
   },
   "outputs": [],
   "source": [
    "sum(res$padj < 0.05, na.rm=TRUE)"
   ]
  },
  {
   "cell_type": "markdown",
   "id": "16d4a4c0-d339-467d-b0a6-146d0adaab10",
   "metadata": {},
   "source": [
    "1598 values are there with a FDR less than 0.05 that is nice."
   ]
  },
  {
   "cell_type": "code",
   "execution_count": null,
   "id": "cd8e8fc5-b2e7-4b7a-9b41-aa4b5d6f0165",
   "metadata": {
    "tags": [],
    "vscode": {
     "languageId": "r"
    }
   },
   "outputs": [],
   "source": [
    "res05 <- results(dds, alpha=0.05)\n",
    "summary(res05)"
   ]
  },
  {
   "cell_type": "code",
   "execution_count": null,
   "id": "4bfa224b-7965-4c41-817c-f96bf9cfd551",
   "metadata": {
    "tags": [],
    "vscode": {
     "languageId": "r"
    }
   },
   "outputs": [],
   "source": [
    "sum(res05$padj < 0.05, na.rm=TRUE)"
   ]
  },
  {
   "cell_type": "code",
   "execution_count": null,
   "id": "2393f017-0627-4218-988c-a7f63530c7fe",
   "metadata": {
    "vscode": {
     "languageId": "r"
    }
   },
   "outputs": [],
   "source": [
    "resultsNames(dds)"
   ]
  },
  {
   "cell_type": "markdown",
   "id": "fe917da2-b779-454f-b128-a3eb472f256c",
   "metadata": {},
   "source": [
    "### Likelyhood Ratio Test"
   ]
  },
  {
   "cell_type": "code",
   "execution_count": null,
   "id": "75552ab4-e9e1-473d-aebe-c539d4b3c7b9",
   "metadata": {
    "vscode": {
     "languageId": "r"
    }
   },
   "outputs": [],
   "source": [
    "# Reduced model (remove the variable of interest, e.g., Condition2)\n",
    "dds_reduced <- DESeq(dds, test = \"LRT\",full = design(dds), reduced = ~Timepoint)"
   ]
  },
  {
   "cell_type": "code",
   "execution_count": null,
   "id": "d4efd58d-0fa5-442f-8357-8508c9f69185",
   "metadata": {
    "tags": [],
    "vscode": {
     "languageId": "r"
    }
   },
   "outputs": [],
   "source": [
    "# Extract results from the likelihood ratio test\n",
    "results_LRT <- results(dds_reduced)\n",
    "\n",
    "# View the top differentially expressed genes\n",
    "head(results_LRT)"
   ]
  },
  {
   "cell_type": "code",
   "execution_count": null,
   "id": "082cd455-1cb5-4921-90d6-2987d877b31a",
   "metadata": {
    "tags": [],
    "vscode": {
     "languageId": "r"
    }
   },
   "outputs": [],
   "source": [
    "head(results_LRT)"
   ]
  },
  {
   "cell_type": "code",
   "execution_count": null,
   "id": "e90b7154-50fd-45db-a565-197b05893f51",
   "metadata": {
    "tags": [],
    "vscode": {
     "languageId": "r"
    }
   },
   "outputs": [],
   "source": [
    "# Create a timestamp with date and time\n",
    "timestamp <- format(Sys.time(), format = \"%Y_%m_%d_%I%M%S%p\")\n",
    "\n",
    "# Define the subdirectory for the LRT test under the parent directory\n",
    "lrt_test_subdirectory <- file.path(parent_directory, \"2___Likelihood_Ratio_Test\")\n",
    "dir.create(lrt_test_subdirectory, showWarnings = FALSE)\n",
    "\n",
    "# Define the full path for the LRT test file with date and time\n",
    "lrt_test_file_path <- file.path(lrt_test_subdirectory, paste0(\"Likelihood_Ratio_Test_\", timestamp, \".tsv\"))\n",
    "\n",
    "# Write the data frame to a TSV file\n",
    "write.table(results_LRT, file = lrt_test_file_path, sep = \"\\t\", row.names = TRUE)"
   ]
  },
  {
   "cell_type": "markdown",
   "id": "46a8e651-d17d-44b2-bb14-b6c60d1a72d9",
   "metadata": {},
   "source": [
    "## Log fold change shrinkage for visualization and ranking"
   ]
  },
  {
   "cell_type": "code",
   "execution_count": null,
   "id": "1049f1c1-1739-49d4-9544-7b06db6a00b0",
   "metadata": {
    "vscode": {
     "languageId": "r"
    }
   },
   "outputs": [],
   "source": [
    "resLFC <- lfcShrink(dds, coef=\"Treatment_Knockdown_vs_Untreated\", type=\"apeglm\")\n",
    "resLFC"
   ]
  },
  {
   "cell_type": "markdown",
   "id": "259f0e60-442a-4442-9256-313406247f92",
   "metadata": {},
   "source": [
    "## Independent hypothesis weighting"
   ]
  },
  {
   "cell_type": "code",
   "execution_count": null,
   "id": "23ea753b-b3d8-4ad6-9465-d0c65cd69c86",
   "metadata": {
    "tags": [],
    "vscode": {
     "languageId": "r"
    }
   },
   "outputs": [],
   "source": [
    "library(\"IHW\")\n",
    "resIHW <- results(dds, filterFun=ihw)\n",
    "summary(resIHW)\n",
    "sum(resIHW$padj < 0.05, na.rm=TRUE)\n",
    "metadata(resIHW)$ihwResult"
   ]
  },
  {
   "cell_type": "markdown",
   "id": "79c85198-9759-4a54-a4e5-19060e461291",
   "metadata": {},
   "source": [
    "## Data Exploration:"
   ]
  },
  {
   "cell_type": "code",
   "execution_count": null,
   "id": "fa53ce9b-041e-4321-992c-2a822f8ba226",
   "metadata": {
    "tags": [],
    "vscode": {
     "languageId": "r"
    }
   },
   "outputs": [],
   "source": [
    "plotMA(res, ylim=c(-2,2))"
   ]
  },
  {
   "cell_type": "code",
   "execution_count": null,
   "id": "7cc327a7-a24f-416d-92f7-d55b8ee72c9b",
   "metadata": {
    "tags": [],
    "vscode": {
     "languageId": "r"
    }
   },
   "outputs": [],
   "source": [
    "plotMA(resLFC, ylim=c(-2,2))"
   ]
  },
  {
   "cell_type": "markdown",
   "id": "d44f7dd6-5ea2-495a-ac41-b3a47b7c6b99",
   "metadata": {},
   "source": [
    "## Session info"
   ]
  },
  {
   "cell_type": "markdown",
   "id": "a1624b11-31c1-4967-921f-50a3625a9176",
   "metadata": {},
   "source": [
    "Currently I am using R 4.2.2.10 on the cluster."
   ]
  },
  {
   "cell_type": "code",
   "execution_count": null,
   "id": "e1509973-7756-4f19-8767-702d3f2eee6f",
   "metadata": {
    "tags": [],
    "vscode": {
     "languageId": "r"
    }
   },
   "outputs": [],
   "source": [
    "sessionInfo()"
   ]
  },
  {
   "cell_type": "code",
   "execution_count": null,
   "id": "b7fb7daa-12c9-40f7-8996-31b1eb9e4d33",
   "metadata": {
    "tags": [],
    "vscode": {
     "languageId": "r"
    }
   },
   "outputs": [],
   "source": [
    "print(\"Done\")"
   ]
  }
 ],
 "metadata": {
  "kernelspec": {
   "display_name": "R",
   "language": "R",
   "name": "ir"
  },
  "language_info": {
   "codemirror_mode": "r",
   "file_extension": ".r",
   "mimetype": "text/x-r-source",
   "name": "R",
   "pygments_lexer": "r",
   "version": "4.2.2"
  }
 },
 "nbformat": 4,
 "nbformat_minor": 5
}
